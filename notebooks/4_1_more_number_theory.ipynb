{
 "cells": [
  {
   "metadata": {},
   "cell_type": "markdown",
   "source": "# 4.1 More Number Theory",
   "id": "e2477e68c1487e04"
  },
  {
   "metadata": {
    "ExecuteTime": {
     "end_time": "2025-07-14T22:28:34.813168Z",
     "start_time": "2025-07-14T22:28:34.677736Z"
    }
   },
   "cell_type": "code",
   "source": [
    "%%capture\n",
    "%run ./1_2_primes_gcd.ipynb\n",
    "from math import prod\n",
    "from src.utilities import factors_as_tuples\n",
    "from __main__ import prime_factors"
   ],
   "id": "65cd9a4840112a87",
   "outputs": [],
   "execution_count": 1
  },
  {
   "metadata": {},
   "cell_type": "markdown",
   "source": [
    "\n",
    "## Exercises 4.1\n",
    "\n",
    "### 1. Prove Euler's Corollary. (Hint: You'll want to make use of Euler's Theorem and Lemma 4.2)."
   ],
   "id": "b11f1f49d14e7168"
  },
  {
   "metadata": {},
   "cell_type": "markdown",
   "source": [
    "***Euler's Corollary:***\n",
    "\n",
    "> Let $a$ be an integer that has no common factor except 1 with either of the two distinct primes $p$ and $q$.\n",
    "Then $a^{(p-1)(q-1)} \\equiv 1 \\pmod{pq}$.\n",
    "\n",
    "***Proof:*** By Lemma 4.2, we know that $\\varphi(pq) = (p-1)(q-1)$ and since $a$ has no common factors with the primes $p$ and $q$, we know that $\\gcd(a, pq) = 1$.  So, by Euler's Theorem, we know\n",
    "\n",
    "$$\n",
    "\\begin{aligned}\n",
    "   a^{\\varphi(pq)}   &\\equiv 1 \\pmod{pq}  \\: \\text{, and so} \\\\\n",
    "   a^{(p-1)(q-1)} &\\equiv 1 \\pmod{pq} \\\\\n",
    "\\end{aligned}\n",
    "$$\n",
    "$$\\tag*{$\\blacksquare$}$$"
   ],
   "id": "7b17a53c03bee90d"
  },
  {
   "metadata": {},
   "cell_type": "markdown",
   "source": "### 2. Prove: If $n$ is an odd integer greater than $1$, then $\\varphi(2n) = \\varphi(n)$.",
   "id": "3e9e98eb99f29d7f"
  },
  {
   "metadata": {},
   "cell_type": "markdown",
   "source": [
    "Since $n$ is odd and greater than $1$, $n$ is also greater than $2$.  Since $n$ is odd, $\\gcd(n, 2) = 1$.  Therefore, by Lemma 4.6,\n",
    "\n",
    "$$\n",
    "\\begin{aligned}\n",
    "  \\varphi(2n) &= \\varphi(2)\\phi(n) \\\\\n",
    "           &= 1 \\cdot \\varphi(n) \\\\\n",
    "           &= \\varphi(n)\n",
    "\\end{aligned}\n",
    "$$\n",
    "$$\\tag*{$\\blacksquare$}$$\n"
   ],
   "id": "f42821510c5a7d3a"
  },
  {
   "metadata": {},
   "cell_type": "markdown",
   "source": "### 3. Prove: If $n$ is an even integer, then $\\varphi(2n) = 2\\varphi(n)$.",
   "id": "136380e82d3db223"
  },
  {
   "metadata": {},
   "cell_type": "markdown",
   "source": [
    "Since $n$ is even, $ \\exists \\: k>0 \\; | \\; n = 2^km$, where $\\gcd(m,2) = 1$.  Therefore,\n",
    "\n",
    "$$\n",
    "\\begin{aligned}\n",
    "    \\varphi(2n) &= \\varphi(2 \\cdot 2^km) \\\\\n",
    "             &= \\varphi(2^{k+1}m)  \\\\\n",
    "             &= \\varphi(2^{k+1})\\varphi(m) \\\\\n",
    "             &= (2^{k+1} - 2^k)\\varphi(m) \\\\\n",
    "             &= 2(2^k - 2^{k-1})\\varphi(m) \\\\\n",
    "             &= 2\\varphi(2^k)\\varphi(m) \\\\\n",
    "             &= 2\\varphi(2^km) \\\\\n",
    "             &= 2\\varphi(n)\n",
    "\\end{aligned}\n",
    "$$\n",
    "$$\\tag*{$\\blacksquare$}$$\n",
    "\n",
    "\n"
   ],
   "id": "9c9c9121b3a5c41a"
  },
  {
   "metadata": {},
   "cell_type": "markdown",
   "source": "### 4. Prove: $\\varphi(3n) = 3\\varphi(n)$ if and only if $3|n$.",
   "id": "d3f651f5236092d5"
  },
  {
   "metadata": {},
   "cell_type": "markdown",
   "source": [
    "Suppose $3|n$, then $n \\gt 2$, and $\\exists \\: k>0 \\; | \\; 3^km = n$, where $\\gcd(m,3) = 1$.  Similarly to the last problem,\n",
    "\n",
    "$$\n",
    "\\begin{aligned}\n",
    "    \\varphi(3n) &= \\varphi(3 \\cdot 3^km) \\\\\n",
    "             &= \\varphi(3^{k+1}m)  \\\\\n",
    "             &= \\varphi(3^{k+1})\\varphi(m) \\\\\n",
    "             &= (3^{k+1} - 3^k)\\varphi(m) \\\\\n",
    "             &= 3(3^k - 3^{k-1})\\varphi(m) \\\\\n",
    "             &= 3\\varphi(3^k)\\varphi(m) \\\\\n",
    "             &= 3\\varphi(3^km) \\\\\n",
    "             &= 3\\varphi(n)\n",
    "\\end{aligned}\n",
    "$$\n",
    "\n",
    "Now, suppose that $3$ does not divide $n$ for $n \\gt 2$.  In that case, since $3$ is prime, $\\gcd(3, n) = 1$, and if that were true,\n",
    "\n",
    "$$\n",
    "\\begin{aligned}\n",
    "    \\varphi(3n) &= \\varphi(3)\\varphi(n) \\\\\n",
    "             &= 2\\varphi(n)\n",
    "\\end{aligned}\n",
    "$$\n",
    "\n",
    "but that is a contradiction for $n>2$.\n",
    "\n",
    "$$\\tag*{$\\blacksquare$}$$\n"
   ],
   "id": "4ab274d1082cbbf2"
  },
  {
   "metadata": {},
   "cell_type": "markdown",
   "source": "### 6. Assume $p$ and $2p - 1$ are both primes with $p > 2$ and that $n = 2(2p - 1)$.  Prove $\\varphi(n) = \\varphi(n + 2)$.",
   "id": "6121eaf38ef56dd8"
  },
  {
   "metadata": {},
   "cell_type": "markdown",
   "source": [
    "$$\n",
    "\\begin{aligned}\n",
    "   \\varphi(n) &= \\varphi(2(2p-1)) \\\\\n",
    "           &= \\varphi(2)\\varphi(2p-1) \\\\\n",
    "           &= \\varphi(2p-1) \\\\\n",
    "           &= (2p-1) -1,  \\: \\text{since $2p-1$ is prime} \\\\\n",
    "           &= 2p - 2 \\\\\n",
    "           &= 2(p-1) \\\\\n",
    "           &= 2\\varphi(p)\n",
    "\\end{aligned}\n",
    "$$\n",
    "\n",
    "Now, $n+2 = 2(2p-1) + 2 = 2(2p) = 2^2p$, so\n",
    "\n",
    "$$\n",
    "\\begin{aligned}\n",
    "  \\varphi(n+2) &= \\varphi(2^2p) \\\\\n",
    "            &= \\varphi(2^2)\\varphi(p), \\: \\text{since $p$ is prime and $p > 2$} \\\\\n",
    "            &= 2\\varphi(p)\n",
    "\\end{aligned}\n",
    "$$\n",
    "\n",
    "Therefore, $\\varphi(n) = \\varphi(n+2)$.\n",
    "\n",
    "$$\\tag*{$\\blacksquare$}$$"
   ],
   "id": "109084c1451e7542"
  },
  {
   "metadata": {},
   "cell_type": "markdown",
   "source": "### 7. If the odd integer, $n$, can be factored into $r$ distinct primes, $n = (p_1)^{k_1}(p_2)^{k_2}...(p_r)^{k_r}$.  Prove $2^r|\\varphi(n)$.",
   "id": "17e26838143cc045"
  },
  {
   "metadata": {},
   "cell_type": "markdown",
   "source": [
    "$$\n",
    "\\begin{aligned}\n",
    "  \\varphi(n) &= \\varphi((p_1)^{k_1}(p_2)^{k_2}...(p_r)^{k_r}) \\\\\n",
    "          &= (p_1^{k_1} - p_1^{k_1-1})(p_2^{k_2} - p_2^{k_2-1})...(p_r^{k_r}-p_r^{k_r-1}) \\\\\n",
    "\\end{aligned}\n",
    "$$\n",
    "\n",
    "Now since $n$ is odd, all the $p_j$ regardless of their exponent are also odd.  We know that the difference of two odd numbers is an even number, so let $m_j$ be defined so that $p_j^{k_j} - p_j^{k_j-1} = 2m_j$ for all $j$ from $1$ to $r$.   Then,\n",
    "\n",
    "$$\n",
    "\\begin{aligned}\n",
    "  \\varphi(n) &= \\varphi((p_1)^{k_1}(p_2)^{k_2}...(p_r)^{k_r}) \\\\\n",
    "          &= (p_1^{k_1} - p_1^{k_1-1})(p_2^{k_2} - p_2^{k_2-1})...(p_r^{k_r}-p_r^{k_r-1}) \\\\\n",
    "          &= (2m_1)(2m_2)...(2m_r) \\\\\n",
    "          &= 2^rm_1m_2...m_r\n",
    "\\end{aligned}\n",
    "$$\n",
    "\n",
    "and that implies that $2^r | \\varphi(n)$\n",
    "\n",
    "$$\\tag*{$\\blacksquare$}$$"
   ],
   "id": "aa0dcdafc7f39f62"
  },
  {
   "metadata": {},
   "cell_type": "markdown",
   "source": [
    "### 8. Compute $45^{16 \\cdot 18} \\pmod{17 \\cdot 19}$.\n",
    "\n",
    "$1$, by application of Euler's Corollary, proved above."
   ],
   "id": "516f8b28e1b99e23"
  },
  {
   "metadata": {},
   "cell_type": "markdown",
   "source": "### 9. Write a computer program to compute $\\varphi(n)$ for any positive integer $n$.",
   "id": "3174f51a9810a420"
  },
  {
   "metadata": {
    "ExecuteTime": {
     "end_time": "2025-07-14T23:02:31.740795Z",
     "start_time": "2025-07-14T23:02:31.734733Z"
    }
   },
   "cell_type": "code",
   "source": [
    "def phi(n: int) -> int:\n",
    "    \"\"\"\n",
    "    Computes the Euler's totient function, φ(n), which represents the count of\n",
    "    positive integers up to n that are coprime with n.\n",
    "    \"\"\"\n",
    "    if n < 0:\n",
    "        raise ValueError(\"n must be a positive integer\")\n",
    "    # Special case for n=1\n",
    "    if n == 1:\n",
    "        return 0\n",
    "    # Get the prime factorization of n as a list of (prime, exponent) tuples\n",
    "    factors = factors_as_tuples(prime_factors(n))\n",
    "    # Apply Lemma 4.7 to derive phi\n",
    "    return prod((prime**exp - prime**(exp-1)) for prime, exp in factors)"
   ],
   "id": "31f08bab94bacd32",
   "outputs": [
    {
     "data": {
      "text/plain": [
       "0"
      ]
     },
     "execution_count": 6,
     "metadata": {},
     "output_type": "execute_result"
    }
   ],
   "execution_count": 6
  },
  {
   "metadata": {},
   "cell_type": "markdown",
   "source": "### 5. Find $\\phi(37)$, $\\phi(1164)$, $\\phi(473)$. $\\phi(291)$, $\\phi(504)$.",
   "id": "eb0f5608fd0d212d"
  },
  {
   "metadata": {
    "ExecuteTime": {
     "end_time": "2025-07-14T22:28:34.987165Z",
     "start_time": "2025-07-14T22:28:34.985056Z"
    }
   },
   "cell_type": "code",
   "source": [
    "inputs = [37, 1164, 473, 291, 504]\n",
    "for n in inputs:\n",
    "    print(f\"φ({n})\\t= {phi(n)}\")"
   ],
   "id": "2ba1ee38e47c420c",
   "outputs": [
    {
     "name": "stdout",
     "output_type": "stream",
     "text": [
      "φ(37)\t= 36\n",
      "φ(1164)\t= 384\n",
      "φ(473)\t= 420\n",
      "φ(291)\t= 192\n",
      "φ(504)\t= 144\n"
     ]
    }
   ],
   "execution_count": 3
  }
 ],
 "metadata": {
  "kernelspec": {
   "display_name": "Python 3",
   "language": "python",
   "name": "python3"
  },
  "language_info": {
   "codemirror_mode": {
    "name": "ipython",
    "version": 2
   },
   "file_extension": ".py",
   "mimetype": "text/x-python",
   "name": "python",
   "nbconvert_exporter": "python",
   "pygments_lexer": "ipython2",
   "version": "2.7.6"
  }
 },
 "nbformat": 4,
 "nbformat_minor": 5
}
