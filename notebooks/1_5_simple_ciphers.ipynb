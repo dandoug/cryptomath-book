{
 "cells": [
  {
   "metadata": {},
   "cell_type": "markdown",
   "source": "# 1.5 Simple Ciphers",
   "id": "8583e307244ebe8e"
  },
  {
   "metadata": {
    "ExecuteTime": {
     "end_time": "2025-06-05T20:08:07.552770Z",
     "start_time": "2025-06-05T20:08:07.542407Z"
    }
   },
   "cell_type": "code",
   "source": [
    "import sys\n",
    "from pathlib import Path\n",
    "sys.path.insert(0, str(Path().absolute().parent))\n",
    "\n",
    "from src.utilities import display_key_inv_table\n",
    "from src.helpers import CHARACTERS, strip_text, format_ciphertext, format_plaintext, pos, char_at"
   ],
   "id": "82b36b07a03d0825",
   "outputs": [],
   "execution_count": 1
  },
  {
   "metadata": {},
   "cell_type": "markdown",
   "source": "## Exercises 1.5",
   "id": "207bad11a36247b4"
  },
  {
   "metadata": {},
   "cell_type": "markdown",
   "source": "### 2. Find the multiplicative inverse (mod 26) of each of the legitimate multiplicative keys: 1, 3, 5, 7, 9, 11, 15, 17, 19, 21, 23, 25.",
   "id": "6a6eea6bfabc1cc2"
  },
  {
   "metadata": {
    "ExecuteTime": {
     "end_time": "2025-06-05T20:08:07.568416Z",
     "start_time": "2025-06-05T20:08:07.565227Z"
    }
   },
   "cell_type": "code",
   "source": [
    "def inv_26(key: int) -> int:\n",
    "    return pow(key, -1, 26)"
   ],
   "id": "222ab859083fea2",
   "outputs": [],
   "execution_count": 2
  },
  {
   "metadata": {
    "ExecuteTime": {
     "end_time": "2025-06-05T20:08:07.584916Z",
     "start_time": "2025-06-05T20:08:07.576911Z"
    }
   },
   "cell_type": "code",
   "source": [
    "keys = [1, 3, 5, 7, 9, 11, 15, 17, 19, 21, 23, 25]\n",
    "inv_keys = [inv_26(key) for key in keys]\n",
    "display_key_inv_table(keys, inv_keys)"
   ],
   "id": "4bffb5970d9dc99d",
   "outputs": [
    {
     "data": {
      "text/plain": [
       "<IPython.core.display.Math object>"
      ],
      "text/latex": "$\\displaystyle \\begin{array}{c|c}\nk & k^{-1} \\pmod{26} \\\\\n\\hline\n1 & 1 \\\\\n3 & 9 \\\\\n5 & 21 \\\\\n7 & 15 \\\\\n9 & 3 \\\\\n11 & 19 \\\\\n15 & 7 \\\\\n17 & 23 \\\\\n19 & 11 \\\\\n21 & 5 \\\\\n23 & 17 \\\\\n25 & 25 \\\\\n\\end{array}$"
     },
     "metadata": {},
     "output_type": "display_data"
    }
   ],
   "execution_count": 3
  },
  {
   "metadata": {},
   "cell_type": "markdown",
   "source": [
    "> **Note:** Questions reordered to complete the enciphering programs first to use for questionss 3. and 4., below.\n",
    "> Helper source moved to separate Python module, if you're interested the source is [here](https://github.com/dandoug/cryptomath-book/blob/main/src/helpers.py)."
   ],
   "id": "c054bb7ea0265850"
  },
  {
   "metadata": {},
   "cell_type": "markdown",
   "source": [
    "### 7. Write a program that enciphers a message using a keyword scheme.\n",
    "\n",
    "The program should accept as input both a keyword and a message and should output the enciphered message.  Then, enhance the program by adding decipherment capabilities, i.e. given the keyword and an enciphered message, the program should output the deciphered message."
   ],
   "id": "793144b4799b5444"
  },
  {
   "metadata": {
    "ExecuteTime": {
     "end_time": "2025-06-05T20:08:07.758939Z",
     "start_time": "2025-06-05T20:08:07.754975Z"
    }
   },
   "cell_type": "code",
   "source": [
    "class KeywordCipher:\n",
    "    \"\"\"\n",
    "    Implement the keyword cipher\n",
    "    \"\"\"\n",
    "    def __init__(self, keyword, key_letter):\n",
    "        self._key_letter = key_letter.lower()\n",
    "        # prepare the input keyword by lowercasing and removing all non-alphabetic and duplicate characters\n",
    "        self._keyword = ''.join(dict.fromkeys(strip_text(keyword)))\n",
    "        # build the encryption table with the keyword and add the rest of the letters that are not in the keyword\n",
    "        table = self._keyword + ( ''.join(c for c in CHARACTERS if c not in self._keyword))\n",
    "        # slice the table so that it wraps per the key_letter\n",
    "        pos = CHARACTERS.index(self._key_letter) # zero-based for slicing\n",
    "        self._table = table[-pos:] + table[:-pos]\n",
    "\n",
    "    def encrypt(self, message: str) -> str:\n",
    "        ciphertext = ''.join(self._table[CHARACTERS.index(c)] for c in strip_text(message))\n",
    "        return format_ciphertext(ciphertext)\n",
    "\n",
    "    def decrypt(self, ciphertext: str) -> str:\n",
    "        plaintext = ''.join(CHARACTERS[self._table.index(c)] for c in strip_text(ciphertext))\n",
    "        return format_plaintext(plaintext)"
   ],
   "id": "470a6fc90cee1cb0",
   "outputs": [],
   "execution_count": 4
  },
  {
   "metadata": {},
   "cell_type": "markdown",
   "source": [
    "### 8. Write a program that enciphers a message using an affine scheme.\n",
    "\n",
    "The program should accept as input a plaintext message, a multiplicative key, and an additive key and should output the enciphered message.   Then enhance the program by adding decipherment capabilities, i.e., given the additive and multiplicative keys and an enciphered message, the program should output the deciphered message."
   ],
   "id": "5b72ede5a64dc2ad"
  },
  {
   "metadata": {
    "ExecuteTime": {
     "end_time": "2025-06-05T20:08:07.775800Z",
     "start_time": "2025-06-05T20:08:07.770860Z"
    }
   },
   "cell_type": "code",
   "source": [
    "class AffineCipher:\n",
    "    \"\"\"\n",
    "    Implement a affine cipher\n",
    "    \"\"\"\n",
    "    def __init__(self, mult_key, add_key):\n",
    "        self._mult_key = mult_key\n",
    "        self._add_key = add_key\n",
    "        self._inv_mult_key = inv_26(mult_key)  # will generate ValueError if key invalid\n",
    "        self._inv_add_key = (26 - add_key) % 26\n",
    "\n",
    "    def encrypt(self, message: str) -> str:\n",
    "        ciphertext = ''.join(char_at((self._mult_key * (pos(c) + self._add_key)) % 26) for c in strip_text(message))\n",
    "        return format_ciphertext(ciphertext)\n",
    "\n",
    "    def decrypt(self, ciphertext: str) -> str:\n",
    "        plaintext = ''.join(char_at((self._inv_mult_key*pos(c) + self._inv_add_key) % 26) for c in strip_text(ciphertext))\n",
    "        return format_plaintext(plaintext)\n",
    "\n",
    "class AdditiveCipher(AffineCipher):\n",
    "    \"\"\"\n",
    "    A additive cipher is a subclass of AffineCipher with a multiplicative key = 1.\n",
    "    \"\"\"\n",
    "    def __init__(self, add_key):\n",
    "        super().__init__(mult_key=1, add_key=add_key)\n",
    "\n",
    "class MultiplicativeCipher(AffineCipher):\n",
    "    \"\"\"\n",
    "    A multiplicative cipher is a subclass of AffineCipher with an additive key = 0.\n",
    "    \"\"\"\n",
    "    def __init__(self, mult_key):\n",
    "        super().__init__(mult_key=mult_key, add_key=0)"
   ],
   "id": "afec464660fcdd06",
   "outputs": [],
   "execution_count": 5
  },
  {
   "metadata": {},
   "cell_type": "markdown",
   "source": [
    "### 3. Encipher the following message using various methods\n",
    "\n",
    "> When the government violates the people's rights, insurrection is, for the people and for each portion of the people, the most sacred of the\n",
    "> rights and most indispensable of duties.\n",
    "\n",
    "Ignoring puctionation and capitalization, encipher the text using\n",
    "\n",
    "* *(a)* An additive cipher with key = 16\n",
    "* *(b)* A multiplicative cipher with key = 17.\n",
    "* *(c)* An affine cipher with additive key = 24 and multiplicative key = 3.\n",
    "* *(d)* A keyword cipher with keyword _constitution_ and key letter = $m$."
   ],
   "id": "d7ff3aedf6bea469"
  },
  {
   "metadata": {
    "ExecuteTime": {
     "end_time": "2025-06-05T20:08:07.807980Z",
     "start_time": "2025-06-05T20:08:07.805430Z"
    }
   },
   "cell_type": "code",
   "source": [
    "layfayette_message = (\n",
    "    \"When the government violates the people's rights, insurrection is, for the people and for \" +\n",
    "    \"each portion of the people, the most sacred of the rights and most indispensable of duties.\"\n",
    ")"
   ],
   "id": "d109dcdd85412736",
   "outputs": [],
   "execution_count": 6
  },
  {
   "metadata": {},
   "cell_type": "markdown",
   "source": "#### *(a)* An additive cipher with key = 16",
   "id": "439e040d0612fc66"
  },
  {
   "metadata": {
    "ExecuteTime": {
     "end_time": "2025-06-05T20:08:07.826246Z",
     "start_time": "2025-06-05T20:08:07.821679Z"
    }
   },
   "cell_type": "code",
   "source": [
    "addc = AdditiveCipher(add_key=16)\n",
    "ctext = addc.encrypt(layfayette_message)\n",
    "print(ctext)"
   ],
   "id": "b17279bcfd7c80dc",
   "outputs": [
    {
     "name": "stdout",
     "output_type": "stream",
     "text": [
      "MXUDJ XUWEL UHDCU DJLYE BQJUI JXUFU EFBUI HYWXJ IYDIK HHUSJ\n",
      "YEDYI VEHJX UFUEF BUQDT VEHUQ SXFEH JYEDE VJXUF UEFBU JXUCE\n",
      "IJIQS HUTEV JXUHY WXJIQ DTCEI JYDTY IFUDI QRBUE VTKJY UI\n"
     ]
    }
   ],
   "execution_count": 7
  },
  {
   "metadata": {
    "ExecuteTime": {
     "end_time": "2025-06-05T20:08:07.852464Z",
     "start_time": "2025-06-05T20:08:07.849330Z"
    }
   },
   "cell_type": "code",
   "source": [
    "ptext = addc.decrypt(ctext)\n",
    "print(ptext)"
   ],
   "id": "6111a0661b65a29",
   "outputs": [
    {
     "name": "stdout",
     "output_type": "stream",
     "text": [
      "whenthegovernmentviolatesthepeoplesrightsinsurrectionisforth\n",
      "epeopleandforeachportionofthepeoplethemostsacredoftherightsa\n",
      "ndmostindispensableofduties\n"
     ]
    }
   ],
   "execution_count": 8
  },
  {
   "metadata": {},
   "cell_type": "markdown",
   "source": "#### *(b)* A multiplicative cipher with key = 17",
   "id": "15a723e2f2d34a38"
  },
  {
   "metadata": {
    "ExecuteTime": {
     "end_time": "2025-06-05T20:08:07.881743Z",
     "start_time": "2025-06-05T20:08:07.878548Z"
    }
   },
   "cell_type": "code",
   "source": [
    "multc = MultiplicativeCipher(mult_key=17)\n",
    "ctext = multc.encrypt(layfayette_message)\n",
    "print(ctext)"
   ],
   "id": "d64b394e32bfb264",
   "outputs": [
    {
     "name": "stdout",
     "output_type": "stream",
     "text": [
      "AFGDB FGOUJ GTDMG DBJWU VQBGK BFGLG ULVGK TWOFB KWDKS TTGYB\n",
      "WUDWK XUTBF GLGUL VGQDP XUTGQ YFLUT BWUDU XBFGL GULVG BFGMU\n",
      "KBKQY TGPUX BFGTW OFBKQ DPMUK BWDPW KLGDK QHVGU XPSBW GK\n"
     ]
    }
   ],
   "execution_count": 9
  },
  {
   "metadata": {
    "ExecuteTime": {
     "end_time": "2025-06-05T20:08:07.919654Z",
     "start_time": "2025-06-05T20:08:07.916765Z"
    }
   },
   "cell_type": "code",
   "source": [
    "ptext = multc.decrypt(ctext)\n",
    "print(ptext)"
   ],
   "id": "38e723caf8e84e9a",
   "outputs": [
    {
     "name": "stdout",
     "output_type": "stream",
     "text": [
      "whenthegovernmentviolatesthepeoplesrightsinsurrectionisforth\n",
      "epeopleandforeachportionofthepeoplethemostsacredoftherightsa\n",
      "ndmostindispensableofduties\n"
     ]
    }
   ],
   "execution_count": 10
  },
  {
   "metadata": {},
   "cell_type": "markdown",
   "source": "#### *(c)* An affine cipher with additive key = 24 and multiplicative key = 3",
   "id": "42e537e5164a30f9"
  },
  {
   "metadata": {
    "ExecuteTime": {
     "end_time": "2025-06-05T20:08:07.950891Z",
     "start_time": "2025-06-05T20:08:07.947578Z"
    }
   },
   "cell_type": "code",
   "source": [
    "affc = AffineCipher(mult_key=3, add_key=24)\n",
    "ctext = affc.encrypt(layfayette_message)\n",
    "print(ctext)"
   ],
   "id": "f1fdde96eff1f08e",
   "outputs": [
    {
     "name": "stdout",
     "output_type": "stream",
     "text": [
      "KRIJB RIOMH IVJGI JBHUM DWBIY BRIPI MPDIY VUORB YUJYE VVICB\n",
      "UMJUY LMVBR IPIMP DIWJF LMVIW CRPMV BUMJM LBRIP IMPDI BRIGM\n",
      "YBYWC VIFML BRIVU ORBYW JFGMY BUJFU YPIJY WZDIM LFEBU IY\n"
     ]
    }
   ],
   "execution_count": 11
  },
  {
   "metadata": {
    "ExecuteTime": {
     "end_time": "2025-06-05T20:08:07.980523Z",
     "start_time": "2025-06-05T20:08:07.977760Z"
    }
   },
   "cell_type": "code",
   "source": [
    "ptext = affc.decrypt(ctext)\n",
    "print(ptext)"
   ],
   "id": "dca85c03a813ae18",
   "outputs": [
    {
     "name": "stdout",
     "output_type": "stream",
     "text": [
      "whenthegovernmentviolatesthepeoplesrightsinsurrectionisforth\n",
      "epeopleandforeachportionofthepeoplethemostsacredoftherightsa\n",
      "ndmostindispensableofduties\n"
     ]
    }
   ],
   "execution_count": 12
  },
  {
   "metadata": {},
   "cell_type": "markdown",
   "source": "#### *(d)* A keyword cipher with keyword _constitution_ and key letter = $m$",
   "id": "55517bae378e932c"
  },
  {
   "metadata": {
    "ExecuteTime": {
     "end_time": "2025-06-05T20:08:08.008706Z",
     "start_time": "2025-06-05T20:08:08.005360Z"
    }
   },
   "cell_type": "code",
   "source": [
    "kwc = KeywordCipher(keyword=\"constitution\", key_letter=\"m\")\n",
    "ctext = kwc.encrypt(layfayette_message)\n",
    "print(ctext)"
   ],
   "id": "afe769845a367071",
   "outputs": [
    {
     "name": "stdout",
     "output_type": "stream",
     "text": [
      "EVPOA VPRND PIOCP OADWN ZJAPU AVPSP NSZPU IWRVA UWOUB IIPLA\n",
      "WNOWU QNIAV PSPNS ZPJOM QNIPJ LVSNI AWNON QAVPS PNSZP AVPCN\n",
      "UAUJL IPMNQ AVPIW RVAUJ OMCNU AWOMW USPOU JKZPN QMBAW PU\n"
     ]
    }
   ],
   "execution_count": 13
  },
  {
   "metadata": {
    "ExecuteTime": {
     "end_time": "2025-06-05T20:08:08.038127Z",
     "start_time": "2025-06-05T20:08:08.034556Z"
    }
   },
   "cell_type": "code",
   "source": [
    "ptext = kwc.decrypt(ctext)\n",
    "print(ptext)"
   ],
   "id": "1fe940626ae5f804",
   "outputs": [
    {
     "name": "stdout",
     "output_type": "stream",
     "text": [
      "whenthegovernmentviolatesthepeoplesrightsinsurrectionisforth\n",
      "epeopleandforeachportionofthepeoplethemostsacredoftherightsa\n",
      "ndmostindispensableofduties\n"
     ]
    }
   ],
   "execution_count": 14
  },
  {
   "metadata": {},
   "cell_type": "markdown",
   "source": [
    "### 4. Encipher the following message using various methods\n",
    "\n",
    "> The essence of the free press is the reliable, reasonable, and moral nature of freedom.  The character of the censored press is the nondescript\n",
    "> confusion of tyranny.\n",
    "\n",
    "Ignoring puctionation and capitalization, encipher the text using\n",
    "\n",
    "* *(a)* An additive cipher with key = 6\n",
    "* *(b)* A multiplicative cipher with key = 11.\n",
    "* *(c)* An affine cipher with additive key = 2 and multiplicative key = 23.\n",
    "* *(d)* A keyword cipher with keyword _communist_ and key letter = $z$."
   ],
   "id": "239fd97a9d9ce469"
  },
  {
   "metadata": {
    "ExecuteTime": {
     "end_time": "2025-06-05T20:08:08.069683Z",
     "start_time": "2025-06-05T20:08:08.066525Z"
    }
   },
   "cell_type": "code",
   "source": [
    "marx_message = (\n",
    "    \"The essence of the free press is the reliable, reasonable, and moral nature of freedom.  \" +\n",
    "    \"The character of the censored press is the nondescript confusion of tyranny.\"\n",
    ")"
   ],
   "id": "7ba66129ed10ed74",
   "outputs": [],
   "execution_count": 15
  },
  {
   "metadata": {},
   "cell_type": "markdown",
   "source": "#### *(a)* An additive cipher with key = 6",
   "id": "a527b219af845d07"
  },
  {
   "metadata": {
    "ExecuteTime": {
     "end_time": "2025-06-05T20:08:08.098419Z",
     "start_time": "2025-06-05T20:08:08.095150Z"
    }
   },
   "cell_type": "code",
   "source": [
    "addc = AdditiveCipher(add_key=6)\n",
    "ctext = addc.encrypt(marx_message)\n",
    "print(ctext)"
   ],
   "id": "fdb0e44fa511578",
   "outputs": [
    {
     "name": "stdout",
     "output_type": "stream",
     "text": [
      "ZNKKY YKTIK ULZNK LXKKV XKYYO YZNKX KROGH RKXKG YUTGH RKGTJ\n",
      "SUXGR TGZAX KULLX KKJUS ZNKIN GXGIZ KXULZ NKIKT YUXKJ VXKYY\n",
      "OYZNK TUTJK YIXOV ZIUTL AYOUT ULZEX GTTE\n"
     ]
    }
   ],
   "execution_count": 16
  },
  {
   "metadata": {
    "ExecuteTime": {
     "end_time": "2025-06-05T20:08:08.158920Z",
     "start_time": "2025-06-05T20:08:08.155817Z"
    }
   },
   "cell_type": "code",
   "source": [
    "ptext = addc.decrypt(ctext)\n",
    "print(ptext)"
   ],
   "id": "6b1cf6e0bac75ac4",
   "outputs": [
    {
     "name": "stdout",
     "output_type": "stream",
     "text": [
      "theessenceofthefreepressisthereliablereasonableandmoralnatur\n",
      "eoffreedomthecharacterofthecensoredpressisthenondescriptconf\n",
      "usionoftyranny\n"
     ]
    }
   ],
   "execution_count": 17
  },
  {
   "metadata": {},
   "cell_type": "markdown",
   "source": "#### *(b)* A multiplicative cipher with key = 11.",
   "id": "b7c5262acac7c55"
  },
  {
   "metadata": {
    "ExecuteTime": {
     "end_time": "2025-06-05T20:08:08.198968Z",
     "start_time": "2025-06-05T20:08:08.194891Z"
    }
   },
   "cell_type": "code",
   "source": [
    "multc = MultiplicativeCipher(mult_key=11)\n",
    "ctext = multc.encrypt(marx_message)\n",
    "print(ctext)"
   ],
   "id": "d29515ca2fd5edba",
   "outputs": [
    {
     "name": "stdout",
     "output_type": "stream",
     "text": [
      "LJCCA ACXGC INLJC NPCCT PCAAU ALJCP CBUKV BCPCK AIXKV BCKXR\n",
      "MIPKB XKLWP CINNP CCRIM LJCGJ KPKGL CPINL JCGCX AIPCR TPCAA\n",
      "UALJC XIXRC AGPUT LGIXN WAUIX INLOP KXXO\n"
     ]
    }
   ],
   "execution_count": 18
  },
  {
   "metadata": {
    "ExecuteTime": {
     "end_time": "2025-06-05T20:08:08.238208Z",
     "start_time": "2025-06-05T20:08:08.233578Z"
    }
   },
   "cell_type": "code",
   "source": [
    "ptext = multc.decrypt(ctext)\n",
    "print(ptext)"
   ],
   "id": "14dabddf552c116",
   "outputs": [
    {
     "name": "stdout",
     "output_type": "stream",
     "text": [
      "theessenceofthefreepressisthereliablereasonableandmoralnatur\n",
      "eoffreedomthecharacterofthecensoredpressisthenondescriptconf\n",
      "usionoftyranny\n"
     ]
    }
   ],
   "execution_count": 19
  },
  {
   "metadata": {},
   "cell_type": "markdown",
   "source": "#### *(c)* An affine cipher with additive key = 2 and multiplicative key = 23.",
   "id": "e71bc19a6c7ea9fe"
  },
  {
   "metadata": {
    "ExecuteTime": {
     "end_time": "2025-06-05T20:08:08.275076Z",
     "start_time": "2025-06-05T20:08:08.269768Z"
    }
   },
   "cell_type": "code",
   "source": [
    "affc = AffineCipher(mult_key=23, add_key=2)\n",
    "ctext = affc.encrypt(marx_message)\n",
    "print(ctext)"
   ],
   "id": "3d65692f5d6c1b17",
   "outputs": [
    {
     "name": "stdout",
     "output_type": "stream",
     "text": [
      "LVEEO OEDKE ABLVE BREEX REOOS OLVER EJSQN JEREQ OADQN JEQDH\n",
      "GARQJ DQLIR EABBR EEHAG LVEKV QRQKL ERABL VEKED OAREH XREOO\n",
      "SOLVE DADHE OKRSX LKADB IOSAD ABLWR QDDW\n"
     ]
    }
   ],
   "execution_count": 20
  },
  {
   "metadata": {
    "ExecuteTime": {
     "end_time": "2025-06-05T20:08:08.310555Z",
     "start_time": "2025-06-05T20:08:08.306686Z"
    }
   },
   "cell_type": "code",
   "source": [
    "ptext = affc.decrypt(ctext)\n",
    "print(ptext)"
   ],
   "id": "9f742c4d3e6ad32",
   "outputs": [
    {
     "name": "stdout",
     "output_type": "stream",
     "text": [
      "theessenceofthefreepressisthereliablereasonableandmoralnatur\n",
      "eoffreedomthecharacterofthecensoredpressisthenondescriptconf\n",
      "usionoftyranny\n"
     ]
    }
   ],
   "execution_count": 21
  },
  {
   "metadata": {},
   "cell_type": "markdown",
   "source": "#### *(d)* A keyword cipher with keyword _communist_ and key letter = $z$.",
   "id": "32e612ae07b907c2"
  },
  {
   "metadata": {
    "ExecuteTime": {
     "end_time": "2025-06-05T20:08:08.343263Z",
     "start_time": "2025-06-05T20:08:08.338964Z"
    }
   },
   "cell_type": "code",
   "source": [
    "kwc = KeywordCipher(keyword=\"communist\", key_letter=\"z\")\n",
    "ctext = kwc.encrypt(marx_message)\n",
    "print(ctext)"
   ],
   "id": "337f6b2fbcd05160",
   "outputs": [
    {
     "name": "stdout",
     "output_type": "stream",
     "text": [
      "RAIIQ QIHUI JSRAI SPIIK PIQQB QRAIP IFBOM FIPIO QJHOM FIOHN\n",
      "GJPOF HORVP IJSSP IINJG RAIUA OPOUR IPJSR AIUIH QJPIN KPIQQ\n",
      "BQRAI HJHNI QUPBK RUJHS VQBJH JSRZP OHHZ\n"
     ]
    }
   ],
   "execution_count": 22
  },
  {
   "metadata": {
    "ExecuteTime": {
     "end_time": "2025-06-05T20:08:08.384066Z",
     "start_time": "2025-06-05T20:08:08.378852Z"
    }
   },
   "cell_type": "code",
   "source": [
    "ptext = kwc.decrypt(ctext)\n",
    "print(ptext)"
   ],
   "id": "cce6b6e6aa2b5ccf",
   "outputs": [
    {
     "name": "stdout",
     "output_type": "stream",
     "text": [
      "theessenceofthefreepressisthereliablereasonableandmoralnatur\n",
      "eoffreedomthecharacterofthecensoredpressisthenondescriptconf\n",
      "usionoftyranny\n"
     ]
    }
   ],
   "execution_count": 23
  }
 ],
 "metadata": {
  "kernelspec": {
   "display_name": "Python 3",
   "language": "python",
   "name": "python3"
  },
  "language_info": {
   "codemirror_mode": {
    "name": "ipython",
    "version": 2
   },
   "file_extension": ".py",
   "mimetype": "text/x-python",
   "name": "python",
   "nbconvert_exporter": "python",
   "pygments_lexer": "ipython2",
   "version": "2.7.6"
  }
 },
 "nbformat": 4,
 "nbformat_minor": 5
}
