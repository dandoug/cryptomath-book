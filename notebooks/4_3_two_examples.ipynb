{
 "cells": [
  {
   "metadata": {},
   "cell_type": "markdown",
   "source": [
    "# 4.3 Two Examples\n",
    "\n",
    "## Exercises 4.3"
   ],
   "id": "68113839f4039193"
  },
  {
   "metadata": {
    "ExecuteTime": {
     "end_time": "2025-07-18T20:52:54.193086Z",
     "start_time": "2025-07-18T20:52:53.661194Z"
    }
   },
   "cell_type": "code",
   "source": [
    "%%capture\n",
    "%run ./4_2_rsa_algorithm.ipynb\n",
    "from abc import ABC, abstractmethod\n",
    "from typing import TypeVar, Tuple, Annotated, Generic\n",
    "from typing_extensions import Literal\n",
    "from cryptography.hazmat.primitives.asymmetric import rsa\n",
    "from cryptography.hazmat.primitives.asymmetric.rsa import RSAPrivateKey\n",
    "from src.helpers import format_pk_plaintext\n",
    "from __main__ import crack_trivial_rsa\n",
    "\n",
    "N = TypeVar('N')  # For specifying character block size\n",
    "CharStr = Annotated[str, Literal[1]]  # For single-character strings"
   ],
   "id": "348bbed23f291f07",
   "outputs": [],
   "execution_count": 1
  },
  {
   "metadata": {},
   "cell_type": "markdown",
   "source": "> The purpose of the first two problems is to give you an opportunity to practice enciphering and deciphering using the RSA algorithm without the use of a computer. You should be able to do these problems with no more than a calculator.",
   "id": "1cd3c63329fd869"
  },
  {
   "metadata": {},
   "cell_type": "markdown",
   "source": [
    "Um. yeah.. no.   Working through the problem here in a notebook is as close as I'm getting to doing it by hand with calculator.  I don't need to experience that.\n",
    "\n",
    "I'm going to define an abstract class to represent the correspondence and encoding scheme and then I can implement the encryption and decryption independent of it."
   ],
   "id": "a4194fd3dafe7859"
  },
  {
   "metadata": {
    "ExecuteTime": {
     "end_time": "2025-07-18T20:52:54.398088Z",
     "start_time": "2025-07-18T20:52:54.394914Z"
    }
   },
   "cell_type": "code",
   "source": [
    "class EncodingScheme(Generic[N], ABC):\n",
    "    \"\"\"\n",
    "    Abstract base class for an encoding scheme.\n",
    "    Concreate subclasses define the length of the character blocksize\n",
    "    and the correspondence between characters and numbers.\n",
    "    \"\"\"\n",
    "    @abstractmethod\n",
    "    def encode(self, chars: Tuple[CharStr, N]) -> int:\n",
    "        \"\"\" Turn a block of characters into a single number. \"\"\"\n",
    "        pass\n",
    "    @abstractmethod\n",
    "    def decode(self, encoded_chars: int) -> Tuple[CharStr, N]:\n",
    "        \"\"\" Turn a number into a block of characters. \"\"\"\n",
    "        pass\n",
    "    @abstractmethod\n",
    "    def block_size(self) -> int:\n",
    "        \"\"\" Return the character blocksize used.\"\"\"\n",
    "        pass"
   ],
   "id": "3dc6be4031e25168",
   "outputs": [],
   "execution_count": 2
  },
  {
   "metadata": {},
   "cell_type": "markdown",
   "source": "With the encoder interface defined, we can define the `pk_encrypt` and `pk_decrypt` methods",
   "id": "790d5388444dad11"
  },
  {
   "metadata": {
    "ExecuteTime": {
     "end_time": "2025-07-18T20:52:54.421468Z",
     "start_time": "2025-07-18T20:52:54.418258Z"
    }
   },
   "cell_type": "code",
   "source": [
    "def pk_encrypt(e: int, n: int, encoder: EncodingScheme, message: str) -> list[int]:\n",
    "    \"\"\" Encrypt a message using the public key (e, n) with the given encoder. \"\"\"\n",
    "    blocksize = encoder.block_size()\n",
    "    # pad message so that is an even multiple of blocksize\n",
    "    message += ' ' * (-len(message) % blocksize)\n",
    "    result = []\n",
    "    for i in range(0, len(message), blocksize):\n",
    "        block = tuple(str(char) for char in message[i:i+blocksize])\n",
    "        result.append(pow(encoder.encode(block), e, n))\n",
    "    return result"
   ],
   "id": "ea6f884ecc06650a",
   "outputs": [],
   "execution_count": 3
  },
  {
   "metadata": {
    "ExecuteTime": {
     "end_time": "2025-07-18T20:52:54.453942Z",
     "start_time": "2025-07-18T20:52:54.450180Z"
    }
   },
   "cell_type": "code",
   "source": [
    "def pk_decrypt(d: int, n: int, encoder: EncodingScheme, ciphertext: list[int]) -> str:\n",
    "    \"\"\" Decrypt a message using the private key (d, n) with the given encoder. \"\"\"\n",
    "    msg_chars = []\n",
    "    for encrypted_block in ciphertext:\n",
    "        block = encoder.decode(pow(encrypted_block, d, n))\n",
    "        msg_chars.extend(block)\n",
    "    return ''.join(msg_chars)"
   ],
   "id": "4bfe6c5685cde5bf",
   "outputs": [],
   "execution_count": 4
  },
  {
   "metadata": {},
   "cell_type": "markdown",
   "source": "Note that questions 1, and 2, below use the same encoding scheme, so let's define that.",
   "id": "4998fb435cdea1d4"
  },
  {
   "metadata": {
    "ExecuteTime": {
     "end_time": "2025-07-18T20:52:54.472724Z",
     "start_time": "2025-07-18T20:52:54.467137Z"
    }
   },
   "cell_type": "code",
   "source": [
    "Tuple2Chars = Tuple[CharStr, Literal[2]]\n",
    "class SimpleEncoder(EncodingScheme[Literal[2]]):\n",
    "    _CHARS = \"\\0abcdefghijklmnopqrstuvwxyz' ?\" # using \\0 makes _CHARS.index('a') = 1\n",
    "    _default_char = ' '\n",
    "    def _pos(self, char: CharStr) -> int:\n",
    "        return self._CHARS.index(char) if char in self._CHARS else self._CHARS.index(self._default_char)\n",
    "    def _char(self, pos: int) -> CharStr:\n",
    "        return self._CHARS[pos] if  0 < pos < len(self._CHARS) else self._default_char\n",
    "    def encode(self, chars: Tuple2Chars) -> int:\n",
    "        return self._pos(chars[0].lower()) * 100 + self._pos(chars[1].lower())\n",
    "    def decode(self, encoded_chars: int) -> Tuple2Chars:\n",
    "        return self._char(encoded_chars // 100), self._char(encoded_chars % 100)\n",
    "    def block_size(self) -> int:\n",
    "        return 2\n",
    "encoder_1_2 = SimpleEncoder()"
   ],
   "id": "5b84f016bb4eceb3",
   "outputs": [],
   "execution_count": 5
  },
  {
   "metadata": {},
   "cell_type": "markdown",
   "source": [
    "### 1. The message: `Why isn't phonetic spelled the way it sounds?`\n",
    "\n",
    "* **The keys:** $n = 3363$, $e = 5$.\n",
    "* **The correspondence:** Associate each letter with its position in the alphabet. Associate the apostrophe with the number $27$, the space with the number $28$, and the question mark with the number $29$.\n",
    "* **The task:** Combine pairs of numbers as in the examples and encipher the message using the RSA algorithm."
   ],
   "id": "eaf1d061a7e1d455"
  },
  {
   "metadata": {
    "ExecuteTime": {
     "end_time": "2025-07-18T20:52:54.502871Z",
     "start_time": "2025-07-18T20:52:54.499875Z"
    }
   },
   "cell_type": "code",
   "source": [
    "msg = \"Why isn't phonetic spelled the way it sounds?\"\n",
    "ciphertext = pk_encrypt(5, 3363, encoder_1_2, msg)\n",
    "print(ciphertext)"
   ],
   "id": "81aee6404f6fba2c",
   "outputs": [
    {
     "name": "stdout",
     "output_type": "stream",
     "text": [
      "[700, 305, 3241, 3167, 1929, 2877, 2579, 904, 801, 2177, 2448, 306, 3138, 2862, 1531, 2724, 995, 2740, 1929, 3175, 1244, 932, 2673]\n"
     ]
    }
   ],
   "execution_count": 6
  },
  {
   "metadata": {
    "ExecuteTime": {
     "end_time": "2025-07-18T20:52:54.523055Z",
     "start_time": "2025-07-18T20:52:54.517965Z"
    }
   },
   "cell_type": "code",
   "source": "print(pk_decrypt(crack_trivial_rsa(3363, 5), 3363, encoder_1_2, ciphertext))",
   "id": "c4e6e7a54aae2859",
   "outputs": [
    {
     "name": "stdout",
     "output_type": "stream",
     "text": [
      "why isn't phonetic spelled the way it sounds? \n"
     ]
    }
   ],
   "execution_count": 7
  },
  {
   "metadata": {},
   "cell_type": "markdown",
   "source": [
    "### 2. The enciphered message: `[239, 1093, 3145, 2258, 336, 3746, 1098, 3712, 637, 1528, 259, 1633, 2258, 1902, 427, 1048, 1637, 1198, 1694]`\n",
    "\n",
    "* **The keys:** $n = 3953$, $d = 5$.\n",
    "* **The task:** Decipher this message using the RSA algorithm. Then decompose each of the integers in the deciphered message into two integers as in the examples. (Be careful when it comes to 3-digit numbers!!)\n",
    "* **The correspondence:** Associate each number between $1$ and $26$ with the letter occupying that alphabetic position. Associate the number $27$ with the apostrophe, the number $28$ with the space, and the number $29$ with the question mark."
   ],
   "id": "873aeaa6353e8362"
  },
  {
   "metadata": {
    "ExecuteTime": {
     "end_time": "2025-07-18T20:52:54.560794Z",
     "start_time": "2025-07-18T20:52:54.556732Z"
    }
   },
   "cell_type": "code",
   "source": [
    "ciphertext = [239, 1093, 3145, 2258, 336, 3746, 1098, 3712, 637, 1528, 259, 1633, 2258, 1902, 427, 1048, 1637, 1198, 1694]\n",
    "plaintext = pk_decrypt(5, 3953, encoder_1_2, ciphertext)\n",
    "print(plaintext)"
   ],
   "id": "3fdd372e17751bf4",
   "outputs": [
    {
     "name": "stdout",
     "output_type": "stream",
     "text": [
      "why is abbreviation such a long word? \n"
     ]
    }
   ],
   "execution_count": 8
  },
  {
   "metadata": {
    "ExecuteTime": {
     "end_time": "2025-07-18T20:52:54.592384Z",
     "start_time": "2025-07-18T20:52:54.588732Z"
    }
   },
   "cell_type": "code",
   "source": "print(pk_encrypt(crack_trivial_rsa(3953, 5), 3953, encoder_1_2, plaintext))",
   "id": "135bcf1cc8d464fc",
   "outputs": [
    {
     "name": "stdout",
     "output_type": "stream",
     "text": [
      "[239, 1093, 3145, 2258, 336, 3746, 1098, 3712, 637, 1528, 259, 1633, 2258, 1902, 427, 1048, 1637, 1198, 1694]\n"
     ]
    }
   ],
   "execution_count": 9
  },
  {
   "metadata": {},
   "cell_type": "markdown",
   "source": [
    "### 3.Encipher the following message using the RSA algorithm with $n = 34618195959169$ and $e = 20000000089$:\n",
    "\n",
    "```\n",
    " Why is it that when you transport something by car, it's\n",
    " called a shipment, but when you transport something by ship,\n",
    " it's called cargo?\n",
    "```\n",
    "\n",
    " Use a text-numeric correspondence of your choice. Check your answer by deciphering it using $d = 4771730348713$."
   ],
   "id": "308db6272c3e59fc"
  },
  {
   "metadata": {
    "ExecuteTime": {
     "end_time": "2025-07-18T20:52:54.625400Z",
     "start_time": "2025-07-18T20:52:54.619368Z"
    }
   },
   "cell_type": "code",
   "source": [
    "# I checked and n=34618195959169 requires 46 bits, so we can use block size of\n",
    "# 5 characters and represent each as an 8 bit ascii code.\n",
    "AsciiEncoderTupleChars = Tuple[CharStr, Literal[5]]\n",
    "class AsciiEncoder(EncodingScheme[Literal[5]]):\n",
    "    def __init__(self):\n",
    "        self._BLOCKSIZE = 5  # make blocksize easier to change for larger n\n",
    "    def encode(self, chars: AsciiEncoderTupleChars) -> int:\n",
    "        if len(chars) != self._BLOCKSIZE:\n",
    "            raise ValueError(f\"chars must be of length {self._BLOCKSIZE}, not {len(chars)}\")\n",
    "        # Take each of the chars, get its ascii code and build the block\n",
    "        # block is reversed so we can shift out more naturally during decode\n",
    "        result = 0\n",
    "        for i in range(len(chars) - 1, -1, -1):  # reverse order\n",
    "            if ord(chars[i]) > 255:\n",
    "                # raise an error if input contains wide characters\n",
    "                raise ValueError(f\"character {chars[i]} is not in range(256)\")\n",
    "            result = (result << 8) | (ord(chars[i]) & 0xFF)\n",
    "        return result\n",
    "    def decode(self, encoded_chars: int) -> AsciiEncoderTupleChars:\n",
    "        chars = []\n",
    "        for _ in range(self._BLOCKSIZE):\n",
    "            chars.append(chr(encoded_chars & 0xFF))\n",
    "            encoded_chars >>= 8\n",
    "        return tuple(chars)\n",
    "    def block_size(self) -> int:\n",
    "        return self._BLOCKSIZE\n",
    "encoder_3 = AsciiEncoder()"
   ],
   "id": "84851280bd220f17",
   "outputs": [],
   "execution_count": 10
  },
  {
   "metadata": {
    "ExecuteTime": {
     "end_time": "2025-07-18T20:52:54.644193Z",
     "start_time": "2025-07-18T20:52:54.639136Z"
    }
   },
   "cell_type": "code",
   "source": [
    "msg_3 = \"Why is it that when you transport something by car, it's \" + \\\n",
    "        \"called a shipment, but when you transport something by ship, \" + \\\n",
    "        \"it's called cargo?\"\n",
    "n = 34618195959169\n",
    "e = 20000000089\n",
    "ciphertext_3 = pk_encrypt(e, n, encoder_3, msg_3)\n",
    "print(ciphertext_3)"
   ],
   "id": "8bbc97175efa5e09",
   "outputs": [
    {
     "name": "stdout",
     "output_type": "stream",
     "text": [
      "[21026755237750, 3673500579484, 26134721829671, 23033184621597, 14904862462988, 26826051023443, 17187528846116, 14225599331655, 11720127759526, 17009559551858, 3599980615836, 29499074929590, 21980861814084, 4899869418213, 362102174095, 9825773672909, 23033184621597, 14904862462988, 26826051023443, 17187528846116, 14225599331655, 11720127759526, 14827570556748, 991926326256, 6134789661838, 22947818031193, 2192425791530, 7418393140983]\n"
     ]
    }
   ],
   "execution_count": 11
  },
  {
   "metadata": {
    "ExecuteTime": {
     "end_time": "2025-07-18T20:52:54.683965Z",
     "start_time": "2025-07-18T20:52:54.679199Z"
    }
   },
   "cell_type": "code",
   "source": [
    "d = 4771730348713\n",
    "plaintext_3_prime = pk_decrypt(d, n, encoder_3, ciphertext_3)\n",
    "print(format_pk_plaintext(plaintext_3_prime))"
   ],
   "id": "98f089208592b9b3",
   "outputs": [
    {
     "name": "stdout",
     "output_type": "stream",
     "text": [
      "Why is it that when you transport something by car, it's cal\n",
      "led a shipment, but when you transport something by ship, it\n",
      "'s called cargo?    \n"
     ]
    }
   ],
   "execution_count": 12
  },
  {
   "metadata": {},
   "cell_type": "markdown",
   "source": [
    "### 4. Decipher the following message using the RSA algorithm with $n = 41378299599863$ and $d = 17927688850145$.\n",
    "\n",
    "```\n",
    " [31041840486988, 29077957566727, 11122505017205,\n",
    " 40696280438081,33635577577494, 23781081595165, 13392200113552,\n",
    " 13042556080033, 12862388751593, 34364195535462,\n",
    " 2445939988968, 33291530313321,41132626495683, 34138477928943,\n",
    " 5921732609276, 12675552190449, 3052697916053, 20979766863114,\n",
    " 33068565954829, 29024930510830, 29540937197477.\n",
    " 25212533372768, 5204853349407, 1812489541036, 11924887995293,\n",
    " 22111140271445, 6327640502644, 22111140271445, 26465841739700,\n",
    " 39782824809293, 24869716524496, 35280750488903,\n",
    " 39782824809293, 29077957566727, 11122505017205, 5921732609276,\n",
    " 14670735876808, 6793151864986, 32428301166222, 5921732609276,\n",
    " 12675552190449, 34601196283821, 26850267312878, 35401622221039,\n",
    " 9312542831382, 35258512628692, 2274436743060].\n",
    "```\n",
    "\n",
    "Each integer in this message represents two integers in deciphered form. Convert your deciphered message into text using the correspondence between the integers and the position of the characters in the text string:\n",
    "\n",
    "```\n",
    " abcdefghijklmnopqrstuvwxyzABCDEFGHIJKLMNOPQRSTUVWXYZ 1234567890-=!@#$%^&*()_+[]\\{}|';,:./<?>~\n",
    "```\n",
    "\n",
    "(Note that the space character appears between the 'Z' and the '1', i.e., in position 53.)"
   ],
   "id": "31d2e07fdf702255"
  },
  {
   "metadata": {
    "ExecuteTime": {
     "end_time": "2025-07-18T20:52:54.721305Z",
     "start_time": "2025-07-18T20:52:54.714287Z"
    }
   },
   "cell_type": "code",
   "source": [
    "class CommonEncoder(EncodingScheme[Literal[2]]):\n",
    "    _CHARS = \"\\0abcdefghijklmnopqrstuvwxyzABCDEFGHIJKLMNOPQRSTUVWXYZ 1234567890-=!@#$%^&*()_+[]\\\\{}|';,:./<?>~\"\n",
    "    _default_char = ' '\n",
    "    def _pos(self, char: CharStr) -> int:\n",
    "        return self._CHARS.index(char) if char in self._CHARS else self._CHARS.index(self._default_char)\n",
    "    def _char(self, pos: int) -> CharStr:\n",
    "        return self._CHARS[pos] if  0 < pos < len(self._CHARS) else self._default_char\n",
    "    def encode(self, chars: Tuple2Chars) -> int:\n",
    "        return self._pos(chars[0].lower()) * 100 + self._pos(chars[1].lower())\n",
    "    def decode(self, encoded_chars: int) -> Tuple2Chars:\n",
    "        return self._char(encoded_chars // 100), self._char(encoded_chars % 100)\n",
    "    def block_size(self) -> int:\n",
    "        return 2\n",
    "encoder_4 = CommonEncoder()"
   ],
   "id": "7be829778871adf4",
   "outputs": [],
   "execution_count": 13
  },
  {
   "metadata": {
    "ExecuteTime": {
     "end_time": "2025-07-18T20:52:54.756354Z",
     "start_time": "2025-07-18T20:52:54.741908Z"
    }
   },
   "cell_type": "code",
   "source": [
    "msg_4 = [31041840486988, 29077957566727, 11122505017205, 40696280438081,\n",
    "         33635577577494, 23781081595165, 13392200113552, 13042556080033,\n",
    "         12862388751593, 34364195535462,  2445939988968, 33291530313321,\n",
    "         41132626495683, 34138477928943,  5921732609276, 12675552190449,\n",
    "          3052697916053, 20979766863114, 33068565954829, 29024930510830,\n",
    "         29540937197477, 25212533372768,  5204853349407,  1812489541036,\n",
    "         11924887995293, 22111140271445,  6327640502644, 22111140271445,\n",
    "         26465841739700, 39782824809293, 24869716524496, 35280750488903,\n",
    "         39782824809293, 29077957566727, 11122505017205,  5921732609276,\n",
    "         14670735876808,  6793151864986, 32428301166222,  5921732609276,\n",
    "         12675552190449, 34601196283821, 26850267312878, 35401622221039,\n",
    "          9312542831382, 35258512628692, 2274436743060]\n",
    "n = 41378299599863\n",
    "d = 17927688850145\n",
    "plaintext_4 = pk_decrypt(d, n, encoder_4, msg_4)\n",
    "print(format_pk_plaintext(plaintext_4))"
   ],
   "id": "45437a7e9471a1c7",
   "outputs": [
    {
     "name": "stdout",
     "output_type": "stream",
     "text": [
      "If you're in a vehicle going the speed of light, what happen\n",
      "s when you turn on the headlights?\n"
     ]
    }
   ],
   "execution_count": 14
  },
  {
   "metadata": {},
   "cell_type": "markdown",
   "source": [
    "\n",
    "### 5. As a trusted person, you have been contracted by a small clandestine organization to generate a set of six public and private keys. Money is no object. They have agreed to pay you an amount proportional to the size of n. Go for it."
   ],
   "id": "ba834f5d46429e23"
  },
  {
   "metadata": {},
   "cell_type": "markdown",
   "source": "There is no sense making keys that people can't readily use, so let's go with 8192 bit keys.  Since the time the textbook was written, the generation of RSA keys has become a commonplace task and good library supposrt is available to create and use keys of this magnitude.  We'll make use of that support for this exercise.",
   "id": "8188d19b767f2e31"
  },
  {
   "metadata": {
    "ExecuteTime": {
     "end_time": "2025-07-18T20:52:55.402063Z",
     "start_time": "2025-07-18T20:52:54.778676Z"
    }
   },
   "cell_type": "code",
   "source": [
    "def generate_key() -> RSAPrivateKey:\n",
    "    \"\"\"Generates an RSA private key.\"\"\"\n",
    "    return rsa.generate_private_key(\n",
    "        # this is a Fermat prime and is efficient to use as a encrypting exponent\n",
    "        # n and d will be randomized based on this value\n",
    "        public_exponent=65537,\n",
    "        key_size=8192\n",
    "    )\n",
    "key = None\n",
    "for _ in range(6):\n",
    "    key = generate_key()\n",
    "    public_numbers = key.public_key().public_numbers()\n",
    "    private_numbers = key.private_numbers()\n",
    "    print(\"-\" * 60)\n",
    "    print(f\"\\tn = {public_numbers.n}\")\n",
    "    print(f\"\\te = {public_numbers.e}\")\n",
    "    print(f\"\\td = {private_numbers.d}\")\n"
   ],
   "id": "8f0e5673af261985",
   "outputs": [
    {
     "name": "stdout",
     "output_type": "stream",
     "text": [
      "------------------------------------------------------------\n",
      "\tn = 23787370777055235646432663187497533325594000825070331865899531044795688090613071838914587497358761284155170622793891754720451682743262397249899810420459703725186795423511160562977839872776453481554777373666966006871313114763113179210915240892529947120474201524846643904371925111897213629375875442719855410768613877081008110069403027282749365710810221430832097580370781753399396283768705882588042279830196951837063651443115748678492431384167848324777253383076611295103318577590985335816353687181197188657858983901950050269982901119180158733843956372245209660791019019981327127013100962628691798157289609902738079627939\n",
      "\te = 65537\n",
      "\td = 11893503908060270712151998219752493583976444131344196935804138628192701944751959015785788228229120798315403985042193646622209755407345808216499336067528626145031370255544405592682879243040402027611684162844181792165634498749678695338255803798868140245108848979449392365510463433886932514570222721623574806598651545897962039254285231176321478652632911012406483941857567625474575307650938129988735139633110856586986164888299867053846515068772383847919927932821539157188888902964284831531888596565732686100843181176401284970754163321675119432657649603693087369872349789252484797346360147926904738755215445994328633311233\n",
      "------------------------------------------------------------\n",
      "\tn = 26762216415713359858676477360417605921030546894318016669825501265415359703333556902726205042293820019455226942795893122796399620797539324831345199628810240416610751505000091233740724952744615397711793999925419869072815444103938850452552589286387911856854695394084268948005200427784842536812009161048495782790665180821990568717795281301575110158551690943477243635207998964995458611214620298933590666124246712717825248074078448621782917035884753318145228664827717502079337832134554910698978944099732929669344752953490185594619237683210187455802203929547281133855913263436050125401501829580706120796921903128660167010549\n",
      "\te = 65537\n",
      "\td = 3422098419484899887936181842312581320776297978410799383513208675702230314995514598380628954723023409952235616329177157061118573053215419181803875813499809531277022907667073783687927587244427776472439410834719316688244222736042747631185495771354384520780727849554826965706708895508551301846572772203131922177224007069228812210582953610670971395010497029246936770028526912113797658607538480034409699186723305853111363183741016661423619053591212420635290709159894969302788950099840163858781505760065962337228421004953785260474146984746962010479964742101896987013870508618516031216816001157346275371058804904602396766345\n",
      "------------------------------------------------------------\n",
      "\tn = 24343439497669371133504047576302675571974209492060068470998447572005937808461074034363497792361951680388972316290807747837822770981243779101595141303323239198031464652436681147651493140479445255061504887061650388814200017589019680711559567275281903571907421299759043467839244075144601082197216870406751462956466481766967898627531237308340591548445008007432703883029150675402822611516963141352163152457745205665218694039132454737477289460952931357442652214288890385194280972488703566004376974089516044216775178738402228441625891234340385199144254924885237098323178864885818636064968450562521461492481824199197146632293\n",
      "\te = 65537\n",
      "\td = 8318155913618381939418796121636970211617718958225020573714683841608571818708169307803777554086295465624466271739877454034823124850908237929736203890117347736404117054895204809809840813401539543187014059857158533455989672915887311440173717893139187765526264439733341767532722459355603653428208105282341154789509308623528130505215064792127617196638081634097410294891461869880191251076663997872483060780526112684601225650307229709099942987947480816569887248616069324136608694581330157699266217686154823205819412392686573277596513986908667566574517374459981078245826923800857700831922303125444057942463020065491603437753\n",
      "------------------------------------------------------------\n",
      "\tn = 27753793100766048323005345564546265167916189374626608042676567103351240779818314096062085163670261335408619391080038004668683561185591706906463399475934084205562991517055521000364507161491230835575115262123311067554059457039474293057581268971957523569447350310674943294132124497275374355193553817545666507285861592652916616896744696631268265780083380717958435173497570506961518433895014396897957501490662836457955430776362188723983586527741412061268698748790478441360749999322556467196535374393436903302022527058983326432262325741436111993915160667395353755634111208474431655179607818702256916642311810059150870140521\n",
      "\te = 65537\n",
      "\td = 193531645437692968607251520866039690277823192154116909158234145081885301987838465933753039043552640955212155907709803136145816675493467965519535126119625196178376903478864963259938351966087744203393925184099869659462672564612962935857830537256581599268160567190723546781488028064373500165150282964102256646314087689058440292674608833612761927659392712520167776626319423714112925117472770441059367886949732980921822414798950690197315726969567583206583323841679172218420165727473901929249328067975349846861570784950511075771872186240357916061377646165555771799462816207988794032280999019737878309307730566382894179857\n",
      "------------------------------------------------------------\n",
      "\tn = 21564903439998638288918862648210134074828691375696096835160798635873842439820919999825649962642175749159368643480476915532698481367146300310683629264342876296455384155308009961109900180247434922653266839850139630416584527125025985609318870923413849861361419348241182725371488474462382404879004278730259058310265260980253631633542664277072610156101573767025448665463628723943188472974826089284766097997678432349186685089827700365712546417863224592787837900778371102588014672815676376713622299231992389940280147035310608543669126064522369663546070068188704932578919315496077270467611257787787462026627106127214712416049\n",
      "\te = 65537\n",
      "\td = 6026866829531639515080609247671037974191102907323339634600381277975270429341592851622848234062500435198483239604931797074887550310826733547316498368947375104839660286382066778273172890144681905539118901364041037440074495305277567670480559681298321163017772506864603243937076504848451960385184588388596135190890658528909571353828688230887282435454557661983075892528016581628504250591912390447715757702711095604384903146570266521847200036963488429127564353995476047987560742334799220379463001849879371227795800842196753262494230069476774113605318666175223639075723484739494235236468983142936557196661013692472953083825\n",
      "------------------------------------------------------------\n",
      "\tn = 24511033675042761667461438356177898252836586561465803238388926692478962771188407402615167576546200031241849115195323838070545507951578636854172171058386488370390403809162694702566968773636028485546087247232761944115002994078409029306329805204762893060587564748551446165149942245736811356783885391607671589994855950120104377913329502714011719375385343717166582333851597608089807579309539694980513759711422246004702553877639019766179701291071007251186385074663541551538421894527963341330406768438706485968878307495735045241974189136447815958889277134660872402950160910052325275207199251507907788917422042167940231735207\n",
      "\te = 65537\n",
      "\td = 11794932160608870938656505202233583734374588864137007136870341655869341729327994938069709322390977774162292987868149715141535219559469238300044673370284490955292463263951110103221912724326097171806261402199972739544911262710389330564928560458101642712540244891817857968938671721375739197077885676718970031183268447071095874227373844495476044559903539499203294218603044332538001006742696149392062832522761332597930591349529055298143765196758617450916944381852141676421801485338985954421622500703306035169030617896780229406962641071121044768336988613124379469129146577427150210525521228056699672182944109505143084341033\n"
     ]
    }
   ],
   "execution_count": 15
  },
  {
   "metadata": {
    "ExecuteTime": {
     "end_time": "2025-07-18T20:52:55.409994Z",
     "start_time": "2025-07-18T20:52:55.406749Z"
    }
   },
   "cell_type": "code",
   "source": [
    "number_of_n_digits = len(str(key.public_key().public_numbers().n))\n",
    "print(number_of_n_digits)"
   ],
   "id": "5791cd077ca8ced2",
   "outputs": [
    {
     "name": "stdout",
     "output_type": "stream",
     "text": [
      "617\n"
     ]
    }
   ],
   "execution_count": 16
  },
  {
   "metadata": {},
   "cell_type": "markdown",
   "source": "Just for reference, generating all six of these keys took less than a minute, and the values of $n$ and $d$ have over $2465$ decimal digits.  So picking a remuneration rate of \\$1 per decimal digit of $n$ per key, that will be:",
   "id": "f122fb7633fe33f7"
  },
  {
   "metadata": {
    "ExecuteTime": {
     "end_time": "2025-07-18T20:52:55.431321Z",
     "start_time": "2025-07-18T20:52:55.428625Z"
    }
   },
   "cell_type": "code",
   "source": [
    "invoice_amount = ( 1  *    # dollar per decimal digit of n\n",
    "                   number_of_n_digits *  # digits of n per key\n",
    "                   6)      # keys\n",
    "print(f\"That will be ${invoice_amount:,} please.  Thank you. :-)\")"
   ],
   "id": "2ed24010140393a0",
   "outputs": [
    {
     "name": "stdout",
     "output_type": "stream",
     "text": [
      "That will be $3,702 please.  Thank you. :-)\n"
     ]
    }
   ],
   "execution_count": 17
  },
  {
   "metadata": {},
   "cell_type": "markdown",
   "source": "Not bad for 1 minute of work.",
   "id": "9f678680091b089b"
  }
 ],
 "metadata": {
  "kernelspec": {
   "display_name": "Python 3",
   "language": "python",
   "name": "python3"
  },
  "language_info": {
   "codemirror_mode": {
    "name": "ipython",
    "version": 2
   },
   "file_extension": ".py",
   "mimetype": "text/x-python",
   "name": "python",
   "nbconvert_exporter": "python",
   "pygments_lexer": "ipython2",
   "version": "2.7.6"
  }
 },
 "nbformat": 4,
 "nbformat_minor": 5
}
