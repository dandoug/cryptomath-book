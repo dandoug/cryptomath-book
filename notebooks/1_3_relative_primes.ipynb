{
 "cells": [
  {
   "metadata": {},
   "cell_type": "markdown",
   "source": [
    "# 1.3 Relatively Prime Integers, Fundamental Theorem of Arithmatic\n",
    "\n"
   ],
   "id": "fb6c66257bb624e4"
  },
  {
   "metadata": {},
   "cell_type": "markdown",
   "source": "For these exercises, we want some of the code from the [last set](1_2_primes_gcd.ipynb).",
   "id": "705268982417354b"
  },
  {
   "metadata": {
    "ExecuteTime": {
     "end_time": "2025-06-03T23:12:08.335421Z",
     "start_time": "2025-06-03T23:12:08.251425Z"
    }
   },
   "cell_type": "code",
   "source": [
    "%%capture\n",
    "%run ./1_2_primes_gcd.ipynb"
   ],
   "id": "923b947091ffd5",
   "outputs": [],
   "execution_count": 2
  },
  {
   "metadata": {},
   "cell_type": "markdown",
   "source": "## Exercises 1.3",
   "id": "4e4bfd5ce2bb4880"
  },
  {
   "metadata": {},
   "cell_type": "markdown",
   "source": [
    "### 1. Which elements of the set $\\{ 1, 2, 3, 4, 5, 6, 7 \\}$ are relatively prime to $6$? to $7$?\n",
    "\n",
    "For $7$:  Since $7$ is prime, all the members of the set, except $7$ are relatively prime to $7$, $\\{1, 2, 3, 4, 5, 6\\}$\n",
    "\n",
    "For $6$:  The factors of $6$ are $2 \\cdot 3$, so we have to exclude any multiples of those factors, $\\{1, 5, 7\\}$"
   ],
   "id": "ce9faaff8dbc9c57"
  },
  {
   "metadata": {},
   "cell_type": "markdown",
   "source": [
    "### 3. Let $a$, $b$, and $n$ be integers and suppose that $a|n$ and $b|n$.  Prove that if $gcd(a, b) = 1$, then $ab|n$.\n",
    "\n",
    "Since $gcd(a, b) = 1$, there exist integers $x$ and $y$ such that\n",
    "\n",
    "$$\n",
    " ax + by = 1\n",
    "$$\n",
    "\n",
    "and since $a|n$ and $b|n$, there exist integers $p$ and $q$ such that\n",
    "\n",
    "$$\n",
    " ap = bq = n\n",
    "$$\n",
    "\n",
    "Multiplying each of the terms of the first equation by one of these equivalent expressions of $n$ gives us\n",
    "\n",
    "$$\n",
    "\\begin{aligned}\n",
    "   n &= ax(bq) + by(ap) \\\\\n",
    "     &= ab(xq) + ab(yp) \\\\\n",
    "     &= ab(xq + yp) \\\\\n",
    "\\end{aligned}\n",
    "$$\n",
    "\n",
    "and so $ab|n$."
   ],
   "id": "25560382d03a6516"
  },
  {
   "metadata": {},
   "cell_type": "markdown",
   "source": [
    "### 5. If $d = gcd(a,b)$ and $a = xd$ and $b = yd$, prove that $gcd(x,y) = 1$\n",
    "\n",
    "Since $d = gcd(a,b)$, there exists integers $p$ and $q$ such that\n",
    "\n",
    "$$\n",
    "  ap + bq = d\n",
    "$$\n",
    "\n",
    "Substituting the given expressions for $a$ and $b$ gives us\n",
    "\n",
    "$$\n",
    "  (xd)p + (yd)q = d\n",
    "$$\n",
    "\n",
    "Dividing that equation by $d$ leaves\n",
    "\n",
    "$$\n",
    "  px + qy = 1\n",
    "$$\n",
    "\n",
    "and so, $gcd(x,y) = 1$."
   ],
   "id": "206e9fd7f0496768"
  },
  {
   "metadata": {},
   "cell_type": "markdown",
   "source": [
    "### 6. Use the Fundamental Theorem of Arithmetic to find the greatest common divisors of each of the following sets of integers.\n",
    "\n",
    "* 3435, 16\n",
    "* 747, 12\n",
    "* 3674, 28\n",
    "* 105, 15\n",
    "* 412, 16"
   ],
   "id": "622467cb0daec5a1"
  },
  {
   "metadata": {
    "ExecuteTime": {
     "end_time": "2025-06-03T23:29:01.471031Z",
     "start_time": "2025-06-03T23:29:01.467902Z"
    }
   },
   "cell_type": "code",
   "source": [
    "from math import prod\n",
    "def gcd_fta(x: int, y: int) -> int:\n",
    "    \"\"\"\n",
    "    We find the prime factors of x and y, and then find the gcd by using the common ones\n",
    "    \"\"\"\n",
    "    x_factors = prime_factors(x)\n",
    "    y_factors = prime_factors(y)\n",
    "    common_factors = [1] # in case they are relatively prime\n",
    "    for f in x_factors:\n",
    "        if f in y_factors:\n",
    "            common_factors.append(f)\n",
    "            y_factors.remove(f)\n",
    "    return prod(common_factors)"
   ],
   "id": "e99fc90e276d6271",
   "outputs": [],
   "execution_count": 14
  },
  {
   "metadata": {
    "ExecuteTime": {
     "end_time": "2025-06-04T00:02:00.646522Z",
     "start_time": "2025-06-04T00:02:00.638258Z"
    }
   },
   "cell_type": "code",
   "source": [
    "gcds_by_fta = [gcd_fta(p[0], p[1]) for p in pairs] # same pairs as from list exercise\n",
    "display_gcd_table(pairs, gcds_by_fta)"
   ],
   "id": "51d330734e67e12a",
   "outputs": [
    {
     "data": {
      "text/plain": [
       "<IPython.core.display.Math object>"
      ],
      "text/latex": "$\\displaystyle \\begin{array}{c|c|c}\nx & y & \\text{gcd(} x , y \\text{)} \\\\\n\\hline\n3435 & 16 & 1 \\\\\n747 & 12 & 3 \\\\\n3674 & 28 & 2 \\\\\n105 & 15 & 15 \\\\\n412 & 16 & 4 \\\\\n\\end{array}$"
     },
     "metadata": {},
     "output_type": "display_data"
    }
   ],
   "execution_count": 19
  },
  {
   "metadata": {},
   "cell_type": "markdown",
   "source": [
    "### 7. Express the following integers as products as products of prime numbers in standard form.\n",
    "\n",
    "* 1416\n",
    "* 525\n",
    "* 36414\n",
    "* 46000\n",
    "* 829\n"
   ],
   "id": "6efab2a3d792f648"
  },
  {
   "metadata": {
    "ExecuteTime": {
     "end_time": "2025-06-03T23:38:13.975555Z",
     "start_time": "2025-06-03T23:38:13.972260Z"
    }
   },
   "cell_type": "code",
   "source": [
    "inputs_7 = [1416, 525, 36414, 46000, 829]\n",
    "outputs_7 = [format_factors(prime_factors(n)) for n in inputs_7]\n",
    "display_prime_factors_table(inputs_7, outputs_7)"
   ],
   "id": "d81de7b792d94eba",
   "outputs": [
    {
     "data": {
      "text/plain": [
       "<IPython.core.display.Math object>"
      ],
      "text/latex": "$\\displaystyle \\begin{array}{c|l}\nn & \\text{Prime Factorization of } n \\\\\n\\hline\n1416 & 2^3 \\cdot 3 \\cdot 59 \\\\\n525 & 3 \\cdot 5^2 \\cdot 7 \\\\\n36414 & 2 \\cdot 3^2 \\cdot 7 \\cdot 17^2 \\\\\n46000 & 2^4 \\cdot 5^3 \\cdot 23 \\\\\n829 & 829 \\\\\n\\end{array}$"
     },
     "metadata": {},
     "output_type": "display_data"
    }
   ],
   "execution_count": 17
  },
  {
   "metadata": {},
   "cell_type": "markdown",
   "source": "### 8. Using the Fundamental Theorem of Arithmetic, write $144$ as a product of primes in standard form.  Use your answer to determine the number of positive integral divisors of $144$.\n",
   "id": "ac462fc729645a8f"
  },
  {
   "metadata": {
    "ExecuteTime": {
     "end_time": "2025-06-03T23:42:02.036326Z",
     "start_time": "2025-06-03T23:42:02.033371Z"
    }
   },
   "cell_type": "code",
   "source": [
    "inputs_8 = [144]\n",
    "outputs_8 = [format_factors(prime_factors(n)) for n in inputs_8]\n",
    "display_prime_factors_table(inputs_8, outputs_8)"
   ],
   "id": "415507493c4139a6",
   "outputs": [
    {
     "data": {
      "text/plain": [
       "<IPython.core.display.Math object>"
      ],
      "text/latex": "$\\displaystyle \\begin{array}{c|l}\nn & \\text{Prime Factorization of } n \\\\\n\\hline\n144 & 2^4 \\cdot 3^2 \\\\\n\\end{array}$"
     },
     "metadata": {},
     "output_type": "display_data"
    }
   ],
   "execution_count": 18
  },
  {
   "metadata": {},
   "cell_type": "markdown",
   "source": "Any divisor of $144$ will have a factorization made up of $2$ and $3$ and using exponents.  For the factorization of any divisor of $144$, the exponent for $2$ will be from the set $\\{0,1,2,3,4\\}$ and the exponent of 3 will be from the set $\\{0,1,2\\}$.  So there are $5 \\times 3 = 15$ choices and thus, $15$ positive integral divisors of $144$.",
   "id": "32cfa5183f37eea1"
  },
  {
   "metadata": {},
   "cell_type": "markdown",
   "source": [
    "### 9. Write a computer program whose input is an integer and whose output is that integer written as a product of prime numbers in standard form\n",
    "\n",
    "See solution of previous problem, which relied on `prime_factors` from the [previous exercises](1_2_primes_gcd.ipynb) and [format_factors](https://github.com/dandoug/cryptomath-book/blob/main/src/utilities.py#L7-L39) from the `utilities` project."
   ],
   "id": "13d7ccc976cd6fe0"
  },
  {
   "metadata": {},
   "cell_type": "code",
   "outputs": [],
   "execution_count": null,
   "source": "",
   "id": "5ec5763b694ceb7e"
  }
 ],
 "metadata": {
  "kernelspec": {
   "display_name": "Python 3",
   "language": "python",
   "name": "python3"
  },
  "language_info": {
   "codemirror_mode": {
    "name": "ipython",
    "version": 2
   },
   "file_extension": ".py",
   "mimetype": "text/x-python",
   "name": "python",
   "nbconvert_exporter": "python",
   "pygments_lexer": "ipython2",
   "version": "2.7.6"
  }
 },
 "nbformat": 4,
 "nbformat_minor": 5
}
