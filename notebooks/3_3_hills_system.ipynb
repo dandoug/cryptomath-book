{
 "cells": [
  {
   "metadata": {},
   "cell_type": "markdown",
   "source": [
    "# 3.3 Hill's System\n",
    "\n",
    "## Exercises 3.3"
   ],
   "id": "b216423b69789c49"
  },
  {
   "cell_type": "code",
   "id": "initial_id",
   "metadata": {
    "collapsed": true,
    "ExecuteTime": {
     "end_time": "2025-07-11T19:23:57.839782Z",
     "start_time": "2025-07-11T19:23:57.441436Z"
    }
   },
   "source": [
    "import sys\n",
    "from pathlib import Path\n",
    "sys.path.insert(0, str(Path().absolute().parent))\n",
    "\n",
    "import numpy as np\n",
    "from src.hills_system import matrix_inverse_mod26, validate_hills_key\n",
    "from src.helpers import CHARACTERS, strip_text, format_ciphertext, format_plaintext, pos, char_at"
   ],
   "outputs": [],
   "execution_count": 1
  },
  {
   "metadata": {},
   "cell_type": "markdown",
   "source": [
    "### 5. Write a computer program to both encipher and decipher a message using Hill's (digraph) System.\n",
    "\n",
    "We implement the general case which includes $2\\times2$ (digraph).  See [hills_system.py](https://github.com/dandoug/cryptomath-book/blob/main/src/hills_system.py) for the validation logic and the computation of the inverse key."
   ],
   "id": "d303a9593beb13a3"
  },
  {
   "metadata": {
    "ExecuteTime": {
     "end_time": "2025-07-11T19:23:57.997166Z",
     "start_time": "2025-07-11T19:23:57.990974Z"
    }
   },
   "cell_type": "code",
   "source": [
    "class HillsCipher:\n",
    "    def __init__(self, key: np.ndarray, pad_char: str = 'q'):\n",
    "        validate_hills_key(key)\n",
    "        self._key = key\n",
    "        self._n = self._key.shape[0]\n",
    "        try:\n",
    "            self._inv_key = matrix_inverse_mod26(self._key)\n",
    "        except ValueError as e:\n",
    "            raise ValueError(\"Key is not invertible mod 26\") from e\n",
    "        self._pad_char = pad_char.strip().lower()\n",
    "        if len(self._pad_char) != 1 or self._pad_char not in CHARACTERS:\n",
    "            raise ValueError(\"pad_char must be a single character\")\n",
    "\n",
    "    def encipher(self, plaintext: str) -> str:\n",
    "        \"\"\"\n",
    "        Encipher a message using Hill's cipher system.\n",
    "        \"\"\"\n",
    "        plaintext = strip_text(plaintext)\n",
    "        #  pad plaintext if the length is a multiple of n\n",
    "        padding_length = (self._n - (len(plaintext) % self._n)) % self._n\n",
    "        plaintext += self._pad_char * padding_length\n",
    "        ciphertext = \"\"\n",
    "        for i in range(0, len(plaintext), self._n):\n",
    "            ngram = np.array([[pos(c)] for c in plaintext[i:i + self._n]])\n",
    "            ciphertext_ngram = np.dot(self._key, ngram) % 26\n",
    "            ciphertext += ''.join([char_at(int(c[0])) for c in ciphertext_ngram])\n",
    "        return ciphertext.upper()\n",
    "\n",
    "    def decipher(self, ciphertext: str) -> str:\n",
    "        ciphertext = strip_text(ciphertext)\n",
    "        if len(ciphertext) % self._n != 0:\n",
    "            raise ValueError(\"Ciphertext length must be a multiple of n\")\n",
    "        plaintext = \"\"\n",
    "        for i in range(0, len(ciphertext), self._n):\n",
    "            ciphertext_ngram = np.array([[pos(c)] for c in ciphertext[i:i + self._n]])\n",
    "            plaintext_ngram = np.dot(self._inv_key, ciphertext_ngram) % 26\n",
    "            plaintext += ''.join([char_at(int(c[0])) for c in plaintext_ngram])\n",
    "        return plaintext\n",
    "\n"
   ],
   "id": "65ed8a72b3aace00",
   "outputs": [],
   "execution_count": 2
  },
  {
   "metadata": {},
   "cell_type": "markdown",
   "source": [
    "### 1. Using Hill's System with $key = \\begin{pmatrix} 6 & 3 \\\\ 7 & 8 \\end{pmatrix}$ encipher the message:\n",
    "```\n",
    " It is lonely at the top; but you eat better.\n",
    "```"
   ],
   "id": "10c1b897846c0834"
  },
  {
   "metadata": {
    "ExecuteTime": {
     "end_time": "2025-07-11T19:23:58.006891Z",
     "start_time": "2025-07-11T19:23:58.004673Z"
    }
   },
   "cell_type": "code",
   "source": [
    "cipher_1 = HillsCipher(np.array([[6, 3], [7, 8]]))\n",
    "plaintext_1 = \"It is lonely at the top; but you eat better.\""
   ],
   "id": "d60b3189bb2dd7d1",
   "outputs": [],
   "execution_count": 3
  },
  {
   "metadata": {
    "ExecuteTime": {
     "end_time": "2025-07-11T19:23:58.017428Z",
     "start_time": "2025-07-11T19:23:58.014641Z"
    }
   },
   "cell_type": "code",
   "source": [
    "ciphertext_1 = cipher_1.encipher(plaintext_1)\n",
    "print(format_ciphertext(ciphertext_1))"
   ],
   "id": "a2c651468ab47aca",
   "outputs": [
    {
     "name": "stdout",
     "output_type": "stream",
     "text": [
      "JOGGM VUHQX NKNVL MHYWZ MBWMG QVZLM EXCB\n"
     ]
    }
   ],
   "execution_count": 4
  },
  {
   "metadata": {},
   "cell_type": "markdown",
   "source": [
    "### 2. Decipher the following message that was enciphered using Hill's System with $key = \\begin{pmatrix} 3 & 2 \\\\ 8 & 5 \\end{pmatrix}$\n",
    "```\n",
    " MUBYA QIQGN AEWOS RZQJI RZQKC LIZAG SXCJA AQFRM HO\n",
    "```"
   ],
   "id": "743f555e7c006c92"
  },
  {
   "metadata": {
    "ExecuteTime": {
     "end_time": "2025-07-11T19:23:58.028314Z",
     "start_time": "2025-07-11T19:23:58.025527Z"
    }
   },
   "cell_type": "code",
   "source": [
    "cipher_2 = HillsCipher(np.array([[3, 2], [8, 5]]))\n",
    "ciphertext_2 = \"MUBYA QIQGN AEWOS RZQJI RZQKC LIZAG SXCJA AQFRM HO\""
   ],
   "id": "b8dd430f367ef7e7",
   "outputs": [],
   "execution_count": 5
  },
  {
   "metadata": {
    "ExecuteTime": {
     "end_time": "2025-07-11T19:23:58.042068Z",
     "start_time": "2025-07-11T19:23:58.039402Z"
    }
   },
   "cell_type": "code",
   "source": [
    "plaintext_2 = cipher_2.decipher(ciphertext_2)\n",
    "print(format_plaintext(plaintext_2))"
   ],
   "id": "1c69b0145b3c5e2e",
   "outputs": [
    {
     "name": "stdout",
     "output_type": "stream",
     "text": [
      "consciousnessisthatannoyingtimebetweennaps\n"
     ]
    }
   ],
   "execution_count": 6
  },
  {
   "metadata": {},
   "cell_type": "markdown",
   "source": [
    "which yields\n",
    "```\n",
    "  consciousness is that annoying time between naps\n",
    "```"
   ],
   "id": "9c3769d6a9743be4"
  },
  {
   "metadata": {},
   "cell_type": "markdown",
   "source": "### 4. Consider extending Hill's (digraph) System to a trigraph system. That is, rather than enciphering and deciphering characters in pairs, you wish to encipher them three at a time. Describe how you would proceed. Be sure to consider whatever restrictions are necessary to impose on the key to assure that a message is decipherable. (Hint: See Exercises 3.2, #9.)",
   "id": "9e73a4e874d5bd0c"
  },
  {
   "metadata": {},
   "cell_type": "markdown",
   "source": "The determinent of the $3 \\times 3$ matrix must be coprime to 26.  Plaintext must be padded to multiple of 3.  See general implementation above which will work for trigraph systems.",
   "id": "c0b159d1258eef61"
  },
  {
   "metadata": {},
   "cell_type": "markdown",
   "source": [
    "###  3. Molly has intercepted the following message that was enciphered using Hill's System (digraph version):\n",
    "\n",
    "```\n",
    " KFHYY GIGMC EJSST EBOEU GRWJT SDVYK ZOZLI ZKFHX KUUIC WXFWJ\n",
    " GAXQP BQAGV GXDVD GUEVG MIGYK QQPIP SCLLF YPMUL KFHXP MHGME\n",
    " VDKAV YQCEG UEALY YYZSZ MPXZO CTXTR IMDID VDGSX OZFFT SMEDV\n",
    " MEIMD VMPKO UJKOD UBOAX BOORS LPZCW IMDVY GJWMI FQ\n",
    "```\n",
    "\n",
    "Help her cryptanalyze and decipher it."
   ],
   "id": "c924415c93d95d8d"
  },
  {
   "metadata": {
    "ExecuteTime": {
     "end_time": "2025-07-11T19:23:58.053605Z",
     "start_time": "2025-07-11T19:23:58.051940Z"
    }
   },
   "cell_type": "code",
   "source": "",
   "id": "762036af707a1d1b",
   "outputs": [],
   "execution_count": null
  }
 ],
 "metadata": {
  "kernelspec": {
   "display_name": "Python 3",
   "language": "python",
   "name": "python3"
  },
  "language_info": {
   "codemirror_mode": {
    "name": "ipython",
    "version": 2
   },
   "file_extension": ".py",
   "mimetype": "text/x-python",
   "name": "python",
   "nbconvert_exporter": "python",
   "pygments_lexer": "ipython2",
   "version": "2.7.6"
  }
 },
 "nbformat": 4,
 "nbformat_minor": 5
}
