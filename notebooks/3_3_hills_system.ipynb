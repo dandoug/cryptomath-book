{
 "cells": [
  {
   "metadata": {},
   "cell_type": "markdown",
   "source": [
    "# 3.3 Hill's System\n",
    "\n",
    "## Exercises 3.3"
   ],
   "id": "b216423b69789c49"
  },
  {
   "cell_type": "code",
   "id": "initial_id",
   "metadata": {
    "collapsed": true,
    "ExecuteTime": {
     "end_time": "2025-07-12T01:22:32.334496Z",
     "start_time": "2025-07-12T01:22:31.939917Z"
    }
   },
   "source": [
    "import sys\n",
    "from pathlib import Path\n",
    "sys.path.insert(0, str(Path().absolute().parent))\n",
    "\n",
    "import numpy as np\n",
    "from src.hills_system import matrix_inverse_mod26, validate_hills_key\n",
    "from src.helpers import CHARACTERS, strip_text, format_ciphertext, format_plaintext, pos, char_at"
   ],
   "outputs": [],
   "execution_count": 1
  },
  {
   "metadata": {},
   "cell_type": "markdown",
   "source": [
    "### 5. Write a computer program to both encipher and decipher a message using Hill's (digraph) System.\n",
    "\n",
    "We implement the general case which includes $2\\times2$ (digraph).  See [hills_system.py](https://github.com/dandoug/cryptomath-book/blob/main/src/hills_system.py) for the validation logic and the computation of the inverse key."
   ],
   "id": "d303a9593beb13a3"
  },
  {
   "metadata": {
    "ExecuteTime": {
     "end_time": "2025-07-12T01:22:32.488345Z",
     "start_time": "2025-07-12T01:22:32.481709Z"
    }
   },
   "cell_type": "code",
   "source": [
    "class HillsCipher:\n",
    "    def __init__(self, key: np.ndarray, pad_char: str = 'q'):\n",
    "        validate_hills_key(key)\n",
    "        self.key = key\n",
    "        self.n = self.key.shape[0]\n",
    "        self._init_inverse()\n",
    "        self.pad_char = pad_char.strip().lower()\n",
    "        if len(self.pad_char) != 1 or self.pad_char not in CHARACTERS:\n",
    "            raise ValueError(\"pad_char must be a single character\")\n",
    "\n",
    "    def _init_inverse(self):\n",
    "        try:\n",
    "            self.inv_key = matrix_inverse_mod26(self.key)\n",
    "        except ValueError as e:\n",
    "            raise ValueError(\"Key is not invertible mod 26\") from e\n",
    "\n",
    "\n",
    "    def encipher(self, plaintext: str) -> str:\n",
    "        \"\"\"\n",
    "        Encipher a message using Hill's cipher system.\n",
    "        \"\"\"\n",
    "        plaintext = strip_text(plaintext)\n",
    "        #  pad plaintext if the length is a multiple of n\n",
    "        padding_length = (self.n - (len(plaintext) % self.n)) % self.n\n",
    "        plaintext += self.pad_char * padding_length\n",
    "        ciphertext = \"\"\n",
    "        for i in range(0, len(plaintext), self.n):\n",
    "            ngram = np.array([[pos(c)] for c in plaintext[i:i + self.n]])\n",
    "            ciphertext_ngram = np.dot(self.key, ngram) % 26\n",
    "            ciphertext += ''.join([char_at(int(c[0])) for c in ciphertext_ngram])\n",
    "        return ciphertext.upper()\n",
    "\n",
    "    def decipher(self, ciphertext: str) -> str:\n",
    "        ciphertext = strip_text(ciphertext)\n",
    "        if len(ciphertext) % self.n != 0:\n",
    "            raise ValueError(\"Ciphertext length must be a multiple of n\")\n",
    "        plaintext = \"\"\n",
    "        for i in range(0, len(ciphertext), self.n):\n",
    "            ciphertext_ngram = np.array([[pos(c)] for c in ciphertext[i:i + self.n]])\n",
    "            plaintext_ngram = np.dot(self.inv_key, ciphertext_ngram) % 26\n",
    "            plaintext += ''.join([char_at(int(c[0])) for c in plaintext_ngram])\n",
    "        return plaintext\n",
    "\n"
   ],
   "id": "65ed8a72b3aace00",
   "outputs": [],
   "execution_count": 2
  },
  {
   "metadata": {},
   "cell_type": "markdown",
   "source": [
    "### 1. Using Hill's System with $key = \\begin{pmatrix} 6 & 3 \\\\ 7 & 8 \\end{pmatrix}$ encipher the message:\n",
    "```\n",
    " It is lonely at the top; but you eat better.\n",
    "```"
   ],
   "id": "10c1b897846c0834"
  },
  {
   "metadata": {
    "ExecuteTime": {
     "end_time": "2025-07-12T01:22:32.507816Z",
     "start_time": "2025-07-12T01:22:32.503153Z"
    }
   },
   "cell_type": "code",
   "source": [
    "cipher_1 = HillsCipher(np.array([[6, 3], [7, 8]]))\n",
    "plaintext_1 = \"It is lonely at the top; but you eat better.\""
   ],
   "id": "d60b3189bb2dd7d1",
   "outputs": [],
   "execution_count": 3
  },
  {
   "metadata": {
    "ExecuteTime": {
     "end_time": "2025-07-12T01:22:32.520470Z",
     "start_time": "2025-07-12T01:22:32.517730Z"
    }
   },
   "cell_type": "code",
   "source": [
    "ciphertext_1 = cipher_1.encipher(plaintext_1)\n",
    "print(format_ciphertext(ciphertext_1))"
   ],
   "id": "a2c651468ab47aca",
   "outputs": [
    {
     "name": "stdout",
     "output_type": "stream",
     "text": [
      "JOGGM VUHQX NKNVL MHYWZ MBWMG QVZLM EXCB\n"
     ]
    }
   ],
   "execution_count": 4
  },
  {
   "metadata": {},
   "cell_type": "markdown",
   "source": [
    "### 2. Decipher the following message that was enciphered using Hill's System with $key = \\begin{pmatrix} 3 & 2 \\\\ 8 & 5 \\end{pmatrix}$\n",
    "```\n",
    " MUBYA QIQGN AEWOS RZQJI RZQKC LIZAG SXCJA AQFRM HO\n",
    "```"
   ],
   "id": "743f555e7c006c92"
  },
  {
   "metadata": {
    "ExecuteTime": {
     "end_time": "2025-07-12T01:22:32.536313Z",
     "start_time": "2025-07-12T01:22:32.529972Z"
    }
   },
   "cell_type": "code",
   "source": [
    "cipher_2 = HillsCipher(np.array([[3, 2], [8, 5]]))\n",
    "ciphertext_2 = \"MUBYA QIQGN AEWOS RZQJI RZQKC LIZAG SXCJA AQFRM HO\""
   ],
   "id": "b8dd430f367ef7e7",
   "outputs": [],
   "execution_count": 5
  },
  {
   "metadata": {
    "ExecuteTime": {
     "end_time": "2025-07-12T01:22:32.547626Z",
     "start_time": "2025-07-12T01:22:32.544705Z"
    }
   },
   "cell_type": "code",
   "source": [
    "plaintext_2 = cipher_2.decipher(ciphertext_2)\n",
    "print(format_plaintext(plaintext_2))"
   ],
   "id": "1c69b0145b3c5e2e",
   "outputs": [
    {
     "name": "stdout",
     "output_type": "stream",
     "text": [
      "consciousnessisthatannoyingtimebetweennaps\n"
     ]
    }
   ],
   "execution_count": 6
  },
  {
   "metadata": {},
   "cell_type": "markdown",
   "source": [
    "which yields\n",
    "```\n",
    "  consciousness is that annoying time between naps\n",
    "```"
   ],
   "id": "9c3769d6a9743be4"
  },
  {
   "metadata": {},
   "cell_type": "markdown",
   "source": "### 4. Consider extending Hill's (digraph) System to a trigraph system. That is, rather than enciphering and deciphering characters in pairs, you wish to encipher them three at a time. Describe how you would proceed. Be sure to consider whatever restrictions are necessary to impose on the key to assure that a message is decipherable. (Hint: See Exercises 3.2, #9.)",
   "id": "9e73a4e874d5bd0c"
  },
  {
   "metadata": {},
   "cell_type": "markdown",
   "source": "The determinent of the $3 \\times 3$ matrix must be coprime to 26.  Plaintext must be padded to multiple of 3.  See general implementation above which will work for trigraph systems.",
   "id": "c0b159d1258eef61"
  },
  {
   "metadata": {},
   "cell_type": "markdown",
   "source": [
    "###  3. Molly has intercepted the following message that was enciphered using Hill's System (digraph version):\n",
    "\n",
    "```\n",
    " KFHYY GIGMC EJSST EBOEU GRWJT SDVYK ZOZLI ZKFHX KUUIC WXFWJ\n",
    " GAXQP BQAGV GXDVD GUEVG MIGYK QQPIP SCLLF YPMUL KFHXP MHGME\n",
    " VDKAV YQCEG UEALY YYZSZ MPXZO CTXTR IMDID VDGSX OZFFT SMEDV\n",
    " MEIMD VMPKO UJKOD UBOAX BOORS LPZCW IMDVY GJWMI FQ\n",
    "```\n",
    "\n",
    "Help her cryptanalyze and decipher it."
   ],
   "id": "c924415c93d95d8d"
  },
  {
   "metadata": {},
   "cell_type": "markdown",
   "source": "Because for a $n \\times n$ matrix, $A$, $A \\times A^{-1} = A^{-1} \\times A = I$ where $I$ is the identity matrix, we don't strictly need `CryptoAnalysisHillsCipher` class, but having one will let us define an instance with the decrypting key and still use the appropriate method names.  It's purely for readability.",
   "id": "b553102b3d4eeab8"
  },
  {
   "metadata": {
    "ExecuteTime": {
     "end_time": "2025-07-12T01:25:12.137063Z",
     "start_time": "2025-07-12T01:25:12.130235Z"
    }
   },
   "cell_type": "code",
   "source": [
    "class CryptoanalysisHillsCipher(HillsCipher):\n",
    "    \"\"\"\n",
    "    Define a HillsCipher object with a conjecture of the decrypting key\n",
    "    \"\"\"\n",
    "    def __init__(self, inv_key: np.ndarray, pad_char: str = 'q'):\n",
    "        self.inv_key = inv_key  # Store inverse first\n",
    "        try:\n",
    "            key = matrix_inverse_mod26(inv_key)\n",
    "        except ValueError as e:\n",
    "            raise ValueError(\"Key is not invertible mod 26\") from e\n",
    "        super().__init__(key, pad_char=pad_char)\n",
    "\n",
    "    def _init_inverse(self):\n",
    "        # Override to do nothing since we already have the inverse\n",
    "        pass"
   ],
   "id": "762036af707a1d1b",
   "outputs": [],
   "execution_count": 9
  },
  {
   "metadata": {
    "ExecuteTime": {
     "end_time": "2025-07-12T01:22:32.573650Z",
     "start_time": "2025-07-12T01:22:32.572118Z"
    }
   },
   "cell_type": "code",
   "source": "",
   "id": "a7fe749e07a65041",
   "outputs": [],
   "execution_count": null
  }
 ],
 "metadata": {
  "kernelspec": {
   "display_name": "Python 3",
   "language": "python",
   "name": "python3"
  },
  "language_info": {
   "codemirror_mode": {
    "name": "ipython",
    "version": 2
   },
   "file_extension": ".py",
   "mimetype": "text/x-python",
   "name": "python",
   "nbconvert_exporter": "python",
   "pygments_lexer": "ipython2",
   "version": "2.7.6"
  }
 },
 "nbformat": 4,
 "nbformat_minor": 5
}
