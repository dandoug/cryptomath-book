{
 "cells": [
  {
   "metadata": {},
   "cell_type": "markdown",
   "source": [
    "# 3.3 Hill's System\n",
    "\n",
    "## Exercises 3.3"
   ],
   "id": "b216423b69789c49"
  },
  {
   "cell_type": "code",
   "id": "initial_id",
   "metadata": {
    "collapsed": true,
    "ExecuteTime": {
     "end_time": "2025-07-12T21:26:38.362540Z",
     "start_time": "2025-07-12T21:26:37.934539Z"
    }
   },
   "source": [
    "import sys\n",
    "from pathlib import Path\n",
    "sys.path.insert(0, str(Path().absolute().parent))\n",
    "\n",
    "import numpy as np\n",
    "from itertools import islice\n",
    "from src.hills_system import matrix_inverse_mod26, validate_hills_key, is_invertible_mod_26, TopResults\n",
    "from src.ngrams_scorer import NgramScorer, iter_over_ngram_data_file\n",
    "from src.helpers import CHARACTERS, strip_text, format_ciphertext, format_plaintext, pos, char_at"
   ],
   "outputs": [],
   "execution_count": 1
  },
  {
   "metadata": {},
   "cell_type": "markdown",
   "source": [
    "### 5. Write a computer program to both encipher and decipher a message using Hill's (digraph) System.\n",
    "\n",
    "We implement the general case which includes $2\\times2$ (digraph).  See [hills_system.py](https://github.com/dandoug/cryptomath-book/blob/main/src/hills_system.py) for the validation logic and the computation of the inverse key."
   ],
   "id": "d303a9593beb13a3"
  },
  {
   "metadata": {
    "ExecuteTime": {
     "end_time": "2025-07-12T21:26:38.540398Z",
     "start_time": "2025-07-12T21:26:38.533585Z"
    }
   },
   "cell_type": "code",
   "source": [
    "def hills_transform(key: np.typing.NDArray[np.int_], input_str: str) -> str:\n",
    "    \"\"\"\n",
    "    This is the heart of the Hill's cipher system.  It takes a key and a string and returns the\n",
    "    encrypted/decrypted string.  No validation or cleanup is done here.  This method is intended\n",
    "    to be wrapped by other code that does any necessary checking or preparation.\n",
    "    \"\"\"\n",
    "    n = key.shape[0]\n",
    "    output_chars = []\n",
    "    for i in range(0, len(input_str), n):\n",
    "        input_vector = np.array([[pos(c)] for c in input_str[i:i + n]])\n",
    "        output_vector = np.dot(key, input_vector) % 26\n",
    "        for c in output_vector:\n",
    "            output_chars.append(char_at(int(c[0])))\n",
    "    return ''.join(output_chars)\n",
    "\n",
    "\n",
    "class HillsCipher:\n",
    "    \"\"\"\n",
    "    Implements the Hill's cipher system.  It takes a key and a padding character.\n",
    "    Some simple validation is done.\n",
    "    \"\"\"\n",
    "    def __init__(self, key: np.ndarray, pad_char: str = 'q'):\n",
    "        validate_hills_key(key)\n",
    "        self.key = key\n",
    "        self.n = self.key.shape[0]\n",
    "        try:\n",
    "            self.inv_key = matrix_inverse_mod26(self.key)\n",
    "        except ValueError as e:\n",
    "            raise ValueError(\"Key is not invertible mod 26\") from e\n",
    "        self.pad_char = pad_char.strip().lower()\n",
    "        if len(self.pad_char) != 1 or self.pad_char not in CHARACTERS:\n",
    "            raise ValueError(\"pad_char must be a single character\")\n",
    "\n",
    "    def encipher(self, plaintext: str) -> str:\n",
    "        \"\"\"\n",
    "        Encipher a message using Hill's cipher system.\n",
    "        \"\"\"\n",
    "        plaintext = strip_text(plaintext)\n",
    "        #  pad plaintext if the length is a multiple of n\n",
    "        padding_length = (self.n - (len(plaintext) % self.n)) % self.n\n",
    "        plaintext += self.pad_char * padding_length\n",
    "        ciphertext = hills_transform(self.key, plaintext)\n",
    "        return ciphertext.upper()\n",
    "\n",
    "    def decipher(self, ciphertext: str) -> str:\n",
    "        \"\"\"\n",
    "        Deciphers the given ciphertext using Hill cipher decryption.\n",
    "        \"\"\"\n",
    "        ciphertext = strip_text(ciphertext)\n",
    "        if len(ciphertext) % self.n != 0:\n",
    "            raise ValueError(\"Ciphertext length must be a multiple of n\")\n",
    "        return hills_transform(self.inv_key, ciphertext)\n",
    "\n"
   ],
   "id": "65ed8a72b3aace00",
   "outputs": [],
   "execution_count": 2
  },
  {
   "metadata": {},
   "cell_type": "markdown",
   "source": [
    "### 1. Using Hill's System with $key = \\begin{pmatrix} 6 & 3 \\\\ 7 & 8 \\end{pmatrix}$ encipher the message:\n",
    "```\n",
    " It is lonely at the top; but you eat better.\n",
    "```"
   ],
   "id": "10c1b897846c0834"
  },
  {
   "metadata": {
    "ExecuteTime": {
     "end_time": "2025-07-12T21:26:38.551792Z",
     "start_time": "2025-07-12T21:26:38.548490Z"
    }
   },
   "cell_type": "code",
   "source": [
    "cipher_1 = HillsCipher(np.array([[6, 3], [7, 8]]))\n",
    "plaintext_1 = \"It is lonely at the top; but you eat better.\""
   ],
   "id": "d60b3189bb2dd7d1",
   "outputs": [],
   "execution_count": 3
  },
  {
   "metadata": {
    "ExecuteTime": {
     "end_time": "2025-07-12T21:26:38.563909Z",
     "start_time": "2025-07-12T21:26:38.560446Z"
    }
   },
   "cell_type": "code",
   "source": [
    "ciphertext_1 = cipher_1.encipher(plaintext_1)\n",
    "print(format_ciphertext(ciphertext_1))"
   ],
   "id": "a2c651468ab47aca",
   "outputs": [
    {
     "name": "stdout",
     "output_type": "stream",
     "text": [
      "JOGGM VUHQX NKNVL MHYWZ MBWMG QVZLM EXCB\n"
     ]
    }
   ],
   "execution_count": 4
  },
  {
   "metadata": {},
   "cell_type": "markdown",
   "source": [
    "### 2. Decipher the following message that was enciphered using Hill's System with $key = \\begin{pmatrix} 3 & 2 \\\\ 8 & 5 \\end{pmatrix}$\n",
    "```\n",
    " MUBYA QIQGN AEWOS RZQJI RZQKC LIZAG SXCJA AQFRM HO\n",
    "```"
   ],
   "id": "743f555e7c006c92"
  },
  {
   "metadata": {
    "ExecuteTime": {
     "end_time": "2025-07-12T21:26:38.577106Z",
     "start_time": "2025-07-12T21:26:38.574173Z"
    }
   },
   "cell_type": "code",
   "source": [
    "cipher_2 = HillsCipher(np.array([[3, 2], [8, 5]]))\n",
    "ciphertext_2 = \"MUBYA QIQGN AEWOS RZQJI RZQKC LIZAG SXCJA AQFRM HO\""
   ],
   "id": "b8dd430f367ef7e7",
   "outputs": [],
   "execution_count": 5
  },
  {
   "metadata": {
    "ExecuteTime": {
     "end_time": "2025-07-12T21:26:38.587649Z",
     "start_time": "2025-07-12T21:26:38.585238Z"
    }
   },
   "cell_type": "code",
   "source": [
    "plaintext_2 = cipher_2.decipher(ciphertext_2)\n",
    "print(format_plaintext(plaintext_2))"
   ],
   "id": "1c69b0145b3c5e2e",
   "outputs": [
    {
     "name": "stdout",
     "output_type": "stream",
     "text": [
      "consciousnessisthatannoyingtimebetweennaps\n"
     ]
    }
   ],
   "execution_count": 6
  },
  {
   "metadata": {},
   "cell_type": "markdown",
   "source": [
    "which yields\n",
    "```\n",
    "  consciousness is that annoying time between naps\n",
    "```"
   ],
   "id": "9c3769d6a9743be4"
  },
  {
   "metadata": {},
   "cell_type": "markdown",
   "source": "### 4. Consider extending Hill's (digraph) System to a trigraph system. That is, rather than enciphering and deciphering characters in pairs, you wish to encipher them three at a time. Describe how you would proceed. Be sure to consider whatever restrictions are necessary to impose on the key to assure that a message is decipherable. (Hint: See Exercises 3.2, #9.)",
   "id": "9e73a4e874d5bd0c"
  },
  {
   "metadata": {},
   "cell_type": "markdown",
   "source": "The determinent of the $3 \\times 3$ matrix must be coprime to 26.  Plaintext must be padded to multiple of 3.  See general implementation above which will work for trigraph systems.",
   "id": "c0b159d1258eef61"
  },
  {
   "metadata": {},
   "cell_type": "markdown",
   "source": [
    "###  3. Molly has intercepted the following message that was enciphered using Hill's System (digraph version):\n",
    "\n",
    "```\n",
    " KFHYY GIGMC EJSST EBOEU GRWJT SDVYK ZOZLI ZKFHX KUUIC WXFWJ\n",
    " GAXQP BQAGV GXDVD GUEVG MIGYK QQPIP SCLLF YPMUL KFHXP MHGME\n",
    " VDKAV YQCEG UEALY YYZSZ MPXZO CTXTR IMDID VDGSX OZFFT SMEDV\n",
    " MEIMD VMPKO UJKOD UBOAX BOORS LPZCW IMDVY GJWMI FQ\n",
    "```\n",
    "\n",
    "Help her cryptanalyze and decipher it."
   ],
   "id": "c924415c93d95d8d"
  },
  {
   "metadata": {},
   "cell_type": "markdown",
   "source": [
    "We base our attack on a message encrypted with Hill's System using digraphs (a 2x2 key) on the assumption that English text will contain common quintgrams.  We know that finding two pairs of ciphertext-plaintext digraphs is enough to determine the decrypt key.  So we \"slide\" common quintgrams across the cipher text, identify the two pairs of plaintext-ciphertext digrams implied at each position as the quintgram moves along the ciphertext.\n",
    "\n",
    "With those pairs of digraphs, we can solve for a candidate decryption key.  With this candidate encryption key, we can \"decrypt\" the ciphertext to get a possible plaintext.   To automate the process of checking each possible plaintext for being an ineligible message, we compute an ngram score.  The higher the score, the more English-like is the candidate plaintext.  We save the best scoring candidates to investigate manually.  Hopefully, one of those is actual plaintext.\n",
    "\n",
    "For more details on this approach, see [here](http://practicalcryptography.com/cryptanalysis/stochastic-searching/cryptanalysis-hill-cipher/)"
   ],
   "id": "b553102b3d4eeab8"
  },
  {
   "metadata": {
    "ExecuteTime": {
     "end_time": "2025-07-12T21:26:38.602897Z",
     "start_time": "2025-07-12T21:26:38.600388Z"
    }
   },
   "cell_type": "code",
   "source": [
    "ciphertext_3 = \"KFHYY GIGMC EJSST EBOEU GRWJT SDVYK ZOZLI ZKFHX KUUIC WXFWJ \" + \\\n",
    "               \"GAXQP BQAGV GXDVD GUEVG MIGYK QQPIP SCLLF YPMUL KFHXP MHGME \" + \\\n",
    "               \"VDKAV YQCEG UEALY YYZSZ MPXZO CTXTR IMDID VDGSX OZFFT SMEDV \" + \\\n",
    "               \"MEIMD VMPKO UJKOD UBOAX BOORS LPZCW IMDVY GJWMI FQ\"\n",
    "ciphertext_3 = strip_text(ciphertext_3).upper() # remove the non-letter chars, keep as uppercase"
   ],
   "id": "5fc4e7df61a5310b",
   "outputs": [],
   "execution_count": 7
  },
  {
   "metadata": {
    "ExecuteTime": {
     "end_time": "2025-07-12T21:26:38.623117Z",
     "start_time": "2025-07-12T21:26:38.616799Z"
    }
   },
   "cell_type": "code",
   "source": [
    "def attack_hill_cipher(ciphertext: str):\n",
    "    \"\"\"\n",
    "    Attack a ciphertext assumed to be English encrypted with a 2x2 Hill's System cipher\n",
    "    see http://practicalcryptography.com/cryptanalysis/stochastic-searching/cryptanalysis-hill-cipher/\n",
    "    \"\"\"\n",
    "    decrypt_keys_examined = set()\n",
    "    top_results = TopResults(max_size=3)  # only keep the top results\n",
    "    scorer = NgramScorer('english_quadgrams.txt.zip')\n",
    "    # use the top 100 quints from English for searching\n",
    "    for quint in islice(iter_over_ngram_data_file('english_quintgrams.txt.zip'), 100):\n",
    "        for i in range(len(ciphertext) - 5):\n",
    "            # Depending on whether the window is on an even boundary, we line up either the\n",
    "            # first four characters or the last four characters of the quint to form the pairs\n",
    "            p_dg_1 = quint[0:2]            if i % 2 == 0 else quint[1:3]\n",
    "            p_dg_2 = quint[2:4]            if i % 2 == 0 else quint[3:5]\n",
    "            c_dg_1 = ciphertext[i:i+2]     if i % 2 == 0 else ciphertext[i+1:i+3]\n",
    "            c_dg_2 = ciphertext[i+2:i+4]   if i % 2 == 0 else ciphertext[i+3:i+5]\n",
    "\n",
    "            # Given the candidate digraph pairs, solve for the candidate decrypt key\n",
    "            c_matrix = np.array([[pos(c_dg_1[0]), pos(c_dg_2[0])],\n",
    "                                 [pos(c_dg_1[1]), pos(c_dg_2[1])]])\n",
    "\n",
    "            # need to check if c_matrix is invertible\n",
    "            if not is_invertible_mod_26(c_matrix):\n",
    "                continue   # no need to check more\n",
    "            c_matrix_inv = matrix_inverse_mod26(c_matrix)\n",
    "\n",
    "            # set up for solving for the decryption key\n",
    "            p_matrix = np.array([[pos(p_dg_1[0]), pos(p_dg_2[0])],\n",
    "                                 [pos(p_dg_1[1]), pos(p_dg_2[1])]])\n",
    "\n",
    "            # compute the decryption key implied by this pair choice\n",
    "            inv_key = np.dot(p_matrix, c_matrix_inv) % 26\n",
    "            inv_key_tuple = tuple(inv_key.flatten()) # a hashable version for comparison\n",
    "            if inv_key_tuple in decrypt_keys_examined:\n",
    "                continue  # no need to check a key more than once\n",
    "            else:\n",
    "                decrypt_keys_examined.add(inv_key_tuple) # remember we checked this one\n",
    "\n",
    "            # Now with the candidate decryption key, decrypt the text and score the key\n",
    "            plaintext = hills_transform(inv_key, ciphertext)\n",
    "            score = scorer.score(plaintext)\n",
    "            top_results.add(score, inv_key_tuple, plaintext)  # only keeps the top results\n",
    "\n",
    "    # Print out the top results and see if any look viable\n",
    "    for rank, result in enumerate(top_results.get_best(), start=1):\n",
    "        print(f\"Rank: {rank} Score: {result.score:.4f}\\n\" +\n",
    "              f\"Inv Key: \\n{np.array(result.key).reshape(2, 2)}\")\n",
    "        print(\"Plaintext:\")\n",
    "        print(format_plaintext(result.plaintext))\n",
    "        print(\"\\n\")"
   ],
   "id": "aec70f11cb3dec06",
   "outputs": [],
   "execution_count": 8
  },
  {
   "metadata": {
    "ExecuteTime": {
     "end_time": "2025-07-12T21:27:05.731219Z",
     "start_time": "2025-07-12T21:27:02.060545Z"
    }
   },
   "cell_type": "code",
   "source": "attack_hill_cipher(ciphertext_3)",
   "id": "c00549c8e2cfaf6",
   "outputs": [
    {
     "name": "stdout",
     "output_type": "stream",
     "text": [
      "Rank: 1 Score: -796.8620\n",
      "Inv Key: \n",
      "[[ 6  1]\n",
      " [11 22]]\n",
      "Plaintext:\n",
      "tsunamiscanoccuranywhereintheworldbutstrikemostfrequentlyalo\n",
      "ngthepacificoceansrimoffirethatstretchesfromalaskaacrosstoja\n",
      "pandownthroughthephilippinesthesouthpacificislandsandovertos\n",
      "outhamericax\n",
      "\n",
      "\n",
      "Rank: 2 Score: -1216.9624\n",
      "Inv Key: \n",
      "[[ 6  1]\n",
      " [17 18]]\n",
      "Plaintext:\n",
      "tiunaeisconecounaryuharyiftveyojlhbwtitviseyowtvryqgeltvyulu\n",
      "netvelaeifisoweynerymmfdifelhatitvelcbeyfdowaraekcaerysqtijk\n",
      "ponrownrhnowgvtvelhalupbifeytveyowtvpocofqcosdardgardgvsrlow\n",
      "owtvaeelisar\n",
      "\n",
      "\n",
      "Rank: 3 Score: -1248.1741\n",
      "Inv Key: \n",
      "[[ 6  1]\n",
      " [ 6 14]]\n",
      "Plaintext:\n",
      "ttuhanivcpnncpuhanylhhrrivtterobllbbttttiverobttrrqderttylll\n",
      "nntteranivivobernnrrmzffiverhhttttercperffobanankxanrrsfttjj\n",
      "ppnnobnnhhobgttterhhllppivertterobttppcpffcpsfanddanddvvrrob\n",
      "obttanerivan\n",
      "\n",
      "\n"
     ]
    }
   ],
   "execution_count": 11
  },
  {
   "metadata": {},
   "cell_type": "markdown",
   "source": [
    "On my laptop, the above ran in less than 4 seconds.  Looking at the top result, we see that decrypting with key\n",
    "$\\begin{pmatrix} 6 & 1 \\\\ 11 & 22 \\end{pmatrix}$ yields good results which can be read as\n",
    "```\n",
    "  Tsunamis can occur anywhere in the world but strike most frequently along\n",
    "  the Pacific Ocean's \"Rim of Fire\" that stretches from Alaska across to Japan,\n",
    "  down through the Philippines, the South Pacific Islands, and over to South\n",
    "  America.\n",
    "```"
   ],
   "id": "e5ccc2faf2c5ac54"
  }
 ],
 "metadata": {
  "kernelspec": {
   "display_name": "Python 3",
   "language": "python",
   "name": "python3"
  },
  "language_info": {
   "codemirror_mode": {
    "name": "ipython",
    "version": 2
   },
   "file_extension": ".py",
   "mimetype": "text/x-python",
   "name": "python",
   "nbconvert_exporter": "python",
   "pygments_lexer": "ipython2",
   "version": "2.7.6"
  }
 },
 "nbformat": 4,
 "nbformat_minor": 5
}
