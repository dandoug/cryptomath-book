{
 "cells": [
  {
   "metadata": {},
   "cell_type": "markdown",
   "source": [
    "# 3.1 Elementary Polygraphic Substitution Ciphers\n",
    "\n",
    "## Exercises 3.1"
   ],
   "id": "7233d4342449e585"
  },
  {
   "metadata": {
    "ExecuteTime": {
     "end_time": "2025-07-02T05:54:40.558848Z",
     "start_time": "2025-07-02T05:54:40.551480Z"
    }
   },
   "cell_type": "code",
   "source": [
    "import sys\n",
    "from pathlib import Path\n",
    "sys.path.insert(0, str(Path().absolute().parent))\n",
    "\n",
    "from src.helpers import strip_text, format_ciphertext\n",
    "from src.polygraphic_ciphers import validate_playfair_key, format_digraph_plaintext"
   ],
   "id": "699b5082129ce945",
   "outputs": [],
   "execution_count": 1
  },
  {
   "metadata": {},
   "cell_type": "markdown",
   "source": [
    "\n",
    "### 3. Write a computer program to implement Playfair's method. The program should be capable of both enciphering and deciphering messages using this system."
   ],
   "id": "dd2d2c28d51af1fc"
  },
  {
   "metadata": {
    "ExecuteTime": {
     "end_time": "2025-07-02T05:54:40.573230Z",
     "start_time": "2025-07-02T05:54:40.563805Z"
    }
   },
   "cell_type": "code",
   "source": [
    "OMITTED_LETTER = 'J'\n",
    "PADDING_LETTER = 'Q'\n",
    "DOUBLE_LETTER_REPLACEMENT = 'X'\n",
    "class PlayfairCipher:\n",
    "    \"\"\"\n",
    "    Implementation of Playfair's cipher\n",
    "    \"\"\"\n",
    "    def __init__(self, key: list[list[str]]):\n",
    "        validate_playfair_key(key, OMITTED_LETTER, PADDING_LETTER, DOUBLE_LETTER_REPLACEMENT)\n",
    "        self._key = key\n",
    "    @staticmethod\n",
    "    def _mod_5(i: int) -> int:\n",
    "        # get rid of negative indexes\n",
    "        while i < 0:\n",
    "            i += 5\n",
    "        # handle wrap around\n",
    "        return i % 5\n",
    "    def _find_position(self, char: str) -> tuple[int, int] | None:\n",
    "        for i, row in enumerate(self._key):\n",
    "            for j, c in enumerate(row):\n",
    "                if c == char:\n",
    "                    return i, j\n",
    "        return None\n",
    "    def _char_at_position(self, pos: tuple[int, int]) -> str:\n",
    "        return self._key[PlayfairCipher._mod_5(pos[0])][PlayfairCipher._mod_5(pos[1])]\n",
    "    def encipher(self, plaintext: str) -> str:\n",
    "        \"\"\"\n",
    "        Encipher a plaintext message using Playfair's method.\n",
    "        \"\"\"\n",
    "        plaintext = strip_text(plaintext).upper()\n",
    "        # remove the omitted letter\n",
    "        plaintext = plaintext.replace(OMITTED_LETTER, '')\n",
    "        #  pad plaintext if the length is odd\n",
    "        if len(plaintext) % 2 != 0:\n",
    "            plaintext += PADDING_LETTER\n",
    "        ciphertext = []\n",
    "        # examine the pairs in the plaintext and apply the cipher rules\n",
    "        for i in range(0, len(plaintext), 2):\n",
    "            pos_1 = self._find_position(plaintext[i])\n",
    "            # replace the second of two consecutive letters with the double letter replacement\n",
    "            second_letter = plaintext[i+1] if plaintext[i+1] != plaintext[i] else DOUBLE_LETTER_REPLACEMENT\n",
    "            pos_2 = self._find_position(second_letter)\n",
    "            if pos_1 is None or pos_2 is None:\n",
    "                raise ValueError(\"Could not find position for \" +\n",
    "                                 f\"{plaintext[i]} or {second_letter}\")\n",
    "            if pos_1[0] != pos_2[0] and pos_1[1] != pos_2[1]:\n",
    "                # rectangle corners, add the letters at the opposite corners\n",
    "                ciphertext.append(self._char_at_position((pos_1[0], pos_2[1])))\n",
    "                ciphertext.append(self._char_at_position((pos_2[0], pos_1[1])))\n",
    "            elif pos_1[0] == pos_2[0]:\n",
    "                # same row, add 1 to the column for each letter\n",
    "                ciphertext.append(self._char_at_position((pos_1[0], pos_1[1]+1)))\n",
    "                ciphertext.append( self._char_at_position((pos_2[0], pos_2[1]+1)))\n",
    "            else:\n",
    "                # same column, add 1 to the row for each letter\n",
    "                ciphertext.append(self._char_at_position((pos_1[0]+1, pos_1[1])))\n",
    "                ciphertext.append(self._char_at_position((pos_2[0]+1, pos_2[1])))\n",
    "        return ''.join(ciphertext)\n",
    "    def decipher(self, ciphertext: str) -> str:\n",
    "        \"\"\"\"\n",
    "        Decipher a ciphertext message using Playfair's method.\n",
    "        \"\"\"\n",
    "        ciphertext = strip_text(ciphertext).upper()\n",
    "        if len(ciphertext) % 2 != 0:\n",
    "            raise ValueError(\"Ciphertext must be in pairs of letters\")\n",
    "        plaintext = []\n",
    "        # examine the pairs in the ciphertext and apply the decipher rules\n",
    "        for i in range(0, len(ciphertext), 2):\n",
    "            pos_1 = self._find_position(ciphertext[i])\n",
    "            pos_2 = self._find_position(ciphertext[i+1])\n",
    "            if pos_1 is None or pos_2 is None:\n",
    "                raise ValueError(\"Could not find position for \" +\n",
    "                                 f\"{ciphertext[i]} or {ciphertext[i+1]}\")\n",
    "            if pos_1[0] != pos_2[0] and pos_1[1] != pos_2[1]:\n",
    "                # rectangle corners, add the letters at the opposite corners\n",
    "                plaintext.append(self._char_at_position((pos_1[0], pos_2[1])))\n",
    "                plaintext.append(self._char_at_position((pos_2[0], pos_1[1])))\n",
    "            elif pos_1[0] == pos_2[0]:\n",
    "                # same row, subtract 1 to the column for each letter\n",
    "                plaintext.append(self._char_at_position((pos_1[0], pos_1[1]-1)))\n",
    "                plaintext.append(self._char_at_position((pos_2[0], pos_2[1]-1)))\n",
    "            else:\n",
    "                # same column, subtract 1 to the row for each letter\n",
    "                plaintext.append(self._char_at_position((pos_1[0]-1, pos_1[1])))\n",
    "                plaintext.append(self._char_at_position((pos_2[0]-1, pos_2[1])))\n",
    "        return ''.join(plaintext).lower()"
   ],
   "id": "63958acdda252f75",
   "outputs": [],
   "execution_count": 2
  },
  {
   "metadata": {},
   "cell_type": "markdown",
   "source": [
    "\n",
    "### 1. Encipher the following messages using Playfair's system and the arrangement of letters appearing in Example 3.2:"
   ],
   "id": "e05bb388b6c58ff8"
  },
  {
   "metadata": {
    "ExecuteTime": {
     "end_time": "2025-07-02T05:54:40.661030Z",
     "start_time": "2025-07-02T05:54:40.658607Z"
    }
   },
   "cell_type": "code",
   "source": [
    "EXAMPLE_3_2_KEY = [\n",
    "    ['D', 'B', 'M', 'W', 'I'],\n",
    "    ['C', 'O', 'X', 'G', 'E'],\n",
    "    ['Q', 'Y', 'R', 'F', 'S'],\n",
    "    ['Z', 'A', 'K', 'T', 'P'],\n",
    "    ['L', 'U', 'H', 'N', 'V'],\n",
    "]\n",
    "cipher = PlayfairCipher(EXAMPLE_3_2_KEY)"
   ],
   "id": "43109e813c4c1c73",
   "outputs": [],
   "execution_count": 3
  },
  {
   "metadata": {},
   "cell_type": "markdown",
   "source": "#### (a) Even though the Cold War has come and gone, its chill winds still blow.",
   "id": "42ecdb5a7ba223a3"
  },
  {
   "metadata": {
    "ExecuteTime": {
     "end_time": "2025-07-02T05:54:40.677013Z",
     "start_time": "2025-07-02T05:54:40.674631Z"
    }
   },
   "cell_type": "code",
   "source": [
    "plaintext_1a = \"Even though the Cold War has come and gone, its chill winds still blow.\"\n",
    "ciphertext_1a = cipher.encipher(plaintext_1a)\n",
    "print(format_ciphertext(ciphertext_1a))"
   ],
   "id": "3e7ff089cce55788",
   "outputs": [
    {
     "name": "stdout",
     "output_type": "stream",
     "text": [
      "SIGVK NYBXN KNCOC UBIKY UKQEX BOPLW EXVGW PQEVM HCIDL WREPW\n",
      "HCDUG B\n"
     ]
    }
   ],
   "execution_count": 4
  },
  {
   "metadata": {},
   "cell_type": "markdown",
   "source": "#### (b) All those who believe in psychokinesis raise my hand.",
   "id": "34cfdaa29cd263b2"
  },
  {
   "metadata": {
    "ExecuteTime": {
     "end_time": "2025-07-02T05:54:40.696795Z",
     "start_time": "2025-07-02T05:54:40.693804Z"
    }
   },
   "cell_type": "code",
   "source": [
    "plaintext_1b= \"All those who believe in psychokinesis raise my hand.\"\n",
    "ciphertext_1b = cipher.encipher(plaintext_1b)\n",
    "print(format_ciphertext(ciphertext_1b))"
   ],
   "id": "566811a1e3a5b5e4",
   "outputs": [
    {
     "name": "stdout",
     "output_type": "stream",
     "text": [
      "ZUNZU XPSMN YOCVE SISWV VPQOU XPMVG PEQFP BPSBR UKLW\n"
     ]
    }
   ],
   "execution_count": 5
  },
  {
   "metadata": {},
   "cell_type": "markdown",
   "source": [
    "\n",
    "### 2. Decipher the following messages that were enciphered using Playfair's system and the arrangement of letters appearing in Example 3.2:\n",
    "#### (a) GVXSE WPCYM HVUFK YSXFP CIXLK YECBI WPUMK PPGFR."
   ],
   "id": "8d4884206a6f5105"
  },
  {
   "metadata": {
    "ExecuteTime": {
     "end_time": "2025-07-02T05:54:40.711363Z",
     "start_time": "2025-07-02T05:54:40.709042Z"
    }
   },
   "cell_type": "code",
   "source": [
    "ciphertext_2a = \"GVXSE WPCYM HVUFK YSXFP CIXLK YECBI WPUMK PPGFR\"\n",
    "plaintext_2a = cipher.decipher(ciphertext_2a)\n",
    "print(format_digraph_plaintext(plaintext_2a))"
   ],
   "id": "a176e0c04a2786b6",
   "outputs": [
    {
     "name": "stdout",
     "output_type": "stream",
     "text": [
      "en er gi ze rb un ny ar re st ed ch ar ge dw it hb at te ry\n"
     ]
    }
   ],
   "execution_count": 6
  },
  {
   "metadata": {},
   "cell_type": "markdown",
   "source": [
    "yields\n",
    "```\n",
    "  energizer bunny arrested charged with battery\n",
    "```\n"
   ],
   "id": "7c1862167398adf2"
  },
  {
   "metadata": {},
   "cell_type": "markdown",
   "source": [
    "#### (b) EICEG AKZUX AGXFK ZVMXD XIXYS BVYZW GUKNP UOPUF SWHD.\n",
    "\n"
   ],
   "id": "a358567aaad79e0e"
  },
  {
   "metadata": {
    "ExecuteTime": {
     "end_time": "2025-07-02T05:54:40.731854Z",
     "start_time": "2025-07-02T05:54:40.729311Z"
    }
   },
   "cell_type": "code",
   "source": [
    "ciphertext_2b = \"EICEG AKZUX AGXFK ZVMXD XIXYS BVYZW GUKNP UOPUF SWHD\"\n",
    "plaintext_2b = cipher.decipher(ciphertext_2b)\n",
    "print(format_digraph_plaintext(plaintext_2b))"
   ],
   "id": "b111cba0496a8c27",
   "outputs": [
    {
     "name": "stdout",
     "output_type": "stream",
     "text": [
      "iv eg ot ap ho to gr ap hi cm em or yi us td on th av ea ny\n",
      "fi lm\n"
     ]
    }
   ],
   "execution_count": 7
  },
  {
   "metadata": {},
   "cell_type": "markdown",
   "source": [
    "yields\n",
    "```\n",
    "  i've got a photographic memory i just don't have any\n",
    "  film\n",
    "```"
   ],
   "id": "a573198a48036f27"
  }
 ],
 "metadata": {
  "kernelspec": {
   "display_name": "Python 3",
   "language": "python",
   "name": "python3"
  },
  "language_info": {
   "codemirror_mode": {
    "name": "ipython",
    "version": 2
   },
   "file_extension": ".py",
   "mimetype": "text/x-python",
   "name": "python",
   "nbconvert_exporter": "python",
   "pygments_lexer": "ipython2",
   "version": "2.7.6"
  }
 },
 "nbformat": 4,
 "nbformat_minor": 5
}
