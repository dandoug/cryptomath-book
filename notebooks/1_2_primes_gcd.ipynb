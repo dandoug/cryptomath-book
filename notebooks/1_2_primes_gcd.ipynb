{
 "cells": [
  {
   "metadata": {
    "ExecuteTime": {
     "end_time": "2025-06-03T01:51:21.090081Z",
     "start_time": "2025-06-03T01:51:21.088321Z"
    }
   },
   "cell_type": "code",
   "source": "",
   "id": "a6d4e3a8d73ad83f",
   "outputs": [],
   "execution_count": null
  },
  {
   "metadata": {},
   "cell_type": "markdown",
   "source": [
    "# 1.2 Prime Numbers, Division Algorithm, Greatest Common Divisor Exercises\n",
    "\n",
    "Selected solutions to exercises in this section\n"
   ],
   "id": "eaab296012ebf087"
  },
  {
   "metadata": {
    "ExecuteTime": {
     "end_time": "2025-06-03T01:51:21.180672Z",
     "start_time": "2025-06-03T01:51:21.178147Z"
    }
   },
   "cell_type": "code",
   "source": [
    "import sys\n",
    "from pathlib import Path\n",
    "sys.path.insert(0, str(Path().absolute().parent))\n",
    "\n",
    "from src.utilities import format_factors, display_prime_factors_table, display_quotient_and_remainders_table, display_gcd_table"
   ],
   "id": "4ba4cd2e02b1e3f8",
   "outputs": [],
   "execution_count": 1
  },
  {
   "metadata": {},
   "cell_type": "markdown",
   "source": "## Exercises 1.2",
   "id": "b367db51919e9ea9"
  },
  {
   "metadata": {},
   "cell_type": "markdown",
   "source": [
    "### 3. Find the prime factors of 901, 894, 500, 1100, 765.\n",
    "\n",
    "For this exercise, we will implement the trial division algorithm for deriving prime factorizations."
   ],
   "id": "c45f52a7a389b62d"
  },
  {
   "metadata": {
    "ExecuteTime": {
     "end_time": "2025-06-03T01:51:21.193701Z",
     "start_time": "2025-06-03T01:51:21.191148Z"
    }
   },
   "cell_type": "code",
   "source": [
    "def prime_factors(n: int) -> list[int]:\n",
    "    d = 2  # starting with the smallest prime\n",
    "    factors = []\n",
    "    while d * d <= n:  # no need to go beyond the square root\n",
    "        if n % d:  # check if d divides n, if not, move to the next divisor\n",
    "            d += 1\n",
    "        else:  # d divides n, so n is divisible by d\n",
    "            n //= d  # replace n with the quotient from this divisor\n",
    "            factors.append(d)  # save this divisor\n",
    "    if n > 1:\n",
    "        factors.append(n)\n",
    "    return factors"
   ],
   "id": "988df8b82384434e",
   "outputs": [],
   "execution_count": 2
  },
  {
   "metadata": {
    "ExecuteTime": {
     "end_time": "2025-06-03T01:51:21.206360Z",
     "start_time": "2025-06-03T01:51:21.202572Z"
    }
   },
   "cell_type": "code",
   "source": [
    "inputs = [901, 894, 500, 1100, 765]\n",
    "outputs = [format_factors(prime_factors(n)) for n in inputs]\n",
    "display_prime_factors_table(inputs, outputs)"
   ],
   "id": "bc2cf0c6e2881ec8",
   "outputs": [
    {
     "data": {
      "text/plain": [
       "<IPython.core.display.Math object>"
      ],
      "text/latex": "$\\displaystyle \\begin{array}{c|l}\nn & \\text{Prime Factorization of } n \\\\\n\\hline\n901 & 17 \\cdot 53 \\\\\n894 & 2 \\cdot 3 \\cdot 149 \\\\\n500 & 2^2 \\cdot 5^3 \\\\\n1100 & 2^2 \\cdot 5^2 \\cdot 11 \\\\\n765 & 3^2 \\cdot 5 \\cdot 17 \\\\\n\\end{array}$"
     },
     "metadata": {},
     "output_type": "display_data"
    }
   ],
   "execution_count": 3
  },
  {
   "metadata": {},
   "cell_type": "markdown",
   "source": [
    "(problem-4)=\n",
    "### 4. Find the quotient and remainder when the first of each of these pairs of numbers is divided by the second: (3435,16), (747,12), (3674,28), (105,15), (412,16).\n",
    "\n",
    "This is a simple chore for Python."
   ],
   "id": "17d416852c326918"
  },
  {
   "metadata": {
    "ExecuteTime": {
     "end_time": "2025-06-03T01:51:21.217479Z",
     "start_time": "2025-06-03T01:51:21.215811Z"
    }
   },
   "cell_type": "code",
   "source": [
    "def divide(dividend: int, divisor: int) -> (int, int):\n",
    "    # just some quick sanity checks\n",
    "    if dividend is None or divisor is None or dividend <= 0 or divisor <= 0:\n",
    "        raise ValueError(\"invalid input\")\n",
    "    return dividend // divisor, dividend % divisor"
   ],
   "id": "f6f30a373b864cd1",
   "outputs": [],
   "execution_count": 4
  },
  {
   "metadata": {
    "ExecuteTime": {
     "end_time": "2025-06-03T01:51:21.234575Z",
     "start_time": "2025-06-03T01:51:21.231354Z"
    }
   },
   "cell_type": "code",
   "source": [
    "pairs = [(3435, 16), (747, 12), (3674, 28), (105, 15), (412, 16)]\n",
    "quotients_remainders = [divide(p[0], p[1]) for p in pairs]\n",
    "display_quotient_and_remainders_table(pairs, quotients_remainders)"
   ],
   "id": "c5c08ef68d90032c",
   "outputs": [
    {
     "data": {
      "text/plain": [
       "<IPython.core.display.Math object>"
      ],
      "text/latex": "$\\displaystyle \\begin{array}{c|c|c|c}\n\\text{dividend} & \\text{divisor} & \\text{quotient} & \\text{remainder} \\\\\n\\hline\n3435 & 16 & 214 & 11 \\\\\n747 & 12 & 62 & 3 \\\\\n3674 & 28 & 131 & 6 \\\\\n105 & 15 & 7 & 0 \\\\\n412 & 16 & 25 & 12 \\\\\n\\end{array}$"
     },
     "metadata": {},
     "output_type": "display_data"
    }
   ],
   "execution_count": 5
  },
  {
   "metadata": {},
   "cell_type": "markdown",
   "source": [
    "(problem-5)=\n",
    "### 5. Find the greatest common divisor of each of the pairs of integers from [Problem 4](#problem-4).\n",
    "\n",
    "We will implement the Euclidean Algorithm, using the `divide` program from the previous problem."
   ],
   "id": "6d2fbcbcffb0e98e"
  },
  {
   "metadata": {
    "ExecuteTime": {
     "end_time": "2025-06-03T01:51:21.245854Z",
     "start_time": "2025-06-03T01:51:21.243995Z"
    }
   },
   "cell_type": "code",
   "source": [
    "def gcd(x: int, y: int) -> int:\n",
    "    q, r = divide(x, y)\n",
    "    if r == 0:\n",
    "        return y\n",
    "    else:\n",
    "        return gcd(y, r)"
   ],
   "id": "234d68063da5f557",
   "outputs": [],
   "execution_count": 6
  },
  {
   "metadata": {
    "ExecuteTime": {
     "end_time": "2025-06-03T01:51:21.253336Z",
     "start_time": "2025-06-03T01:51:21.250463Z"
    }
   },
   "cell_type": "code",
   "source": [
    "gcds = [gcd(p[0], p[1]) for p in pairs]\n",
    "display_gcd_table(pairs, gcds)"
   ],
   "id": "de4b7dde1e8ec17e",
   "outputs": [
    {
     "data": {
      "text/plain": [
       "<IPython.core.display.Math object>"
      ],
      "text/latex": "$\\displaystyle \\begin{array}{c|c|c}\nx & y & \\text{gcd(} x , y \\text{)} \\\\\n\\hline\n3435 & 16 & 1 \\\\\n747 & 12 & 3 \\\\\n3674 & 28 & 2 \\\\\n105 & 15 & 15 \\\\\n412 & 16 & 4 \\\\\n\\end{array}$"
     },
     "metadata": {},
     "output_type": "display_data"
    }
   ],
   "execution_count": 7
  },
  {
   "metadata": {},
   "cell_type": "markdown",
   "source": [
    "### 11. Write a computer program to implement the Division Algorithm.\n",
    "\n",
    "See [Problem 4](#problem-4), above."
   ],
   "id": "5bdb9f2b52ed5ba"
  },
  {
   "metadata": {},
   "cell_type": "markdown",
   "source": [
    "### 12. Write a computer program to implement the greatest common divisor of two integers.\n",
    "\n",
    "See [Problem 5](#problem-5), above."
   ],
   "id": "4dcd97e20d5509c9"
  },
  {
   "metadata": {
    "ExecuteTime": {
     "end_time": "2025-06-03T01:51:21.266225Z",
     "start_time": "2025-06-03T01:51:21.264735Z"
    }
   },
   "cell_type": "code",
   "source": "",
   "id": "6e927a13cf159168",
   "outputs": [],
   "execution_count": null
  }
 ],
 "metadata": {
  "kernelspec": {
   "display_name": "Python 3",
   "language": "python",
   "name": "python3"
  },
  "language_info": {
   "codemirror_mode": {
    "name": "ipython",
    "version": 2
   },
   "file_extension": ".py",
   "mimetype": "text/x-python",
   "name": "python",
   "nbconvert_exporter": "python",
   "pygments_lexer": "ipython2",
   "version": "2.7.6"
  }
 },
 "nbformat": 4,
 "nbformat_minor": 5
}
