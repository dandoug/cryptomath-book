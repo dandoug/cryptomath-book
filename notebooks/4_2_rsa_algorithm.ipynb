{
 "cells": [
  {
   "metadata": {},
   "cell_type": "markdown",
   "source": [
    "# 4.2 The RSA Algorithm\n",
    "\n",
    "## Exercises 4.2"
   ],
   "id": "8abb68b907f7d88"
  },
  {
   "metadata": {
    "ExecuteTime": {
     "end_time": "2025-07-17T00:34:27.681440Z",
     "start_time": "2025-07-17T00:34:27.365304Z"
    }
   },
   "cell_type": "code",
   "source": [
    "%%capture\n",
    "%run ./4_1_more_number_theory.ipynb\n",
    "from sympy import divisors, nextprime\n",
    "from sympy.core.numbers import mod_inverse\n",
    "from __main__ import phi as euler_phi"
   ],
   "id": "eb143a39d5295c99",
   "outputs": [],
   "execution_count": 1
  },
  {
   "metadata": {},
   "cell_type": "markdown",
   "source": [
    "\n",
    "\n",
    "### 1. Demonstrate the importance of using extremely large numbers when generating keys by deducing the private keys of the following individuals from their relatively small public keys.\n",
    "\n",
    "|   Person   |    $n$    |  $e$  |\n",
    "|:----------:|:---------:|:-----:|\n",
    "|     A      | 98662273  | 1313  |\n",
    "|     B      | 99633329  | 2791  |\n",
    "|     C      | 222561187 | 52107 |"
   ],
   "id": "3aad781ac4b2a034"
  },
  {
   "metadata": {},
   "cell_type": "markdown",
   "source": "We start by factoring $n$, then computing $\\varphi(n)$ and then we find $d$, the multiplicative inverse of $e \\pmod{\\varphi(n)}$",
   "id": "1f67abccef010d69"
  },
  {
   "metadata": {
    "ExecuteTime": {
     "end_time": "2025-07-17T00:47:21.911871Z",
     "start_time": "2025-07-17T00:47:21.902747Z"
    }
   },
   "cell_type": "code",
   "source": [
    "def crack_trivial_rsa(n, e):\n",
    "    \"\"\"\n",
    "    Cracks a trivial RSA encryption scheme by calculating\n",
    "    Euler's totient function (`phi`) and derives the modular\n",
    "    inverse of `e` modulo `phi`.\n",
    "    \"\"\"\n",
    "    _phi = euler_phi(n)\n",
    "    return mod_inverse(e, _phi)\n",
    "\n",
    "print(f\"Private key d, for Person A: {crack_trivial_rsa(98662273, 1313)}\")\n",
    "print(f\"Private key d, for Person B: {crack_trivial_rsa(99633329, 2791)}\")\n",
    "print(f\"Private key d, for Person C: {crack_trivial_rsa(222561187, 52107)}\")"
   ],
   "id": "630741b69edec375",
   "outputs": [
    {
     "name": "stdout",
     "output_type": "stream",
     "text": [
      "Private key d, for Person A: 90148577\n",
      "Private key d, for Person B: 92149591\n",
      "Private key d, for Person C: 213737507\n"
     ]
    }
   ],
   "execution_count": 17
  },
  {
   "metadata": {},
   "cell_type": "markdown",
   "source": "Note, finding $d$ took less than 10ms for all three examples combined when run on my laptop.",
   "id": "9399050cc5ab02c"
  },
  {
   "metadata": {},
   "cell_type": "markdown",
   "source": [
    "\n",
    "### 2. Generate a set of public and private keys for a group of 5 individuals. Use the same values of $p$ and $q$ for each person in the group."
   ],
   "id": "99b52ac2db688a68"
  },
  {
   "metadata": {
    "ExecuteTime": {
     "end_time": "2025-07-17T00:34:27.790030Z",
     "start_time": "2025-07-17T00:34:27.786643Z"
    }
   },
   "cell_type": "code",
   "source": [
    "# Start by picking p and q\n",
    "p = nextprime(1234567)\n",
    "q = nextprime(7654321)\n",
    "print(f\"p = {p};  q = {q}\")\n",
    "# then n is the product of p and q, and phi is (p-1)(q-1)\n",
    "n = p*q\n",
    "phi = (p-1)*(q-1)\n",
    "print(f\"n = {n};  phi = {phi}\")\n",
    "# now find the divisors of phi so we can pick numbers in range 1..phi that are coprime with phi\n",
    "# these will be the choices for e\n",
    "phi_divisors = divisors(phi)\n",
    "# there's probably alot of them.  Let's just pick some from the middle\n",
    "i = len(phi_divisors)//2\n",
    "slice_of_phi_divisors = phi_divisors[i:i+5]\n",
    "print(f\"selected divisors of phi = {slice_of_phi_divisors}\")\n",
    "# we can probably assume that these are not consecutive, so adding 1 to each\n",
    "# should give us an invertible encryption key (number e with gcd(e,phi) = 1)\n",
    "# if we're wrong we wont be able to invert and we can just pick another number\n",
    "e_list = [div+1 for div in slice_of_phi_divisors]\n",
    "print(f\"list of e's = {e_list}\")\n",
    "# now we just find the multiplicative inverse of each\n",
    "d_list = [mod_inverse(e, phi) for e in e_list]\n",
    "print(f\"list of d's = {d_list}\")\n",
    "print(\"----------------------------------------\")\n",
    "# finally, output the public, private key pairs\n",
    "for i in range(len(e_list)):\n",
    "    print(f\"\\tPublic key #{i+1}:  (e={e_list[i]}, n={n})\")\n",
    "    print(f\"\\tPrivate key: (d={d_list[i]})\")\n",
    "    print(\"\\t----------------------------------------\")"
   ],
   "id": "5323201bf53b0e89",
   "outputs": [
    {
     "name": "stdout",
     "output_type": "stream",
     "text": [
      "p = 1234577;  q = 7654337\n",
      "n = 9449868410449;  phi = 9449859521536\n",
      "selected divisors of phi = [3254048, 3348772, 3365488, 3718912, 3827168]\n",
      "list of e's = [3254049, 3348773, 3365489, 3718913, 3827169]\n",
      "list of d's = [5810841372897, 6232744492717, 4905693486737, 8893298308353, 825439767073]\n",
      "----------------------------------------\n",
      "\tPublic key #1:  (e=3254049, n=9449868410449)\n",
      "\tPrivate key: (d=5810841372897)\n",
      "\t----------------------------------------\n",
      "\tPublic key #2:  (e=3348773, n=9449868410449)\n",
      "\tPrivate key: (d=6232744492717)\n",
      "\t----------------------------------------\n",
      "\tPublic key #3:  (e=3365489, n=9449868410449)\n",
      "\tPrivate key: (d=4905693486737)\n",
      "\t----------------------------------------\n",
      "\tPublic key #4:  (e=3718913, n=9449868410449)\n",
      "\tPrivate key: (d=8893298308353)\n",
      "\t----------------------------------------\n",
      "\tPublic key #5:  (e=3827169, n=9449868410449)\n",
      "\tPrivate key: (d=825439767073)\n",
      "\t----------------------------------------\n"
     ]
    }
   ],
   "execution_count": 3
  },
  {
   "metadata": {},
   "cell_type": "markdown",
   "source": [
    "\n",
    "### 3. Start with $p = 19$ and $q = 41$.\n",
    "\n",
    "#### (a) Compute a set of private and public keys."
   ],
   "id": "8632bd1e421faff8"
  },
  {
   "metadata": {
    "ExecuteTime": {
     "end_time": "2025-07-17T00:34:27.800936Z",
     "start_time": "2025-07-17T00:34:27.799233Z"
    }
   },
   "cell_type": "code",
   "source": [
    "p = 19\n",
    "q = 41\n",
    "n = p*q\n",
    "phi = (p-1)*(q-1)\n",
    "divs = divisors(phi)\n",
    "print(divs)"
   ],
   "id": "c6812df36a868b3f",
   "outputs": [
    {
     "name": "stdout",
     "output_type": "stream",
     "text": [
      "[1, 2, 3, 4, 5, 6, 8, 9, 10, 12, 15, 16, 18, 20, 24, 30, 36, 40, 45, 48, 60, 72, 80, 90, 120, 144, 180, 240, 360, 720]\n"
     ]
    }
   ],
   "execution_count": 4
  },
  {
   "metadata": {
    "ExecuteTime": {
     "end_time": "2025-07-17T00:34:27.811699Z",
     "start_time": "2025-07-17T00:34:27.809641Z"
    }
   },
   "cell_type": "code",
   "source": [
    "e = 31  # just picking some number less than phi that is not a divisor\n",
    "d = mod_inverse(e, phi)\n",
    "print(f\"e = {e}; d = {d}; n = {n} \")"
   ],
   "id": "1d690b525b6a3400",
   "outputs": [
    {
     "name": "stdout",
     "output_type": "stream",
     "text": [
      "e = 31; d = 511; n = 779 \n"
     ]
    }
   ],
   "execution_count": 5
  },
  {
   "metadata": {},
   "cell_type": "markdown",
   "source": "#### (b) Encipher the message 436.",
   "id": "7730248b2f9a0359"
  },
  {
   "metadata": {
    "ExecuteTime": {
     "end_time": "2025-07-17T00:34:27.821485Z",
     "start_time": "2025-07-17T00:34:27.819763Z"
    }
   },
   "cell_type": "code",
   "source": [
    "m = 436\n",
    "c = pow(m, e, n)\n",
    "print(c)"
   ],
   "id": "b571bcbb2330c8af",
   "outputs": [
    {
     "name": "stdout",
     "output_type": "stream",
     "text": [
      "398\n"
     ]
    }
   ],
   "execution_count": 6
  },
  {
   "metadata": {},
   "cell_type": "markdown",
   "source": "#### (c) Decipher your answer to part (b) of this problem.",
   "id": "57f34851af5bfcce"
  },
  {
   "metadata": {
    "ExecuteTime": {
     "end_time": "2025-07-17T00:34:27.830603Z",
     "start_time": "2025-07-17T00:34:27.829033Z"
    }
   },
   "cell_type": "code",
   "source": [
    "m_prime = pow(c, d, n)\n",
    "print(m_prime)"
   ],
   "id": "769c67d63316d49",
   "outputs": [
    {
     "name": "stdout",
     "output_type": "stream",
     "text": [
      "436\n"
     ]
    }
   ],
   "execution_count": 7
  },
  {
   "metadata": {},
   "cell_type": "markdown",
   "source": [
    "\n",
    "#### 4. Solve the following equations for $x$;"
   ],
   "id": "b8ed8142804cdf3"
  },
  {
   "metadata": {
    "ExecuteTime": {
     "end_time": "2025-07-17T00:34:27.839524Z",
     "start_time": "2025-07-17T00:34:27.837669Z"
    }
   },
   "cell_type": "code",
   "source": [
    "# for numbers this small, we can just iterate 1..n to find the answers\n",
    "def discrete_log_mod(base:int, modulus:int, y:int):\n",
    "    \"\"\"\n",
    "    Calculate the discrete logarithm modulo a given modulus.\n",
    "    \"\"\"\n",
    "    for x in range(1, modulus):\n",
    "        if pow(base, x, modulus) == y:\n",
    "            return x\n",
    "    return None"
   ],
   "id": "8ef2428052986d6d",
   "outputs": [],
   "execution_count": 8
  },
  {
   "metadata": {},
   "cell_type": "markdown",
   "source": "#### (a) $11^x \\pmod{29} = 16$",
   "id": "bc0fd5d4ac68479f"
  },
  {
   "metadata": {
    "ExecuteTime": {
     "end_time": "2025-07-17T00:34:27.848748Z",
     "start_time": "2025-07-17T00:34:27.846498Z"
    }
   },
   "cell_type": "code",
   "source": "discrete_log_mod(11, 29, 16)",
   "id": "89a7d901dafffede",
   "outputs": [
    {
     "data": {
      "text/plain": [
       "8"
      ]
     },
     "execution_count": 9,
     "metadata": {},
     "output_type": "execute_result"
    }
   ],
   "execution_count": 9
  },
  {
   "metadata": {},
   "cell_type": "markdown",
   "source": "#### (b) $13^x \\pmod{19} = 2$",
   "id": "4a9eadc2c76995a5"
  },
  {
   "metadata": {
    "ExecuteTime": {
     "end_time": "2025-07-17T00:34:27.859023Z",
     "start_time": "2025-07-17T00:34:27.856101Z"
    }
   },
   "cell_type": "code",
   "source": "discrete_log_mod(13, 19, 2)",
   "id": "5fe43c0dbdb81d56",
   "outputs": [
    {
     "data": {
      "text/plain": [
       "11"
      ]
     },
     "execution_count": 10,
     "metadata": {},
     "output_type": "execute_result"
    }
   ],
   "execution_count": 10
  },
  {
   "metadata": {},
   "cell_type": "markdown",
   "source": "#### (c) $5^x \\pmod{37} = 29$",
   "id": "fa8fc47adb0ce28b"
  },
  {
   "metadata": {
    "ExecuteTime": {
     "end_time": "2025-07-17T00:34:27.873538Z",
     "start_time": "2025-07-17T00:34:27.870243Z"
    }
   },
   "cell_type": "code",
   "source": "discrete_log_mod(5, 37, 29)",
   "id": "11ac1de5c8212f3d",
   "outputs": [
    {
     "data": {
      "text/plain": [
       "15"
      ]
     },
     "execution_count": 11,
     "metadata": {},
     "output_type": "execute_result"
    }
   ],
   "execution_count": 11
  },
  {
   "metadata": {},
   "cell_type": "markdown",
   "source": "### 5. For $m$ any real number, one usually thinks of $m^8$ as $m \\cdot m \\cdot m \\cdot m \\cdot m \\cdot m \\cdot m \\cdot m$, an expression involving 7 multiplications. A more efficient way to compute $m^8$ however, would be to first compute $m^2 = m \\cdot m$, and then perform the three multiplications: $m^2 \\cdot m^2 \\cdot m^2 \\cdot  m^2$. This observation lies at the heart of the so-called square and multiply algorithm which can be used in connection with evaluating $m^e \\pmod{n}$. Using this technique, how many multiplications would be required to compute:",
   "id": "cb9e73db2b0fc632"
  },
  {
   "metadata": {},
   "cell_type": "markdown",
   "source": [
    "An algorithmic description of \"square and multiply\" is\n",
    "\n",
    "1. Convert the exponent to binary. Ignore leading zero's.  (left most digit will be 1)\n",
    "2. Initialize the result with the base\n",
    "3. Process each binary digit (from left to right) after the left most 1:\n",
    "4. For each binary digit:\n",
    "    * Square the current result.\n",
    "    * If the digit is 1, multiply the result by the base\n"
   ],
   "id": "c9e6a9636d52d198"
  },
  {
   "metadata": {},
   "cell_type": "markdown",
   "source": [
    "Using this definition, the number of multiplications can be derived as\n",
    "\n",
    "$$\n",
    "  (k − 1) + (h − 1)\n",
    "$$\n",
    "\n",
    "or, equivilantly\n",
    "\n",
    "$$\n",
    "  k + h − 2\n",
    "$$\n",
    "\n",
    "where\n",
    "\n",
    "* $k$ = number of bits in the binary representation of the exponent\n",
    "* $h$ = number of 1’s in the binary representation of the exponent"
   ],
   "id": "9bcc8a88b39b2231"
  },
  {
   "metadata": {
    "ExecuteTime": {
     "end_time": "2025-07-17T00:34:27.885699Z",
     "start_time": "2025-07-17T00:34:27.883619Z"
    }
   },
   "cell_type": "code",
   "source": [
    "def bits_required(n):\n",
    "    return n.bit_length()\n",
    "\n",
    "def count_ones(n):\n",
    "    return bin(n).count('1')\n",
    "\n",
    "def mults_required_for_exponent(n: int) -> int:\n",
    "    k = bits_required(n)\n",
    "    h = count_ones(n)\n",
    "    return k + h - 2"
   ],
   "id": "7e49d63141f563d5",
   "outputs": [],
   "execution_count": 12
  },
  {
   "metadata": {},
   "cell_type": "markdown",
   "source": "### (a) $m^{16}$",
   "id": "d85b253f36e00769"
  },
  {
   "metadata": {
    "ExecuteTime": {
     "end_time": "2025-07-17T00:34:27.893765Z",
     "start_time": "2025-07-17T00:34:27.891388Z"
    }
   },
   "cell_type": "code",
   "source": "mults_required_for_exponent(16)",
   "id": "509fa54f4d26f2a6",
   "outputs": [
    {
     "data": {
      "text/plain": [
       "4"
      ]
     },
     "execution_count": 13,
     "metadata": {},
     "output_type": "execute_result"
    }
   ],
   "execution_count": 13
  },
  {
   "metadata": {},
   "cell_type": "markdown",
   "source": "### (b) $m^{35}$",
   "id": "f7731c50c8037429"
  },
  {
   "metadata": {
    "ExecuteTime": {
     "end_time": "2025-07-17T00:34:27.904043Z",
     "start_time": "2025-07-17T00:34:27.901452Z"
    }
   },
   "cell_type": "code",
   "source": "mults_required_for_exponent(35)",
   "id": "8418e70d6e83dba2",
   "outputs": [
    {
     "data": {
      "text/plain": [
       "7"
      ]
     },
     "execution_count": 14,
     "metadata": {},
     "output_type": "execute_result"
    }
   ],
   "execution_count": 14
  },
  {
   "metadata": {},
   "cell_type": "markdown",
   "source": "### (c) $m^{103}$",
   "id": "da312749239c73f"
  },
  {
   "metadata": {
    "ExecuteTime": {
     "end_time": "2025-07-17T00:34:27.912897Z",
     "start_time": "2025-07-17T00:34:27.910855Z"
    }
   },
   "cell_type": "code",
   "source": "mults_required_for_exponent(103)",
   "id": "c3f174c11937af30",
   "outputs": [
    {
     "data": {
      "text/plain": [
       "10"
      ]
     },
     "execution_count": 15,
     "metadata": {},
     "output_type": "execute_result"
    }
   ],
   "execution_count": 15
  },
  {
   "metadata": {},
   "cell_type": "markdown",
   "source": [
    "Note that the exercise question as asked does not show the the proper (i.e. optimal) application of the square and multiply algorithm for an exponent of $8$.\n",
    "\n",
    "$8$ in binary is $1000$\n",
    "\n",
    "1. Start with $m$, then moving left to right\n",
    "2. Next bit is $0$, so square $m$ to get $m^2$ (1st multiplication)\n",
    "3. Next bit is $0$, so square $m^2$ to get $m^4$ (2nd multiplication)\n",
    "4. Next (and last) bit is $0$, so square $m^4$ to get $m^8$ (3nd multiplication)\n",
    "\n",
    "So, only $3$ multiplications are required to compute $m^8$, which matches what `mults_required_for_exponent` computes."
   ],
   "id": "282fa8f16b51d059"
  },
  {
   "metadata": {
    "ExecuteTime": {
     "end_time": "2025-07-17T00:34:27.922262Z",
     "start_time": "2025-07-17T00:34:27.920209Z"
    }
   },
   "cell_type": "code",
   "source": "mults_required_for_exponent(8)",
   "id": "32ff412a61cf0f0a",
   "outputs": [
    {
     "data": {
      "text/plain": [
       "3"
      ]
     },
     "execution_count": 16,
     "metadata": {},
     "output_type": "execute_result"
    }
   ],
   "execution_count": 16
  }
 ],
 "metadata": {
  "kernelspec": {
   "display_name": "Python 3",
   "language": "python",
   "name": "python3"
  },
  "language_info": {
   "codemirror_mode": {
    "name": "ipython",
    "version": 2
   },
   "file_extension": ".py",
   "mimetype": "text/x-python",
   "name": "python",
   "nbconvert_exporter": "python",
   "pygments_lexer": "ipython2",
   "version": "2.7.6"
  }
 },
 "nbformat": 4,
 "nbformat_minor": 5
}
