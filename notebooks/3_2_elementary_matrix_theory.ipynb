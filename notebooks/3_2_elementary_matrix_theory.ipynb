{
 "cells": [
  {
   "metadata": {},
   "cell_type": "markdown",
   "source": [
    "# 3.2 Elementary Matrix Theory\n",
    "\n",
    "## Exercises 3.2"
   ],
   "id": "d2cb05992e7263ec"
  },
  {
   "metadata": {
    "ExecuteTime": {
     "end_time": "2025-07-07T04:05:49.450017Z",
     "start_time": "2025-07-07T04:05:49.203506Z"
    }
   },
   "cell_type": "code",
   "source": [
    "import numpy as np\n",
    "import matplotlib.pyplot as plt\n",
    "\n",
    "# Set the precision of the printed numbers for matrices.  5 decimal places, no scientific notation, make very small values zero\n",
    "np.set_printoptions(precision=5, suppress=True, formatter={'float': lambda x: f'{0 if abs(x) < 1e-10 else x:g}'})"
   ],
   "id": "cc89dfb6885ab215",
   "outputs": [],
   "execution_count": 1
  },
  {
   "metadata": {},
   "cell_type": "markdown",
   "source": "### 1. Perform the following matrix operations",
   "id": "8d1e97b98bd03281"
  },
  {
   "metadata": {},
   "cell_type": "markdown",
   "source": [
    "#### (a)\n",
    "\n",
    "$$\n",
    "\\begin{pmatrix}\n",
    "    -3 &  0 &  7 &  2 & 8 \\\\\n",
    "     6 & -1 & 13 &  4 & 7 \\\\\n",
    "    -4 &  9 & -7 & 14 & 6 \\\\\n",
    "     5 & -5 & 10 & -1 & 0\n",
    "\\end{pmatrix}\n",
    "+\n",
    "\\begin{pmatrix}\n",
    "     7 & -9 &  6 &  2 &  7 \\\\\n",
    "     7 & 21 & 14 & -8 & 23 \\\\\n",
    "    -4 &  6 &  7 &  7 & 11 \\\\\n",
    "    17 &  6 &  8 & 18 & 13\n",
    "\\end{pmatrix}\n",
    "=\n",
    "\\begin{pmatrix}\n",
    "     4 & -9 & 13 &  4 & 15 \\\\\n",
    "    13 & 20 & 27 & -4 & 30 \\\\\n",
    "    -8 & 15 &  0 & 21 & 17 \\\\\n",
    "    22 &  1 & 18 & 17 & 13\n",
    "\\end{pmatrix}\n",
    "$$"
   ],
   "id": "61f41737faac6672"
  },
  {
   "metadata": {},
   "cell_type": "markdown",
   "source": [
    "#### (b)\n",
    "\n",
    "$$\n",
    "\\begin{pmatrix}\n",
    "    -3 &  0 &  7 &  2 & 8 \\\\\n",
    "     6 & -1 & 13 &  4 & 7 \\\\\n",
    "    -4 &  9 & -7 & 14 & 6 \\\\\n",
    "     5 & -5 & 10 & -1 & 0\n",
    "\\end{pmatrix}\n",
    "-\n",
    "\\begin{pmatrix}\n",
    "     7 & -9 &  6 &  2 &  7 \\\\\n",
    "     7 & 21 & 14 & -8 & 23 \\\\\n",
    "    -4 &  6 &  7 &  7 & 11 \\\\\n",
    "    17 &  6 &  8 & 18 & 13\n",
    "\\end{pmatrix}\n",
    "=\n",
    "\\begin{pmatrix}\n",
    "   -10 &   9 &   1 &   0 &   1 \\\\\n",
    "    -1 & -22 &  -1 &  12 & -16 \\\\\n",
    "     0 &   3 & -14 &   7 &  -5 \\\\\n",
    "   -12 & -11 &   2 & -19 & -13\n",
    "\\end{pmatrix}\n",
    "$$"
   ],
   "id": "59fec8f82f315235"
  },
  {
   "metadata": {},
   "cell_type": "markdown",
   "source": "### (c)",
   "id": "e28dc00720513e61"
  },
  {
   "metadata": {
    "ExecuteTime": {
     "end_time": "2025-07-07T04:05:49.542829Z",
     "start_time": "2025-07-07T04:05:49.527691Z"
    }
   },
   "cell_type": "code",
   "source": [
    "A = np.array([[4, -1,  2],\n",
    "              [3,  7,  7],\n",
    "              [0,  5,  8]])\n",
    "B = np.array([[2,  6,  1],\n",
    "              [4,  8, -3],\n",
    "              [5, -1,  2]])\n"
   ],
   "id": "a557a4e4d243549c",
   "outputs": [],
   "execution_count": 2
  },
  {
   "metadata": {
    "ExecuteTime": {
     "end_time": "2025-07-07T04:05:49.559211Z",
     "start_time": "2025-07-07T04:05:49.557026Z"
    }
   },
   "cell_type": "code",
   "source": "print(np.dot(A, B))",
   "id": "72cf80cdf5174132",
   "outputs": [
    {
     "name": "stdout",
     "output_type": "stream",
     "text": [
      "[[14 14 11]\n",
      " [69 67 -4]\n",
      " [60 32  1]]\n"
     ]
    }
   ],
   "execution_count": 3
  },
  {
   "metadata": {},
   "cell_type": "markdown",
   "source": "### (d)",
   "id": "424c044e4193d0ed"
  },
  {
   "metadata": {
    "ExecuteTime": {
     "end_time": "2025-07-07T04:05:49.570392Z",
     "start_time": "2025-07-07T04:05:49.568354Z"
    }
   },
   "cell_type": "code",
   "source": "print(np.dot(B, A))",
   "id": "71c93951b277b7e",
   "outputs": [
    {
     "name": "stdout",
     "output_type": "stream",
     "text": [
      "[[26 45 54]\n",
      " [40 37 40]\n",
      " [17 -2 19]]\n"
     ]
    }
   ],
   "execution_count": 4
  },
  {
   "metadata": {
    "ExecuteTime": {
     "end_time": "2025-07-07T04:05:49.583219Z",
     "start_time": "2025-07-07T04:05:49.580894Z"
    }
   },
   "cell_type": "code",
   "source": [
    "C = np.array([[4],\n",
    "              [2],\n",
    "              [6]])\n",
    "D = np.array([[1, 7, 5]])"
   ],
   "id": "1f7de418ed84bbac",
   "outputs": [],
   "execution_count": 5
  },
  {
   "metadata": {},
   "cell_type": "markdown",
   "source": "### (e)",
   "id": "cf5fb228801abbd9"
  },
  {
   "metadata": {
    "ExecuteTime": {
     "end_time": "2025-07-07T04:05:49.596213Z",
     "start_time": "2025-07-07T04:05:49.593908Z"
    }
   },
   "cell_type": "code",
   "source": "print(np.dot(C, D))",
   "id": "f075957b6d78a7c8",
   "outputs": [
    {
     "name": "stdout",
     "output_type": "stream",
     "text": [
      "[[ 4 28 20]\n",
      " [ 2 14 10]\n",
      " [ 6 42 30]]\n"
     ]
    }
   ],
   "execution_count": 6
  },
  {
   "metadata": {},
   "cell_type": "markdown",
   "source": "### (f)",
   "id": "966931b000e92847"
  },
  {
   "metadata": {
    "ExecuteTime": {
     "end_time": "2025-07-07T04:05:49.611498Z",
     "start_time": "2025-07-07T04:05:49.609357Z"
    }
   },
   "cell_type": "code",
   "source": "print(np.dot(D, C))",
   "id": "159987da7839f4fd",
   "outputs": [
    {
     "name": "stdout",
     "output_type": "stream",
     "text": [
      "[[48]]\n"
     ]
    }
   ],
   "execution_count": 7
  },
  {
   "metadata": {},
   "cell_type": "markdown",
   "source": "### (g)",
   "id": "6fe2c8393658b3d1"
  },
  {
   "metadata": {
    "ExecuteTime": {
     "end_time": "2025-07-07T04:05:49.622259Z",
     "start_time": "2025-07-07T04:05:49.620086Z"
    }
   },
   "cell_type": "code",
   "source": [
    "E = np.array([[ 4, -2],\n",
    "              [ 7, 66],\n",
    "              [13, -8]])\n",
    "print(np.dot(-6, E))"
   ],
   "id": "79a1e9c2e8e51cbd",
   "outputs": [
    {
     "name": "stdout",
     "output_type": "stream",
     "text": [
      "[[ -24   12]\n",
      " [ -42 -396]\n",
      " [ -78   48]]\n"
     ]
    }
   ],
   "execution_count": 8
  },
  {
   "metadata": {},
   "cell_type": "markdown",
   "source": "### 2. Determine the additive inverse of the matrix:",
   "id": "99b47b4438871c1a"
  },
  {
   "metadata": {
    "ExecuteTime": {
     "end_time": "2025-07-07T04:05:49.641780Z",
     "start_time": "2025-07-07T04:05:49.638972Z"
    }
   },
   "cell_type": "code",
   "source": [
    "F = np.array([[ -6, 2,  7, -8],\n",
    "              [  0, 0, 13,  4],\n",
    "              [-11, 3,  3,  2],\n",
    "              [ -9, 7,  6, 17]])\n",
    "print(np.dot(-1, F))"
   ],
   "id": "b48f024d891f317d",
   "outputs": [
    {
     "name": "stdout",
     "output_type": "stream",
     "text": [
      "[[  6  -2  -7   8]\n",
      " [  0   0 -13  -4]\n",
      " [ 11  -3  -3  -2]\n",
      " [  9  -7  -6 -17]]\n"
     ]
    }
   ],
   "execution_count": 9
  },
  {
   "metadata": {},
   "cell_type": "markdown",
   "source": "### 3. Fine the multiplicative inverses (if they exist) of the following matrices",
   "id": "f90fe7a77d74eec5"
  },
  {
   "metadata": {},
   "cell_type": "markdown",
   "source": "#### (a)",
   "id": "9da96c7a139287ac"
  },
  {
   "metadata": {
    "ExecuteTime": {
     "end_time": "2025-07-07T04:05:49.663188Z",
     "start_time": "2025-07-07T04:05:49.660982Z"
    }
   },
   "cell_type": "code",
   "source": [
    "M = np.array([[ 4, 2],\n",
    "              [-3, 1]])\n",
    "M_inv = np.linalg.inv(M)\n",
    "print(M_inv)"
   ],
   "id": "81f02ecf717706a8",
   "outputs": [
    {
     "name": "stdout",
     "output_type": "stream",
     "text": [
      "[[0.1 -0.2]\n",
      " [0.3 0.4]]\n"
     ]
    }
   ],
   "execution_count": 10
  },
  {
   "metadata": {},
   "cell_type": "markdown",
   "source": [
    "#### (b)\n",
    "\n",
    "$\\begin{pmatrix} 4 & 1 \\\\ 8 & 2 \\end{pmatrix}$ is a singular matrix with no multiplicative inverse."
   ],
   "id": "9775a4020967639"
  },
  {
   "metadata": {},
   "cell_type": "markdown",
   "source": [
    "#### (c)\n",
    "\n",
    "$\\begin{pmatrix} 17 & 17 \\\\ 17 & 17 \\end{pmatrix}$ is a singular matrix with no multiplicative inverse."
   ],
   "id": "e9c1d9b35f158424"
  },
  {
   "metadata": {},
   "cell_type": "markdown",
   "source": "#### (d)",
   "id": "68363961e268bd01"
  },
  {
   "metadata": {
    "ExecuteTime": {
     "end_time": "2025-07-07T04:05:49.685707Z",
     "start_time": "2025-07-07T04:05:49.682677Z"
    }
   },
   "cell_type": "code",
   "source": [
    "M = np.array([[ 9, 4],\n",
    "              [11, 5]])\n",
    "M_inv = np.linalg.inv(M)\n",
    "print(M_inv)"
   ],
   "id": "9de6d1326c332d55",
   "outputs": [
    {
     "name": "stdout",
     "output_type": "stream",
     "text": [
      "[[5 -4]\n",
      " [-11 9]]\n"
     ]
    }
   ],
   "execution_count": 11
  },
  {
   "metadata": {},
   "cell_type": "markdown",
   "source": "### 4. Show that if the product of two matrices is the zero matrix, then it is not necessarily true that one of them must be the zero matrix.",
   "id": "59393bdef53907b5"
  },
  {
   "metadata": {
    "ExecuteTime": {
     "end_time": "2025-07-07T04:05:49.699694Z",
     "start_time": "2025-07-07T04:05:49.696451Z"
    }
   },
   "cell_type": "code",
   "source": [
    "A = np.array([[ 0,  0],\n",
    "              [ 0,  0]])\n",
    "B = np.array([[ 0,  0],\n",
    "              [ 6, 11]])\n",
    "C = np.array([[ 4,  0],\n",
    "              [18,  0]])\n",
    "print(np.dot(A, B))"
   ],
   "id": "9dcd4c9c8fb5765f",
   "outputs": [
    {
     "name": "stdout",
     "output_type": "stream",
     "text": [
      "[[0 0]\n",
      " [0 0]]\n"
     ]
    }
   ],
   "execution_count": 12
  },
  {
   "metadata": {
    "ExecuteTime": {
     "end_time": "2025-07-07T04:05:49.712053Z",
     "start_time": "2025-07-07T04:05:49.710188Z"
    }
   },
   "cell_type": "code",
   "source": "print(np.dot(C, B))",
   "id": "5150f5c4d275bcf8",
   "outputs": [
    {
     "name": "stdout",
     "output_type": "stream",
     "text": [
      "[[0 0]\n",
      " [0 0]]\n"
     ]
    }
   ],
   "execution_count": 13
  },
  {
   "metadata": {},
   "cell_type": "markdown",
   "source": "both products are the zero matrix, but neither $B$ or $C$ are the zero matrix.",
   "id": "228db25739f94cda"
  },
  {
   "metadata": {},
   "cell_type": "markdown",
   "source": "### 5. Suppose $A$, $B$, and $C$ are square matrices of the same dimension and that $A \\times B = A \\times C$.  Does $B = C$ always, sometimes, or never? Justify your answer.",
   "id": "ed53eb576bf20557"
  },
  {
   "metadata": {},
   "cell_type": "markdown",
   "source": [
    "If $B = C$, then the equation $A \\times B = A \\times C$ holds so the answer is not *never*.\n",
    "\n",
    "Consider the following example."
   ],
   "id": "7ec4c2fb50587ead"
  },
  {
   "metadata": {
    "ExecuteTime": {
     "end_time": "2025-07-07T04:05:49.728048Z",
     "start_time": "2025-07-07T04:05:49.724898Z"
    }
   },
   "cell_type": "code",
   "source": [
    "A = np.array([[ 4,  0],\n",
    "              [18,  0]])\n",
    "B = np.array([[ 0,  0],\n",
    "              [ 6, 11]])\n",
    "C = np.array([[ 0,  0],\n",
    "              [ 0,  0]])\n",
    "print(np.dot(A, B))"
   ],
   "id": "d056883e37cca0ad",
   "outputs": [
    {
     "name": "stdout",
     "output_type": "stream",
     "text": [
      "[[0 0]\n",
      " [0 0]]\n"
     ]
    }
   ],
   "execution_count": 14
  },
  {
   "metadata": {
    "ExecuteTime": {
     "end_time": "2025-07-07T04:05:49.742409Z",
     "start_time": "2025-07-07T04:05:49.740363Z"
    }
   },
   "cell_type": "code",
   "source": "print(np.dot(A, C))",
   "id": "2c1bb4df6091901b",
   "outputs": [
    {
     "name": "stdout",
     "output_type": "stream",
     "text": [
      "[[0 0]\n",
      " [0 0]]\n"
     ]
    }
   ],
   "execution_count": 15
  },
  {
   "metadata": {},
   "cell_type": "markdown",
   "source": "Note that $A \\times B = A \\times C$, but clearly $B \\ne C$, the the correct answer is:  ***sometimes***.",
   "id": "235d3fc5f5afe34d"
  },
  {
   "metadata": {},
   "cell_type": "markdown",
   "source": [
    "### 6. Find two $2 \\times 2$ matrices whoe elements are integers and whose multiplicative inverses are also matrices of integers.\n",
    "\n",
    "Consider $\\begin{pmatrix} 9 & 4 \\\\ 11 & 5 \\end{pmatrix}$ and $\\begin{pmatrix} 5 & -4 \\\\ -11 & 9 \\end{pmatrix}$ from exercise **3(c)**, above.  These are two matrixes of integers, they are multiplicative inverses of each other.\n",
    "\n",
    "Another example is  $\\begin{pmatrix} 1 & 2 \\\\ 3 & 5 \\end{pmatrix}$ and $\\begin{pmatrix} -5 & 2 \\\\ 3 & -1 \\end{pmatrix}$."
   ],
   "id": "ae54f29bd1333f3c"
  },
  {
   "metadata": {},
   "cell_type": "markdown",
   "source": "### 7. Complete the solution to the system of equations in this section to deduce that $e = \\frac{d}{ad - bc}$ and $g = \\frac{-c}{ad-bc}$.",
   "id": "e5c818df984d249c"
  },
  {
   "metadata": {},
   "cell_type": "markdown",
   "source": [
    "$$\n",
    "\\begin{aligned}\n",
    "  ce + dg &= 0 \\\\\n",
    "        e &= \\frac{-dg}{c}\n",
    "\\end{aligned}\n",
    "$$\n",
    "\n",
    "which means\n",
    "\n",
    "$$\n",
    "\\begin{aligned}\n",
    "                          ae + bg &= 1 \\\\\n",
    "            a  \\frac{-dg}{c} + bg &= 1 \\\\\n",
    "   \\frac{-adg}{c} + \\frac{bgc}{c} &= 1 \\\\\n",
    "            \\frac{g(-ad + bc)}{c} &= 1 \\\\\n",
    "                                g &= \\frac{c}{-ad + bc} \\\\\n",
    "                                  &= \\frac{-c}{ad-bc}\n",
    "\\end{aligned}\n",
    "$$\n",
    "\n",
    "which also means\n",
    "\n",
    "$$\n",
    "\\begin{aligned}\n",
    "  ce + dg &= 0 \\\\\n",
    "  ce - \\frac{dc}{ad-bc} &= 0 \\\\\n",
    "  ce &= \\frac{dc}{ad-bc} \\\\\n",
    "   e &= \\frac{d}{ad-bc}\n",
    "\\end{aligned}\n",
    "$$\n",
    "\n"
   ],
   "id": "d6ddcf37308500e0"
  },
  {
   "metadata": {},
   "cell_type": "markdown",
   "source": [
    "### 10. Solve the following systems of equations\n",
    "\n",
    "#### (a)\n",
    "\n",
    "$$\n",
    "\\begin{aligned}\n",
    "  7x - 12y &= 13 \\\\\n",
    "  5x + 11y &= 4\n",
    "\\end{aligned}\n",
    "$$\n"
   ],
   "id": "49f99186535650f7"
  },
  {
   "metadata": {
    "ExecuteTime": {
     "end_time": "2025-07-07T04:05:49.761727Z",
     "start_time": "2025-07-07T04:05:49.759001Z"
    }
   },
   "cell_type": "code",
   "source": [
    "A = np.array([[ 7, -12],\n",
    "              [ 5,  11]])\n",
    "B = np.array([[13],\n",
    "              [4]])\n",
    "print(np.dot(np.linalg.inv(A), B))"
   ],
   "id": "88074e929b80411c",
   "outputs": [
    {
     "name": "stdout",
     "output_type": "stream",
     "text": [
      "[[1.39416]\n",
      " [-0.270073]]\n"
     ]
    }
   ],
   "execution_count": 16
  },
  {
   "metadata": {},
   "cell_type": "markdown",
   "source": [
    "#### (b)\n",
    "\n",
    "$$\n",
    "\\begin{aligned}\n",
    "  -3x + 5y &= 71 \\\\\n",
    "   7x - 19y &= 32\n",
    "\\end{aligned}\n",
    "$$\n",
    "\n"
   ],
   "id": "7844cd7a67921fb5"
  },
  {
   "metadata": {
    "ExecuteTime": {
     "end_time": "2025-07-07T04:05:49.776578Z",
     "start_time": "2025-07-07T04:05:49.773946Z"
    }
   },
   "cell_type": "code",
   "source": [
    "A = np.array([[ -3,   5],\n",
    "              [  7, -19]])\n",
    "B = np.array([[71],\n",
    "              [32]])\n",
    "print(np.dot(np.linalg.inv(A), B))"
   ],
   "id": "89d5431e6d0cfec9",
   "outputs": [
    {
     "name": "stdout",
     "output_type": "stream",
     "text": [
      "[[-68.5909]\n",
      " [-26.9545]]\n"
     ]
    }
   ],
   "execution_count": 17
  },
  {
   "metadata": {},
   "cell_type": "markdown",
   "source": [
    "#### (c)\n",
    "\n",
    "$$\n",
    "\\begin{aligned}\n",
    "  4x + 5y -  z &= 8 \\\\\n",
    "  3x + 2y + 7z &= 15 \\\\\n",
    "  6x - 7y - 2z &= 4\n",
    "\\end{aligned}\n",
    "$$"
   ],
   "id": "543ed8e71f099918"
  },
  {
   "metadata": {
    "ExecuteTime": {
     "end_time": "2025-07-07T04:05:49.804075Z",
     "start_time": "2025-07-07T04:05:49.792705Z"
    }
   },
   "cell_type": "code",
   "source": [
    "A = np.array([[4,  5, -1],\n",
    "              [3,  2,  7],\n",
    "              [6, -7, -2]])\n",
    "B = np.array([[ 8],\n",
    "              [15],\n",
    "              [ 4]])\n",
    "print(np.dot(np.linalg.inv(A), B))"
   ],
   "id": "7ed7a57c1985b99",
   "outputs": [
    {
     "name": "stdout",
     "output_type": "stream",
     "text": [
      "[[1.68433]\n",
      " [0.507726]\n",
      " [1.27594]]\n"
     ]
    }
   ],
   "execution_count": 18
  },
  {
   "metadata": {
    "ExecuteTime": {
     "end_time": "2025-07-07T04:05:49.832342Z",
     "start_time": "2025-07-07T04:05:49.829990Z"
    }
   },
   "cell_type": "code",
   "source": [
    "# Used in problems 11 and 12, below\n",
    "def rotational_array(degrees: float) -> np.ndarray:\n",
    "    \"\"\"\n",
    "    Converts degrees to radians and returns a 2D array\n",
    "    that can be used to rotate a matrix of 2d coordinates\n",
    "    \"\"\"\n",
    "    radians =  np.deg2rad(degrees)\n",
    "    return np.array([[np.cos(radians), np.sin(radians)],\n",
    "                     [-np.sin(radians), np.cos(radians)]])"
   ],
   "id": "b2321e2d7a3b4add",
   "outputs": [],
   "execution_count": 19
  },
  {
   "metadata": {},
   "cell_type": "markdown",
   "source": "### 11. A triangle with vertices $\\{(0,7), (7,0), (-3,-3)\\}$ is rotated 135 degress counter-clockwise about the origin.  What are its new coordinates?",
   "id": "76abec7592d31060"
  },
  {
   "metadata": {
    "ExecuteTime": {
     "end_time": "2025-07-07T04:05:49.851412Z",
     "start_time": "2025-07-07T04:05:49.849017Z"
    }
   },
   "cell_type": "code",
   "source": [
    "points = np.array([[0, 7], [7, 0], [-3, -3]])\n",
    "rot = rotational_array(135)\n",
    "print(np.dot(points, rot))"
   ],
   "id": "2b731f7b45d04c2c",
   "outputs": [
    {
     "name": "stdout",
     "output_type": "stream",
     "text": [
      "[[-4.94975 -4.94975]\n",
      " [-4.94975 4.94975]\n",
      " [4.24264 0]]\n"
     ]
    }
   ],
   "execution_count": 20
  },
  {
   "metadata": {
    "ExecuteTime": {
     "end_time": "2025-07-07T04:05:49.866993Z",
     "start_time": "2025-07-07T04:05:49.865224Z"
    }
   },
   "cell_type": "code",
   "source": "",
   "id": "dcfc95818affbcb9",
   "outputs": [],
   "execution_count": null
  },
  {
   "metadata": {},
   "cell_type": "markdown",
   "source": "### 12. A pentegon with vertices $\\{(2,2), (-2,2), (-2,-2), (0,-6), (2,-2)\\}$ is rotated 45 degrees clockwise about the origin.  What are its new coordinates.",
   "id": "bfd0340e60ab1e2c"
  },
  {
   "metadata": {
    "ExecuteTime": {
     "end_time": "2025-07-07T04:05:49.882155Z",
     "start_time": "2025-07-07T04:05:49.879813Z"
    }
   },
   "cell_type": "code",
   "source": [
    "points = np.array([[2, 2], [-2, 2], [-2, -2], [0, -6], [2, -2]])\n",
    "rot = rotational_array(-45) # negative sign because clockwise rotation\n",
    "print(np.dot(points, rot))"
   ],
   "id": "e0da199fca8e33a",
   "outputs": [
    {
     "name": "stdout",
     "output_type": "stream",
     "text": [
      "[[2.82843 0]\n",
      " [0 2.82843]\n",
      " [-2.82843 0]\n",
      " [-4.24264 -4.24264]\n",
      " [0 -2.82843]]\n"
     ]
    }
   ],
   "execution_count": 21
  },
  {
   "metadata": {
    "ExecuteTime": {
     "end_time": "2025-07-07T04:05:49.906585Z",
     "start_time": "2025-07-07T04:05:49.902563Z"
    }
   },
   "cell_type": "code",
   "source": [
    "def draw_polygon(points: np.ndarray, color_code: str = 'b'):\n",
    "    \"\"\"\n",
    "    Draw a polygon\n",
    "    \"\"\"\n",
    "    # Plot the points and connect them with lines\n",
    "    plt.figure(figsize=(4, 4))\n",
    "\n",
    "    # Extract x and y coordinates\n",
    "    x = points[:, 0]\n",
    "    y = points[:, 1]\n",
    "\n",
    "    # Plot the points\n",
    "    plt.plot(x, y, color_code+'o-')  # 'bo-' means blue color, circles for points, solid line\n",
    "\n",
    "    # Connect the last point back to the first point\n",
    "    plt.plot([x[-1], x[0]], [y[-1], y[0]], color_code+'-')  # 'b-' means blue color, solid line\n",
    "\n",
    "    # Set equal aspect ratio to preserve shape\n",
    "    plt.axis('equal')\n",
    "\n",
    "    # Add grid for better visualization\n",
    "    plt.grid(True)\n",
    "    plt.show()"
   ],
   "id": "6073b2ab7474f796",
   "outputs": [],
   "execution_count": 22
  },
  {
   "metadata": {},
   "cell_type": "markdown",
   "source": "### 13. Multiply the matrices $S$ and $SR$ of Example 3.10 on the right by the matrix $\\begin{pmatrix} 1 & 0 \\\\ 0 & -1 \\end{pmatrix}$ and apply the drawing algorithm to each of the two resulting polygons.   What, in general, do  you think happens when you multiply the vertices of a polygon by $\\begin{pmatrix} 1 & 0 \\\\ 0 & -1 \\end{pmatrix}$?",
   "id": "c749426fb0437976"
  },
  {
   "metadata": {
    "ExecuteTime": {
     "end_time": "2025-07-07T04:05:50.043680Z",
     "start_time": "2025-07-07T04:05:49.916899Z"
    }
   },
   "cell_type": "code",
   "source": [
    "S = np.array([[0, 0],\n",
    "              [0, 1],\n",
    "              [1, 1],\n",
    "              [1, 0]])\n",
    "R = np.array([[1/2, np.sqrt(3)/2],\n",
    "              [-np.sqrt(3)/2, 1/2]])\n",
    "SR = np.dot(S, R)\n",
    "REFLECTOR = np.array([[1,  0],\n",
    "                      [0, -1]])\n",
    "draw_polygon(S)\n",
    "draw_polygon(np.dot(S, REFLECTOR), 'r')\n",
    "draw_polygon(SR)\n",
    "draw_polygon(np.dot(SR, REFLECTOR), 'r')"
   ],
   "id": "4bcc2348c1ecbf8d",
   "outputs": [
    {
     "data": {
      "text/plain": [
       "<Figure size 400x400 with 1 Axes>"
      ],
      "image/png": "[encoded data removed]"
     },
     "metadata": {},
     "output_type": "display_data"
    },
    {
     "data": {
      "text/plain": [
       "<Figure size 400x400 with 1 Axes>"
      ],
      "image/png": "[encoded data removed]"
     },
     "metadata": {},
     "output_type": "display_data"
    },
    {
     "data": {
      "text/plain": [
       "<Figure size 400x400 with 1 Axes>"
      ],
      "image/png": "[encoded data removed]"
     },
     "metadata": {},
     "output_type": "display_data"
    },
    {
     "data": {
      "text/plain": [
       "<Figure size 400x400 with 1 Axes>"
      ],
      "image/png": "[encoded data removed]"
     },
     "metadata": {},
     "output_type": "display_data"
    }
   ],
   "execution_count": 23
  },
  {
   "metadata": {},
   "cell_type": "markdown",
   "source": "Multiplying by $\\begin{pmatrix} 1 & 0 \\\\ 0 & -1 \\end{pmatrix}$ \"flips\" or reflects the polygon across the horizontal axis.",
   "id": "8c36a2f5436a7c76"
  },
  {
   "metadata": {},
   "cell_type": "markdown",
   "source": "### 14. Repeat Problem #13 for the two matrices $P$ and $PQ$ of Example 3.11",
   "id": "a24fde8a01336538"
  },
  {
   "metadata": {
    "ExecuteTime": {
     "end_time": "2025-07-07T04:05:50.185935Z",
     "start_time": "2025-07-07T04:05:50.053722Z"
    }
   },
   "cell_type": "code",
   "source": [
    "P = np.array([[0,    1],\n",
    "              [0.75, 1.25],\n",
    "              [1,    0]])\n",
    "radians = np.pi / 6\n",
    "Q = np.array([[ np.cos(radians), np.sin(radians)],\n",
    "              [-np.sin(radians), np.cos(radians)]])\n",
    "PQ = np.dot(P, Q)\n",
    "draw_polygon(P)\n",
    "draw_polygon(np.dot(P, REFLECTOR), 'r')\n",
    "draw_polygon(PQ)\n",
    "draw_polygon(np.dot(PQ, REFLECTOR), 'r')"
   ],
   "id": "9a056af0b1d23f56",
   "outputs": [
    {
     "data": {
      "text/plain": [
       "<Figure size 400x400 with 1 Axes>"
      ],
      "image/png": "[encoded data removed]"
     },
     "metadata": {},
     "output_type": "display_data"
    },
    {
     "data": {
      "text/plain": [
       "<Figure size 400x400 with 1 Axes>"
      ],
      "image/png": "[encoded data removed]"
     },
     "metadata": {},
     "output_type": "display_data"
    },
    {
     "data": {
      "text/plain": [
       "<Figure size 400x400 with 1 Axes>"
      ],
      "image/png": "[encoded data removed]"
     },
     "metadata": {},
     "output_type": "display_data"
    },
    {
     "data": {
      "text/plain": [
       "<Figure size 400x400 with 1 Axes>"
      ],
      "image/png": "[encoded data removed]"
     },
     "metadata": {},
     "output_type": "display_data"
    }
   ],
   "execution_count": 24
  },
  {
   "metadata": {},
   "cell_type": "markdown",
   "source": "### 15. Argue geometrically that every matrix of the form $\\begin{pmatrix} cos(\\theta) & sin(\\theta) \\\\ -sin(\\theta) & cos(\\theta) \\end{pmatrix}$ has a multiplicative inverse.  Can you determine the inverse of $\\begin{pmatrix} cos(\\theta) & sin(\\theta) \\\\ -sin(\\theta) & cos(\\theta) \\end{pmatrix}$ by a geometrical argument?",
   "id": "860ce1163f842e1d"
  },
  {
   "metadata": {},
   "cell_type": "markdown",
   "source": "As we have seen matrices in this form used as a transform rotate a polygon by $\\theta$ radians counter-clockwise.  A matrix that rotates a polygon by the same amount in the clockwise direction would undo the transformation.  This effectively would be the same as transforming the original polygon with the matrix $\\begin{pmatrix} 1 & 0 \\\\ 0 & 1 \\end{pmatrix}$ , or the identity matrix.  As we showed above, in Problem #12, the clockwise rotation matrix for $\\theta$ radians is $\\begin{pmatrix} cos(-\\theta) & sin(-\\theta) \\\\ -sin(-\\theta) & cos(-\\theta) \\end{pmatrix}$",
   "id": "f3c92bf86c476383"
  },
  {
   "metadata": {
    "ExecuteTime": {
     "end_time": "2025-07-07T04:05:50.196580Z",
     "start_time": "2025-07-07T04:05:50.195309Z"
    }
   },
   "cell_type": "code",
   "source": "",
   "id": "16de7ddc333c4f4c",
   "outputs": [],
   "execution_count": null
  }
 ],
 "metadata": {
  "kernelspec": {
   "display_name": "Python 3",
   "language": "python",
   "name": "python3"
  },
  "language_info": {
   "codemirror_mode": {
    "name": "ipython",
    "version": 2
   },
   "file_extension": ".py",
   "mimetype": "text/x-python",
   "name": "python",
   "nbconvert_exporter": "python",
   "pygments_lexer": "ipython2",
   "version": "2.7.6"
  }
 },
 "nbformat": 4,
 "nbformat_minor": 5
}
