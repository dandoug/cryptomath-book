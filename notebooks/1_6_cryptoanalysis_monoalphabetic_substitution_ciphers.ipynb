{
 "cells": [
  {
   "metadata": {},
   "cell_type": "markdown",
   "source": "# 1.6 Cryptoanalysis of Monoalphabetic Substitution Ciphers",
   "id": "efaa6ea614300b09"
  },
  {
   "metadata": {
    "ExecuteTime": {
     "end_time": "2025-06-06T22:05:12.676461Z",
     "start_time": "2025-06-06T22:05:12.602888Z"
    }
   },
   "cell_type": "code",
   "source": [
    "%%capture\n",
    "%run ./1_5_simple_ciphers.ipynb"
   ],
   "id": "1c1b87d52306d1ff",
   "outputs": [],
   "execution_count": 1
  },
  {
   "metadata": {
    "ExecuteTime": {
     "end_time": "2025-06-06T22:05:12.753147Z",
     "start_time": "2025-06-06T22:05:12.751593Z"
    }
   },
   "cell_type": "code",
   "source": "from src.helpers import display_fequency_tables, reverse_mult_key, reverse_add_key, mod_26, build_guesses",
   "id": "4437d8b5de80e57b",
   "outputs": [],
   "execution_count": 2
  },
  {
   "metadata": {},
   "cell_type": "markdown",
   "source": "## Exercises 1.6\n",
   "id": "5df9c6bf6386aae0"
  },
  {
   "metadata": {},
   "cell_type": "markdown",
   "source": "Some lists and utility classes to simplify the ciphertext cracking below.  Helper functions are in [helpers.py](https://github.com/dandoug/cryptomath-book/blob/main/src/helpers.py).",
   "id": "6171dbaca7362653"
  },
  {
   "metadata": {
    "ExecuteTime": {
     "end_time": "2025-06-06T22:05:12.762212Z",
     "start_time": "2025-06-06T22:05:12.760648Z"
    }
   },
   "cell_type": "code",
   "source": [
    "# top occurring letters and digraphs in English plaintext, used to construct guesses below\n",
    "top_digraphs = ['th', 'er', 'on', 'an', 're', 'he', 'in', 'ed', 'en', 'nd']\n",
    "top_letters = ['e', 't', 'a', 'o', 'i', 'n', 's', 'h']"
   ],
   "id": "3bdc1f82f83a9c58",
   "outputs": [],
   "execution_count": 3
  },
  {
   "metadata": {
    "ExecuteTime": {
     "end_time": "2025-06-06T22:05:12.772113Z",
     "start_time": "2025-06-06T22:05:12.770059Z"
    }
   },
   "cell_type": "code",
   "source": [
    "class CrackAdditiveCipher(AdditiveCipher):\n",
    "    \"\"\"\n",
    "    A CrackAdditiveCipher is a subclass of AdditiveCipher that takes a tuple of two\n",
    "    characters as the \"key\".  These are assumed to be a plaintext letter and the\n",
    "    corresponding ciphertext character, example ('e', 'Z')\n",
    "    In an AdditiveCipher, the key can be computed from that information.\n",
    "    \"\"\"\n",
    "    def __init__(self, tuple_guess: tuple[str, str]):\n",
    "        add_key = reverse_add_key(plain_char=tuple_guess[0], cipher_char=tuple_guess[1])\n",
    "        super().__init__(add_key=add_key)\n",
    "\n",
    "    def key(self) -> int:\n",
    "        return self._add_key\n"
   ],
   "id": "5e1a0adc9f01d28",
   "outputs": [],
   "execution_count": 4
  },
  {
   "metadata": {
    "ExecuteTime": {
     "end_time": "2025-06-06T22:05:12.778468Z",
     "start_time": "2025-06-06T22:05:12.776650Z"
    }
   },
   "cell_type": "code",
   "source": [
    "class CrackMultiplicativeCipher(MultiplicativeCipher):\n",
    "    \"\"\"\n",
    "    A CrackMultiplicativeCipher is a subclass of MultiplicativeCipher that takes a tuple of two\n",
    "    characters as the \"key\".  These are assumed to be a plaintext letter and the\n",
    "    corresponding ciphertext character, example ('e', 'Z')\n",
    "    In an MultiplicativeCipher, the key can be computed from that information.\n",
    "    \"\"\"\n",
    "    def __init__(self, tuple_guess: tuple[str, str]):\n",
    "        \"\"\"\n",
    "        :raise ValueError if no key can be found.\n",
    "        \"\"\"\n",
    "        mult_key = reverse_mult_key(plain_char=tuple_guess[0], cipher_char=tuple_guess[1])\n",
    "        super().__init__(mult_key=mult_key)\n",
    "\n",
    "    def key(self) -> int:\n",
    "        return self._mult_key"
   ],
   "id": "4750c5b64acbca48",
   "outputs": [],
   "execution_count": 5
  },
  {
   "metadata": {
    "ExecuteTime": {
     "end_time": "2025-06-06T22:05:12.785346Z",
     "start_time": "2025-06-06T22:05:12.783116Z"
    }
   },
   "cell_type": "code",
   "source": [
    "class CrackAffineCipher(AffineCipher):\n",
    "    \"\"\"\n",
    "    A CrackAffineCipher is a subclass of AffineCipher that takes two tuples of (plaintext letter, ciphertext letter) pairs\n",
    "    and solves for the multiplicative and additive keys necessary to produce the given characters if a solution exists.\n",
    "    \"\"\"\n",
    "    def __init__(self, tuple_guesses: tuple[tuple[str, str], tuple[str, str]]):\n",
    "        \"\"\"\n",
    "        :param tuple_guesses: example (('e', 'Z'), ('t', 'J'))\n",
    "        :raise ValueError if no keys can be found for the given guesses.\n",
    "        \"\"\"\n",
    "        p1 = pos(tuple_guesses[0][0])\n",
    "        c1 = pos(tuple_guesses[0][1])\n",
    "        p2 = pos(tuple_guesses[1][0])\n",
    "        c2 = pos(tuple_guesses[1][1])\n",
    "        mult_key = mod_26((c1 - c2) * inv_26(mod_26(p1 - p2)))\n",
    "        add_key = mod_26((c1 - mult_key * p1) * inv_26(mult_key))\n",
    "        super().__init__(mult_key=mult_key, add_key=add_key)\n",
    "\n",
    "    def mult_key(self) -> int:\n",
    "        return self._mult_key\n",
    "    def add_key(self) -> int:\n",
    "        return self._add_key"
   ],
   "id": "a4ba88891fa1e97d",
   "outputs": [],
   "execution_count": 6
  },
  {
   "metadata": {},
   "cell_type": "markdown",
   "source": "Question 7. done first so that the frequency analsysis program will be available to use with the other problems.\n",
   "id": "226b6f0da56ae13e"
  },
  {
   "metadata": {},
   "cell_type": "markdown",
   "source": "### 7. Write a program that accepts a text message and outputs the frequency of each letter appearing in the message.",
   "id": "f0670a984eef5da6"
  },
  {
   "metadata": {
    "ExecuteTime": {
     "end_time": "2025-06-06T22:05:12.793374Z",
     "start_time": "2025-06-06T22:05:12.789883Z"
    }
   },
   "cell_type": "code",
   "source": [
    "def frequency_tabulator(message: str) -> tuple[ dict[str, int], dict[str, int], dict[str, int] ]:\n",
    "    \"\"\"\n",
    "    Given a message, return the feequency of each letter appearing in the message, each\n",
    "    diagraph and each trigraph.\n",
    "    \"\"\"\n",
    "    letter_counts: dict[str, int] = {}\n",
    "    diagram_counts: dict[str, int] = {}\n",
    "    trigraph_counts: dict[str, int] = {}\n",
    "    current_digraph = current_trigraph = ''\n",
    "    message = strip_text(message)\n",
    "    for c in message:\n",
    "        current_letter = c\n",
    "        current_digraph = (current_digraph + c)[-2:]\n",
    "        current_trigraph = (current_trigraph + c)[-3:]\n",
    "        letter_counts[current_letter] = letter_counts.get(current_letter, 0) + 1\n",
    "        if len(current_digraph) == 2:\n",
    "            diagram_counts[current_digraph] = diagram_counts.get(current_digraph, 0) + 1\n",
    "        if len(current_trigraph) == 3:\n",
    "            trigraph_counts[current_trigraph] = trigraph_counts.get(current_trigraph, 0) + 1\n",
    "    return (\n",
    "        dict(sorted(letter_counts.items(), key=lambda item: item[1], reverse=True)),\n",
    "        dict(sorted(diagram_counts.items(), key=lambda item: item[1], reverse=True)),\n",
    "        dict(sorted(trigraph_counts.items(), key=lambda item: item[1], reverse=True)))"
   ],
   "id": "6cef610329d10bd2",
   "outputs": [],
   "execution_count": 7
  },
  {
   "metadata": {},
   "cell_type": "markdown",
   "source": "### 1. Decipher the following message.",
   "id": "b7218de2af8e8f3c"
  },
  {
   "metadata": {
    "ExecuteTime": {
     "end_time": "2025-06-06T22:05:12.799180Z",
     "start_time": "2025-06-06T22:05:12.797738Z"
    }
   },
   "cell_type": "code",
   "source": [
    "msg1 = (\n",
    "    \"KFM YGV VEM VHK AWK YZK FWG RKF MSJ JZG XOJ MEM DJZ MAM SCJ \" +\n",
    "    \"GKF EJK TSF GJI STM ZSW MKF MEJ KBS XGJ SFH PMJ JIK FME JKR MSZ\"\n",
    ")"
   ],
   "id": "83f80634f329ae41",
   "outputs": [],
   "execution_count": 8
  },
  {
   "metadata": {
    "ExecuteTime": {
     "end_time": "2025-06-06T22:05:12.805841Z",
     "start_time": "2025-06-06T22:05:12.803986Z"
    }
   },
   "cell_type": "code",
   "source": [
    "letters, digraphs, trigraphs = frequency_tabulator(msg1)\n",
    "display_fequency_tables(letters, digraphs, trigraphs)"
   ],
   "id": "50219869510301b3",
   "outputs": [
    {
     "data": {
      "text/plain": [
       "<IPython.core.display.Math object>"
      ],
      "text/latex": "$\\displaystyle \\begin{array}[t]{ccc}\n\\begin{array}{c|c}\n\\text{Letter} & \\text{Frequency} \\\\\n\\hline\nM & 13 \\\\\nJ & 12 \\\\\nK & 11 \\\\\nF & 8 \\\\\nS & 8 \\\\\nG & 6 \\\\\nE & 5 \\\\\nZ & 5 \\\\\nV & 3 \\\\\nW & 3 \\\\\nY & 2 \\\\\nH & 2 \\\\\nA & 2 \\\\\nR & 2 \\\\\nX & 2 \\\\\nT & 2 \\\\\nI & 2 \\\\\nO & 1 \\\\\nD & 1 \\\\\nC & 1 \\\\\nB & 1 \\\\\nP & 1 \\\\\n\\end{array} \\quad \\quad & \\begin{array}{c|c}\n\\text{Digraph} & \\text{Frequency} \\\\\n\\hline\nKF & 6 \\\\\nFM & 4 \\\\\nMS & 3 \\\\\nME & 3 \\\\\nEJ & 3 \\\\\nJK & 3 \\\\\nEM & 2 \\\\\nJJ & 2 \\\\\nJZ & 2 \\\\\nSF & 2 \\\\\nGJ & 2 \\\\\nJI & 2 \\\\\n\\end{array} \\quad \\quad & \\begin{array}{c|c}\n\\text{Trigraph} & \\text{Frequency} \\\\\n\\hline\nKFM & 4 \\\\\nEJK & 3 \\\\\nFME & 2 \\\\\nMEJ & 2 \\\\\n\\end{array}\n\\end{array}$"
     },
     "metadata": {},
     "output_type": "display_data"
    }
   ],
   "execution_count": 9
  },
  {
   "metadata": {},
   "cell_type": "markdown",
   "source": "First, try the top additive ciphers that might make sense by taking to top 4 occurring ciphertext letters and pairing them with the top occurring plaintext letters.",
   "id": "adf8641e8f706614"
  },
  {
   "metadata": {
    "ExecuteTime": {
     "end_time": "2025-06-06T22:05:12.814960Z",
     "start_time": "2025-06-06T22:05:12.812760Z"
    }
   },
   "cell_type": "code",
   "source": [
    "# Build a set of single letter guesses and the top 4 occurring ciphertext letters\n",
    "guesses = build_guesses(top_letters, list(letters.keys())[:4])"
   ],
   "id": "4dd33502d4ea8fc1",
   "outputs": [],
   "execution_count": 10
  },
  {
   "metadata": {
    "ExecuteTime": {
     "end_time": "2025-06-06T22:05:12.825376Z",
     "start_time": "2025-06-06T22:05:12.821983Z"
    }
   },
   "cell_type": "code",
   "source": [
    "for guess in guesses:\n",
    "    crack = CrackAdditiveCipher(guess)\n",
    "    print(f\"\\nTrying an additive cipher derived from guess={guess} with key={crack.key()}\")\n",
    "    plaintext = crack.decrypt(msg1)\n",
    "    print(format_plaintext(plaintext))"
   ],
   "id": "44eb725434e9ee8f",
   "outputs": [
    {
     "name": "stdout",
     "output_type": "stream",
     "text": [
      "\n",
      "Trying an additive cipher derived from guess=('e', 'M') with key=8\n",
      "cxeqynnwenzcsocqrcxoyjcxekbbrypgbewevbresekubycxwbclkxybakle\n",
      "rkoecxewbctkpybkxzhebbacxewbcjekr\n",
      "\n",
      "Trying an additive cipher derived from guess=('e', 'J') with key=5\n",
      "fahtbqqzhqcfvrftufarbmfahneeubsjehzhyeuhvhnxebfazefonabednoh\n",
      "unrhfahzefwnsbenackheedfahzefmhnu\n",
      "\n",
      "Trying an additive cipher derived from guess=('e', 'K') with key=6\n",
      "ezgsappygpbeuqestezqalezgmddtaridgygxdtgugmwdaezydenmzadcmng\n",
      "tmqgezgydevmradmzbjgddcezgydelgmt\n",
      "\n",
      "Trying an additive cipher derived from guess=('e', 'F') with key=1\n",
      "jelxfuudlugjzvjxyjevfqjelriiyfwnildlciylzlrbifjedijsrefihrsl\n",
      "yrvljeldijarwfiregoliihjeldijqlry\n",
      "\n",
      "Trying an additive cipher derived from guess=('t', 'M') with key=19\n",
      "rmtfnccltcorhdrfgrmdnyrmtzqqgnevqtltkqgthtzjqnrmlqrazmnqpzat\n",
      "gzdtrmtlqrizenqzmowtqqprmtlqrytzg\n",
      "\n",
      "Trying an additive cipher derived from guess=('t', 'J') with key=16\n",
      "upwiqffowfrukguijupgqbupwcttjqhytwowntjwkwcmtqupotudcpqtscdw\n",
      "jcgwupwotulchqtcprzwttsupwotubwcj\n",
      "\n",
      "Trying an additive cipher derived from guess=('t', 'K') with key=17\n",
      "tovhpeenveqtjfthitofpatovbssipgxsvnvmsivjvblsptonstcbopsrbcv\n",
      "ibfvtovnstkbgpsboqyvssrtovnstavbi\n",
      "\n",
      "Trying an additive cipher derived from guess=('t', 'F') with key=12\n",
      "ytamujjsajvyokymnytkufytagxxnulcxasarxnaoagqxuytsxyhgtuxwgha\n",
      "ngkaytasxypgluxgtvdaxxwytasxyfagn\n",
      "\n",
      "Trying an additive cipher derived from guess=('a', 'M') with key=12\n",
      "ytamujjsajvyokymnytkufytagxxnulcxasarxnaoagqxuytsxyhgtuxwgha\n",
      "ngkaytasxypgluxgtvdaxxwytasxyfagn\n",
      "\n",
      "Trying an additive cipher derived from guess=('a', 'J') with key=9\n",
      "bwdpxmmvdmybrnbpqbwnxibwdjaaqxofadvduaqdrdjtaxbwvabkjwxazjkd\n",
      "qjndbwdvabsjoxajwygdaazbwdvabidjq\n",
      "\n",
      "Trying an additive cipher derived from guess=('a', 'K') with key=10\n",
      "avcowlluclxaqmaopavmwhavcizzpwnezcuctzpcqciszwavuzajivwzyijc\n",
      "pimcavcuzarinwzivxfczzyavcuzahcip\n",
      "\n",
      "Trying an additive cipher derived from guess=('a', 'F') with key=5\n",
      "fahtbqqzhqcfvrftufarbmfahneeubsjehzhyeuhvhnxebfazefonabednoh\n",
      "unrhfahzefwnsbenackheedfahzefmhnu\n",
      "\n",
      "Trying an additive cipher derived from guess=('o', 'M') with key=24\n",
      "mhoaixxgoxjmcymabmhyitmhoullbizqlogoflbocouelimhglmvuhilkuvo\n",
      "buyomhoglmduziluhjrollkmhoglmtoub\n",
      "\n",
      "Trying an additive cipher derived from guess=('o', 'J') with key=21\n",
      "pkrdlaajrampfbpdepkblwpkrxooelctorjrioerfrxholpkjopyxklonxyr\n",
      "exbrpkrjopgxcloxkmuroonpkrjopwrxe\n",
      "\n",
      "Trying an additive cipher derived from guess=('o', 'K') with key=22\n",
      "ojqckzziqzloeaocdojakvojqwnndkbsnqiqhndqeqwgnkojinoxwjknmwxq\n",
      "dwaqojqinofwbknwjltqnnmojqinovqwd\n",
      "\n",
      "Trying an additive cipher derived from guess=('o', 'F') with key=17\n",
      "tovhpeenveqtjfthitofpatovbssipgxsvnvmsivjvblsptonstcbopsrbcv\n",
      "ibfvtovnstkbgpsboqyvssrtovnstavbi\n",
      "\n",
      "Trying an additive cipher derived from guess=('i', 'M') with key=4\n",
      "gbiucrrairdgwsguvgbscngbioffvctkfiaizfviwioyfcgbafgpobcfeopi\n",
      "vosigbiafgxotcfobdliffegbiafgniov\n",
      "\n",
      "Trying an additive cipher derived from guess=('i', 'J') with key=1\n",
      "jelxfuudlugjzvjxyjevfqjelriiyfwnildlciylzlrbifjedijsrefihrsl\n",
      "yrvljeldijarwfiregoliihjeldijqlry\n",
      "\n",
      "Trying an additive cipher derived from guess=('i', 'K') with key=2\n",
      "idkwettcktfiyuiwxiduepidkqhhxevmhkckbhxkykqaheidchirqdehgqrk\n",
      "xqukidkchizqvehqdfnkhhgidkchipkqx\n",
      "\n",
      "Trying an additive cipher derived from guess=('i', 'F') with key=23\n",
      "nipbjyyhpykndznbcnizjunipvmmcjarmphpgmcpdpvfmjnihmnwvijmlvwp\n",
      "cvzpniphmnevajmvikspmmlniphmnupvc\n",
      "\n",
      "Trying an additive cipher derived from guess=('n', 'M') with key=25\n",
      "lgnzhwwfnwilbxlzalgxhslgntkkahypknfnekanbntdkhlgfklutghkjtun\n",
      "atxnlgnfklctyhktgiqnkkjlgnfklsnta\n",
      "\n",
      "Trying an additive cipher derived from guess=('n', 'J') with key=22\n",
      "ojqckzziqzloeaocdojakvojqwnndkbsnqiqhndqeqwgnkojinoxwjknmwxq\n",
      "dwaqojqinofwbknwjltqnnmojqinovqwd\n",
      "\n",
      "Trying an additive cipher derived from guess=('n', 'K') with key=23\n",
      "nipbjyyhpykndznbcnizjunipvmmcjarmphpgmcpdpvfmjnihmnwvijmlvwp\n",
      "cvzpniphmnevajmvikspmmlniphmnupvc\n",
      "\n",
      "Trying an additive cipher derived from guess=('n', 'F') with key=18\n",
      "snugoddmudpsiesghsneozsnuarrhofwrumulrhuiuakrosnmrsbanorqabu\n",
      "haeusnumrsjaforanpxurrqsnumrszuah\n",
      "\n",
      "Trying an additive cipher derived from guess=('s', 'M') with key=20\n",
      "qlsembbksbnqgcqefqlcmxqlsyppfmdupsksjpfsgsyipmqlkpqzylmpoyzs\n",
      "fycsqlskpqhydmpylnvsppoqlskpqxsyf\n",
      "\n",
      "Trying an additive cipher derived from guess=('s', 'J') with key=17\n",
      "tovhpeenveqtjfthitofpatovbssipgxsvnvmsivjvblsptonstcbopsrbcv\n",
      "ibfvtovnstkbgpsboqyvssrtovnstavbi\n",
      "\n",
      "Trying an additive cipher derived from guess=('s', 'K') with key=18\n",
      "snugoddmudpsiesghsneozsnuarrhofwrumulrhuiuakrosnmrsbanorqabu\n",
      "haeusnumrsjaforanpxurrqsnumrszuah\n",
      "\n",
      "Trying an additive cipher derived from guess=('s', 'F') with key=13\n",
      "xszltiirziuxnjxlmxsjtexszfwwmtkbwzrzqwmznzfpwtxsrwxgfstwvfgz\n",
      "mfjzxszrwxofktwfsuczwwvxszrwxezfm\n",
      "\n",
      "Trying an additive cipher derived from guess=('h', 'M') with key=5\n",
      "fahtbqqzhqcfvrftufarbmfahneeubsjehzhyeuhvhnxebfazefonabednoh\n",
      "unrhfahzefwnsbenackheedfahzefmhnu\n",
      "\n",
      "Trying an additive cipher derived from guess=('h', 'J') with key=2\n",
      "idkwettcktfiyuiwxiduepidkqhhxevmhkckbhxkykqaheidchirqdehgqrk\n",
      "xqukidkchizqvehqdfnkhhgidkchipkqx\n",
      "\n",
      "Trying an additive cipher derived from guess=('h', 'K') with key=3\n",
      "hcjvdssbjsehxthvwhctdohcjpggwdulgjbjagwjxjpzgdhcbghqpcdgfpqj\n",
      "wptjhcjbghypudgpcemjggfhcjbghojpw\n",
      "\n",
      "Trying an additive cipher derived from guess=('h', 'F') with key=24\n",
      "mhoaixxgoxjmcymabmhyitmhoullbizqlogoflbocouelimhglmvuhilkuvo\n",
      "buyomhoglmduziluhjrollkmhoglmtoub\n"
     ]
    }
   ],
   "execution_count": 11
  },
  {
   "metadata": {},
   "cell_type": "markdown",
   "source": "Those didn't work.  Let's see if any of those guesses make a good multiplicative cipher.",
   "id": "597a64938aa997be"
  },
  {
   "metadata": {
    "ExecuteTime": {
     "end_time": "2025-06-06T22:05:12.833424Z",
     "start_time": "2025-06-06T22:05:12.830671Z"
    }
   },
   "cell_type": "code",
   "source": [
    "for guess in guesses:\n",
    "    try:\n",
    "        crack = CrackMultiplicativeCipher(guess)\n",
    "        print(f\"\\nTrying an multiplicative cipher derived from guess={guess} with key={crack.key()}\")\n",
    "        plaintext = crack.decrypt(msg1)\n",
    "        print(format_plaintext(plaintext))\n",
    "    except ValueError:\n",
    "        print(f\"\\nGuess: {guess} is not valid for multiplicative key\")"
   ],
   "id": "3fb0aba39f4f0017",
   "outputs": [
    {
     "name": "stdout",
     "output_type": "stream",
     "text": [
      "\n",
      "Guess: ('e', 'M') is not valid for multiplicative key\n",
      "\n",
      "Guess: ('e', 'J') is not valid for multiplicative key\n",
      "\n",
      "Trying an multiplicative cipher derived from guess=('e', 'K') with key=23\n",
      "exmiojjgmjfeqaeizexaotexmknnzorunmgmpnzmqmkynoexgnebkxonwkbm\n",
      "zkamexmgnehkronkxflmnnwexmgnetmkz\n",
      "\n",
      "Guess: ('e', 'F') is not valid for multiplicative key\n",
      "\n",
      "Guess: ('t', 'M') is not valid for multiplicative key\n",
      "\n",
      "Trying an multiplicative cipher derived from guess=('t', 'J') with key=7\n",
      "ilmkarrwmrpiogikzilgajilmyttzavqtmwmhtzmomystailwtinylateynm\n",
      "zygmilmwtidyvatylpfmtteilmwtijmyz\n",
      "\n",
      "Guess: ('t', 'K') is not valid for multiplicative key\n",
      "\n",
      "Trying an multiplicative cipher derived from guess=('t', 'F') with key=25\n",
      "otmasddumdroycoazotcshotmgppzsbkpmumvpzmymgwpsotupofgtspqgfm\n",
      "zgcmotmupoxgbspgtrjmppqotmupohmgz\n",
      "\n",
      "Guess: ('a', 'M') is not valid for multiplicative key\n",
      "\n",
      "Guess: ('a', 'J') is not valid for multiplicative key\n",
      "\n",
      "Trying an multiplicative cipher derived from guess=('a', 'K') with key=11\n",
      "ajmgcbbqmbvasuagzajucdajmwhhzcnyhmqmxhzmsmwehcajqhapwjchowpm\n",
      "zwumajmqhalwnchwjvrmhhoajmqhadmwz\n",
      "\n",
      "Guess: ('a', 'F') is not valid for multiplicative key\n",
      "\n",
      "Guess: ('o', 'M') is not valid for multiplicative key\n",
      "\n",
      "Guess: ('o', 'J') is not valid for multiplicative key\n",
      "\n",
      "Trying an multiplicative cipher derived from guess=('o', 'K') with key=25\n",
      "otmasddumdroycoazotcshotmgppzsbkpmumvpzmymgwpsotupofgtspqgfm\n",
      "zgcmotmupoxgbspgtrjmppqotmupohmgz\n",
      "\n",
      "Guess: ('o', 'F') is not valid for multiplicative key\n",
      "\n",
      "Guess: ('i', 'M') is not valid for multiplicative key\n",
      "\n",
      "Guess: ('i', 'J') is not valid for multiplicative key\n",
      "\n",
      "Trying an multiplicative cipher derived from guess=('i', 'K') with key=7\n",
      "ilmkarrwmrpiogikzilgajilmyttzavqtmwmhtzmomystailwtinylateynm\n",
      "zygmilmwtidyvatylpfmtteilmwtijmyz\n",
      "\n",
      "Guess: ('i', 'F') is not valid for multiplicative key\n",
      "\n",
      "Guess: ('n', 'M') is not valid for multiplicative key\n",
      "\n",
      "Trying an multiplicative cipher derived from guess=('n', 'J') with key=23\n",
      "exmiojjgmjfeqaeizexaotexmknnzorunmgmpnzmqmkynoexgnebkxonwkbm\n",
      "zkamexmgnehkronkxflmnnwexmgnetmkz\n",
      "\n",
      "Guess: ('n', 'K') is not valid for multiplicative key\n",
      "\n",
      "Trying an multiplicative cipher derived from guess=('n', 'F') with key=19\n",
      "qnmoyhhcmhjqksqozqnsypqnmaffzydifmcmrfzmkmagfyqncfqlanyfualm\n",
      "zasmqnmcfqvadyfanjtmffuqnmcfqpmaz\n",
      "\n",
      "Guess: ('s', 'M') is not valid for multiplicative key\n",
      "\n",
      "Guess: ('s', 'J') is not valid for multiplicative key\n",
      "\n",
      "Trying an multiplicative cipher derived from guess=('s', 'K') with key=17\n",
      "shmcellkmlbswisczshiexshmuvvzefgvmkmnvzmwmuqveshkvsruhevyurm\n",
      "zuimshmkvstufevuhbdmvvyshmkvsxmuz\n",
      "\n",
      "Guess: ('s', 'F') is not valid for multiplicative key\n",
      "\n",
      "Guess: ('h', 'M') is not valid for multiplicative key\n",
      "\n",
      "Trying an multiplicative cipher derived from guess=('h', 'J') with key=11\n",
      "ajmgcbbqmbvasuagzajucdajmwhhzcnyhmqmxhzmsmwehcajqhapwjchowpm\n",
      "zwumajmqhalwnchwjvrmhhoajmqhadmwz\n",
      "\n",
      "Guess: ('h', 'K') is not valid for multiplicative key\n",
      "\n",
      "Trying an multiplicative cipher derived from guess=('h', 'F') with key=17\n",
      "shmcellkmlbswisczshiexshmuvvzefgvmkmnvzmwmuqveshkvsruhevyurm\n",
      "zuimshmkvstufevuhbdmvvyshmkvsxmuz\n"
     ]
    }
   ],
   "execution_count": 12
  },
  {
   "metadata": {},
   "cell_type": "markdown",
   "source": "So, none of those choices for additive or multiplicative ciphers yielded results.  Let's try affine ciphers with the top digraphs.",
   "id": "a050068fb23aaa5d"
  },
  {
   "metadata": {
    "ExecuteTime": {
     "end_time": "2025-06-06T22:05:12.842431Z",
     "start_time": "2025-06-06T22:05:12.839655Z"
    }
   },
   "cell_type": "code",
   "source": [
    "guesses = build_guesses(top_digraphs, list(digraphs.keys())[:4])\n",
    "for guess in guesses:\n",
    "    try:\n",
    "        crack = CrackAffineCipher(guess)\n",
    "        print(f\"\\nTrying possible solution {guess}: mult_key:{crack.mult_key()}  add_key:{crack.add_key()}\")\n",
    "        plaintext = crack.decrypt(msg1)\n",
    "        print(format_plaintext(plaintext))\n",
    "    except ValueError:\n",
    "        print(f\"\\n{guess} not a possible solution\")\n"
   ],
   "id": "5c217d13a4669a73",
   "outputs": [
    {
     "name": "stdout",
     "output_type": "stream",
     "text": [
      "\n",
      "(('t', 'K'), ('h', 'F')) not a possible solution\n",
      "\n",
      "(('t', 'F'), ('h', 'M')) not a possible solution\n",
      "\n",
      "(('t', 'M'), ('h', 'S')) not a possible solution\n",
      "\n",
      "(('t', 'M'), ('h', 'E')) not a possible solution\n",
      "\n",
      "(('e', 'K'), ('r', 'F')) not a possible solution\n",
      "\n",
      "(('e', 'F'), ('r', 'M')) not a possible solution\n",
      "\n",
      "(('e', 'M'), ('r', 'S')) not a possible solution\n",
      "\n",
      "(('e', 'M'), ('r', 'E')) not a possible solution\n",
      "\n",
      "Trying possible solution (('o', 'K'), ('n', 'F')): mult_key:5  add_key:8\n",
      "onewillseldomgowrongifoneattributesextremeactionstovanityave\n",
      "rageonestohabitandpettyonestofear\n",
      "\n",
      "Trying possible solution (('o', 'F'), ('n', 'M')): mult_key:19  add_key:25\n",
      "ronpziidnikrltrparotzqronbggazejgndnsganlnbhgzrodgrmbozgvbmn\n",
      "abtnrondgrwbezgbokunggvrondgrqnba\n",
      "\n",
      "(('o', 'M'), ('n', 'S')) not a possible solution\n",
      "\n",
      "(('o', 'M'), ('n', 'E')) not a possible solution\n",
      "\n",
      "(('a', 'K'), ('n', 'F')) not a possible solution\n",
      "\n",
      "(('a', 'F'), ('n', 'M')) not a possible solution\n",
      "\n",
      "(('a', 'M'), ('n', 'S')) not a possible solution\n",
      "\n",
      "(('a', 'M'), ('n', 'E')) not a possible solution\n",
      "\n",
      "(('r', 'K'), ('e', 'F')) not a possible solution\n",
      "\n",
      "(('r', 'F'), ('e', 'M')) not a possible solution\n",
      "\n",
      "(('r', 'M'), ('e', 'S')) not a possible solution\n",
      "\n",
      "(('r', 'M'), ('e', 'E')) not a possible solution\n",
      "\n",
      "Trying possible solution (('h', 'K'), ('e', 'F')): mult_key:19  add_key:9\n",
      "hedfpyytdyahbjhfqhejpghedrwwqpuzwdtdiwqdbdrxwphetwhcrepwlrcd\n",
      "qrjdhedtwhmrupwreakdwwlhedtwhgdrq\n",
      "\n",
      "Trying possible solution (('h', 'F'), ('e', 'M')): mult_key:15  add_key:8\n",
      "qhekoppaepvqywqkrqhwonqheujjrodsjeaetjreyeumjoqhajqbuhojcube\n",
      "ruweqheajqfudojuhvzejjcqheajqneur\n",
      "\n",
      "(('h', 'M'), ('e', 'S')) not a possible solution\n",
      "\n",
      "(('h', 'M'), ('e', 'E')) not a possible solution\n",
      "\n",
      "Trying possible solution (('i', 'K'), ('n', 'F')): mult_key:25  add_key:6\n",
      "ingumxxogxliswiutinwmbingajjtmvejgogpjtgsgaqjminojizanmjkazg\n",
      "tawgingojiravmjanldgjjkingojibgat\n",
      "\n",
      "Trying possible solution (('i', 'F'), ('n', 'M')): mult_key:17  add_key:25\n",
      "tindfmmlnmctxjtdatijfytinvwwafghwnlnowanxnvrwftilwtsvifwzvsn\n",
      "avjntinlwtuvgfwvicenwwztinlwtynva\n",
      "\n",
      "(('i', 'M'), ('n', 'S')) not a possible solution\n",
      "\n",
      "(('i', 'M'), ('n', 'E')) not a possible solution\n",
      "\n",
      "Trying possible solution (('e', 'K'), ('d', 'F')): mult_key:5  add_key:18\n",
      "edumybbiubtecwemhedwyveduqjjhyrkjuiunjhucuqsjyedijelqdyjoqlu\n",
      "hqwueduijexqryjqdtfujjoeduijevuqh\n",
      "\n",
      "Trying possible solution (('e', 'F'), ('d', 'M')): mult_key:19  add_key:9\n",
      "hedfpyytdyahbjhfqhejpghedrwwqpuzwdtdiwqdbdrxwphetwhcrepwlrcd\n",
      "qrjdhedtwhmrupwreakdwwlhedtwhgdrq\n",
      "\n",
      "(('e', 'M'), ('d', 'S')) not a possible solution\n",
      "\n",
      "(('e', 'M'), ('d', 'E')) not a possible solution\n",
      "\n",
      "Trying possible solution (('e', 'K'), ('n', 'F')): mult_key:11  add_key:22\n",
      "enqkgffuqfzewyekdenyghenqalldgrclquqbldqwqailgenuletanglsatq\n",
      "dayqenquleparglanzvqllsenqulehqad\n",
      "\n",
      "Trying possible solution (('e', 'F'), ('n', 'M')): mult_key:21  add_key:25\n",
      "denvjggzngodfldvadeljmdenryyajqxynznuyanfnrpyjdezydwrejytrwn\n",
      "arlndenzydkrqjyreocnyytdenzydmnra\n",
      "\n",
      "(('e', 'M'), ('n', 'S')) not a possible solution\n",
      "\n",
      "(('e', 'M'), ('n', 'E')) not a possible solution\n",
      "\n",
      "(('n', 'K'), ('d', 'F')) not a possible solution\n",
      "\n",
      "(('n', 'F'), ('d', 'M')) not a possible solution\n",
      "\n",
      "(('n', 'M'), ('d', 'S')) not a possible solution\n",
      "\n",
      "(('n', 'M'), ('d', 'E')) not a possible solution\n"
     ]
    }
   ],
   "execution_count": 13
  },
  {
   "metadata": {},
   "cell_type": "markdown",
   "source": [
    "An **AffineCipher** using guess `(('o', 'K'), ('n', 'F')): mult_key:5  add_key:8` yielded a good result:\n",
    "```\n",
    "one will seldom go wrong if one attributes extreme actions to vanity average\n",
    "ones to habit and petty ones to fear\n",
    "```\n"
   ],
   "id": "fbcba3732a13fff5"
  },
  {
   "metadata": {},
   "cell_type": "markdown",
   "source": "### 2. Decipher the following message.",
   "id": "d3cd4485ad18d8a0"
  },
  {
   "metadata": {
    "ExecuteTime": {
     "end_time": "2025-06-06T22:05:12.858371Z",
     "start_time": "2025-06-06T22:05:12.856573Z"
    }
   },
   "cell_type": "code",
   "source": [
    "msg2 = (\n",
    "    \"XTS OCZ SIV JPI FCS XQE BEA SIV YIP SOF ICO SJR QYC VJJ SNS VJE VXT \" +\n",
    "    \"FSS BIA XEF OXT SPS DEA CXQ EBX TSY CVJ XTS JCO XIV ASC XRD EYO IAF \" +\n",
    "    \"EOO XTS YIX SFX TSD SVK XTE BXC MSC XRD EYO\"\n",
    ")"
   ],
   "id": "9d5db7186cae7063",
   "outputs": [],
   "execution_count": 14
  },
  {
   "metadata": {
    "ExecuteTime": {
     "end_time": "2025-06-06T22:05:12.869461Z",
     "start_time": "2025-06-06T22:05:12.867416Z"
    }
   },
   "cell_type": "code",
   "source": [
    "letters, digraphs, trigraphs = frequency_tabulator(msg2)\n",
    "display_fequency_tables(letters, digraphs, trigraphs)"
   ],
   "id": "35e6c0bb61e83aa5",
   "outputs": [
    {
     "data": {
      "text/plain": [
       "<IPython.core.display.Math object>"
      ],
      "text/latex": "$\\displaystyle \\begin{array}[t]{ccc}\n\\begin{array}{c|c}\n\\text{Letter} & \\text{Frequency} \\\\\n\\hline\nS & 20 \\\\\nX & 16 \\\\\nC & 10 \\\\\nE & 10 \\\\\nO & 9 \\\\\nI & 9 \\\\\nT & 8 \\\\\nV & 8 \\\\\nJ & 7 \\\\\nF & 6 \\\\\nY & 6 \\\\\nA & 5 \\\\\nB & 4 \\\\\nD & 4 \\\\\nP & 3 \\\\\nQ & 3 \\\\\nR & 3 \\\\\nZ & 1 \\\\\nN & 1 \\\\\nK & 1 \\\\\nM & 1 \\\\\n\\end{array} \\quad \\quad & \\begin{array}{c|c}\n\\text{Digraph} & \\text{Frequency} \\\\\n\\hline\nXT & 8 \\\\\nTS & 6 \\\\\nVJ & 4 \\\\\nIV & 3 \\\\\nEB & 3 \\\\\nOX & 3 \\\\\nDE & 3 \\\\\nCX & 3 \\\\\nSO & 2 \\\\\nSI & 2 \\\\\nXQ & 2 \\\\\nQE & 2 \\\\\nEA & 2 \\\\\nAS & 2 \\\\\nYI & 2 \\\\\nPS & 2 \\\\\nCO & 2 \\\\\nSJ & 2 \\\\\nYC & 2 \\\\\nCV & 2 \\\\\nSV & 2 \\\\\nIA & 2 \\\\\nSD & 2 \\\\\nBX & 2 \\\\\nSY & 2 \\\\\nSC & 2 \\\\\nXR & 2 \\\\\nRD & 2 \\\\\nEY & 2 \\\\\nYO & 2 \\\\\n\\end{array} \\quad \\quad & \\begin{array}{c|c}\n\\text{Trigraph} & \\text{Frequency} \\\\\n\\hline\nXTS & 6 \\\\\nSIV & 2 \\\\\nXQE & 2 \\\\\nQEB & 2 \\\\\nYCV & 2 \\\\\nCVJ & 2 \\\\\nOXT & 2 \\\\\nEBX & 2 \\\\\nTSY & 2 \\\\\nSCX & 2 \\\\\nCXR & 2 \\\\\nXRD & 2 \\\\\nRDE & 2 \\\\\nDEY & 2 \\\\\nEYO & 2 \\\\\n\\end{array}\n\\end{array}$"
     },
     "metadata": {},
     "output_type": "display_data"
    }
   ],
   "execution_count": 15
  },
  {
   "metadata": {
    "ExecuteTime": {
     "end_time": "2025-06-06T22:05:12.878559Z",
     "start_time": "2025-06-06T22:05:12.876408Z"
    }
   },
   "cell_type": "code",
   "source": [
    "# Build a set of single letter guesses and the top 4 occurring ciphertext letters\n",
    "guesses = build_guesses(top_letters, list(letters.keys())[:4])"
   ],
   "id": "93a8bd1a6de941c0",
   "outputs": [],
   "execution_count": 16
  },
  {
   "metadata": {
    "ExecuteTime": {
     "end_time": "2025-06-06T22:05:12.890629Z",
     "start_time": "2025-06-06T22:05:12.886466Z"
    }
   },
   "cell_type": "code",
   "source": [
    "for guess in guesses:\n",
    "    crack = CrackAdditiveCipher(guess)\n",
    "    print(f\"\\nTrying an additive cipher derived from guess={guess} with key={crack.key()}\")\n",
    "    plaintext = crack.decrypt(msg2)\n",
    "    print(format_plaintext(plaintext))"
   ],
   "id": "2cf047e1ad71a715",
   "outputs": [
    {
     "name": "stdout",
     "output_type": "stream",
     "text": [
      "\n",
      "Trying an additive cipher derived from guess=('e', 'S') with key=14\n",
      "jfeaoleuhvburoejcqnqmeuhkubearuoaevdckohvvezehvqhjfreenumjqr\n",
      "ajfebepqmojcqnjfekohvjfevoajuhmeojdpqkaumrqaajfekujerjfepehw\n",
      "jfqnjoyeojdpqka\n",
      "\n",
      "Trying an additive cipher derived from guess=('e', 'X') with key=19\n",
      "eazvjgzpcqwpmjzexlilhzpcfpwzvmpjvzqyxfjcqqzuzcqlceamzziphelm\n",
      "veazwzklhjexlieazfjcqeazqjvepchzjeyklfvphmlvveazfpezmeazkzcr\n",
      "ealiejtzjeyklfv\n",
      "\n",
      "Trying an additive cipher derived from guess=('e', 'C') with key=24\n",
      "zvuqebukxlrkheuzsgdgcukxakruqhkequltsaexllupuxlgxzvhuudkczgh\n",
      "qzvurufgcezsgdzvuaexlzvuleqzkxcueztfgaqkchgqqzvuakzuhzvufuxm\n",
      "zvgdzeoueztfgaq\n",
      "\n",
      "Trying an additive cipher derived from guess=('e', 'E') with key=0\n",
      "xtsoczsivjpifcsxqebeasivyipsoficosjrqycvjjsnsvjevxtfssbiaxef\n",
      "oxtspsdeacxqebxtsycvjxtsjcoxivascxrdeyoiafeooxtsyixsfxtsdsvk\n",
      "xtebxcmscxrdeyo\n",
      "\n",
      "Trying an additive cipher derived from guess=('t', 'S') with key=25\n",
      "yutpdatjwkqjgdtyrfcfbtjwzjqtpgjdptksrzdwkktotwkfwyugttcjbyfg\n",
      "pyutqtefbdyrfcyutzdwkyutkdpyjwbtdysefzpjbgfppyutzjytgyutetwl\n",
      "yufcydntdysefzp\n",
      "\n",
      "Trying an additive cipher derived from guess=('t', 'X') with key=4\n",
      "tpokyvoerflebyotmaxawoeruelokbeykofnmuyrffojorfartpbooxewtab\n",
      "ktpolozawytmaxtpouyrftpofykterwoytnzaukewbakktpouetobtpozorg\n",
      "tpaxtyioytnzauk\n",
      "\n",
      "Trying an additive cipher derived from guess=('t', 'C') with key=9\n",
      "okjftqjzmagzwtjohvsvrjzmpzgjfwztfjaihptmaajejmavmokwjjszrovw\n",
      "fokjgjuvrtohvsokjptmaokjatfozmrjtoiuvpfzrwvffokjpzojwokjujmb\n",
      "okvsotdjtoiuvpf\n",
      "\n",
      "Trying an additive cipher derived from guess=('t', 'E') with key=11\n",
      "mihdrohxkyexurhmftqtphxknxehduxrdhygfnrkyyhchkytkmiuhhqxpmtu\n",
      "dmihehstprmftqmihnrkymihyrdmxkphrmgstndxputddmihnxmhumihshkz\n",
      "mitqmrbhrmgstnd\n",
      "\n",
      "Trying an additive cipher derived from guess=('a', 'S') with key=18\n",
      "fbawkhaqdrxqnkafymjmiaqdgqxawnqkwarzygkdrravadrmdfbnaajqifmn\n",
      "wfbaxalmikfymjfbagkdrfbarkwfqdiakfzlmgwqinmwwfbagqfanfbalads\n",
      "fbmjfkuakfzlmgw\n",
      "\n",
      "Trying an additive cipher derived from guess=('a', 'X') with key=23\n",
      "awvrfcvlymslifvathehdvlyblsvrilfrvmutbfymmvqvymhyawivveldahi\n",
      "rawvsvghdfatheawvbfymawvmfralydvfaughbrldihrrawvblaviawvgvyn\n",
      "awheafpvfaughbr\n",
      "\n",
      "Trying an additive cipher derived from guess=('a', 'C') with key=2\n",
      "vrqmaxqgthngdaqvoczcyqgtwgnqmdgamqhpowathhqlqthctvrdqqzgyvcd\n",
      "mvrqnqbcyavoczvrqwathvrqhamvgtyqavpbcwmgydcmmvrqwgvqdvrqbqti\n",
      "vrczvakqavpbcwm\n",
      "\n",
      "Trying an additive cipher derived from guess=('a', 'E') with key=4\n",
      "tpokyvoerflebyotmaxawoeruelokbeykofnmuyrffojorfartpbooxewtab\n",
      "ktpolozawytmaxtpouyrftpofykterwoytnzaukewbakktpouetobtpozorg\n",
      "tpaxtyioytnzauk\n",
      "\n",
      "Trying an additive cipher derived from guess=('o', 'S') with key=4\n",
      "tpokyvoerflebyotmaxawoeruelokbeykofnmuyrffojorfartpbooxewtab\n",
      "ktpolozawytmaxtpouyrftpofykterwoytnzaukewbakktpouetobtpozorg\n",
      "tpaxtyioytnzauk\n",
      "\n",
      "Trying an additive cipher derived from guess=('o', 'X') with key=9\n",
      "okjftqjzmagzwtjohvsvrjzmpzgjfwztfjaihptmaajejmavmokwjjszrovw\n",
      "fokjgjuvrtohvsokjptmaokjatfozmrjtoiuvpfzrwvffokjpzojwokjujmb\n",
      "okvsotdjtoiuvpf\n",
      "\n",
      "Trying an additive cipher derived from guess=('o', 'C') with key=14\n",
      "jfeaoleuhvburoejcqnqmeuhkubearuoaevdckohvvezehvqhjfreenumjqr\n",
      "ajfebepqmojcqnjfekohvjfevoajuhmeojdpqkaumrqaajfekujerjfepehw\n",
      "jfqnjoyeojdpqka\n",
      "\n",
      "Trying an additive cipher derived from guess=('o', 'E') with key=16\n",
      "hdcymjcsftzspmchaolokcsfiszcypsmyctbaimfttcxcftofhdpcclskhop\n",
      "yhdczcnokmhaolhdcimfthdctmyhsfkcmhbnoiyskpoyyhdcishcphdcncfu\n",
      "hdolhmwcmhbnoiy\n",
      "\n",
      "Trying an additive cipher derived from guess=('i', 'S') with key=10\n",
      "njiespiylzfyvsinguruqiyloyfievyseizhgoslzzidilzulnjviiryqnuv\n",
      "enjifituqsngurnjioslznjizsenylqisnhtuoeyqvueenjioynivnjitila\n",
      "njurnscisnhtuoe\n",
      "\n",
      "Trying an additive cipher derived from guess=('i', 'X') with key=15\n",
      "iedznkdtguatqndibpmpldtgjtadzqtnzducbjnguudydgupgieqddmtlipq\n",
      "ziedadoplnibpmiedjnguiedunzitgldnicopjztlqpzziedjtidqiedodgv\n",
      "iepminxdnicopjz\n",
      "\n",
      "Trying an additive cipher derived from guess=('i', 'C') with key=20\n",
      "dzyuifyobpvoliydwkhkgyobeovyuloiuypxweibppytybpkbdzlyyhogdkl\n",
      "udzyvyjkgidwkhdzyeibpdzypiudobgyidxjkeuoglkuudzyeodyldzyjybq\n",
      "dzkhdisyidxjkeu\n",
      "\n",
      "Trying an additive cipher derived from guess=('i', 'E') with key=22\n",
      "bxwsgdwmzntmjgwbuifiewmzcmtwsjmgswnvucgznnwrwznizbxjwwfmebij\n",
      "sbxwtwhiegbuifbxwcgznbxwngsbmzewgbvhicsmejissbxwcmbwjbxwhwzo\n",
      "bxifbgqwgbvhics\n",
      "\n",
      "Trying an additive cipher derived from guess=('n', 'S') with key=5\n",
      "sonjxundqekdaxnslzwzvndqtdknjadxjnemltxqeeninqezqsoannwdvsza\n",
      "jsonknyzvxslzwsontxqesonexjsdqvnxsmyztjdvazjjsontdsnasonynqf\n",
      "sozwsxhnxsmyztj\n",
      "\n",
      "Trying an additive cipher derived from guess=('n', 'X') with key=10\n",
      "njiespiylzfyvsinguruqiyloyfievyseizhgoslzzidilzulnjviiryqnuv\n",
      "enjifituqsngurnjioslznjizsenylqisnhtuoeyqvueenjioynivnjitila\n",
      "njurnscisnhtuoe\n",
      "\n",
      "Trying an additive cipher derived from guess=('n', 'C') with key=15\n",
      "iedznkdtguatqndibpmpldtgjtadzqtnzducbjnguudydgupgieqddmtlipq\n",
      "ziedadoplnibpmiedjnguiedunzitgldnicopjztlqpzziedjtidqiedodgv\n",
      "iepminxdnicopjz\n",
      "\n",
      "Trying an additive cipher derived from guess=('n', 'E') with key=17\n",
      "gcbxlibresyrolbgznknjbrehrybxorlxbsazhlessbwbesnegcobbkrjgno\n",
      "xgcbybmnjlgznkgcbhlesgcbslxgrejblgamnhxrjonxxgcbhrgbogcbmbet\n",
      "gcnkglvblgamnhx\n",
      "\n",
      "Trying an additive cipher derived from guess=('s', 'S') with key=0\n",
      "xtsoczsivjpifcsxqebeasivyipsoficosjrqycvjjsnsvjevxtfssbiaxef\n",
      "oxtspsdeacxqebxtsycvjxtsjcoxivascxrdeyoiafeooxtsyixsfxtsdsvk\n",
      "xtebxcmscxrdeyo\n",
      "\n",
      "Trying an additive cipher derived from guess=('s', 'X') with key=5\n",
      "sonjxundqekdaxnslzwzvndqtdknjadxjnemltxqeeninqezqsoannwdvsza\n",
      "jsonknyzvxslzwsontxqesonexjsdqvnxsmyztjdvazjjsontdsnasonynqf\n",
      "sozwsxhnxsmyztj\n",
      "\n",
      "Trying an additive cipher derived from guess=('s', 'C') with key=10\n",
      "njiespiylzfyvsinguruqiyloyfievyseizhgoslzzidilzulnjviiryqnuv\n",
      "enjifituqsngurnjioslznjizsenylqisnhtuoeyqvueenjioynivnjitila\n",
      "njurnscisnhtuoe\n",
      "\n",
      "Trying an additive cipher derived from guess=('s', 'E') with key=12\n",
      "lhgcqngwjxdwtqglespsogwjmwdgctwqcgxfemqjxxgbgjxsjlhtggpwolst\n",
      "clhgdgrsoqlesplhgmqjxlhgxqclwjogqlfrsmcwotscclhgmwlgtlhgrgjy\n",
      "lhsplqagqlfrsmc\n",
      "\n",
      "Trying an additive cipher derived from guess=('h', 'S') with key=11\n",
      "mihdrohxkyexurhmftqtphxknxehduxrdhygfnrkyyhchkytkmiuhhqxpmtu\n",
      "dmihehstprmftqmihnrkymihyrdmxkphrmgstndxputddmihnxmhumihshkz\n",
      "mitqmrbhrmgstnd\n",
      "\n",
      "Trying an additive cipher derived from guess=('h', 'X') with key=16\n",
      "hdcymjcsftzspmchaolokcsfiszcypsmyctbaimfttcxcftofhdpcclskhop\n",
      "yhdczcnokmhaolhdcimfthdctmyhsfkcmhbnoiyskpoyyhdcishcphdcncfu\n",
      "hdolhmwcmhbnoiy\n",
      "\n",
      "Trying an additive cipher derived from guess=('h', 'C') with key=21\n",
      "cyxthexnaounkhxcvjgjfxnadnuxtknhtxowvdhaooxsxaojacykxxgnfcjk\n",
      "tcyxuxijfhcvjgcyxdhaocyxohtcnafxhcwijdtnfkjttcyxdncxkcyxixap\n",
      "cyjgchrxhcwijdt\n",
      "\n",
      "Trying an additive cipher derived from guess=('h', 'E') with key=23\n",
      "awvrfcvlymslifvathehdvlyblsvrilfrvmutbfymmvqvymhyawivveldahi\n",
      "rawvsvghdfatheawvbfymawvmfralydvfaughbrldihrrawvblaviawvgvyn\n",
      "awheafpvfaughbr\n"
     ]
    }
   ],
   "execution_count": 17
  },
  {
   "metadata": {
    "ExecuteTime": {
     "end_time": "2025-06-06T22:05:12.918214Z",
     "start_time": "2025-06-06T22:05:12.914180Z"
    }
   },
   "cell_type": "code",
   "source": [
    "for guess in guesses:\n",
    "    try:\n",
    "        crack = CrackMultiplicativeCipher(guess)\n",
    "        print(f\"\\nTrying an multiplicative cipher derived from guess={guess} with key={crack.key()}\")\n",
    "        plaintext = crack.decrypt(msg2)\n",
    "        print(format_plaintext(plaintext))\n",
    "    except ValueError:\n",
    "        print(f\"\\nGuess: {guess} is not valid for multiplicative key\")"
   ],
   "id": "13ccfaee43fcf4d5",
   "outputs": [
    {
     "name": "stdout",
     "output_type": "stream",
     "text": [
      "\n",
      "Trying an multiplicative cipher derived from guess=('e', 'S') with key=9\n",
      "thesizeandvarietyofoceanwavesraisedbywinddependonthreefactor\n",
      "sthevelocityofthewindthedistanceitblowsacrossthewatertheleng\n",
      "thoftimeitblows\n",
      "\n",
      "Guess: ('e', 'X') is not valid for multiplicative key\n",
      "\n",
      "Trying an multiplicative cipher derived from guess=('e', 'C') with key=11\n",
      "npwyezwobhrojewnkqlqswobgorwyjoeywhdkgebhhwfwbhqbnpjwwlosnqj\n",
      "ynpwrwxqsenkqlnpwgebhnpwheynobswendxqgyosjqyynpwgonwjnpwxwba\n",
      "npqlnemwendxqgy\n",
      "\n",
      "Trying an multiplicative cipher derived from guess=('e', 'E') with key=1\n",
      "xtsoczsivjpifcsxqebeasivyipsoficosjrqycvjjsnsvjevxtfssbiaxef\n",
      "oxtspsdeacxqebxtsycvjxtsjcoxivascxrdeyoiafeooxtsyixsfxtsdsvk\n",
      "xtebxcmscxrdeyo\n",
      "\n",
      "Guess: ('t', 'S') is not valid for multiplicative key\n",
      "\n",
      "Trying an multiplicative cipher derived from guess=('t', 'X') with key=9\n",
      "thesizeandvarietyofoceanwavesraisedbywinddependonthreefactor\n",
      "sthevelocityofthewindthedistanceitblowsacrossthewatertheleng\n",
      "thoftimeitblows\n",
      "\n",
      "Guess: ('t', 'C') is not valid for multiplicative key\n",
      "\n",
      "Guess: ('t', 'E') is not valid for multiplicative key\n",
      "\n",
      "Trying an multiplicative cipher derived from guess=('a', 'S') with key=19\n",
      "dlaigzauhftungadecvckauhoutainugiafpeoghffaxahfchdlnaavukdcn\n",
      "idlatarckgdecvdlaoghfdlafgiduhkagdprcoiuknciidlaoudandlarahq\n",
      "dlcvdgmagdprcoi\n",
      "\n",
      "Guess: ('a', 'X') is not valid for multiplicative key\n",
      "\n",
      "Trying an multiplicative cipher derived from guess=('a', 'C') with key=3\n",
      "hxoeazocplncbaohwsrsiocpqcnoebcaeolfwqapllovoplsphxboorcihsb\n",
      "ehxonojsiahwsrhxoqaplhxolaehcpioahfjsqecibseehxoqchobhxojopu\n",
      "hxsrhamoahfjsqe\n",
      "\n",
      "Trying an multiplicative cipher derived from guess=('a', 'E') with key=5\n",
      "jdickzigtbxgvkijsapauigtegxicvgkcibnsektbbihitbatjdviipgujav\n",
      "cjdixifaukjsapjdiektbjdibkcjgtuikjnfaecguvaccjdiegjivjdifitw\n",
      "jdapjkmikjnfaec\n",
      "\n",
      "Trying an multiplicative cipher derived from guess=('o', 'S') with key=3\n",
      "hxoeazocplncbaohwsrsiocpqcnoebcaeolfwqapllovoplsphxboorcihsb\n",
      "ehxonojsiahwsrhxoqaplhxolaehcpioahfjsqecibseehxoqchobhxojopu\n",
      "hxsrhamoahfjsqe\n",
      "\n",
      "Guess: ('o', 'X') is not valid for multiplicative key\n",
      "\n",
      "Trying an multiplicative cipher derived from guess=('o', 'C') with key=21\n",
      "pvqwozqsfxbsdoqpgyjyeqsfusbqwdsowqxlguofxxqrqfxyfpvdqqjsepyd\n",
      "wpvqbqtyeopgyjpvquofxpvqxowpsfeqopltyuwsedywwpvquspqdpvqtqfc\n",
      "pvyjpomqopltyuw\n",
      "\n",
      "Trying an multiplicative cipher derived from guess=('o', 'E') with key=9\n",
      "thesizeandvarietyofoceanwavesraisedbywinddependonthreefactor\n",
      "sthevelocityofthewindthedistanceitblowsacrossthewatertheleng\n",
      "thoftimeitblows\n",
      "\n",
      "Trying an multiplicative cipher derived from guess=('i', 'S') with key=5\n",
      "jdickzigtbxgvkijsapauigtegxicvgkcibnsektbbihitbatjdviipgujav\n",
      "cjdixifaukjsapjdiektbjdibkcjgtuikjnfaecguvaccjdiegjivjdifitw\n",
      "jdapjkmikjnfaec\n",
      "\n",
      "Guess: ('i', 'X') is not valid for multiplicative key\n",
      "\n",
      "Trying an multiplicative cipher derived from guess=('i', 'C') with key=9\n",
      "thesizeandvarietyofoceanwavesraisedbywinddependonthreefactor\n",
      "sthevelocityofthewindthedistanceitblowsacrossthewatertheleng\n",
      "thoftimeitblows\n",
      "\n",
      "Trying an multiplicative cipher derived from guess=('i', 'E') with key=15\n",
      "ljcauzckxrhkpucloinigckxskhcapkuacrvosuxrrctcxrixljpccnkglip\n",
      "aljchcbiguloinljcsuxrljcrualkxgculvbisakgpiaaljcsklcpljcbcxy\n",
      "ljinlumculvbisa\n",
      "\n",
      "Guess: ('n', 'S') is not valid for multiplicative key\n",
      "\n",
      "Trying an multiplicative cipher derived from guess=('n', 'X') with key=11\n",
      "npwyezwobhrojewnkqlqswobgorwyjoeywhdkgebhhwfwbhqbnpjwwlosnqj\n",
      "ynpwrwxqsenkqlnpwgebhnpwheynobswendxqgyosjqyynpwgonwjnpwxwba\n",
      "npqlnemwendxqgy\n",
      "\n",
      "Guess: ('n', 'C') is not valid for multiplicative key\n",
      "\n",
      "Guess: ('n', 'E') is not valid for multiplicative key\n",
      "\n",
      "Trying an multiplicative cipher derived from guess=('s', 'S') with key=1\n",
      "xtsoczsivjpifcsxqebeasivyipsoficosjrqycvjjsnsvjevxtfssbiaxef\n",
      "oxtspsdeacxqebxtsycvjxtsjcoxivascxrdeyoiafeooxtsyixsfxtsdsvk\n",
      "xtebxcmscxrdeyo\n",
      "\n",
      "Guess: ('s', 'X') is not valid for multiplicative key\n",
      "\n",
      "Trying an multiplicative cipher derived from guess=('s', 'C') with key=7\n",
      "vnyqszyertfelsyvuwdwoyerkefyqlesqytjuksrttybyrtwrvnlyydeovwl\n",
      "qvnyfyhwosvuwdvnyksrtvnytsqveroysvjhwkqeolwqqvnykevylvnyhyri\n",
      "vnwdvsmysvjhwkq\n",
      "\n",
      "Trying an multiplicative cipher derived from guess=('s', 'E') with key=3\n",
      "hxoeazocplncbaohwsrsiocpqcnoebcaeolfwqapllovoplsphxboorcihsb\n",
      "ehxonojsiahwsrhxoqaplhxolaehcpioahfjsqecibseehxoqchobhxojopu\n",
      "hxsrhamoahfjsqe\n",
      "\n",
      "Guess: ('h', 'S') is not valid for multiplicative key\n",
      "\n",
      "Trying an multiplicative cipher derived from guess=('h', 'X') with key=3\n",
      "hxoeazocplncbaohwsrsiocpqcnoebcaeolfwqapllovoplsphxboorcihsb\n",
      "ehxonojsiahwsrhxoqaplhxolaehcpioahfjsqecibseehxoqchobhxojopu\n",
      "hxsrhamoahfjsqe\n",
      "\n",
      "Guess: ('h', 'C') is not valid for multiplicative key\n",
      "\n",
      "Guess: ('h', 'E') is not valid for multiplicative key\n"
     ]
    }
   ],
   "execution_count": 18
  },
  {
   "metadata": {},
   "cell_type": "markdown",
   "source": [
    "A **MultiplicativeCipher** derived from `guess=('e', 'S') with key=9` yielded\n",
    "```\n",
    "the size and variety of ocean waves raised by wind depend on three factors\n",
    "the velocity of the wind the distance it blows across the water the length\n",
    "of time it blows\n",
    "```"
   ],
   "id": "c4bfb21119a36fff"
  },
  {
   "metadata": {},
   "cell_type": "markdown",
   "source": "### 3. Decipher the following message.",
   "id": "caa05f4c5f3290d9"
  },
  {
   "metadata": {
    "ExecuteTime": {
     "end_time": "2025-06-06T22:05:12.929181Z",
     "start_time": "2025-06-06T22:05:12.927650Z"
    }
   },
   "cell_type": "code",
   "source": [
    "msg3 = (\n",
    "    \"VYU XOX SJY YTS FXV OWM YFQ GCQ PPY CQP VQD OFP VQJ ODW PRT SEQ\"\n",
    ")"
   ],
   "id": "b06e75c1a329ef9c",
   "outputs": [],
   "execution_count": 19
  },
  {
   "metadata": {
    "ExecuteTime": {
     "end_time": "2025-06-06T22:05:12.941433Z",
     "start_time": "2025-06-06T22:05:12.938888Z"
    }
   },
   "cell_type": "code",
   "source": [
    "letters, digraphs, trigraphs = frequency_tabulator(msg3)\n",
    "display_fequency_tables(letters, digraphs, trigraphs)"
   ],
   "id": "77dfdc10c7d3114e",
   "outputs": [
    {
     "data": {
      "text/plain": [
       "<IPython.core.display.Math object>"
      ],
      "text/latex": "$\\displaystyle \\begin{array}[t]{ccc}\n\\begin{array}{c|c}\n\\text{Letter} & \\text{Frequency} \\\\\n\\hline\nQ & 6 \\\\\nY & 5 \\\\\nP & 5 \\\\\nV & 4 \\\\\nO & 4 \\\\\nX & 3 \\\\\nS & 3 \\\\\nF & 3 \\\\\nJ & 2 \\\\\nT & 2 \\\\\nW & 2 \\\\\nC & 2 \\\\\nD & 2 \\\\\nU & 1 \\\\\nM & 1 \\\\\nG & 1 \\\\\nR & 1 \\\\\nE & 1 \\\\\n\\end{array} \\quad \\quad & \\begin{array}{c|c}\n\\text{Digraph} & \\text{Frequency} \\\\\n\\hline\nTS & 2 \\\\\nCQ & 2 \\\\\nQP & 2 \\\\\nPV & 2 \\\\\nVQ & 2 \\\\\n\\end{array} \\quad \\quad & \\begin{array}{c|c}\n\\text{Trigraph} & \\text{Frequency} \\\\\n\\hline\nCQP & 2 \\\\\nPVQ & 2 \\\\\n\\end{array}\n\\end{array}$"
     },
     "metadata": {},
     "output_type": "display_data"
    }
   ],
   "execution_count": 20
  },
  {
   "metadata": {
    "ExecuteTime": {
     "end_time": "2025-06-06T22:05:12.950777Z",
     "start_time": "2025-06-06T22:05:12.948685Z"
    }
   },
   "cell_type": "code",
   "source": [
    "# Build a set of single letter guesses and the top 4 occurring ciphertext letters\n",
    "guesses = build_guesses(top_letters, list(letters.keys())[:4])"
   ],
   "id": "22fa7543779ff98c",
   "outputs": [],
   "execution_count": 21
  },
  {
   "metadata": {
    "ExecuteTime": {
     "end_time": "2025-06-06T22:05:12.960878Z",
     "start_time": "2025-06-06T22:05:12.957777Z"
    }
   },
   "cell_type": "code",
   "source": [
    "for guess in guesses:\n",
    "    crack = CrackAdditiveCipher(guess)\n",
    "    print(f\"\\nTrying an additive cipher derived from guess={guess} with key={crack.key()}\")\n",
    "    plaintext = crack.decrypt(msg3)\n",
    "    print(format_plaintext(plaintext))"
   ],
   "id": "49faa49070ac5455",
   "outputs": [
    {
     "name": "stdout",
     "output_type": "stream",
     "text": [
      "\n",
      "Trying an additive cipher derived from guess=('e', 'Q') with key=12\n",
      "jmilclgxmmhgtljckamteuqeddmqedjerctdjexcrkdfhgse\n",
      "\n",
      "Trying an additive cipher derived from guess=('e', 'Y') with key=20\n",
      "beadudypeezyldbucselwmiwvveiwvbwjulvbwpujcvxzykw\n",
      "\n",
      "Trying an additive cipher derived from guess=('e', 'P') with key=11\n",
      "knjmdmhynnihumkdlbnufvrfeenrfekfsduekfydslegihtf\n",
      "\n",
      "Trying an additive cipher derived from guess=('e', 'V') with key=17\n",
      "ehdgxgbshhcbogexfvhozplzyyhlzyezmxoyezsxmfyacbnz\n",
      "\n",
      "Trying an additive cipher derived from guess=('t', 'Q') with key=23\n",
      "ybxaravmbbwviayrzpbitjftssbftsytgrisytmrgzsuwvht\n",
      "\n",
      "Trying an additive cipher derived from guess=('t', 'Y') with key=5\n",
      "qtpsjsnettonasqjrhtalbxlkktxlkqlyjakqlejyrkmonzl\n",
      "\n",
      "Trying an additive cipher derived from guess=('t', 'P') with key=22\n",
      "zcybsbwnccxwjbzsaqcjukguttcgutzuhsjtzunshatvxwiu\n",
      "\n",
      "Trying an additive cipher derived from guess=('t', 'V') with key=2\n",
      "twsvmvqhwwrqdvtmukwdoeaonnwaontobmdntohmbunprqco\n",
      "\n",
      "Trying an additive cipher derived from guess=('a', 'Q') with key=16\n",
      "fiehyhctiidcphfygwipaqmazzimazfanypzfatyngzbdcoa\n",
      "\n",
      "Trying an additive cipher derived from guess=('a', 'Y') with key=24\n",
      "xawzqzulaavuhzxqyoahsiesrraesrxsfqhrxslqfyrtvugs\n",
      "\n",
      "Trying an additive cipher derived from guess=('a', 'P') with key=15\n",
      "gjfizidujjedqigzhxjqbrnbaajnbagbozqagbuzohacedpb\n",
      "\n",
      "Trying an additive cipher derived from guess=('a', 'V') with key=21\n",
      "adzctcxoddyxkcatbrdkvlhvuudhvuavitkuavotibuwyxjv\n",
      "\n",
      "Trying an additive cipher derived from guess=('o', 'Q') with key=2\n",
      "twsvmvqhwwrqdvtmukwdoeaonnwaontobmdntohmbunprqco\n",
      "\n",
      "Trying an additive cipher derived from guess=('o', 'Y') with key=10\n",
      "loknenizoojivnlemcovgwsgffosgflgtevflgzetmfhjiug\n",
      "\n",
      "Trying an additive cipher derived from guess=('o', 'P') with key=1\n",
      "uxtwnwrixxsrewunvlxepfbpooxbpoupcneoupincvoqsrdp\n",
      "\n",
      "Trying an additive cipher derived from guess=('o', 'V') with key=7\n",
      "ornqhqlcrrmlyqohpfryjzvjiirvjiojwhyiojchwpikmlxj\n",
      "\n",
      "Trying an additive cipher derived from guess=('i', 'Q') with key=8\n",
      "nqmpgpkbqqlkxpngoeqxiyuihhquihnivgxhnibgvohjlkwi\n",
      "\n",
      "Trying an additive cipher derived from guess=('i', 'Y') with key=16\n",
      "fiehyhctiidcphfygwipaqmazzimazfanypzfatyngzbdcoa\n",
      "\n",
      "Trying an additive cipher derived from guess=('i', 'P') with key=7\n",
      "ornqhqlcrrmlyqohpfryjzvjiirvjiojwhyiojchwpikmlxj\n",
      "\n",
      "Trying an additive cipher derived from guess=('i', 'V') with key=13\n",
      "ilhkbkfwllgfskibjzlsdtpdcclpdcidqbscidwbqjcegfrd\n",
      "\n",
      "Trying an additive cipher derived from guess=('n', 'Q') with key=3\n",
      "svrulupgvvqpcusltjvcndznmmvznmsnalcmsnglatmoqpbn\n",
      "\n",
      "Trying an additive cipher derived from guess=('n', 'Y') with key=11\n",
      "knjmdmhynnihumkdlbnufvrfeenrfekfsduekfydslegihtf\n",
      "\n",
      "Trying an additive cipher derived from guess=('n', 'P') with key=2\n",
      "twsvmvqhwwrqdvtmukwdoeaonnwaontobmdntohmbunprqco\n",
      "\n",
      "Trying an additive cipher derived from guess=('n', 'V') with key=8\n",
      "nqmpgpkbqqlkxpngoeqxiyuihhquihnivgxhnibgvohjlkwi\n",
      "\n",
      "Trying an additive cipher derived from guess=('s', 'Q') with key=24\n",
      "xawzqzulaavuhzxqyoahsiesrraesrxsfqhrxslqfyrtvugs\n",
      "\n",
      "Trying an additive cipher derived from guess=('s', 'Y') with key=6\n",
      "psorirmdssnmzrpiqgszkawkjjswkjpkxizjpkdixqjlnmyk\n",
      "\n",
      "Trying an additive cipher derived from guess=('s', 'P') with key=23\n",
      "ybxaravmbbwviayrzpbitjftssbftsytgrisytmrgzsuwvht\n",
      "\n",
      "Trying an additive cipher derived from guess=('s', 'V') with key=3\n",
      "svrulupgvvqpcusltjvcndznmmvznmsnalcmsnglatmoqpbn\n",
      "\n",
      "Trying an additive cipher derived from guess=('h', 'Q') with key=9\n",
      "mplofojappkjwomfndpwhxthggpthgmhufwgmhafungikjvh\n",
      "\n",
      "Trying an additive cipher derived from guess=('h', 'Y') with key=17\n",
      "ehdgxgbshhcbogexfvhozplzyyhlzyezmxoyezsxmfyacbnz\n",
      "\n",
      "Trying an additive cipher derived from guess=('h', 'P') with key=8\n",
      "nqmpgpkbqqlkxpngoeqxiyuihhquihnivgxhnibgvohjlkwi\n",
      "\n",
      "Trying an additive cipher derived from guess=('h', 'V') with key=14\n",
      "hkgjajevkkferjhaiykrcsocbbkocbhcparbhcvapibdfeqc\n"
     ]
    }
   ],
   "execution_count": 22
  },
  {
   "metadata": {
    "ExecuteTime": {
     "end_time": "2025-06-06T22:05:12.968638Z",
     "start_time": "2025-06-06T22:05:12.966008Z"
    }
   },
   "cell_type": "code",
   "source": [
    "for guess in guesses:\n",
    "    try:\n",
    "        crack = CrackMultiplicativeCipher(guess)\n",
    "        print(f\"\\nTrying an multiplicative cipher derived from guess={guess} with key={crack.key()}\")\n",
    "        plaintext = crack.decrypt(msg3)\n",
    "        print(format_plaintext(plaintext))\n",
    "    except ValueError:\n",
    "        print(f\"\\nGuess: {guess} is not valid for multiplicative key\")"
   ],
   "id": "da612d070bad949a",
   "outputs": [
    {
     "name": "stdout",
     "output_type": "stream",
     "text": [
      "\n",
      "Trying an multiplicative cipher derived from guess=('e', 'Q') with key=19\n",
      "howdidafoolandhismoneygettogetherinthefirstplace\n",
      "\n",
      "Trying an multiplicative cipher derived from guess=('e', 'Y') with key=5\n",
      "teyjcjibeedivjtcomevsqksxxeksxtsfcvxtsbcfoxndias\n",
      "\n",
      "Guess: ('e', 'P') is not valid for multiplicative key\n",
      "\n",
      "Guess: ('e', 'V') is not valid for multiplicative key\n",
      "\n",
      "Guess: ('t', 'Q') is not valid for multiplicative key\n",
      "\n",
      "Guess: ('t', 'Y') is not valid for multiplicative key\n",
      "\n",
      "Trying an multiplicative cipher derived from guess=('t', 'P') with key=19\n",
      "howdidafoolandhismoneygettogetherinthefirstplace\n",
      "\n",
      "Trying an multiplicative cipher derived from guess=('t', 'V') with key=5\n",
      "teyjcjibeedivjtcomevsqksxxeksxtsfcvxtsbcfoxndias\n",
      "\n",
      "Trying an multiplicative cipher derived from guess=('a', 'Q') with key=17\n",
      "lcofgfuvccruhflgimchaeqaddcqadlanghdlavgnidxruka\n",
      "\n",
      "Trying an multiplicative cipher derived from guess=('a', 'Y') with key=25\n",
      "daebkbgpaafgtbdkcmatiswijjawijdivktjdipkvcjhfgui\n",
      "\n",
      "Guess: ('a', 'P') is not valid for multiplicative key\n",
      "\n",
      "Guess: ('a', 'V') is not valid for multiplicative key\n",
      "\n",
      "Trying an multiplicative cipher derived from guess=('o', 'Q') with key=15\n",
      "xsqlalcrssjcplxaemspowuohhsuohxobaphxorabehvjcio\n",
      "\n",
      "Trying an multiplicative cipher derived from guess=('o', 'Y') with key=19\n",
      "howdidafoolandhismoneygettogetherinthefirstplace\n",
      "\n",
      "Guess: ('o', 'P') is not valid for multiplicative key\n",
      "\n",
      "Guess: ('o', 'V') is not valid for multiplicative key\n",
      "\n",
      "Trying an multiplicative cipher derived from guess=('i', 'Q') with key=25\n",
      "daebkbgpaafgtbdkcmatiswijjawijdivktjdipkvcjhfgui\n",
      "\n",
      "Trying an multiplicative cipher derived from guess=('i', 'Y') with key=23\n",
      "jisrurkniibkxrjuamixcoyclliycljcpuxljcnupaltbkgc\n",
      "\n",
      "Guess: ('i', 'P') is not valid for multiplicative key\n",
      "\n",
      "Guess: ('i', 'V') is not valid for multiplicative key\n",
      "\n",
      "Guess: ('n', 'Q') is not valid for multiplicative key\n",
      "\n",
      "Guess: ('n', 'Y') is not valid for multiplicative key\n",
      "\n",
      "Trying an multiplicative cipher derived from guess=('n', 'P') with key=3\n",
      "pqgheholqqxobhpeymqbwkawnnqawnpwjebnpwlejynfxosw\n",
      "\n",
      "Trying an multiplicative cipher derived from guess=('n', 'V') with key=9\n",
      "nwktstedwwhertnsqmwryuiyvvwiyvnylsrvnydslqvbheoy\n",
      "\n",
      "Trying an multiplicative cipher derived from guess=('s', 'Q') with key=5\n",
      "teyjcjibeedivjtcomevsqksxxeksxtsfcvxtsbcfoxndias\n",
      "\n",
      "Trying an multiplicative cipher derived from guess=('s', 'Y') with key=15\n",
      "xsqlalcrssjcplxaemspowuohhsuohxobaphxorabehvjcio\n",
      "\n",
      "Guess: ('s', 'P') is not valid for multiplicative key\n",
      "\n",
      "Guess: ('s', 'V') is not valid for multiplicative key\n",
      "\n",
      "Guess: ('h', 'Q') is not valid for multiplicative key\n",
      "\n",
      "Guess: ('h', 'Y') is not valid for multiplicative key\n",
      "\n",
      "Trying an multiplicative cipher derived from guess=('h', 'P') with key=15\n",
      "xsqlalcrssjcplxaemspowuohhsuohxobaphxorabehvjcio\n",
      "\n",
      "Trying an multiplicative cipher derived from guess=('h', 'V') with key=19\n",
      "howdidafoolandhismoneygettogetherinthefirstplace\n"
     ]
    }
   ],
   "execution_count": 23
  },
  {
   "metadata": {},
   "cell_type": "markdown",
   "source": [
    "A **MultiplicativeCipher** derived from `guess=('e', 'Q') with key=19` yielded\n",
    "\n",
    "```\n",
    "how did a fool and his money get together in the first place\n",
    "```"
   ],
   "id": "624ec3aaca230c75"
  },
  {
   "metadata": {},
   "cell_type": "markdown",
   "source": "### 4. Decipher the following message.",
   "id": "a9fb3ab9e86a0ac2"
  },
  {
   "metadata": {
    "ExecuteTime": {
     "end_time": "2025-06-06T22:05:12.983571Z",
     "start_time": "2025-06-06T22:05:12.981827Z"
    }
   },
   "cell_type": "code",
   "source": [
    "msg4 = (\n",
    "    \"STB RDX TZQ MFY MJQ GTB WTT RXM FPJ XUJ FWJ MFI PNS LOT MSX FDF \" +\n",
    "    \"UUF WJS YQD MJB FXS YTS YMJ BFX MNS LYT SGJ QYB FDF YYM JYN RJ\"\n",
    ")"
   ],
   "id": "5fc935913a0aa795",
   "outputs": [],
   "execution_count": 24
  },
  {
   "metadata": {
    "ExecuteTime": {
     "end_time": "2025-06-06T22:05:12.993709Z",
     "start_time": "2025-06-06T22:05:12.991774Z"
    }
   },
   "cell_type": "code",
   "source": [
    "letters, digraphs, trigraphs = frequency_tabulator(msg4)\n",
    "display_fequency_tables(letters, digraphs, trigraphs)"
   ],
   "id": "7731bc0f881d8e89",
   "outputs": [
    {
     "data": {
      "text/plain": [
       "<IPython.core.display.Math object>"
      ],
      "text/latex": "$\\displaystyle \\begin{array}[t]{ccc}\n\\begin{array}{c|c}\n\\text{Letter} & \\text{Frequency} \\\\\n\\hline\nF & 11 \\\\\nJ & 10 \\\\\nM & 9 \\\\\nY & 9 \\\\\nS & 8 \\\\\nT & 8 \\\\\nX & 6 \\\\\nB & 5 \\\\\nD & 4 \\\\\nQ & 4 \\\\\nR & 3 \\\\\nW & 3 \\\\\nU & 3 \\\\\nN & 3 \\\\\nG & 2 \\\\\nP & 2 \\\\\nL & 2 \\\\\nZ & 1 \\\\\nI & 1 \\\\\nO & 1 \\\\\n\\end{array} \\quad \\quad & \\begin{array}{c|c}\n\\text{Digraph} & \\text{Frequency} \\\\\n\\hline\nMJ & 4 \\\\\nMF & 3 \\\\\nYM & 3 \\\\\nSY & 3 \\\\\nBF & 3 \\\\\nTB & 2 \\\\\nFY & 2 \\\\\nJQ & 2 \\\\\nXM & 2 \\\\\nFW & 2 \\\\\nWJ & 2 \\\\\nNS & 2 \\\\\nSL & 2 \\\\\nFD & 2 \\\\\nDF & 2 \\\\\nJB & 2 \\\\\nFX & 2 \\\\\nYT & 2 \\\\\nTS & 2 \\\\\n\\end{array} \\quad \\quad & \\begin{array}{c|c}\n\\text{Trigraph} & \\text{Frequency} \\\\\n\\hline\nYMJ & 3 \\\\\nFWJ & 2 \\\\\nNSL & 2 \\\\\nFDF & 2 \\\\\nMJB & 2 \\\\\nJBF & 2 \\\\\nBFX & 2 \\\\\nYTS & 2 \\\\\n\\end{array}\n\\end{array}$"
     },
     "metadata": {},
     "output_type": "display_data"
    }
   ],
   "execution_count": 25
  },
  {
   "metadata": {
    "ExecuteTime": {
     "end_time": "2025-06-06T22:05:13.005323Z",
     "start_time": "2025-06-06T22:05:13.003248Z"
    }
   },
   "cell_type": "code",
   "source": [
    "# Build a set of single letter guesses and the top 4 occurring ciphertext letters\n",
    "guesses = build_guesses(top_letters, list(letters.keys())[:4])"
   ],
   "id": "91285d0c143ed49e",
   "outputs": [],
   "execution_count": 26
  },
  {
   "metadata": {
    "ExecuteTime": {
     "end_time": "2025-06-06T22:05:13.018469Z",
     "start_time": "2025-06-06T22:05:13.014890Z"
    }
   },
   "cell_type": "code",
   "source": [
    "for guess in guesses:\n",
    "    crack = CrackAdditiveCipher(guess)\n",
    "    print(f\"\\nTrying an additive cipher derived from guess={guess} with key={crack.key()}\")\n",
    "    plaintext = crack.decrypt(msg4)\n",
    "    print(format_plaintext(plaintext))"
   ],
   "id": "964d50e43cc21a56",
   "outputs": [
    {
     "name": "stdout",
     "output_type": "stream",
     "text": [
      "\n",
      "Trying an additive cipher derived from guess=('e', 'F') with key=1\n",
      "rsaqcwsyplexlipfsavssqwleoiwtievilehomrknslrwecettevirxpclia\n",
      "ewrxsrxliaewlmrkxsrfipxaecexxlixmqi\n",
      "\n",
      "Trying an additive cipher derived from guess=('e', 'J') with key=5\n",
      "nowmysoulhathelbowroomshakespearehadkingjohnsayapparentlyhew\n",
      "asntonthewashingtonbeltwayatthetime\n",
      "\n",
      "Trying an additive cipher derived from guess=('e', 'M') with key=8\n",
      "kltjvplriexqebiyltolljpexhbpmbxobexahfkdglekpxvxmmxobkqivebt\n",
      "xpkqlkqebtxpefkdqlkybiqtxvxqqebqfjb\n",
      "\n",
      "Trying an additive cipher derived from guess=('e', 'Y') with key=20\n",
      "yzhxjdzfwslespwmzhczzxdslvpdaplcpslovtyruzsydljlaalcpyewjsph\n",
      "ldyezyesphldstyrezympwehljleespetxp\n",
      "\n",
      "Trying an additive cipher derived from guess=('t', 'F') with key=12\n",
      "ghpfrlhneatmaxeuhpkhhflatdxlixtkxatwdbgzchagltrtiitkxgmeraxp\n",
      "tlgmhgmaxptlabgzmhguxemptrtmmaxmbfx\n",
      "\n",
      "Trying an additive cipher derived from guess=('t', 'J') with key=16\n",
      "cdlbnhdjawpiwtaqdlgddbhwpzthetpgtwpszxcvydwchpnpeepgtcianwtl\n",
      "phcidciwtlphwxcvidcqtailpnpiiwtixbt\n",
      "\n",
      "Trying an additive cipher derived from guess=('t', 'M') with key=19\n",
      "zaiykeagxtmftqxnaidaayetmwqebqmdqtmpwuzsvatzemkmbbmdqzfxktqi\n",
      "mezfazftqimetuzsfaznqxfimkmfftqfuyq\n",
      "\n",
      "Trying an additive cipher derived from guess=('t', 'Y') with key=5\n",
      "nowmysoulhathelbowroomshakespearehadkingjohnsayapparentlyhew\n",
      "asntonthewashingtonbeltwayatthetime\n",
      "\n",
      "Trying an additive cipher derived from guess=('a', 'F') with key=5\n",
      "nowmysoulhathelbowroomshakespearehadkingjohnsayapparentlyhew\n",
      "asntonthewashingtonbeltwayatthetime\n",
      "\n",
      "Trying an additive cipher derived from guess=('a', 'J') with key=9\n",
      "jksiuokqhdwpdahxksnkkiodwgaolawnadwzgejcfkdjowuwllwnajphudas\n",
      "wojpkjpdaswodejcpkjxahpswuwppdapeia\n",
      "\n",
      "Trying an additive cipher derived from guess=('a', 'M') with key=12\n",
      "ghpfrlhneatmaxeuhpkhhflatdxlixtkxatwdbgzchagltrtiitkxgmeraxp\n",
      "tlgmhgmaxptlabgzmhguxemptrtmmaxmbfx\n",
      "\n",
      "Trying an additive cipher derived from guess=('a', 'Y') with key=24\n",
      "uvdtfzvbsohaolsivdyvvtzohrlzwlhylohkrpunqvouzhfhwwhyluasfold\n",
      "hzuavuaoldhzopunavuilsadhfhaaolaptl\n",
      "\n",
      "Trying an additive cipher derived from guess=('o', 'F') with key=17\n",
      "bckamgcizvohvszpckfccagvoysgdsofsvorywbuxcvbgomoddofsbhzmvsk\n",
      "ogbhcbhvskogvwbuhcbpszhkomohhvshwas\n",
      "\n",
      "Trying an additive cipher derived from guess=('o', 'J') with key=21\n",
      "xygwicyevrkdrovlygbyywcrkuoczokborknusxqtyrxckikzzkboxdvirog\n",
      "kcxdyxdrogkcrsxqdyxlovdgkikddrodswo\n",
      "\n",
      "Trying an additive cipher derived from guess=('o', 'M') with key=24\n",
      "uvdtfzvbsohaolsivdyvvtzohrlzwlhylohkrpunqvouzhfhwwhyluasfold\n",
      "hzuavuaoldhzopunavuilsadhfhaaolaptl\n",
      "\n",
      "Trying an additive cipher derived from guess=('o', 'Y') with key=10\n",
      "ijrhtnjpgcvoczgwjrmjjhncvfznkzvmzcvyfdibejcinvtvkkvmziogtczr\n",
      "vniojioczrvncdibojiwzgorvtvooczodhz\n",
      "\n",
      "Trying an additive cipher derived from guess=('i', 'F') with key=23\n",
      "vweugawctpibpmtjwezwwuapismaxmizmpilsqvorwpvaigixxizmvbtgpme\n",
      "iavbwvbpmeiapqvobwvjmtbeigibbpmbqum\n",
      "\n",
      "Trying an additive cipher derived from guess=('i', 'J') with key=1\n",
      "rsaqcwsyplexlipfsavssqwleoiwtievilehomrknslrwecettevirxpclia\n",
      "ewrxsrxliaewlmrkxsrfipxaecexxlixmqi\n",
      "\n",
      "Trying an additive cipher derived from guess=('i', 'M') with key=4\n",
      "opxnztpvmibuifmcpxsppntiblftqfbsfibeljohkpiotbzbqqbsfoumzifx\n",
      "btoupouifxbtijohupocfmuxbzbuuifujnf\n",
      "\n",
      "Trying an additive cipher derived from guess=('i', 'Y') with key=16\n",
      "cdlbnhdjawpiwtaqdlgddbhwpzthetpgtwpszxcvydwchpnpeepgtcianwtl\n",
      "phcidciwtlphwxcvidcqtailpnpiiwtixbt\n",
      "\n",
      "Trying an additive cipher derived from guess=('n', 'F') with key=18\n",
      "abjzlfbhyunguryobjebbzfunxrfcrnerunqxvatwbuafnlnccneragylurj\n",
      "nfagbagurjnfuvatgbaorygjnlnggurgvzr\n",
      "\n",
      "Trying an additive cipher derived from guess=('n', 'J') with key=22\n",
      "wxfvhbxduqjcqnukxfaxxvbqjtnbynjanqjmtrwpsxqwbjhjyyjanwcuhqnf\n",
      "jbwcxwcqnfjbqrwpcxwknucfjhjccqncrvn\n",
      "\n",
      "Trying an additive cipher derived from guess=('n', 'M') with key=25\n",
      "tucseyuarngznkrhucxuusyngqkyvkgxkngjqotmpuntygegvvgxktzrenkc\n",
      "gytzutznkcgynotmzuthkrzcgegzznkzosk\n",
      "\n",
      "Trying an additive cipher derived from guess=('n', 'Y') with key=11\n",
      "hiqgsmiofbunbyfviqliigmbueymjyulybuxechadibhmusujjulyhnfsbyq\n",
      "umhnihnbyqumbchanihvyfnqusunnbyncgy\n",
      "\n",
      "Trying an additive cipher derived from guess=('s', 'F') with key=13\n",
      "fgoeqkgmdzslzwdtgojggekzscwkhwsjwzsvcafybgzfksqshhsjwfldqzwo\n",
      "skflgflzwoskzafylgftwdlosqsllzwlaew\n",
      "\n",
      "Trying an additive cipher derived from guess=('s', 'J') with key=17\n",
      "bckamgcizvohvszpckfccagvoysgdsofsvorywbuxcvbgomoddofsbhzmvsk\n",
      "ogbhcbhvskogvwbuhcbpszhkomohhvshwas\n",
      "\n",
      "Trying an additive cipher derived from guess=('s', 'M') with key=20\n",
      "yzhxjdzfwslespwmzhczzxdslvpdaplcpslovtyruzsydljlaalcpyewjsph\n",
      "ldyezyesphldstyrezympwehljleespetxp\n",
      "\n",
      "Trying an additive cipher derived from guess=('s', 'Y') with key=6\n",
      "mnvlxrntkgzsgdkanvqnnlrgzjdrodzqdgzcjhmfingmrzxzoozqdmskxgdv\n",
      "zrmsnmsgdvzrghmfsnmadksvzxzssgdshld\n",
      "\n",
      "Trying an additive cipher derived from guess=('h', 'F') with key=24\n",
      "uvdtfzvbsohaolsivdyvvtzohrlzwlhylohkrpunqvouzhfhwwhyluasfold\n",
      "hzuavuaoldhzopunavuilsadhfhaaolaptl\n",
      "\n",
      "Trying an additive cipher derived from guess=('h', 'J') with key=2\n",
      "qrzpbvrxokdwkhoerzurrpvkdnhvshduhkdgnlqjmrkqvdbdssduhqwobkhz\n",
      "dvqwrqwkhzdvklqjwrqehowzdbdwwkhwlph\n",
      "\n",
      "Trying an additive cipher derived from guess=('h', 'M') with key=5\n",
      "nowmysoulhathelbowroomshakespearehadkingjohnsayapparentlyhew\n",
      "asntonthewashingtonbeltwayatthetime\n",
      "\n",
      "Trying an additive cipher derived from guess=('h', 'Y') with key=17\n",
      "bckamgcizvohvszpckfccagvoysgdsofsvorywbuxcvbgomoddofsbhzmvsk\n",
      "ogbhcbhvskogvwbuhcbpszhkomohhvshwas\n"
     ]
    }
   ],
   "execution_count": 27
  },
  {
   "metadata": {},
   "cell_type": "markdown",
   "source": [
    "An *AdditiveCipher* derived from `guess=('e', 'J')` with `key=5` yielded\n",
    "\n",
    "```\n",
    "now my soul hath elbow room shakespeare had king john say apparently he wasnt\n",
    "on the washington beltway at the time\n",
    "```"
   ],
   "id": "4f2ed2a8f4b116a4"
  },
  {
   "metadata": {},
   "cell_type": "markdown",
   "source": "### 5. Decipher the following message.",
   "id": "890952586b969db5"
  },
  {
   "metadata": {
    "ExecuteTime": {
     "end_time": "2025-06-06T22:05:13.030659Z",
     "start_time": "2025-06-06T22:05:13.029239Z"
    }
   },
   "cell_type": "code",
   "source": [
    "msg5 = (\n",
    "    \"CWF FSK AAC KHW JAO ZHA NGA THO ZUW ENC AKK MUA KJA HR\"\n",
    ")"
   ],
   "id": "6ca394029caa876",
   "outputs": [],
   "execution_count": 28
  },
  {
   "metadata": {
    "ExecuteTime": {
     "end_time": "2025-06-06T22:05:13.042276Z",
     "start_time": "2025-06-06T22:05:13.037653Z"
    }
   },
   "cell_type": "code",
   "source": [
    "letters, digraphs, trigraphs = frequency_tabulator(msg5)\n",
    "display_fequency_tables(letters, digraphs, trigraphs)"
   ],
   "id": "c15c94b76cbd1b30",
   "outputs": [
    {
     "data": {
      "text/plain": [
       "<IPython.core.display.Math object>"
      ],
      "text/latex": "$\\displaystyle \\begin{array}[t]{ccc}\n\\begin{array}{c|c}\n\\text{Letter} & \\text{Frequency} \\\\\n\\hline\nA & 8 \\\\\nK & 5 \\\\\nH & 4 \\\\\nC & 3 \\\\\nW & 3 \\\\\nF & 2 \\\\\nJ & 2 \\\\\nO & 2 \\\\\nZ & 2 \\\\\nN & 2 \\\\\nU & 2 \\\\\nS & 1 \\\\\nG & 1 \\\\\nT & 1 \\\\\nE & 1 \\\\\nM & 1 \\\\\nR & 1 \\\\\n\\end{array} \\quad \\quad & \\begin{array}{c|c}\n\\text{Digraph} & \\text{Frequency} \\\\\n\\hline\nJA & 2 \\\\\nOZ & 2 \\\\\nAK & 2 \\\\\n\\end{array} \\quad \\quad & \\begin{array}{c|c}\n\\text{Trigraph} & \\text{Frequency} \\\\\n\\hline\n\\end{array}\n\\end{array}$"
     },
     "metadata": {},
     "output_type": "display_data"
    }
   ],
   "execution_count": 29
  },
  {
   "metadata": {
    "ExecuteTime": {
     "end_time": "2025-06-06T22:05:13.053634Z",
     "start_time": "2025-06-06T22:05:13.051948Z"
    }
   },
   "cell_type": "code",
   "source": [
    "# Build a set of single letter guesses and the top 4 occurring ciphertext letters\n",
    "guesses = build_guesses(top_letters, list(letters.keys())[:4])"
   ],
   "id": "f2f8dc4c62b6323d",
   "outputs": [],
   "execution_count": 30
  },
  {
   "metadata": {
    "ExecuteTime": {
     "end_time": "2025-06-06T22:05:13.062504Z",
     "start_time": "2025-06-06T22:05:13.059752Z"
    }
   },
   "cell_type": "code",
   "source": [
    "for guess in guesses:\n",
    "    crack = CrackAdditiveCipher(guess)\n",
    "    print(f\"\\nTrying an additive cipher derived from guess={guess} with key={crack.key()}\")\n",
    "    plaintext = crack.decrypt(msg5)\n",
    "    print(format_plaintext(plaintext))"
   ],
   "id": "e9e22461dfd1605c",
   "outputs": [
    {
     "name": "stdout",
     "output_type": "stream",
     "text": [
      "\n",
      "Trying an additive cipher derived from guess=('e', 'A') with key=22\n",
      "gajjwoeegolanesdlerkexlsdyairgeooqyeonelv\n",
      "\n",
      "Trying an additive cipher derived from guess=('e', 'K') with key=6\n",
      "wqzzmeuuwebqduitbuhaunbitoqyhwueegouedubl\n",
      "\n",
      "Trying an additive cipher derived from guess=('e', 'H') with key=3\n",
      "ztccphxxzhetgxlwexkdxqelwrtbkzxhhjrxhgxeo\n",
      "\n",
      "Trying an additive cipher derived from guess=('e', 'C') with key=24\n",
      "eyhhumccemjylcqbjcpicvjqbwygpecmmowcmlcjt\n",
      "\n",
      "Trying an additive cipher derived from guess=('t', 'A') with key=7\n",
      "vpyyldttvdapcthsatgztmahsnpxgvtddfntdctak\n",
      "\n",
      "Trying an additive cipher derived from guess=('t', 'K') with key=17\n",
      "lfoobtjjltqfsjxiqjwpjcqxidfnwljttvdjtsjqa\n",
      "\n",
      "Trying an additive cipher derived from guess=('t', 'H') with key=14\n",
      "oirrewmmowtivmaltmzsmftalgiqzomwwygmwvmtd\n",
      "\n",
      "Trying an additive cipher derived from guess=('t', 'C') with key=9\n",
      "tnwwjbrrtbynarfqyrexrkyfqlnvetrbbdlrbaryi\n",
      "\n",
      "Trying an additive cipher derived from guess=('a', 'A') with key=0\n",
      "cwffskaackhwjaozhangathozuwencakkmuakjahr\n",
      "\n",
      "Trying an additive cipher derived from guess=('a', 'K') with key=10\n",
      "smvviaqqsaxmzqepxqdwqjxepkmudsqaackqazqxh\n",
      "\n",
      "Trying an additive cipher derived from guess=('a', 'H') with key=7\n",
      "vpyyldttvdapcthsatgztmahsnpxgvtddfntdctak\n",
      "\n",
      "Trying an additive cipher derived from guess=('a', 'C') with key=2\n",
      "auddqiyyaifuhymxfyleyrfmxsuclayiiksyihyfp\n",
      "\n",
      "Trying an additive cipher derived from guess=('o', 'A') with key=12\n",
      "qkttgyooqyvkxocnvobuohvcniksbqoyyaioyxovf\n",
      "\n",
      "Trying an additive cipher derived from guess=('o', 'K') with key=22\n",
      "gajjwoeegolanesdlerkexlsdyairgeooqyeonelv\n",
      "\n",
      "Trying an additive cipher derived from guess=('o', 'H') with key=19\n",
      "jdmmzrhhjrodqhvgohunhaovgbdlujhrrtbhrqhoy\n",
      "\n",
      "Trying an additive cipher derived from guess=('o', 'C') with key=14\n",
      "oirrewmmowtivmaltmzsmftalgiqzomwwygmwvmtd\n",
      "\n",
      "Trying an additive cipher derived from guess=('i', 'A') with key=18\n",
      "kennasiiksperiwhpivoibpwhcemvkissucisripz\n",
      "\n",
      "Trying an additive cipher derived from guess=('i', 'K') with key=2\n",
      "auddqiyyaifuhymxfyleyrfmxsuclayiiksyihyfp\n",
      "\n",
      "Trying an additive cipher derived from guess=('i', 'H') with key=25\n",
      "dxggtlbbdlixkbpaibohbuipavxfodbllnvblkbis\n",
      "\n",
      "Trying an additive cipher derived from guess=('i', 'C') with key=20\n",
      "icllyqggiqncpgufngtmgznufacktigqqsagqpgnx\n",
      "\n",
      "Trying an additive cipher derived from guess=('n', 'A') with key=13\n",
      "pjssfxnnpxujwnbmunatngubmhjrapnxxzhnxwnue\n",
      "\n",
      "Trying an additive cipher derived from guess=('n', 'K') with key=23\n",
      "fziivnddfnkzmdrckdqjdwkrcxzhqfdnnpxdnmdku\n",
      "\n",
      "Trying an additive cipher derived from guess=('n', 'H') with key=20\n",
      "icllyqggiqncpgufngtmgznufacktigqqsagqpgnx\n",
      "\n",
      "Trying an additive cipher derived from guess=('n', 'C') with key=15\n",
      "nhqqdvllnvshulzkslyrleszkfhpynlvvxflvulsc\n",
      "\n",
      "Trying an additive cipher derived from guess=('s', 'A') with key=8\n",
      "uoxxkcssuczobsgrzsfyslzgrmowfusccemscbszj\n",
      "\n",
      "Trying an additive cipher derived from guess=('s', 'K') with key=18\n",
      "kennasiiksperiwhpivoibpwhcemvkissucisripz\n",
      "\n",
      "Trying an additive cipher derived from guess=('s', 'H') with key=15\n",
      "nhqqdvllnvshulzkslyrleszkfhpynlvvxflvulsc\n",
      "\n",
      "Trying an additive cipher derived from guess=('s', 'C') with key=10\n",
      "smvviaqqsaxmzqepxqdwqjxepkmudsqaackqazqxh\n",
      "\n",
      "Trying an additive cipher derived from guess=('h', 'A') with key=19\n",
      "jdmmzrhhjrodqhvgohunhaovgbdlujhrrtbhrqhoy\n",
      "\n",
      "Trying an additive cipher derived from guess=('h', 'K') with key=3\n",
      "ztccphxxzhetgxlwexkdxqelwrtbkzxhhjrxhgxeo\n",
      "\n",
      "Trying an additive cipher derived from guess=('h', 'H') with key=0\n",
      "cwffskaackhwjaozhangathozuwencakkmuakjahr\n",
      "\n",
      "Trying an additive cipher derived from guess=('h', 'C') with key=21\n",
      "hbkkxpffhpmboftemfslfymtezbjshfpprzfpofmw\n"
     ]
    }
   ],
   "execution_count": 31
  },
  {
   "metadata": {
    "ExecuteTime": {
     "end_time": "2025-06-06T22:05:13.071021Z",
     "start_time": "2025-06-06T22:05:13.068454Z"
    }
   },
   "cell_type": "code",
   "source": [
    "for guess in guesses:\n",
    "    try:\n",
    "        crack = CrackMultiplicativeCipher(guess)\n",
    "        print(f\"\\nTrying an multiplicative cipher derived from guess={guess} with key={crack.key()}\")\n",
    "        plaintext = crack.decrypt(msg5)\n",
    "        print(format_plaintext(plaintext))\n",
    "    except ValueError:\n",
    "        print(f\"\\nGuess: {guess} is not valid for multiplicative key\")"
   ],
   "id": "23640ad8e413cfc6",
   "outputs": [
    {
     "name": "stdout",
     "output_type": "stream",
     "text": [
      "\n",
      "Trying an multiplicative cipher derived from guess=('e', 'A') with key=21\n",
      "okddqceeocnkxewznerievnwzakyroeccmaecxenl\n",
      "\n",
      "Trying an multiplicative cipher derived from guess=('e', 'K') with key=23\n",
      "yaxxkeqqyefanquzfqdoqbfuzsagdyqeemsqenqft\n",
      "\n",
      "Guess: ('e', 'H') is not valid for multiplicative key\n",
      "\n",
      "Trying an multiplicative cipher derived from guess=('e', 'C') with key=11\n",
      "eujjwasseavuhsyzvsfcspvyziuqfesaamisahsvd\n",
      "\n",
      "Guess: ('t', 'A') is not valid for multiplicative key\n",
      "\n",
      "Guess: ('t', 'K') is not valid for multiplicative key\n",
      "\n",
      "Trying an multiplicative cipher derived from guess=('t', 'H') with key=3\n",
      "aybbouiiautylieztivkixtezgysvaiuumgiulitf\n",
      "\n",
      "Guess: ('t', 'C') is not valid for multiplicative key\n",
      "\n",
      "Trying an multiplicative cipher derived from guess=('a', 'A') with key=1\n",
      "cwffskaackhwjaozhangathozuwencakkmuakjahr\n",
      "\n",
      "Trying an multiplicative cipher derived from guess=('a', 'K') with key=11\n",
      "eujjwasseavuhsyzvsfcspvyziuqfesaamisahsvd\n",
      "\n",
      "Guess: ('a', 'H') is not valid for multiplicative key\n",
      "\n",
      "Trying an multiplicative cipher derived from guess=('a', 'C') with key=3\n",
      "aybbouiiautylieztivkixtezgysvaiuumgiulitf\n",
      "\n",
      "Trying an multiplicative cipher derived from guess=('o', 'A') with key=7\n",
      "sgllyioosipgtoqzpobaonpqzcgwbsoiimcoitopj\n",
      "\n",
      "Trying an multiplicative cipher derived from guess=('o', 'K') with key=25\n",
      "wcttgoyyworcpykzrylsyfrkzeculwyoomeyopyrh\n",
      "\n",
      "Guess: ('o', 'H') is not valid for multiplicative key\n",
      "\n",
      "Trying an multiplicative cipher derived from guess=('o', 'C') with key=21\n",
      "okddqceeocnkxewznerievnwzakyroeccmaecxenl\n",
      "\n",
      "Trying an multiplicative cipher derived from guess=('i', 'A') with key=3\n",
      "aybbouiiautylieztivkixtezgysvaiuumgiulitf\n",
      "\n",
      "Trying an multiplicative cipher derived from guess=('i', 'K') with key=7\n",
      "sgllyioosipgtoqzpobaonpqzcgwbsoiimcoitopj\n",
      "\n",
      "Guess: ('i', 'H') is not valid for multiplicative key\n",
      "\n",
      "Trying an multiplicative cipher derived from guess=('i', 'C') with key=9\n",
      "iqrregccigxqdcszxcpuchxszkqopicggmkcgdcxb\n",
      "\n",
      "Guess: ('n', 'A') is not valid for multiplicative key\n",
      "\n",
      "Guess: ('n', 'K') is not valid for multiplicative key\n",
      "\n",
      "Trying an multiplicative cipher derived from guess=('n', 'H') with key=21\n",
      "okddqceeocnkxewznerievnwzakyroeccmaecxenl\n",
      "\n",
      "Guess: ('n', 'C') is not valid for multiplicative key\n",
      "\n",
      "Trying an multiplicative cipher derived from guess=('s', 'A') with key=11\n",
      "eujjwasseavuhsyzvsfcspvyziuqfesaamisahsvd\n",
      "\n",
      "Trying an multiplicative cipher derived from guess=('s', 'K') with key=17\n",
      "qihhuswwqsbivwgzbwjewrbgzoikjqwssmowsvwbx\n",
      "\n",
      "Guess: ('s', 'H') is not valid for multiplicative key\n",
      "\n",
      "Trying an multiplicative cipher derived from guess=('s', 'C') with key=7\n",
      "sgllyioosipgtoqzpobaonpqzcgwbsoiimcoitopj\n",
      "\n",
      "Guess: ('h', 'A') is not valid for multiplicative key\n",
      "\n",
      "Guess: ('h', 'K') is not valid for multiplicative key\n",
      "\n",
      "Trying an multiplicative cipher derived from guess=('h', 'H') with key=1\n",
      "cwffskaackhwjaozhangathozuwencakkmuakjahr\n",
      "\n",
      "Guess: ('h', 'C') is not valid for multiplicative key\n"
     ]
    }
   ],
   "execution_count": 32
  },
  {
   "metadata": {
    "ExecuteTime": {
     "end_time": "2025-06-06T22:05:13.083957Z",
     "start_time": "2025-06-06T22:05:13.080788Z"
    }
   },
   "cell_type": "code",
   "source": [
    "guesses = build_guesses(top_digraphs, list(digraphs.keys())[:4])\n",
    "for guess in guesses:\n",
    "    try:\n",
    "        crack = CrackAffineCipher(guess)\n",
    "        print(f\"\\nTrying possible solution {guess}: mult_key:{crack.mult_key()}  add_key:{crack.add_key()}\")\n",
    "        plaintext = crack.decrypt(msg5)\n",
    "        print(format_plaintext(plaintext))\n",
    "    except ValueError:\n",
    "        print(f\"\\n{guess} not a possible solution\")"
   ],
   "id": "929955171efff7f9",
   "outputs": [
    {
     "name": "stdout",
     "output_type": "stream",
     "text": [
      "\n",
      "(('t', 'J'), ('h', 'A')) not a possible solution\n",
      "\n",
      "(('t', 'O'), ('h', 'Z')) not a possible solution\n",
      "\n",
      "(('t', 'A'), ('h', 'K')) not a possible solution\n",
      "\n",
      "(('t', 'C'), ('h', 'W')) not a possible solution\n",
      "\n",
      "(('e', 'J'), ('r', 'A')) not a possible solution\n",
      "\n",
      "(('e', 'O'), ('r', 'Z')) not a possible solution\n",
      "\n",
      "(('e', 'A'), ('r', 'K')) not a possible solution\n",
      "\n",
      "(('e', 'C'), ('r', 'W')) not a possible solution\n",
      "\n",
      "Trying possible solution (('o', 'J'), ('n', 'A')): mult_key:9  add_key:15\n",
      "tbccprnntribondkinafnsidkvbzatnrrxvnronim\n",
      "\n",
      "Trying possible solution (('o', 'O'), ('n', 'Z')): mult_key:15  add_key:12\n",
      "isddqmuuimrsfuonruhkuxroneswhiummaeumfurj\n",
      "\n",
      "(('o', 'A'), ('n', 'K')) not a possible solution\n",
      "\n",
      "(('o', 'C'), ('n', 'W')) not a possible solution\n",
      "\n",
      "(('a', 'J'), ('n', 'A')) not a possible solution\n",
      "\n",
      "(('a', 'O'), ('n', 'Z')) not a possible solution\n",
      "\n",
      "(('a', 'A'), ('n', 'K')) not a possible solution\n",
      "\n",
      "(('a', 'C'), ('n', 'W')) not a possible solution\n",
      "\n",
      "(('r', 'J'), ('e', 'A')) not a possible solution\n",
      "\n",
      "(('r', 'O'), ('e', 'Z')) not a possible solution\n",
      "\n",
      "(('r', 'A'), ('e', 'K')) not a possible solution\n",
      "\n",
      "(('r', 'C'), ('e', 'W')) not a possible solution\n",
      "\n",
      "Trying possible solution (('h', 'J'), ('e', 'A')): mult_key:3  add_key:4\n",
      "wuxxkqeewqpuheavpergetpavcuorweqqiceqhepb\n",
      "\n",
      "Trying possible solution (('h', 'O'), ('e', 'Z')): mult_key:5  add_key:21\n",
      "ptaanbzzpbqtgzheqzmvziqhedtfmpzbbrdzbgzqs\n",
      "\n",
      "(('h', 'A'), ('e', 'K')) not a possible solution\n",
      "\n",
      "(('h', 'C'), ('e', 'W')) not a possible solution\n",
      "\n",
      "Trying possible solution (('i', 'J'), ('n', 'A')): mult_key:19  add_key:23\n",
      "jvqqdtnnjtmvinlcmnabnomlczvfajnttpzntinms\n",
      "\n",
      "Trying possible solution (('i', 'O'), ('n', 'Z')): mult_key:23  add_key:12\n",
      "mollyseemstobeinterceptingourmessagesbeth\n",
      "\n",
      "(('i', 'A'), ('n', 'K')) not a possible solution\n",
      "\n",
      "(('i', 'C'), ('n', 'W')) not a possible solution\n",
      "\n",
      "Trying possible solution (('e', 'J'), ('d', 'A')): mult_key:9  add_key:25\n",
      "jrssfhddjhyredtaydqvdiytalrpqjdhhnldhedyc\n",
      "\n",
      "Trying possible solution (('e', 'O'), ('d', 'Z')): mult_key:15  add_key:22\n",
      "yittgckkychivkedhkxaknheduimxykccqukcvkhz\n",
      "\n",
      "(('e', 'A'), ('d', 'K')) not a possible solution\n",
      "\n",
      "(('e', 'C'), ('d', 'W')) not a possible solution\n",
      "\n",
      "Trying possible solution (('e', 'J'), ('n', 'A')): mult_key:25  add_key:11\n",
      "lriivdnnldgrenzognahnugzotrjalnddbtndengw\n",
      "\n",
      "Trying possible solution (('e', 'O'), ('n', 'Z')): mult_key:7  add_key:12\n",
      "guzzmwccgwduhcendcpocbdenqukpgcwwaqcwhcdx\n",
      "\n",
      "(('e', 'A'), ('n', 'K')) not a possible solution\n",
      "\n",
      "(('e', 'C'), ('n', 'W')) not a possible solution\n",
      "\n",
      "(('n', 'J'), ('d', 'A')) not a possible solution\n",
      "\n",
      "(('n', 'O'), ('d', 'Z')) not a possible solution\n",
      "\n",
      "(('n', 'A'), ('d', 'K')) not a possible solution\n",
      "\n",
      "(('n', 'C'), ('d', 'W')) not a possible solution\n"
     ]
    }
   ],
   "execution_count": 33
  },
  {
   "metadata": {},
   "cell_type": "markdown",
   "source": [
    "A **AffineCipher** derived from guess  `(('i', 'O'), ('n', 'Z'))` with  `mult_key:23  add_key:12` yields\n",
    "\n",
    "```\n",
    "molly seems to be intercepting our messages beth\n",
    "```"
   ],
   "id": "5e10f0be8ab19301"
  },
  {
   "metadata": {},
   "cell_type": "markdown",
   "source": "### 6. Decipher the following message.",
   "id": "a754187baa647352"
  },
  {
   "metadata": {
    "ExecuteTime": {
     "end_time": "2025-06-06T22:05:13.092776Z",
     "start_time": "2025-06-06T22:05:13.091380Z"
    }
   },
   "cell_type": "code",
   "source": [
    "msg6 = (\n",
    "    \"ARO EXJ FPE LJB QLK RJB OLR PFK PQF QRQ FLK PLC EFD EBO IBX OKF KDF \" +\n",
    "    \"KZI RAF KDA RHB XKA QEB RKF SBO PFQ VLC KLO QEZ XOL IFK XTE BOB QEB \" +\n",
    "    \"VEX SBZ IXP PBP FKX AAF QFL KQL YXP HBQ YXI IQB XJP\"\n",
    ")"
   ],
   "id": "349ed871d777d3c",
   "outputs": [],
   "execution_count": 34
  },
  {
   "metadata": {
    "ExecuteTime": {
     "end_time": "2025-06-06T22:05:13.101964Z",
     "start_time": "2025-06-06T22:05:13.099769Z"
    }
   },
   "cell_type": "code",
   "source": [
    "letters, digraphs, trigraphs = frequency_tabulator(msg6)\n",
    "display_fequency_tables(letters, digraphs, trigraphs)"
   ],
   "id": "90babaf63b430fd5",
   "outputs": [
    {
     "data": {
      "text/plain": [
       "<IPython.core.display.Math object>"
      ],
      "text/latex": "$\\displaystyle \\begin{array}[t]{ccc}\n\\begin{array}{c|c}\n\\text{Letter} & \\text{Frequency} \\\\\n\\hline\nF & 14 \\\\\nB & 14 \\\\\nK & 13 \\\\\nQ & 12 \\\\\nX & 11 \\\\\nP & 10 \\\\\nL & 10 \\\\\nE & 9 \\\\\nO & 8 \\\\\nR & 7 \\\\\nA & 6 \\\\\nI & 6 \\\\\nJ & 4 \\\\\nD & 3 \\\\\nZ & 3 \\\\\nC & 2 \\\\\nH & 2 \\\\\nS & 2 \\\\\nV & 2 \\\\\nY & 2 \\\\\nT & 1 \\\\\n\\end{array} \\quad \\quad & \\begin{array}{c|c}\n\\text{Digraph} & \\text{Frequency} \\\\\n\\hline\nFK & 6 \\\\\nBO & 4 \\\\\nEB & 4 \\\\\nBQ & 3 \\\\\nLK & 3 \\\\\nPF & 3 \\\\\nQF & 3 \\\\\nFQ & 3 \\\\\nBX & 3 \\\\\nQE & 3 \\\\\nAR & 2 \\\\\nEX & 2 \\\\\nXJ & 2 \\\\\nJB & 2 \\\\\nQL & 2 \\\\\nOL & 2 \\\\\nKP & 2 \\\\\nFL & 2 \\\\\nLC & 2 \\\\\nXO & 2 \\\\\nKF & 2 \\\\\nKD & 2 \\\\\nZI & 2 \\\\\nAF & 2 \\\\\nHB & 2 \\\\\nSB & 2 \\\\\nKX & 2 \\\\\nXP & 2 \\\\\nYX & 2 \\\\\n\\end{array} \\quad \\quad & \\begin{array}{c|c}\n\\text{Trigraph} & \\text{Frequency} \\\\\n\\hline\nPFK & 2 \\\\\nQFL & 2 \\\\\nFLK & 2 \\\\\nEBO & 2 \\\\\nFKD & 2 \\\\\nQEB & 2 \\\\\nFKX & 2 \\\\\n\\end{array}\n\\end{array}$"
     },
     "metadata": {},
     "output_type": "display_data"
    }
   ],
   "execution_count": 35
  },
  {
   "metadata": {
    "ExecuteTime": {
     "end_time": "2025-06-06T22:05:13.112175Z",
     "start_time": "2025-06-06T22:05:13.109901Z"
    }
   },
   "cell_type": "code",
   "source": "guesses = build_guesses(top_letters, list(letters.keys())[:4])",
   "id": "ecaa205af3942cf0",
   "outputs": [],
   "execution_count": 36
  },
  {
   "metadata": {
    "ExecuteTime": {
     "end_time": "2025-06-06T22:05:13.123339Z",
     "start_time": "2025-06-06T22:05:13.119640Z"
    }
   },
   "cell_type": "code",
   "source": [
    "for guess in guesses:\n",
    "    crack = CrackAdditiveCipher(guess)\n",
    "    print(f\"\\nTrying an additive cipher derived from guess={guess} with key={crack.key()}\")\n",
    "    plaintext = crack.decrypt(msg6)\n",
    "    print(format_plaintext(plaintext))"
   ],
   "id": "440654c3d9c679e3",
   "outputs": [
    {
     "name": "stdout",
     "output_type": "stream",
     "text": [
      "\n",
      "Trying an additive cipher derived from guess=('e', 'F') with key=1\n",
      "zqndwieodkiapkjqiankqoejopepqpekjokbdecdanhawnjejcejyhqzejcz\n",
      "qgawjzpdaqjeranoepukbjknpdywnkhejwsdanapdaudwrayhwooaoejwzze\n",
      "pekjpkxwogapxwhhpawio\n",
      "\n",
      "Trying an additive cipher derived from guess=('e', 'B') with key=23\n",
      "durhamishometonumerousinstitutionsofhigherlearningincludingd\n",
      "ukeandtheuniversityofnorthcarolinawheretheyhaveclassesinaddi\n",
      "tiontobasketballteams\n",
      "\n",
      "Trying an additive cipher derived from guess=('e', 'K') with key=6\n",
      "uliyrdzjyfdvkfeldvifljzejkzklkzfejfwyzxyvicvriezexzetcluzexu\n",
      "lbvreukyvlezmvijzkpfwefikytrifczernyvivkyvpyrmvtcrjjvjzeruuz\n",
      "kzfekfsrjbvksrcckvrdj\n",
      "\n",
      "Trying an additive cipher derived from guess=('e', 'Q') with key=12\n",
      "ofcslxtdszxpezyfxpczfdtydetefetzydzqstrspcwplcytyrtynwfotyro\n",
      "fvplyoespfytgpcdtejzqyzcesnlczwtylhspcpespjslgpnwlddpdtyloot\n",
      "etzyezmldvpemlwweplxd\n",
      "\n",
      "Trying an additive cipher derived from guess=('t', 'F') with key=12\n",
      "ofcslxtdszxpezyfxpczfdtydetefetzydzqstrspcwplcytyrtynwfotyro\n",
      "fvplyoespfytgpcdtejzqyzcesnlczwtylhspcpespjslgpnwlddpdtyloot\n",
      "etzyezmldvpemlwweplxd\n",
      "\n",
      "Trying an additive cipher derived from guess=('t', 'B') with key=8\n",
      "sjgwpbxhwdbtidcjbtgdjhxchixijixdchduwxvwtgatpgcxcvxcrajsxcvs\n",
      "jztpcsiwtjcxktghxinducdgiwrpgdaxcplwtgtiwtnwpktraphhthxcpssx\n",
      "ixdcidqphztiqpaaitpbh\n",
      "\n",
      "Trying an additive cipher derived from guess=('t', 'K') with key=17\n",
      "jaxngsoynuskzutaskxuayotyzozazoutyulnomnkxrkgxtotmotirajotmj\n",
      "aqkgtjznkatobkxyozeultuxznigxurotgcnkxkznkengbkirgyykyotgjjo\n",
      "zoutzuhgyqkzhgrrzkgsy\n",
      "\n",
      "Trying an additive cipher derived from guess=('t', 'Q') with key=23\n",
      "durhamishometonumerousinstitutionsofhigherlearningincludingd\n",
      "ukeandtheuniversityofnorthcarolinawheretheyhaveclassesinaddi\n",
      "tiontobasketballteams\n",
      "\n",
      "Trying an additive cipher derived from guess=('a', 'F') with key=5\n",
      "vmjzseakzgewlgfmewjgmkafklalmlagfkgxzayzwjdwsjfafyafudmvafyv\n",
      "mcwsfvlzwmfanwjkalqgxfgjlzusjgdafsozwjwlzwqzsnwudskkwkafsvva\n",
      "lagflgtskcwltsddlwsek\n",
      "\n",
      "Trying an additive cipher derived from guess=('a', 'B') with key=1\n",
      "zqndwieodkiapkjqiankqoejopepqpekjokbdecdanhawnjejcejyhqzejcz\n",
      "qgawjzpdaqjeranoepukbjknpdywnkhejwsdanapdaudwrayhwooaoejwzze\n",
      "pekjpkxwogapxwhhpawio\n",
      "\n",
      "Trying an additive cipher derived from guess=('a', 'K') with key=10\n",
      "qheunzvfubzrgbahzrebhfvafgvghgvbafbsuvtureyrneavatvapyhqvatq\n",
      "hxrnaqgurhavirefvglbsabegupnebyvanjurergurlunirpynffrfvanqqv\n",
      "gvbagbonfxrgonyygrnzf\n",
      "\n",
      "Trying an additive cipher derived from guess=('a', 'Q') with key=16\n",
      "kbyohtpzovtlavubtlyvbzpuzapabapvuzvmopnolyslhyupunpujsbkpunk\n",
      "brlhukaolbupclyzpafvmuvyaojhyvspuhdolylaolfohcljshzzlzpuhkkp\n",
      "apvuavihzrlaihssalhtz\n",
      "\n",
      "Trying an additive cipher derived from guess=('o', 'F') with key=17\n",
      "jaxngsoynuskzutaskxuayotyzozazoutyulnomnkxrkgxtotmotirajotmj\n",
      "aqkgtjznkatobkxyozeultuxznigxurotgcnkxkznkengbkirgyykyotgjjo\n",
      "zoutzuhgyqkzhgrrzkgsy\n",
      "\n",
      "Trying an additive cipher derived from guess=('o', 'B') with key=13\n",
      "nebrkwscrywodyxewobyecsxcdsdedsyxcyprsqrobvokbxsxqsxmvensxqn\n",
      "euokxndroexsfobcsdiypxybdrmkbyvsxkgrobodroirkfomvkccocsxknns\n",
      "dsyxdylkcuodlkvvdokwc\n",
      "\n",
      "Trying an additive cipher derived from guess=('o', 'K') with key=22\n",
      "evsibnjtipnfupovnfspvtjotujuvujpotpgijhifsmfbsojohjodmvejohe\n",
      "vlfboeuifvojwfstjuzpgopsuidbspmjobxifsfuifzibwfdmbttftjobeej\n",
      "ujpoupcbtlfucbmmufbnt\n",
      "\n",
      "Trying an additive cipher derived from guess=('o', 'Q') with key=2\n",
      "ypmcvhdncjhzojiphzmjpndinodopodjinjacdbczmgzvmidibdixgpydiby\n",
      "pfzviyoczpidqzmndotjaijmocxvmjgdivrczmzocztcvqzxgvnnzndivyyd\n",
      "odjiojwvnfzowvggozvhn\n",
      "\n",
      "Trying an additive cipher derived from guess=('i', 'F') with key=23\n",
      "durhamishometonumerousinstitutionsofhigherlearningincludingd\n",
      "ukeandtheuniversityofnorthcarolinawheretheyhaveclassesinaddi\n",
      "tiontobasketballteams\n",
      "\n",
      "Trying an additive cipher derived from guess=('i', 'B') with key=19\n",
      "hyvleqmwlsqixsryqivsywmrwxmxyxmsrwsjlmklivpievrmrkmrgpyhmrkh\n",
      "yoierhxliyrmzivwmxcsjrsvxlgevspmrealivixliclezigpewwiwmrehhm\n",
      "xmsrxsfewoixfeppxieqw\n",
      "\n",
      "Trying an additive cipher derived from guess=('i', 'K') with key=2\n",
      "ypmcvhdncjhzojiphzmjpndinodopodjinjacdbczmgzvmidibdixgpydiby\n",
      "pfzviyoczpidqzmndotjaijmocxvmjgdivrczmzocztcvqzxgvnnzndivyyd\n",
      "odjiojwvnfzowvggozvhn\n",
      "\n",
      "Trying an additive cipher derived from guess=('i', 'Q') with key=8\n",
      "sjgwpbxhwdbtidcjbtgdjhxchixijixdchduwxvwtgatpgcxcvxcrajsxcvs\n",
      "jztpcsiwtjcxktghxinducdgiwrpgdaxcplwtgtiwtnwpktraphhthxcpssx\n",
      "ixdcidqphztiqpaaitpbh\n",
      "\n",
      "Trying an additive cipher derived from guess=('n', 'F') with key=18\n",
      "izwmfrnxmtrjytszrjwtzxnsxynyzyntsxtkmnlmjwqjfwsnslnshqzinsli\n",
      "zpjfsiymjzsnajwxnydtkstwymhfwtqnsfbmjwjymjdmfajhqfxxjxnsfiin\n",
      "yntsytgfxpjygfqqyjfrx\n",
      "\n",
      "Trying an additive cipher derived from guess=('n', 'B') with key=14\n",
      "mdaqjvrbqxvncxwdvnaxdbrwbcrcdcrxwbxoqrpqnaunjawrwprwludmrwpm\n",
      "dtnjwmcqndwrenabrchxowxacqljaxurwjfqnancqnhqjenlujbbnbrwjmmr\n",
      "crxwcxkjbtnckjuucnjvb\n",
      "\n",
      "Trying an additive cipher derived from guess=('n', 'K') with key=23\n",
      "durhamishometonumerousinstitutionsofhigherlearningincludingd\n",
      "ukeandtheuniversityofnorthcarolinawheretheyhaveclassesinaddi\n",
      "tiontobasketballteams\n",
      "\n",
      "Trying an additive cipher derived from guess=('n', 'Q') with key=3\n",
      "xolbugcmbigynihogyliomchmncnoncihmizbcabylfyulhchachwfoxchax\n",
      "oeyuhxnbyohcpylmcnsizhilnbwulifchuqbylynbysbupywfummymchuxxc\n",
      "ncihnivumeynvuffnyugm\n",
      "\n",
      "Trying an additive cipher derived from guess=('s', 'F') with key=13\n",
      "nebrkwscrywodyxewobyecsxcdsdedsyxcyprsqrobvokbxsxqsxmvensxqn\n",
      "euokxndroexsfobcsdiypxybdrmkbyvsxkgrobodroirkfomvkccocsxknns\n",
      "dsyxdylkcuodlkvvdokwc\n",
      "\n",
      "Trying an additive cipher derived from guess=('s', 'B') with key=9\n",
      "rifvoawgvcashcbiasfcigwbghwhihwcbgctvwuvsfzsofbwbuwbqzirwbur\n",
      "iysobrhvsibwjsfgwhmctbcfhvqofczwbokvsfshvsmvojsqzoggsgwborrw\n",
      "hwcbhcpogyshpozzhsoag\n",
      "\n",
      "Trying an additive cipher derived from guess=('s', 'K') with key=18\n",
      "izwmfrnxmtrjytszrjwtzxnsxynyzyntsxtkmnlmjwqjfwsnslnshqzinsli\n",
      "zpjfsiymjzsnajwxnydtkstwymhfwtqnsfbmjwjymjdmfajhqfxxjxnsfiin\n",
      "yntsytgfxpjygfqqyjfrx\n",
      "\n",
      "Trying an additive cipher derived from guess=('s', 'Q') with key=24\n",
      "ctqgzlhrgnldsnmtldqntrhmrshstshnmrneghfgdqkdzqmhmfhmbktchmfc\n",
      "tjdzmcsgdtmhudqrhsxnemnqsgbzqnkhmzvgdqdsgdxgzudbkzrrdrhmzcch\n",
      "shnmsnazrjdsazkksdzlr\n",
      "\n",
      "Trying an additive cipher derived from guess=('h', 'F') with key=24\n",
      "ctqgzlhrgnldsnmtldqntrhmrshstshnmrneghfgdqkdzqmhmfhmbktchmfc\n",
      "tjdzmcsgdtmhudqrhsxnemnqsgbzqnkhmzvgdqdsgdxgzudbkzrrdrhmzcch\n",
      "shnmsnazrjdsazkksdzlr\n",
      "\n",
      "Trying an additive cipher derived from guess=('h', 'B') with key=20\n",
      "gxukdplvkrphwrqxphurxvlqvwlwxwlrqvrikljkhuohduqlqjlqfoxglqjg\n",
      "xnhdqgwkhxqlyhuvlwbriqruwkfdurolqdzkhuhwkhbkdyhfodvvhvlqdggl\n",
      "wlrqwredvnhwedoowhdpv\n",
      "\n",
      "Trying an additive cipher derived from guess=('h', 'K') with key=3\n",
      "xolbugcmbigynihogyliomchmncnoncihmizbcabylfyulhchachwfoxchax\n",
      "oeyuhxnbyohcpylmcnsizhilnbwulifchuqbylynbysbupywfummymchuxxc\n",
      "ncihnivumeynvuffnyugm\n",
      "\n",
      "Trying an additive cipher derived from guess=('h', 'Q') with key=9\n",
      "rifvoawgvcashcbiasfcigwbghwhihwcbgctvwuvsfzsofbwbuwbqzirwbur\n",
      "iysobrhvsibwjsfgwhmctbcfhvqofczwbokvsfshvsmvojsqzoggsgwborrw\n",
      "hwcbhcpogyshpozzhsoag\n"
     ]
    }
   ],
   "execution_count": 37
  },
  {
   "metadata": {},
   "cell_type": "markdown",
   "source": [
    "An **AddativeCipher** derived from guess `guess=('e', 'B')` with `key=23` yielded\n",
    "\n",
    "```\n",
    "durham is home to numerous institutions of higher learning including duke\n",
    "and the university of north carolina where they have classes in addition\n",
    "to basketball teams\n",
    "```"
   ],
   "id": "3b4ffb032f71d117"
  }
 ],
 "metadata": {
  "kernelspec": {
   "display_name": "Python 3",
   "language": "python",
   "name": "python3"
  },
  "language_info": {
   "codemirror_mode": {
    "name": "ipython",
    "version": 2
   },
   "file_extension": ".py",
   "mimetype": "text/x-python",
   "name": "python",
   "nbconvert_exporter": "python",
   "pygments_lexer": "ipython2",
   "version": "2.7.6"
  }
 },
 "nbformat": 4,
 "nbformat_minor": 5
}
