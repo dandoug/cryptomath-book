{
 "cells": [
  {
   "metadata": {},
   "cell_type": "markdown",
   "source": [
    "# 4.4 Other Illustrations of Public Key Cryptography\n",
    "\n",
    "## Exercises 4.4"
   ],
   "id": "6cc819de21321499"
  },
  {
   "metadata": {
    "ExecuteTime": {
     "end_time": "2025-07-18T21:30:45.041930Z",
     "start_time": "2025-07-18T21:30:44.318902Z"
    }
   },
   "cell_type": "code",
   "source": [
    "%%capture\n",
    "%run ./4_3_two_examples.ipynb\n",
    "from sympy import isprime\n",
    "\n",
    "from __main__ import EncodingScheme, pk_encrypt, pk_decrypt"
   ],
   "id": "bdbf9edaabf1ca23",
   "outputs": [],
   "execution_count": 4
  },
  {
   "metadata": {},
   "cell_type": "markdown",
   "source": [
    "\n",
    "### 1. `[26, 12, 22, 58, 61]`. That's the signature of a former Special Agent for the FBI in the 1960s. It has been encoded using the agent's private key, which is none of your business. Verify the signature by using his public key $7$ with $n = 77$. The text-numeric correspondence is the one relating a letter to its alphabetic position. Each integer corresponds to a single letter."
   ],
   "id": "bb860294baf90a49"
  },
  {
   "metadata": {
    "ExecuteTime": {
     "end_time": "2025-07-18T21:21:33.832893Z",
     "start_time": "2025-07-18T21:21:33.828632Z"
    }
   },
   "cell_type": "code",
   "source": [
    "Tuple1Char = Tuple[CharStr, Literal[1]]\n",
    "class OneCharEncoder(EncodingScheme[Literal[1]]):\n",
    "    \"\"\"Single character encoder using alphabetic position one charater at a time.\"\"\"\n",
    "    _CHARS = \"\\0abcdefghijklmnopqrstuvwxyz\"\n",
    "    def pos(self, char: CharStr) -> int:\n",
    "        if char.lower() not in self._CHARS:\n",
    "            raise ValueError(f\"Expected valid char, got {char}\")\n",
    "        return self._CHARS.index(char.lower())\n",
    "    def char_at(self, pos: int) -> CharStr:\n",
    "        index = pos % 26\n",
    "        if index < 1:\n",
    "            index += 26\n",
    "        return self._CHARS[pos]\n",
    "    def encode(self, chars: Tuple1Char) -> int:\n",
    "        if len(chars) != 1 or len(chars[0]) != 1:\n",
    "            raise ValueError(f\"Expected valid 1 char tuple, got {chars}\")\n",
    "        return self.pos(chars[0])\n",
    "    def decode(self, encoded_chars: int) -> Tuple1Char:\n",
    "        return (self.char_at(encoded_chars))\n",
    "    def block_size(self) -> int:\n",
    "        return 1\n",
    "encoder_1 = OneCharEncoder()"
   ],
   "id": "60b2e79234cb9ca1",
   "outputs": [],
   "execution_count": 2
  },
  {
   "metadata": {
    "ExecuteTime": {
     "end_time": "2025-07-18T21:21:33.862816Z",
     "start_time": "2025-07-18T21:21:33.859038Z"
    }
   },
   "cell_type": "code",
   "source": [
    "sig_1 = [26, 12, 22, 58, 61]\n",
    "verified_sig = pk_decrypt(7, 77, encoder_1, sig_1)\n",
    "print(f\"Verified signature: {verified_sig}\")"
   ],
   "id": "dee27a729da7a1fb",
   "outputs": [
    {
     "name": "stdout",
     "output_type": "stream",
     "text": [
      "Verified signature: elvis\n"
     ]
    }
   ],
   "execution_count": 3
  },
  {
   "metadata": {
    "ExecuteTime": {
     "end_time": "2025-07-18T22:10:52.190870Z",
     "start_time": "2025-07-18T22:10:52.183209Z"
    }
   },
   "cell_type": "code",
   "source": [
    "class DiffieHellmanExchange:\n",
    "    \"\"\" Diffie-Hellman Key Exchange\"\"\"\n",
    "    def __init__(self, p:int, q:int):\n",
    "        if p < 2 or not isprime(p):\n",
    "            raise ValueError(f\"Expected prime p, p>2, got {p}\")\n",
    "        self.p = p\n",
    "        if not 1 < q < p:\n",
    "            raise ValueError(f\"Expected q, 1<q<p, got {q}\")\n",
    "        self.q = q\n",
    "    def init_msg(self, key:int) -> int:\n",
    "        \"\"\" Compute the initial message for a DF exchange \"\"\"\n",
    "        if not 2 < key < self.p:\n",
    "            raise ValueError(f\"Expected key, 2<key<p, got {key}\")\n",
    "        return pow(self.q, key, self.p)\n",
    "    def final_msg(self, msg:int, key:int) -> int:\n",
    "        \"\"\" Compute the intermediate message for a DF exchange \"\"\"\n",
    "        if not 2 < key < self.p:\n",
    "            raise ValueError(f\"Expected key, 2<key<p, got {key}\")\n",
    "        if not 0 < msg < self.p:\n",
    "            raise ValueError(f\"Expected msg, 0<msg<p, got {msg}\")\n",
    "        return pow(msg, key, self.p)"
   ],
   "id": "20b543bcdc3f62df",
   "outputs": [],
   "execution_count": 11
  },
  {
   "metadata": {},
   "cell_type": "markdown",
   "source": [
    "\n",
    "### 2. Two individuals decide to use the Diffie-Hellman Key Exchange System to communicate a keyword. They agree that $p = 11$ and $q = 8$. One chooses private key $3$ and the other private key $4$. Verify that they each wind up with the same keyword."
   ],
   "id": "479628a6a3bab68"
  },
  {
   "metadata": {
    "ExecuteTime": {
     "end_time": "2025-07-18T22:17:21.084358Z",
     "start_time": "2025-07-18T22:17:21.079075Z"
    }
   },
   "cell_type": "code",
   "source": [
    "df = DiffieHellmanExchange(p=11, q=8)\n",
    "A_key = 3\n",
    "B_key = 4\n",
    "\n",
    "A_init_msg = df.init_msg(A_key)\n",
    "print(f\"A's init msg: {A_init_msg}\")\n",
    "\n",
    "B_init_msg = df.init_msg(B_key)\n",
    "print(f\"B's init msg: {B_init_msg}\\n\")\n",
    "\n",
    "print(f\"A's final msg: {df.final_msg(B_init_msg, A_key)}\")\n",
    "print(f\"B's final msg: {df.final_msg(A_init_msg, B_key)}\")\n"
   ],
   "id": "947acad1e3694954",
   "outputs": [
    {
     "name": "stdout",
     "output_type": "stream",
     "text": [
      "A's init msg: 6\n",
      "B's init msg: 4\n",
      "\n",
      "A's final msg: 9\n",
      "B's final msg: 9\n"
     ]
    }
   ],
   "execution_count": 17
  },
  {
   "metadata": {},
   "cell_type": "markdown",
   "source": "### 3. Repeat Exercise #2 except this time assume that $p = 4653848293$, $q = 65478390$, one's private key is $76350293$ and the other's is $233451876$.",
   "id": "607e4a2133031f39"
  },
  {
   "metadata": {
    "ExecuteTime": {
     "end_time": "2025-07-18T22:18:10.011463Z",
     "start_time": "2025-07-18T22:18:10.005983Z"
    }
   },
   "cell_type": "code",
   "source": [
    "df = DiffieHellmanExchange(p=4653848293, q=65478390)\n",
    "A_key = 76350293\n",
    "B_key = 233451876\n",
    "\n",
    "A_init_msg = df.init_msg(A_key)\n",
    "print(f\"A's init msg: {A_init_msg}\")\n",
    "\n",
    "B_init_msg = df.init_msg(B_key)\n",
    "print(f\"B's init msg: {B_init_msg}\\n\")\n",
    "\n",
    "print(f\"A's final msg: {df.final_msg(B_init_msg, A_key)}\")\n",
    "print(f\"B's final msg: {df.final_msg(A_init_msg, B_key)}\")"
   ],
   "id": "b72e87b4655444b3",
   "outputs": [
    {
     "name": "stdout",
     "output_type": "stream",
     "text": [
      "A's init msg: 2721419856\n",
      "B's init msg: 4077302202\n",
      "\n",
      "A's final msg: 2014163551\n",
      "B's final msg: 2014163551\n"
     ]
    }
   ],
   "execution_count": 18
  },
  {
   "metadata": {},
   "cell_type": "markdown",
   "source": [
    "\n",
    "### 4. One individual wants to send a message consisting of the single number $25$ to another using the Massey-Omura System. Both agree on the prime $p = 31$. The sender chooses two private keys: $13$ and $7$; the receiver chooses two private keys: $17$ and $23$. Verify that the receiver actually receives the number $25$."
   ],
   "id": "a4571eb01fdd43da"
  },
  {
   "metadata": {
    "ExecuteTime": {
     "end_time": "2025-07-18T22:59:51.425424Z",
     "start_time": "2025-07-18T22:59:51.422511Z"
    }
   },
   "cell_type": "code",
   "source": [
    "def msg_to_nums(msg: str) -> list[int]:\n",
    "    \"\"\" Convert a message to a list of numbers \"\"\"\n",
    "    return [encoder_1.encode(c) for c in msg]"
   ],
   "id": "59f6b23c6a8d986a",
   "outputs": [],
   "execution_count": 31
  },
  {
   "metadata": {
    "ExecuteTime": {
     "end_time": "2025-07-18T23:01:52.651094Z",
     "start_time": "2025-07-18T23:01:52.645451Z"
    }
   },
   "cell_type": "code",
   "source": [
    "p = 31\n",
    "\n",
    "sender_e = 13\n",
    "sender_d = 7\n",
    "\n",
    "receiver_e = 17\n",
    "receiver_d = 23\n",
    "\n",
    "msg = [25]\n",
    "\n",
    "msg1 = msg_to_nums(pk_decrypt(sender_e, p, encoder_1, msg))\n",
    "print(f\"Sender's first encrypted message: {msg1}\")\n",
    "\n",
    "msg2 = msg_to_nums(pk_decrypt(receiver_e, p, encoder_1, msg1))\n",
    "print(f\"Receiver's intermediate encrypted message: {msg2}\")\n",
    "\n",
    "msg3 = msg_to_nums(pk_decrypt(sender_d, p, encoder_1, msg2))\n",
    "print(f\"Sender's second encrypted message: {msg3}\")\n",
    "\n",
    "msg4 = msg_to_nums(pk_decrypt(receiver_d, p, encoder_1, msg3))\n",
    "print(f\"Receiver's decrypted message: {msg4}\")"
   ],
   "id": "f8ac94d5dd60d40",
   "outputs": [
    {
     "name": "stdout",
     "output_type": "stream",
     "text": [
      "Sender's first encrypted message: [25]\n",
      "Receiver's intermediate encrypted message: [5]\n",
      "Sender's second encrypted message: [5]\n",
      "Receiver's decrypted message: [25]\n"
     ]
    }
   ],
   "execution_count": 32
  },
  {
   "metadata": {},
   "cell_type": "markdown",
   "source": "### 5. Repeat Exercise #4 except this time assume that $p = 4658349003443$, the sender's private keys are $65477368573$ and $3513574598399$ and the receiver's private keys are $763485413$ and $4441762259265$. And the message is: `Joplin`.",
   "id": "836d1f9f29734e5"
  },
  {
   "metadata": {
    "ExecuteTime": {
     "end_time": "2025-07-18T23:25:06.303382Z",
     "start_time": "2025-07-18T23:25:06.292483Z"
    }
   },
   "cell_type": "code",
   "source": [
    "# use a 7 bit ascii encoder for this exercise.  Will preserve capitalization\n",
    "# and get six chars in a block for p like 4658349003443 (which requires 43 bits)\n",
    "Ascii7BitEncoderTupleChars = Tuple[CharStr, Literal[6]]\n",
    "class Ascii7BitEncoder(EncodingScheme[Literal[6]]):\n",
    "    def __init__(self):\n",
    "        self._BLOCKSIZE = 6\n",
    "    def encode(self, chars: Ascii7BitEncoderTupleChars) -> int:\n",
    "        if len(chars) != self._BLOCKSIZE:\n",
    "            raise ValueError(f\"chars must be of length {self._BLOCKSIZE}, not {len(chars)}\")\n",
    "        # Take each of the chars, get its ascii code and build the block\n",
    "        # block is reversed so we can shift out more naturally during decode\n",
    "        result = 0\n",
    "        for i in range(len(chars) - 1, -1, -1):  # reverse order\n",
    "            if ord(chars[i]) > 127:\n",
    "                # raise an error if input contains character that is not 7 bits\n",
    "                raise ValueError(f\"character {chars[i]} is not in range(256)\")\n",
    "            result = (result << 7) | (ord(chars[i]) & 0x7F)\n",
    "        return result\n",
    "    def decode(self, encoded_chars: int) -> AsciiEncoderTupleChars:\n",
    "        chars = []\n",
    "        for _ in range(self._BLOCKSIZE):\n",
    "            chars.append(chr(encoded_chars & 0x7F))\n",
    "            encoded_chars >>= 7\n",
    "        return tuple(chars)\n",
    "    def block_size(self) -> int:\n",
    "        return self._BLOCKSIZE\n",
    "encoder_5 = Ascii7BitEncoder()"
   ],
   "id": "3653a8835675827a",
   "outputs": [],
   "execution_count": 44
  },
  {
   "metadata": {
    "ExecuteTime": {
     "end_time": "2025-07-18T23:40:14.479204Z",
     "start_time": "2025-07-18T23:40:14.474339Z"
    }
   },
   "cell_type": "code",
   "source": [
    "p = 4658349003443\n",
    "\n",
    "sender_e = 65477368573\n",
    "sender_d = 3513574598399\n",
    "\n",
    "receiver_e = 763485413\n",
    "receiver_d = 4441762259265\n",
    "\n",
    "msg = \"Joplin\"\n",
    "\n",
    "msg1 = pk_encrypt(sender_e, p, encoder_5, msg)\n",
    "print(f\"Sender's first encrypted message: {msg1}\")\n",
    "\n",
    "msg2 = pk_decrypt(receiver_e, p, encoder_5, msg1)\n",
    "print(\"Receiver's intermediate encrypted message: \" +\n",
    "      f\"{[encoder_5.encode(tuple(msg2))]}\")\n",
    "\n",
    "msg3 = pk_encrypt(sender_d, p, encoder_5, msg2)\n",
    "print(f\"Sender's second encrypted message: {msg3}\")\n",
    "\n",
    "msg4 = pk_decrypt(receiver_d, p, encoder_5, msg3)\n",
    "print(f\"Receiver's decrypted message: '{msg4}'\")"
   ],
   "id": "863397c52880a0cf",
   "outputs": [
    {
     "name": "stdout",
     "output_type": "stream",
     "text": [
      "Sender's first encrypted message: [2041298202570]\n",
      "Receiver's intermediate encrypted message: [4151522335983]\n",
      "Sender's second encrypted message: [1825433649931]\n",
      "Receiver's decrypted message: 'Joplin'\n"
     ]
    }
   ],
   "execution_count": 51
  },
  {
   "metadata": {},
   "cell_type": "markdown",
   "source": [
    "\n",
    "### 6. In practice, messages are often encrypted several times before being sent. Suppose Beth sends a message to Stephanie that Beth first encrypts twice: once using Stephanie's _public_ key (as in the RSA algorithm) and once using Beth's _private_ key. In other words, assuming\n",
    "\n",
    " | Entity                      | Symbol       |\n",
    " |-----------------------------|--------------|\n",
    " | Beth's message to Stephanie | $m$          |\n",
    " | Beth's private key          | $d_B$        |\n",
    " | Beth's public key           | $e_B$, $n_B$ |\n",
    " | Stephanie's private key     | $d_S$        |\n",
    " | Stephanie's public key      | $e_S$, $n_S$ |\n",
    "\n",
    " Beth's enciphered message is $m' = (m^{e_S} \\pmod{n_S})^{d_B} \\pmod{n_B}$. Explain\n",
    " how Stephanie would go about deciphering $m'$."
   ],
   "id": "736fd238e83561ec"
  },
  {
   "metadata": {},
   "cell_type": "markdown",
   "source": [
    "First, Stephanie encrypts $m'$ using Beth's public key, $e_B$ and $n_B$, then she decrypts the result of that with her own decrypt key, $d_S$ and $n_S$.  The result is the original message, as shown here.\n",
    "\n",
    "$$\n",
    "\\begin{aligned}\n",
    "       \\bigg[ \\Big[(m^{e_S} \\pmod{n_S})^{d_B} \\pmod{n_B}\\Big]^{e_B} \\pmod{n_B} \\bigg]^{d_S} \\pmod{n_S} &=\n",
    "          \\Big[ (m^{e_S} \\pmod{n_S})^{d_Be_B} \\pmod{n_B} \\Big]^{d_S} \\pmod{n_S} \\\\\n",
    "         &= \\left[ m^{e_S} \\pmod{n_S} \\right]^{d_S} \\pmod{n_S} \\\\\n",
    "         &= m^{e_Sd_S} \\pmod{n_S} \\\\\n",
    "         &= m\n",
    "\\end{aligned}\n",
    "$$"
   ],
   "id": "c60a4a1d1d4a73c2"
  },
  {
   "metadata": {
    "ExecuteTime": {
     "end_time": "2025-07-18T23:54:21.072079Z",
     "start_time": "2025-07-18T23:54:21.066138Z"
    }
   },
   "cell_type": "code",
   "source": "",
   "id": "1f6df02c5f20c741",
   "outputs": [],
   "execution_count": null
  },
  {
   "metadata": {},
   "cell_type": "code",
   "outputs": [],
   "execution_count": null,
   "source": "",
   "id": "db59fedb85b424c"
  }
 ],
 "metadata": {
  "kernelspec": {
   "display_name": "Python 3",
   "language": "python",
   "name": "python3"
  },
  "language_info": {
   "codemirror_mode": {
    "name": "ipython",
    "version": 2
   },
   "file_extension": ".py",
   "mimetype": "text/x-python",
   "name": "python",
   "nbconvert_exporter": "python",
   "pygments_lexer": "ipython2",
   "version": "2.7.6"
  }
 },
 "nbformat": 4,
 "nbformat_minor": 5
}
