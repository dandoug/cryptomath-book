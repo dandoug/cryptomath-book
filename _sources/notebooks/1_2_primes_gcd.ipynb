{
 "cells": [
  {
   "metadata": {},
   "cell_type": "markdown",
   "source": [
    "# 1.2 Prime Numbers, Division Algorithm, Greatest Common Divisor Exercises\n",
    "\n",
    "Selected solutions to exercises in this section\n"
   ],
   "id": "eaab296012ebf087"
  },
  {
   "metadata": {
    "ExecuteTime": {
     "end_time": "2025-06-02T19:41:46.524954Z",
     "start_time": "2025-06-02T19:41:46.518655Z"
    }
   },
   "cell_type": "code",
   "source": [
    "import sys\n",
    "from pathlib import Path\n",
    "sys.path.insert(0, str(Path().absolute().parent))\n",
    "\n",
    "from src.utilities import format_factors, display_prime_factors_table"
   ],
   "id": "4ba4cd2e02b1e3f8",
   "outputs": [],
   "execution_count": 1
  },
  {
   "metadata": {},
   "cell_type": "markdown",
   "source": "## Exercises 1.2",
   "id": "b367db51919e9ea9"
  },
  {
   "metadata": {},
   "cell_type": "markdown",
   "source": [
    "### 3. Find the prime factors of 901, 894, 500, 1100, 765.\n",
    "\n",
    "For this exercise, we will implement the trial division algorithm for deriving prime factorizations."
   ],
   "id": "c45f52a7a389b62d"
  },
  {
   "metadata": {
    "ExecuteTime": {
     "end_time": "2025-06-02T19:41:46.610769Z",
     "start_time": "2025-06-02T19:41:46.608870Z"
    }
   },
   "cell_type": "code",
   "source": [
    "def prime_factors(n: int) -> list[int]:\n",
    "    d = 2  # starting with the smallest prime\n",
    "    factors = []\n",
    "    while d * d <= n:  # no need to go beyond the square root\n",
    "        if n % d:  # check if d divides n, if not, move to the next divisor\n",
    "            d += 1\n",
    "        else:  # d divides n, so n is divisible by d\n",
    "            n //= d  # replace n with the quotient from this divisor\n",
    "            factors.append(d)  # save this divisor\n",
    "    if n > 1:\n",
    "        factors.append(n)\n",
    "    return factors"
   ],
   "id": "988df8b82384434e",
   "outputs": [],
   "execution_count": 2
  },
  {
   "metadata": {
    "ExecuteTime": {
     "end_time": "2025-06-02T19:41:46.620718Z",
     "start_time": "2025-06-02T19:41:46.615995Z"
    }
   },
   "cell_type": "code",
   "source": [
    "inputs = [901, 894, 500, 1100, 765]\n",
    "outputs = [format_factors(prime_factors(n)) for n in inputs]\n",
    "display_prime_factors_table(inputs, outputs)"
   ],
   "id": "bc2cf0c6e2881ec8",
   "outputs": [
    {
     "data": {
      "text/plain": [
       "<IPython.core.display.Math object>"
      ],
      "text/latex": "$\\displaystyle \\begin{array}{c|l}\nn & \\text{Prime Factorization of } n \\\\\n\\hline\n901 & 17 \\cdot 53 \\\\\n894 & 2 \\cdot 3 \\cdot 149 \\\\\n500 & 2^2 \\cdot 5^3 \\\\\n1100 & 2^2 \\cdot 5^2 \\cdot 11 \\\\\n765 & 3^2 \\cdot 5 \\cdot 17 \\\\\n\\end{array}$"
     },
     "metadata": {},
     "output_type": "display_data"
    }
   ],
   "execution_count": 3
  }
 ],
 "metadata": {
  "kernelspec": {
   "display_name": "Python 3",
   "language": "python",
   "name": "python3"
  },
  "language_info": {
   "codemirror_mode": {
    "name": "ipython",
    "version": 2
   },
   "file_extension": ".py",
   "mimetype": "text/x-python",
   "name": "python",
   "nbconvert_exporter": "python",
   "pygments_lexer": "ipython2",
   "version": "2.7.6"
  }
 },
 "nbformat": 4,
 "nbformat_minor": 5
}
