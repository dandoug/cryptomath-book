{
 "cells": [
  {
   "metadata": {},
   "cell_type": "markdown",
   "source": "# 1.4 Modular Arithmatic",
   "id": "858efb664d4e3826"
  },
  {
   "metadata": {
    "ExecuteTime": {
     "end_time": "2025-06-04T17:30:09.571178Z",
     "start_time": "2025-06-04T17:30:09.558674Z"
    }
   },
   "cell_type": "code",
   "source": [
    "import sys\n",
    "from pathlib import Path\n",
    "sys.path.insert(0, str(Path().absolute().parent))\n",
    "\n",
    "from src.utilities import display_mod_inverse_table, display_sum_prod_mod_table"
   ],
   "id": "3c4952f9311f9ec7",
   "outputs": [],
   "execution_count": 1
  },
  {
   "metadata": {},
   "cell_type": "markdown",
   "source": "## 1.4 Exercises",
   "id": "1fc1f4c88cf85de8"
  },
  {
   "metadata": {},
   "cell_type": "markdown",
   "source": [
    "### 7. For any integer $x$, prove that either $x^2 \\equiv 0\\pmod{4}$ or $x^2 \\equiv 1\\pmod{4}$.\n",
    "\n",
    "Either $x$ is even or odd.  We consider both cases.\n",
    "\n",
    "If $x$ is even, then there exists $a$ such that $2a = x$\n",
    "\n",
    "$$\n",
    "\\begin{aligned}\n",
    " x^2 & = (2a)^2 \\\\\n",
    "     & = 4a^2 \\\\\n",
    "     & \\equiv 0\\pmod{4}\n",
    "\\end{aligned}\n",
    "$$\n",
    "\n",
    "since $4|4a^2$.\n",
    "\n",
    "If $x$ is odd, then there exists $a$ such that $2a + 1 = x$.\n",
    "\n",
    "$$\n",
    "\\begin{aligned}\n",
    " x^2 & = (2a + 1)^2 \\\\\n",
    "     & = 4a^2 + 4a + 1 \\\\\n",
    "     & = 4(a^2 + a) + 1 \\\\\n",
    "     & \\equiv 0 + 1 \\pmod{4} \\\\\n",
    "     & \\equiv 1 \\pmod{4}\n",
    "\\end{aligned}\n",
    "$$\n"
   ],
   "id": "5f96d0521c6f62d3"
  },
  {
   "metadata": {},
   "cell_type": "markdown",
   "source": "### 9. Write a computer program that acceps as input two integers $a$ and $n$, and outputs the additive inverse of $a\\pmod{n}$.",
   "id": "da25ab20b0cb772"
  },
  {
   "metadata": {
    "ExecuteTime": {
     "end_time": "2025-06-04T17:30:09.684254Z",
     "start_time": "2025-06-04T17:30:09.681684Z"
    }
   },
   "cell_type": "code",
   "source": [
    "def inverse_mod_n(a: int, n: int) -> int:\n",
    "    return (n - a) % n"
   ],
   "id": "9070b70f8186a4f2",
   "outputs": [],
   "execution_count": 2
  },
  {
   "metadata": {
    "ExecuteTime": {
     "end_time": "2025-06-04T17:30:09.700310Z",
     "start_time": "2025-06-04T17:30:09.692756Z"
    }
   },
   "cell_type": "code",
   "source": [
    "a_and_n = [(4,7), (7,11), (16,26)]\n",
    "inv_mod_n = [inverse_mod_n(p[0], p[1]) for p in a_and_n]\n",
    "display_mod_inverse_table(a_and_n, inv_mod_n)"
   ],
   "id": "496cbe879405ece9",
   "outputs": [
    {
     "data": {
      "text/plain": [
       "<IPython.core.display.Math object>"
      ],
      "text/latex": "$\\displaystyle \\begin{array}{c|c|c}\na & n & \\text{additive inverse of}\\ a \\pmod{n} \\\\\n\\hline\n4 & 7 & 3 \\\\\n7 & 11 & 4 \\\\\n16 & 26 & 10 \\\\\n\\end{array}$"
     },
     "metadata": {},
     "output_type": "display_data"
    }
   ],
   "execution_count": 3
  },
  {
   "metadata": {},
   "cell_type": "markdown",
   "source": "### 10. Write a program that accepts three integers $a$, $b$ and $n$ as input and then outputs $a +_n b$ and $a \\times_n b$.",
   "id": "93a9236c8d9a8db4"
  },
  {
   "metadata": {
    "ExecuteTime": {
     "end_time": "2025-06-04T17:30:09.718199Z",
     "start_time": "2025-06-04T17:30:09.716100Z"
    }
   },
   "cell_type": "code",
   "source": [
    "def sum_and_prod_mod_n(a: int, b: int, n: int) -> tuple[int, int]:\n",
    "    return (a + b) % n, (a * b) % n"
   ],
   "id": "cb04beac57e112fd",
   "outputs": [],
   "execution_count": 4
  },
  {
   "metadata": {
    "ExecuteTime": {
     "end_time": "2025-06-04T17:30:09.744368Z",
     "start_time": "2025-06-04T17:30:09.740175Z"
    }
   },
   "cell_type": "code",
   "source": [
    "a_b_n = [(3, 5, 7), (11, 17, 26), [10, 4, 12]]\n",
    "sum_prod_mod_n = [sum_and_prod_mod_n(p[0], p[1], p[2]) for p in a_b_n]\n",
    "display_sum_prod_mod_table(a_b_n, sum_prod_mod_n)"
   ],
   "id": "d236b7a6eb3ef109",
   "outputs": [
    {
     "data": {
      "text/plain": [
       "<IPython.core.display.Math object>"
      ],
      "text/latex": "$\\displaystyle \\begin{array}{c|c|c|c|c}\na & b & n & a +_n b & a \\times_n b \\\\\n\\hline\n3 & 5 & 7 & 1 & 1 \\\\\n11 & 17 & 26 & 2 & 5 \\\\\n10 & 4 & 12 & 2 & 4 \\\\\n\\end{array}$"
     },
     "metadata": {},
     "output_type": "display_data"
    }
   ],
   "execution_count": 5
  },
  {
   "metadata": {
    "ExecuteTime": {
     "end_time": "2025-06-04T17:30:09.758336Z",
     "start_time": "2025-06-04T17:30:09.756544Z"
    }
   },
   "cell_type": "code",
   "source": "",
   "id": "e2aa9e0f895d0e47",
   "outputs": [],
   "execution_count": null
  }
 ],
 "metadata": {
  "kernelspec": {
   "display_name": "Python 3",
   "language": "python",
   "name": "python3"
  },
  "language_info": {
   "codemirror_mode": {
    "name": "ipython",
    "version": 2
   },
   "file_extension": ".py",
   "mimetype": "text/x-python",
   "name": "python",
   "nbconvert_exporter": "python",
   "pygments_lexer": "ipython2",
   "version": "2.7.6"
  }
 },
 "nbformat": 4,
 "nbformat_minor": 5
}
