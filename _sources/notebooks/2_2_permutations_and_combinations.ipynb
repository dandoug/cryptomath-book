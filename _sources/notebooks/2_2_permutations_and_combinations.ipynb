{
 "cells": [
  {
   "metadata": {},
   "cell_type": "markdown",
   "source": "# 2.2 Permutations and Combinations",
   "id": "24dfef818c77e423"
  },
  {
   "metadata": {
    "ExecuteTime": {
     "end_time": "2025-06-19T21:15:01.194784Z",
     "start_time": "2025-06-19T21:15:01.189373Z"
    }
   },
   "cell_type": "code",
   "source": "import math",
   "id": "4b1caa0aeea67729",
   "outputs": [],
   "execution_count": 1
  },
  {
   "metadata": {},
   "cell_type": "markdown",
   "source": "## Exercises 2.2",
   "id": "87a454d614d107bb"
  },
  {
   "metadata": {},
   "cell_type": "markdown",
   "source": "### 16. Write a computer function (either recursive or iterative) that computes $n!$. Then incorporate this function into a program that computes $P(n, r)$ and $C(n, r)$ for any legitimate values of $n$ and $r$. (Legitimate values of $n$ are non-negative integers and legitimate values of $r$ are those non-negative integers that are less than or equal to $n$.)",
   "id": "74135b8c00b71ed"
  },
  {
   "metadata": {
    "ExecuteTime": {
     "end_time": "2025-06-19T21:15:01.331187Z",
     "start_time": "2025-06-19T21:15:01.327067Z"
    }
   },
   "cell_type": "code",
   "source": [
    "def _validate_n(n: int) -> None:\n",
    "    if n < 0:\n",
    "        raise ValueError(f\"Values must be non-negative, not {n}\")\n",
    "def _validate(n: int, r: int) -> None:\n",
    "    _validate_n(n)\n",
    "    if r < 0 or r > n:\n",
    "        raise ValueError(f\"Values for r must be non-negative, and <= {n} not {r}\")\n",
    "\n",
    "def factorial(n: int) -> int:\n",
    "    \"\"\"\n",
    "    Compute n!\n",
    "    \"\"\"\n",
    "    _validate_n(n)\n",
    "    return math.factorial(n)\n",
    "\n",
    "def permutations(n: int, r: int) -> int:\n",
    "    \"\"\"\n",
    "    Compute P(n, r)\n",
    "    \"\"\"\n",
    "    _validate(n, r)\n",
    "    return factorial(n) // factorial(n-r)\n",
    "\n",
    "def combinations(n: int, r: int) -> int:\n",
    "    \"\"\"\n",
    "    Compute C(n, r)\n",
    "    \"\"\"\n",
    "    _validate(n, r)\n",
    "    return factorial(n) // (factorial(r) * factorial(n-r))"
   ],
   "id": "e67b7dd69827663f",
   "outputs": [],
   "execution_count": 2
  },
  {
   "metadata": {},
   "cell_type": "markdown",
   "source": [
    "### 1. Evaluate each of the following expressions:\n",
    "\n",
    "#### (a) $P(12, 3)$"
   ],
   "id": "cf9ff1789783cf77"
  },
  {
   "metadata": {
    "ExecuteTime": {
     "end_time": "2025-06-19T21:15:01.341169Z",
     "start_time": "2025-06-19T21:15:01.338890Z"
    }
   },
   "cell_type": "code",
   "source": "print(permutations(12, 3))",
   "id": "ad308a0106e8003d",
   "outputs": [
    {
     "name": "stdout",
     "output_type": "stream",
     "text": [
      "1320\n"
     ]
    }
   ],
   "execution_count": 3
  },
  {
   "metadata": {},
   "cell_type": "markdown",
   "source": "#### (b) $C(12, 3)$",
   "id": "9f14a25171ede843"
  },
  {
   "metadata": {
    "ExecuteTime": {
     "end_time": "2025-06-19T21:15:01.359034Z",
     "start_time": "2025-06-19T21:15:01.356349Z"
    }
   },
   "cell_type": "code",
   "source": "print(combinations(12, 3))",
   "id": "f4081d8d800c323f",
   "outputs": [
    {
     "name": "stdout",
     "output_type": "stream",
     "text": [
      "220\n"
     ]
    }
   ],
   "execution_count": 4
  },
  {
   "metadata": {},
   "cell_type": "markdown",
   "source": "#### (c) $P(9, 0)$",
   "id": "c18b5c1fd2cd5bf4"
  },
  {
   "metadata": {
    "ExecuteTime": {
     "end_time": "2025-06-19T21:15:01.379065Z",
     "start_time": "2025-06-19T21:15:01.376054Z"
    }
   },
   "cell_type": "code",
   "source": "print(permutations(9, 0))",
   "id": "57e61e189f8dee1f",
   "outputs": [
    {
     "name": "stdout",
     "output_type": "stream",
     "text": [
      "1\n"
     ]
    }
   ],
   "execution_count": 5
  },
  {
   "metadata": {},
   "cell_type": "markdown",
   "source": "#### (d) $C(9, 0)$",
   "id": "783c1639ef415ad7"
  },
  {
   "metadata": {
    "ExecuteTime": {
     "end_time": "2025-06-19T21:15:01.394250Z",
     "start_time": "2025-06-19T21:15:01.391953Z"
    }
   },
   "cell_type": "code",
   "source": "print(combinations(9, 0))",
   "id": "7e71f56c2fc537dd",
   "outputs": [
    {
     "name": "stdout",
     "output_type": "stream",
     "text": [
      "1\n"
     ]
    }
   ],
   "execution_count": 6
  },
  {
   "metadata": {},
   "cell_type": "markdown",
   "source": "#### (e) $P(8, 7)$",
   "id": "5aba6e0a352e3c4f"
  },
  {
   "metadata": {
    "ExecuteTime": {
     "end_time": "2025-06-19T21:15:01.416802Z",
     "start_time": "2025-06-19T21:15:01.413889Z"
    }
   },
   "cell_type": "code",
   "source": "print(permutations(8, 7))",
   "id": "4b632f60b6b0d9b6",
   "outputs": [
    {
     "name": "stdout",
     "output_type": "stream",
     "text": [
      "40320\n"
     ]
    }
   ],
   "execution_count": 7
  },
  {
   "metadata": {},
   "cell_type": "markdown",
   "source": "#### (f) $C(8, 7)$",
   "id": "7f67e1ad4119c6f2"
  },
  {
   "metadata": {
    "ExecuteTime": {
     "end_time": "2025-06-19T21:15:01.432744Z",
     "start_time": "2025-06-19T21:15:01.430354Z"
    }
   },
   "cell_type": "code",
   "source": "print(combinations(8, 7))",
   "id": "de9578adb9eef794",
   "outputs": [
    {
     "name": "stdout",
     "output_type": "stream",
     "text": [
      "8\n"
     ]
    }
   ],
   "execution_count": 8
  },
  {
   "metadata": {},
   "cell_type": "markdown",
   "source": "#### (g) $P(75, 75)$",
   "id": "c561d147a252576f"
  },
  {
   "metadata": {
    "ExecuteTime": {
     "end_time": "2025-06-19T21:15:01.457250Z",
     "start_time": "2025-06-19T21:15:01.454269Z"
    }
   },
   "cell_type": "code",
   "source": "print(permutations(75, 75))",
   "id": "59f9cf4347a96815",
   "outputs": [
    {
     "name": "stdout",
     "output_type": "stream",
     "text": [
      "24809140811395398091946477116594033660926243886570122837795894512655842677572867409443815424000000000000000000\n"
     ]
    }
   ],
   "execution_count": 9
  },
  {
   "metadata": {},
   "cell_type": "markdown",
   "source": "#### (h) $C(75, 75)$",
   "id": "5df2b625a63fbee8"
  },
  {
   "metadata": {
    "ExecuteTime": {
     "end_time": "2025-06-19T21:15:01.472661Z",
     "start_time": "2025-06-19T21:15:01.469797Z"
    }
   },
   "cell_type": "code",
   "source": "print(combinations(75, 75))",
   "id": "8a96e3de829df443",
   "outputs": [
    {
     "name": "stdout",
     "output_type": "stream",
     "text": [
      "1\n"
     ]
    }
   ],
   "execution_count": 10
  },
  {
   "metadata": {},
   "cell_type": "markdown",
   "source": "### 2. Evaluate $C(7, 5)$ and$C(7, 2)$. Explain why you get the same answer for both expressions. Generalize your discovery to $C(n, r$ and $C(n, n-r)$.",
   "id": "5897c8e685a6073d"
  },
  {
   "metadata": {
    "ExecuteTime": {
     "end_time": "2025-06-19T21:15:01.493595Z",
     "start_time": "2025-06-19T21:15:01.490230Z"
    }
   },
   "cell_type": "code",
   "source": "print(combinations(7, 5))",
   "id": "4cbfa7012591c3c9",
   "outputs": [
    {
     "name": "stdout",
     "output_type": "stream",
     "text": [
      "21\n"
     ]
    }
   ],
   "execution_count": 11
  },
  {
   "metadata": {
    "ExecuteTime": {
     "end_time": "2025-06-19T21:15:01.514381Z",
     "start_time": "2025-06-19T21:15:01.511990Z"
    }
   },
   "cell_type": "code",
   "source": "print(combinations(7, 2))",
   "id": "2e898ba8f479bf66",
   "outputs": [
    {
     "name": "stdout",
     "output_type": "stream",
     "text": [
      "21\n"
     ]
    }
   ],
   "execution_count": 12
  },
  {
   "metadata": {},
   "cell_type": "markdown",
   "source": [
    "Intuitively, choosing $5$ elements from $7$ is the same as choosing the $2$ that are excluded.\n",
    "\n",
    "Generally, this looks like\n",
    "\n",
    "$$\n",
    "\\begin{aligned}\n",
    "C(n, r) &= \\frac{n!}{r!(n-r)!} \\\\\n",
    " &= \\frac{n!}{(n-r)!r!} \\\\\n",
    " &= \\frac{n!}{(n-r)!(n-(n-r))!} \\\\\n",
    " &= C(n, n-r)\n",
    "\\end{aligned}\n",
    "$$"
   ],
   "id": "9db90b8da1d6e06e"
  },
  {
   "metadata": {},
   "cell_type": "markdown",
   "source": "### 3. Evaluate $P(7, 5)$ and $P(7, 2)$. Explain why you do not get the same answer for both expressions.",
   "id": "9919754b35a1e409"
  },
  {
   "metadata": {
    "ExecuteTime": {
     "end_time": "2025-06-19T21:15:01.537046Z",
     "start_time": "2025-06-19T21:15:01.534235Z"
    }
   },
   "cell_type": "code",
   "source": "print(permutations(7, 5))",
   "id": "4a9f1e1a04b828b0",
   "outputs": [
    {
     "name": "stdout",
     "output_type": "stream",
     "text": [
      "2520\n"
     ]
    }
   ],
   "execution_count": 13
  },
  {
   "metadata": {
    "ExecuteTime": {
     "end_time": "2025-06-19T21:15:01.556153Z",
     "start_time": "2025-06-19T21:15:01.553424Z"
    }
   },
   "cell_type": "code",
   "source": "print(permutations(7, 2))",
   "id": "1d0e46a136525b85",
   "outputs": [
    {
     "name": "stdout",
     "output_type": "stream",
     "text": [
      "42\n"
     ]
    }
   ],
   "execution_count": 14
  },
  {
   "metadata": {},
   "cell_type": "markdown",
   "source": [
    "Intuitively, there are many more ways to permute $5$ elements than $2$ elements.\n",
    "\n",
    "$P(7, 5) = 7 \\cdot 6 \\cdot 5 \\cdot 4 \\cdot 3$\n",
    "\n",
    "whereas\n",
    "\n",
    "$P(7, 2) = 7 \\cdot 6 $"
   ],
   "id": "e329c67d08e630c8"
  },
  {
   "metadata": {},
   "cell_type": "markdown",
   "source": "### 4. There are 24 letters in the Greek alphabet. If a fraternity or sorority name consists of three of these letters, how many names are possible?",
   "id": "673836d0f7951edd"
  },
  {
   "metadata": {},
   "cell_type": "markdown",
   "source": [
    "#### (a) no letter may be used more than once in a name,\n",
    "\n",
    "If no letter may be used more than once, then this is $P(24, 3)$"
   ],
   "id": "604f94df466fe47f"
  },
  {
   "metadata": {
    "ExecuteTime": {
     "end_time": "2025-06-19T21:15:01.575889Z",
     "start_time": "2025-06-19T21:15:01.573449Z"
    }
   },
   "cell_type": "code",
   "source": "print(permutations(24, 3))",
   "id": "657ef645cf2374bf",
   "outputs": [
    {
     "name": "stdout",
     "output_type": "stream",
     "text": [
      "12144\n"
     ]
    }
   ],
   "execution_count": 15
  },
  {
   "metadata": {},
   "cell_type": "markdown",
   "source": [
    "#### (b) letters may be repeated within a name.\n",
    "\n",
    "If letters may be repeated, then this is $24^3$"
   ],
   "id": "8a573b99294d5e44"
  },
  {
   "metadata": {
    "ExecuteTime": {
     "end_time": "2025-06-19T21:15:01.595243Z",
     "start_time": "2025-06-19T21:15:01.592169Z"
    }
   },
   "cell_type": "code",
   "source": "print(int(math.pow(24, 3)))",
   "id": "afaea10fbc7fc0e5",
   "outputs": [
    {
     "name": "stdout",
     "output_type": "stream",
     "text": [
      "13824\n"
     ]
    }
   ],
   "execution_count": 16
  },
  {
   "metadata": {},
   "cell_type": "markdown",
   "source": [
    "### 5. How many basketball lineups (consisting of 5 members) can be chosen from a team consisting of 13 players?\n",
    "\n",
    "This is $C(13, 5)$"
   ],
   "id": "88238b08dbbdaa20"
  },
  {
   "metadata": {
    "ExecuteTime": {
     "end_time": "2025-06-19T21:15:01.613220Z",
     "start_time": "2025-06-19T21:15:01.610852Z"
    }
   },
   "cell_type": "code",
   "source": "print(combinations(13, 5))",
   "id": "887cec05e9c9233f",
   "outputs": [
    {
     "name": "stdout",
     "output_type": "stream",
     "text": [
      "1287\n"
     ]
    }
   ],
   "execution_count": 17
  },
  {
   "metadata": {},
   "cell_type": "markdown",
   "source": [
    "### 6. A basketball team consists of two guards, two forwards, and a center. Suppose a team has 6 players who can play the guard position, 8 who can play forward, and 3 centers. Now how many lineups are possible?\n",
    "\n",
    "The number of lineups is the product of the number of position assignments:\n",
    "\n",
    "$C(6, 2) \\cdot C(8, 2) \\cdot C(3, 1)$"
   ],
   "id": "3b028df2f80fea90"
  },
  {
   "metadata": {
    "ExecuteTime": {
     "end_time": "2025-06-19T21:15:01.629368Z",
     "start_time": "2025-06-19T21:15:01.626571Z"
    }
   },
   "cell_type": "code",
   "source": "print(combinations(6, 2) * combinations(8, 2) * combinations(3, 1))",
   "id": "1ddbd4cfcc4434ff",
   "outputs": [
    {
     "name": "stdout",
     "output_type": "stream",
     "text": [
      "1260\n"
     ]
    }
   ],
   "execution_count": 18
  },
  {
   "metadata": {},
   "cell_type": "markdown",
   "source": [
    "### 7. Suppose a computer network requires you to obtain a password consisting of either 5, 6, or 7 characters. The characters must be selected from either the twenty-six letters of the alphabet or the ten digits.\n",
    "\n",
    "For this exercise, assume that the password only uses lowercase letters.  That leaves a set of 36 characters.\n",
    "\n",
    "#### (a) Assuming no character may be used more than once in a password, how many passwords are possible using this scheme?\n",
    "\n",
    "$P(36, 5) + P(36, 6) + P(36, 7)$"
   ],
   "id": "3469a41e7d2d872a"
  },
  {
   "metadata": {
    "ExecuteTime": {
     "end_time": "2025-06-19T21:15:01.640629Z",
     "start_time": "2025-06-19T21:15:01.638545Z"
    }
   },
   "cell_type": "code",
   "source": "print(permutations(36, 5) + permutations(36, 6) + permutations(36, 7))",
   "id": "e3b1e8de98f4a6a6",
   "outputs": [
    {
     "name": "stdout",
     "output_type": "stream",
     "text": [
      "43519956480\n"
     ]
    }
   ],
   "execution_count": 19
  },
  {
   "metadata": {},
   "cell_type": "markdown",
   "source": [
    "#### (b) How many passwords are possible if characters may be used more than once?\n",
    "\n",
    "$36^5 + 36^6 + 36^7$"
   ],
   "id": "873322c52d986e6c"
  },
  {
   "metadata": {
    "ExecuteTime": {
     "end_time": "2025-06-19T21:15:01.666103Z",
     "start_time": "2025-06-19T21:15:01.662810Z"
    }
   },
   "cell_type": "code",
   "source": "print(int(math.pow(36, 5) + math.pow(36, 6) + math.pow(36, 7)))",
   "id": "8bf950637dd98d47",
   "outputs": [
    {
     "name": "stdout",
     "output_type": "stream",
     "text": [
      "80601412608\n"
     ]
    }
   ],
   "execution_count": 20
  },
  {
   "metadata": {},
   "cell_type": "markdown",
   "source": [
    "#### (e) What if repetition of characters is allowed and the first character must be alphabetic?\n",
    "\n",
    "The first character comes from a set of 26 characters and then is added to the the $4$, $5$, or $6$ characters that make up the rest of the password.\n",
    "\n",
    "$26 \\cdot 36^4 + 26 \\cdot 36^5 + 26 \\cdot 36^6$"
   ],
   "id": "ac0e1ac663718df"
  },
  {
   "metadata": {
    "ExecuteTime": {
     "end_time": "2025-06-19T21:15:01.682634Z",
     "start_time": "2025-06-19T21:15:01.679692Z"
    }
   },
   "cell_type": "code",
   "source": "print(int(26 * math.pow(36, 4) + 26 * math.pow(36, 5) + 26 * math.pow(36, 6)))",
   "id": "95bd6846c37076e5",
   "outputs": [
    {
     "name": "stdout",
     "output_type": "stream",
     "text": [
      "58212131328\n"
     ]
    }
   ],
   "execution_count": 21
  },
  {
   "metadata": {},
   "cell_type": "markdown",
   "source": [
    "### 8. An ISBN code number for a book has the format `X-XX-XXXXXX-X` where each X is a digit.\n",
    "#### (a) How many ISBN codes are possible?\n",
    "There are 10 `X` in the ISBN and 10 possible digits for each, so this is $10^10$"
   ],
   "id": "5f39f87a906d7b7e"
  },
  {
   "metadata": {
    "ExecuteTime": {
     "end_time": "2025-06-19T21:15:01.696353Z",
     "start_time": "2025-06-19T21:15:01.693588Z"
    }
   },
   "cell_type": "code",
   "source": "print(int(math.pow(10, 10)))",
   "id": "58396fd7d8abfb8f",
   "outputs": [
    {
     "name": "stdout",
     "output_type": "stream",
     "text": [
      "10000000000\n"
     ]
    }
   ],
   "execution_count": 22
  },
  {
   "metadata": {},
   "cell_type": "markdown",
   "source": [
    "#### (b) How many of those codes consist of numbers not used more than once?\n",
    "This is just $P(10,10) = 10!$"
   ],
   "id": "e0987858ce90d90e"
  },
  {
   "metadata": {
    "ExecuteTime": {
     "end_time": "2025-06-19T21:15:01.716283Z",
     "start_time": "2025-06-19T21:15:01.713261Z"
    }
   },
   "cell_type": "code",
   "source": "print(permutations(10, 10))",
   "id": "b9d79e2386db3446",
   "outputs": [
    {
     "name": "stdout",
     "output_type": "stream",
     "text": [
      "3628800\n"
     ]
    }
   ],
   "execution_count": 23
  },
  {
   "metadata": {},
   "cell_type": "markdown",
   "source": [
    "### 9. Oscar is packing for his new assignment. He has 3 shirts, 4 ties, 6 pairs of pants, 1 pair of shoes, 2 belts, and 8 pairs of socks. He's decided to pack 2 shirts, 2 ties, 3 pairs of pants, 1 pair of shoes, 2 belts, and 5 pairs of socks. In how many different ways can he make these selections?\n",
    "\n",
    "$C(3, 2) \\cdot C(4, 2) \\cdot C(6, 3) \\cdot C(1, 1) \\cdot C(2, 2) \\cdot C(8, 5)$"
   ],
   "id": "82c336b636a0d61"
  },
  {
   "metadata": {
    "ExecuteTime": {
     "end_time": "2025-06-19T21:15:01.732234Z",
     "start_time": "2025-06-19T21:15:01.729212Z"
    }
   },
   "cell_type": "code",
   "source": "print(combinations(3, 2) * combinations(4, 2) * combinations(6, 3) * combinations(1, 1) * combinations(2, 2) * combinations(8, 5))",
   "id": "d5224b347ac4c3bc",
   "outputs": [
    {
     "name": "stdout",
     "output_type": "stream",
     "text": [
      "20160\n"
     ]
    }
   ],
   "execution_count": 24
  },
  {
   "metadata": {},
   "cell_type": "markdown",
   "source": [
    "### 10. Stephanie stops at the cafeteria to get a double dip ice cream cone. The cafeteria has 7 flavors from which to choose.\n",
    "#### (a) Assume Stephanie doesn't care which flavor is on the bottom and which is on the top. If she gets two different flavors, how many choices does she have?\n",
    "\n",
    "This is $C(7,2)$"
   ],
   "id": "a1adfefad55bd2f2"
  },
  {
   "metadata": {
    "ExecuteTime": {
     "end_time": "2025-06-19T21:15:01.744563Z",
     "start_time": "2025-06-19T21:15:01.741970Z"
    }
   },
   "cell_type": "code",
   "source": "print(combinations(7, 2))",
   "id": "498029022b85f7d2",
   "outputs": [
    {
     "name": "stdout",
     "output_type": "stream",
     "text": [
      "21\n"
     ]
    }
   ],
   "execution_count": 25
  },
  {
   "metadata": {},
   "cell_type": "markdown",
   "source": [
    "#### (b) What if it does make a difference to Stephanie which flavor is on the bottom and which is on the top. That is, what if she considers vanilla on top of chocolate to be different from chocolate on top of vanilla. Now how many choices does she have if she gets two different flavors?\n",
    "\n",
    "This is $P(7, 2)$"
   ],
   "id": "37f654576ee77f36"
  },
  {
   "metadata": {
    "ExecuteTime": {
     "end_time": "2025-06-19T21:15:01.763851Z",
     "start_time": "2025-06-19T21:15:01.761423Z"
    }
   },
   "cell_type": "code",
   "source": "print(permutations(7, 2))",
   "id": "c5882a6bfe6371ea",
   "outputs": [
    {
     "name": "stdout",
     "output_type": "stream",
     "text": [
      "42\n"
     ]
    }
   ],
   "execution_count": 26
  },
  {
   "metadata": {},
   "cell_type": "markdown",
   "source": [
    "#### (c) What if order doesn't matter and she doesn't insist that the two scoops be different flavors?\n",
    "\n",
    "Well, since repeats are allowed, there are $7^2 = 49$ ways of choosing the flavors.  There are $7$ ways of choosing the same flavor twice.  That means there are $42$ ways of choosing two different flavors, but each of these is counted twice and since order doesn't matter, we need to halve that number, leaving us with $21$, so the answer is\n",
    "\n",
    "$$\n",
    " 7 + \\frac{42}{2} = 28\n",
    "$$"
   ],
   "id": "8d2762302c78f408"
  },
  {
   "metadata": {},
   "cell_type": "markdown",
   "source": "### 11. Beth, Stephanie, Molly and Oscar find themselves thrown together in a social situation and each shakes hands with each other. How many handshakes are exchanged? How many handshakes would be exchanged if each of 15 people in a room shook hands with each other? What if there were n people in the room?",
   "id": "6794a22986f45e5f"
  },
  {
   "metadata": {},
   "cell_type": "markdown",
   "source": [
    "There are four people, so the number of ways to shake hands is $C(4, 2) = 6$\n",
    "\n",
    "If there were 15 people, it would be $C(15, 2) = 105$\n",
    "\n",
    "In the general case, for $n \\ge 2$ it is\n",
    "\n",
    "$$\n",
    "\\begin{aligned}\n",
    "C(n, 2) &= \\frac{n!}{2!(n-2)!} \\\\\n",
    " &= \\frac{n(n-1)}{2}\n",
    "\\end{aligned}\n",
    "$$\n",
    "\n"
   ],
   "id": "b91b67de0363c87c"
  },
  {
   "metadata": {},
   "cell_type": "markdown",
   "source": [
    "### 12. A basketball conference has 8 member teams. If each team plays each other team twice during the season, how many games are played?\n",
    "\n",
    "This is\n",
    "\n",
    "$2 \\cdot C(8, 2) = 56$"
   ],
   "id": "706757d7aa2c56a9"
  },
  {
   "metadata": {},
   "cell_type": "markdown",
   "source": [
    "### 13. Suppose a lottery ticket contains 6 numbers chosen from the integers between 0 and 39 inclusive. How many different tickets are possible assuming\n",
    "#### (a) the order of the numbers on the ticket is irrelevant,\n",
    "\n",
    "Well, there are 40 numbers, so there are $C(40, 6)$ ways of choosing the numbers"
   ],
   "id": "35ce78c087dacd71"
  },
  {
   "metadata": {
    "ExecuteTime": {
     "end_time": "2025-06-19T21:15:01.778712Z",
     "start_time": "2025-06-19T21:15:01.776346Z"
    }
   },
   "cell_type": "code",
   "source": "print(combinations(40, 6))",
   "id": "3bf47860f1461f6b",
   "outputs": [
    {
     "name": "stdout",
     "output_type": "stream",
     "text": [
      "3838380\n"
     ]
    }
   ],
   "execution_count": 27
  },
  {
   "metadata": {},
   "cell_type": "markdown",
   "source": [
    "#### (b) the order of the numbers on the tickets is relevant.\n",
    "\n",
    "This is $P(40, 6)$."
   ],
   "id": "303e5df7a49a951b"
  },
  {
   "metadata": {
    "ExecuteTime": {
     "end_time": "2025-06-19T21:15:01.797102Z",
     "start_time": "2025-06-19T21:15:01.794858Z"
    }
   },
   "cell_type": "code",
   "source": "print(permutations(40, 6))",
   "id": "79214270c4157d74",
   "outputs": [
    {
     "name": "stdout",
     "output_type": "stream",
     "text": [
      "2763633600\n"
     ]
    }
   ],
   "execution_count": 28
  },
  {
   "metadata": {},
   "cell_type": "markdown",
   "source": [
    "#### 14. A pre-season soccer poll will rank the top 25 teams from the 830 teams in the country. How many different rankings are possible?\n",
    "\n",
    "$P(830, 25)$"
   ],
   "id": "2bc03bb6e7912607"
  },
  {
   "metadata": {
    "ExecuteTime": {
     "end_time": "2025-06-19T21:15:01.815810Z",
     "start_time": "2025-06-19T21:15:01.812979Z"
    }
   },
   "cell_type": "code",
   "source": "print(permutations(830, 25))",
   "id": "fa796d8c044bd2a",
   "outputs": [
    {
     "name": "stdout",
     "output_type": "stream",
     "text": [
      "6582800300205286974486467442495694539641963287074348938433302495232000000\n"
     ]
    }
   ],
   "execution_count": 29
  },
  {
   "metadata": {},
   "cell_type": "markdown",
   "source": [
    "### 15. Of the 52 cards in a deck of cards, 13 are hearts, 13 are diamonds, 13 are spades, and 13 are clubs.\n",
    "#### (a) How many poker hands (consisting of 5 cards) will contain 2 hearts, 1 diamond, and 2 clubs?\n",
    "This is $C(13, 2) \\cdot C(13, 1) \\cdot C(13,2)$"
   ],
   "id": "435bcd738e726eb5"
  },
  {
   "metadata": {
    "ExecuteTime": {
     "end_time": "2025-06-19T21:15:01.831120Z",
     "start_time": "2025-06-19T21:15:01.828463Z"
    }
   },
   "cell_type": "code",
   "source": "print(combinations(13, 2) * combinations(13, 1) * combinations(13, 2))",
   "id": "9aabf7b3fa32ab5c",
   "outputs": [
    {
     "name": "stdout",
     "output_type": "stream",
     "text": [
      "79092\n"
     ]
    }
   ],
   "execution_count": 30
  },
  {
   "metadata": {},
   "cell_type": "markdown",
   "source": [
    "#### (b) How many bridge hands (consisting of 13 cards) will contain 7 spades and 6 diamonds?\n",
    "This is $C(13, 7) \\cdot C(13, 6)$"
   ],
   "id": "f1e4f4c4d25aa823"
  },
  {
   "metadata": {
    "ExecuteTime": {
     "end_time": "2025-06-19T21:15:01.848689Z",
     "start_time": "2025-06-19T21:15:01.846303Z"
    }
   },
   "cell_type": "code",
   "source": "print(combinations(13, 7) * combinations(13, 6))",
   "id": "f580311fca507463",
   "outputs": [
    {
     "name": "stdout",
     "output_type": "stream",
     "text": [
      "2944656\n"
     ]
    }
   ],
   "execution_count": 31
  },
  {
   "metadata": {},
   "cell_type": "markdown",
   "source": [
    "#### (c) How many bridge hands will contain 3 hearts, 3 diamonds, 5 clubs, and 2 spades?\n",
    "This is $C(13, 3) \\cdot C(13, 3) \\cdot C(13, 5) \\cdot C(13, 2)$"
   ],
   "id": "88fead6ceeb39b30"
  },
  {
   "metadata": {
    "ExecuteTime": {
     "end_time": "2025-06-19T21:15:01.864392Z",
     "start_time": "2025-06-19T21:15:01.861472Z"
    }
   },
   "cell_type": "code",
   "source": "print(combinations(13, 3) * combinations(13, 3) * combinations(13, 5) * combinations(13, 2))",
   "id": "5c8748eefed8a08d",
   "outputs": [
    {
     "name": "stdout",
     "output_type": "stream",
     "text": [
      "8211173256\n"
     ]
    }
   ],
   "execution_count": 32
  },
  {
   "metadata": {},
   "cell_type": "markdown",
   "source": [
    "#### (d) How many bridge hands will contain all spades?\n",
    "\n",
    "This is $C(13, 13) = 1$\n",
    "\n",
    "#### (e) How many bridge hands will contain cards all of the same suit?\n",
    "\n",
    "This is $C(13, 13) + C(13, 13) + C(13, 13) + C(13, 13) = 4$"
   ],
   "id": "3bc4ebe539d965ac"
  }
 ],
 "metadata": {
  "kernelspec": {
   "display_name": "Python 3",
   "language": "python",
   "name": "python3"
  },
  "language_info": {
   "codemirror_mode": {
    "name": "ipython",
    "version": 2
   },
   "file_extension": ".py",
   "mimetype": "text/x-python",
   "name": "python",
   "nbconvert_exporter": "python",
   "pygments_lexer": "ipython2",
   "version": "2.7.6"
  }
 },
 "nbformat": 4,
 "nbformat_minor": 5
}
