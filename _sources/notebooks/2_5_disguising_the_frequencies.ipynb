{
 "cells": [
  {
   "metadata": {},
   "cell_type": "markdown",
   "source": [
    "# 2.5 Disguising the Frequencies\n",
    "\n",
    "## Exercises 2.5"
   ],
   "id": "5c54cc98f1deb412"
  },
  {
   "metadata": {
    "ExecuteTime": {
     "end_time": "2025-06-25T23:58:46.181290Z",
     "start_time": "2025-06-25T23:58:46.066787Z"
    }
   },
   "cell_type": "code",
   "source": [
    "%%capture\n",
    "%run ./1_2_primes_gcd.ipynb\n",
    "import random\n",
    "\n",
    "from src.polyalpabetic_ciphers import TABLE_2_1, display_frequency_tables, LETTER_PROBABILITIES\n",
    "from src.helpers import strip_text, strip_number_text, format_plaintext, format_ciphertext, \\\n",
    "                        format_number_ciphertext, CHARACTERS, pos, char_at"
   ],
   "id": "13a664f3e949b90a",
   "outputs": [],
   "execution_count": 1
  },
  {
   "metadata": {},
   "cell_type": "markdown",
   "source": [
    "###  3. Write a program to encipher and decipher messages by means of the Letter-Number scheme appearing in Table 2.1.\n",
    "\n",
    "For reference, here is the letter-number table being referenced.\n",
    "\n",
    "\n",
    " | Letter | Subset of S                                        |\n",
    " |:------:|:---------------------------------------------------|\n",
    " |   a    | 15, 33, 37, 55, 57, 72, 91, 96                     |\n",
    " |   b    | 24                                                 |\n",
    " |   c    | 03, 39, 67                                         |\n",
    " |   d    | 04, 43, 61, 88                                     |\n",
    " |   e    | 08, 12, 20, 46, 47, 59, 64, 79, 81, 85, 90, 94, 97 |\n",
    " |   f    | 40, 48                                             |\n",
    " |   g    | 29, 53                                             |\n",
    " |   h    | 05, 16, 30, 42, 69, 99                             |\n",
    " |   i    | 14, 45, 50, 60, 73, 82, 93                         |\n",
    " |   j    | 11                                                 |\n",
    " |   k    | 77                                                 |\n",
    " |   l    | 01, 26, 71, 98                                     |\n",
    " |   m    | 34, 87                                             |\n",
    " |   n    | 06, 17, 22, 31, 49, 58                             |\n",
    " |   o    | 02, 10, 41, 51, 66, 75, 83                         |\n",
    " |   p    | 13, 18                                             |\n",
    " |   q    | 36                                                 |\n",
    " |   r    | 21, 25, 65, 68, 92, 95                             |\n",
    " |   s    | 00, 28, 52, 63, 74, 78                             |\n",
    " |   t    | 07, 19, 23, 35, 38, 54, 70, 84, 89                 |\n",
    " |   u    | 09, 32                                             |\n",
    " |   v    | 44                                                 |\n",
    " |   w    | 56, 80                                             |\n",
    " |   x    | 86                                                 |\n",
    " |   У    | 62, 76                                             |\n",
    " |   z    | 27                                                 |\n",
    "\n",
    "For brevity, it is defined in a [separate Python module](https://github.com/dandoug/cryptomath-book/blob/main/src/polyalpabetic_ciphers.py) and referenced here."
   ],
   "id": "893cff92268246cb"
  },
  {
   "metadata": {
    "ExecuteTime": {
     "end_time": "2025-06-25T23:58:46.312134Z",
     "start_time": "2025-06-25T23:58:46.305778Z"
    }
   },
   "cell_type": "code",
   "source": [
    "class LetterNumber:\n",
    "    def __init__(self, table: dict[str, list[int]]):\n",
    "        \"\"\"\n",
    "        Construct a LetterNumber object for enciphering and deciphering messages.\n",
    "        :param table: a dictionary mapping letters to lists of numbers as shown in Table 2.1 (above)\n",
    "        :raise ValueError if the input table is not valid (see below)\n",
    "        \"\"\"\n",
    "        self._letter_to_numbers = table\n",
    "        # validate that all the letters a-z are in the table\n",
    "        if len(table) != 26:\n",
    "            raise ValueError(f\"wrong number of letters in table: {len(table)} != 26\")\n",
    "        for l in CHARACTERS.lower():\n",
    "            if l not in table:\n",
    "                raise ValueError(f\"letter {l} not in table\")\n",
    "        # Build and validate the numbers_to_letters table\n",
    "        number_to_letters = {}\n",
    "        for p, nums in table.items():\n",
    "            for n in nums:\n",
    "                # convert n to a two-character string, padded with leading zero if needed\n",
    "                n_str = f\"{n:02}\"\n",
    "                if n_str in number_to_letters:\n",
    "                    raise ValueError(f\"duplicate number {n_str} in table\")\n",
    "                number_to_letters[n_str] = p\n",
    "        # validate that number_to_letters has the right number of entries\n",
    "        if len(number_to_letters) != 100:\n",
    "            raise ValueError(f\"wrong number of numbers in table: {len(number_to_letters)} != 100\")\n",
    "        # need to validate that all numbers 00-99 are covered\n",
    "        for n in range(100):\n",
    "            n_str = f\"{n:02}\"\n",
    "            if n_str not in number_to_letters:\n",
    "                raise ValueError(f\"number {n_str} not in table\")\n",
    "        self._numbers_to_letters = number_to_letters\n",
    "\n",
    "    def encipher(self, plaintext: str) -> str:\n",
    "        \"\"\"\n",
    "        Encipher a plaintext\n",
    "        \"\"\"\n",
    "        plaintext = strip_text(plaintext)\n",
    "        ciphertext = \"\"\n",
    "        for char in plaintext:\n",
    "            # randomly select a number from the list for this letter\n",
    "            nums = self._letter_to_numbers[char]\n",
    "            index = random.randint(0, len(nums) - 1)\n",
    "            ciphertext += f\"{nums[index]:02}\"\n",
    "        return ciphertext\n",
    "\n",
    "    def decipher(self, ciphertext: str) -> str:\n",
    "        \"\"\"\n",
    "        Decipher a ciphertext\n",
    "        \"\"\"\n",
    "        ciphertext = strip_number_text(ciphertext)\n",
    "        if len(ciphertext) % 2 != 0:\n",
    "            raise ValueError(\"ciphertext does not contain an even number of digits\")\n",
    "        return ''.join(self._numbers_to_letters[ciphertext[i:i+2]] for i in range(0, len(ciphertext), 2))\n",
    "\n",
    "encoder = LetterNumber(TABLE_2_1)"
   ],
   "id": "b29dd8f5d4f0c662",
   "outputs": [],
   "execution_count": 2
  },
  {
   "metadata": {},
   "cell_type": "markdown",
   "source": [
    "### 1. Using the Letter-Number scheme appearing in Table 2.1, encipher each of the following messages:\n",
    "\n",
    "#### (a) Why is it that when we talk to god we are praying, but when god talks to us we are schizophrenic?"
   ],
   "id": "13a45e95152a96a1"
  },
  {
   "metadata": {
    "ExecuteTime": {
     "end_time": "2025-06-25T23:58:46.333502Z",
     "start_time": "2025-06-25T23:58:46.330554Z"
    }
   },
   "cell_type": "code",
   "source": [
    "plaintext_1a = \"Why is it that when we talk to god we are praying, but when god talks to us we are schizophrenic?\"\n",
    "ciphertext_1a = encoder.encipher(plaintext_1a)\n",
    "print(format_number_ciphertext(ciphertext_1a))"
   ],
   "id": "3f1963181a2f67dc",
   "outputs": [
    {
     "name": "stdout",
     "output_type": "stream",
     "text": [
      "563076455260237005728480998122568519332677195153108880085721\n",
      "941365576250225324093580692058296661383771772823750952567933\n",
      "211200673093271013309285585067\n"
     ]
    }
   ],
   "execution_count": 3
  },
  {
   "metadata": {
    "ExecuteTime": {
     "end_time": "2025-06-25T23:58:46.360227Z",
     "start_time": "2025-06-25T23:58:46.357185Z"
    }
   },
   "cell_type": "code",
   "source": [
    "# validation\n",
    "print(format_plaintext(encoder.decipher(ciphertext_1a)))"
   ],
   "id": "fcb5f08e2380157",
   "outputs": [
    {
     "name": "stdout",
     "output_type": "stream",
     "text": [
      "whyisitthatwhenwetalktogodweareprayingbutwhengodtalkstouswea\n",
      "reschizophrenic\n"
     ]
    }
   ],
   "execution_count": 4
  },
  {
   "metadata": {},
   "cell_type": "markdown",
   "source": [
    "\n",
    "#### (b) My grandmother started walking five miles a day when she was sixty. She's ninety-seven today and we don't know where she is."
   ],
   "id": "b90fb816333f7f3"
  },
  {
   "metadata": {
    "ExecuteTime": {
     "end_time": "2025-06-25T23:58:46.399079Z",
     "start_time": "2025-06-25T23:58:46.396499Z"
    }
   },
   "cell_type": "code",
   "source": [
    "plaintext_1b = \"My grandmother started walking five miles a day when she was sixty. She's ninety-seven today and we don't know where she is.\"\n",
    "ciphertext_1b = encoder.encipher(plaintext_1b)\n",
    "print(format_number_ciphertext(ciphertext_1b))"
   ],
   "id": "654385497e5a4651",
   "outputs": [
    {
     "name": "stdout",
     "output_type": "stream",
     "text": [
      "346253923731438710896981957435916570944380729877821729407344\n",
      "208745719778558857768005850600695980556374738689625299905258\n",
      "600608706278904459492310617262334943562043025838770666808069\n",
      "1265907499641452\n"
     ]
    }
   ],
   "execution_count": 5
  },
  {
   "metadata": {
    "ExecuteTime": {
     "end_time": "2025-06-25T23:58:46.442984Z",
     "start_time": "2025-06-25T23:58:46.440904Z"
    }
   },
   "cell_type": "code",
   "source": [
    "# validation\n",
    "print(format_plaintext(encoder.decipher(ciphertext_1b)))"
   ],
   "id": "465d02622102bf32",
   "outputs": [
    {
     "name": "stdout",
     "output_type": "stream",
     "text": [
      "mygrandmotherstartedwalkingfivemilesadaywhenshewassixtyshesn\n",
      "inetyseventodayandwedontknowwheresheis\n"
     ]
    }
   ],
   "execution_count": 6
  },
  {
   "metadata": {},
   "cell_type": "markdown",
   "source": [
    "###  2. Using the Letter-Number scheme appearing in Table 2.1, decipher each of the following messages:\n",
    "\n",
    "#### (a) 50378706411991441253083896254555492420391532006473011044857\n",
    " 24993871598744596345544812994847295143758249467720963469305\n",
    " 915408137172498978"
   ],
   "id": "d7a1af96ed5dfe8a"
  },
  {
   "metadata": {
    "ExecuteTime": {
     "end_time": "2025-06-25T23:58:46.495473Z",
     "start_time": "2025-06-25T23:58:46.492972Z"
    }
   },
   "cell_type": "code",
   "source": [
    "ciphertext_2a = \"50378706411991441253083896254555492420391532006473011044857\" + \\\n",
    "                \"24993871598744596345544812994847295143758249467720963469305\" + \\\n",
    "                \"915408137172498978\"\n",
    "plaintext_2a = encoder.decipher(ciphertext_2a)\n",
    "print(format_plaintext(plaintext_2a))"
   ],
   "id": "f5a2807f213fc02c",
   "outputs": [
    {
     "name": "stdout",
     "output_type": "stream",
     "text": [
      "iamnotavegetarianbecauseiloveanimalsiamavegetarianbecauseiha\n",
      "teplants\n"
     ]
    }
   ],
   "execution_count": 7
  },
  {
   "metadata": {},
   "cell_type": "markdown",
   "source": [
    "yields\n",
    "```\n",
    "  i am not a vegetarian because i love animals i am a vegetarian because i\n",
    "  hate plants\n",
    "```"
   ],
   "id": "2d9619bcdb76e04b"
  },
  {
   "metadata": {},
   "cell_type": "markdown",
   "source": [
    "\n",
    "#### (b) 80167661508877723414773327201893011035745690579530127187818\n",
    " 900\n"
   ],
   "id": "54fd6c6d5d5b637a"
  },
  {
   "metadata": {
    "ExecuteTime": {
     "end_time": "2025-06-25T23:58:46.524012Z",
     "start_time": "2025-06-25T23:58:46.521741Z"
    }
   },
   "cell_type": "code",
   "source": [
    "ciphertext_2b = \"80167661508877723414773327201893011035745690579530127187818\" + \\\n",
    "                \"900\"\n",
    "plaintext_2b = encoder.decipher(ciphertext_2b)\n",
    "print(format_plaintext(plaintext_2b))"
   ],
   "id": "4f75c1043961965",
   "outputs": [
    {
     "name": "stdout",
     "output_type": "stream",
     "text": [
      "whydidkamikazepilotswearhelmets\n"
     ]
    }
   ],
   "execution_count": 8
  },
  {
   "metadata": {},
   "cell_type": "markdown",
   "source": [
    "yields\n",
    "```\n",
    "  why did kamikaze pilots wear helmets\n",
    "```"
   ],
   "id": "f79676780221465d"
  },
  {
   "metadata": {},
   "cell_type": "markdown",
   "source": [
    "### 4. Write a program that accepts a text message and outputs a count of each digraph, trigraph, quadgraph, and quintgraph. (And don't pretend you don't know what these terms mean.)\n",
    "\n",
    "We did this in [Exercises 1.6](https://dandoug.github.io/cryptomath-book/notebooks/1_6_cryptoanalysis_monoalphabetic_substitution_ciphers.html#write-a-program-that-accepts-a-text-message-and-outputs-the-frequency-of-each-letter-appearing-in-the-message) but that was just for letters, digraphs and trigraphs.  We generalize the code here to take an additional parameter, $n$, $1 \\le n \\le 7$, and return as list of of maps that count the frequency of i-graphs for $i$ from 1 to $n$."
   ],
   "id": "b17a97a869df18da"
  },
  {
   "metadata": {
    "ExecuteTime": {
     "end_time": "2025-06-25T23:58:46.549432Z",
     "start_time": "2025-06-25T23:58:46.545644Z"
    }
   },
   "cell_type": "code",
   "source": [
    "def frequency_tabulator2(message: str, n: int) -> list[dict[str, int]]:\n",
    "    \"\"\"\n",
    "    Given a message, and a value of n (1 <= n <= 7), return a list of\n",
    "    dictionaries that count the frequency of i-gram for i from 1 to n.\n",
    "    \"\"\"\n",
    "    if n < 1 or n > 7:\n",
    "        raise ValueError(f\"n must be between 1 and 7, got {n}\")\n",
    "    # initialize the dictionaries\n",
    "    result: list[dict[str, int]] = [dict() for _ in range(n)]\n",
    "    current_i_gram: list[str] = ['' for _ in range(n)]\n",
    "    message = strip_text(message)\n",
    "    for c in message:\n",
    "        for i in range(n):\n",
    "            current_i_gram[i] = (current_i_gram[i] + c)[-(i+1):]\n",
    "            if len(current_i_gram[i]) == i+1:\n",
    "                result[i][current_i_gram[i]] = result[i].get(current_i_gram[i], 0) + 1\n",
    "    for i in range(n):\n",
    "        result[i] = dict(sorted(result[i].items(), key=lambda item: item[1], reverse=True))\n",
    "    return result"
   ],
   "id": "31687cab4c08ec0d",
   "outputs": [],
   "execution_count": 9
  },
  {
   "metadata": {},
   "cell_type": "markdown",
   "source": "The function above computes the complete frequency tables.  We choose to limit our display function to the entries that have 2 or more occurances because singleton occurrences aren't much help for cryptoanalysis.",
   "id": "e4a00003550449a4"
  },
  {
   "metadata": {
    "ExecuteTime": {
     "end_time": "2025-06-25T23:58:46.578716Z",
     "start_time": "2025-06-25T23:58:46.575634Z"
    }
   },
   "cell_type": "code",
   "source": [
    "frequencies = frequency_tabulator2(plaintext_2a, 5)\n",
    "display_frequency_tables(frequencies)"
   ],
   "id": "4e9306b196c4bfb5",
   "outputs": [
    {
     "data": {
      "text/plain": [
       "<IPython.core.display.Math object>"
      ],
      "text/latex": "$\\displaystyle \\begin{array}[t]{ccccc}\n\\begin{array}{c|c}\n\\text{Letter} & \\text{Frequency} \\\\\n\\hline\nA & 14 \\\\\nE & 10 \\\\\nI & 7 \\\\\nN & 5 \\\\\nT & 5 \\\\\nS & 4 \\\\\nM & 3 \\\\\nV & 3 \\\\\nL & 3 \\\\\nO & 2 \\\\\nG & 2 \\\\\nR & 2 \\\\\nB & 2 \\\\\nC & 2 \\\\\nU & 2 \\\\\n\\end{array} \\quad \\quad & \\begin{array}{c|c}\n\\text{Digraph} & \\text{Frequency} \\\\\n\\hline\nIA & 4 \\\\\nAN & 4 \\\\\nTA & 3 \\\\\nVE & 3 \\\\\nAM & 2 \\\\\nAV & 2 \\\\\nEG & 2 \\\\\nGE & 2 \\\\\nET & 2 \\\\\nAR & 2 \\\\\nRI & 2 \\\\\nNB & 2 \\\\\nBE & 2 \\\\\nEC & 2 \\\\\nCA & 2 \\\\\nAU & 2 \\\\\nUS & 2 \\\\\nSE & 2 \\\\\nEI & 2 \\\\\nMA & 2 \\\\\n\\end{array} \\quad \\quad & \\begin{array}{c|c}\n\\text{Trigraph} & \\text{Frequency} \\\\\n\\hline\nIAM & 2 \\\\\nAVE & 2 \\\\\nVEG & 2 \\\\\nEGE & 2 \\\\\nGET & 2 \\\\\nETA & 2 \\\\\nTAR & 2 \\\\\nARI & 2 \\\\\nRIA & 2 \\\\\nIAN & 2 \\\\\nANB & 2 \\\\\nNBE & 2 \\\\\nBEC & 2 \\\\\nECA & 2 \\\\\nCAU & 2 \\\\\nAUS & 2 \\\\\nUSE & 2 \\\\\nSEI & 2 \\\\\n\\end{array} \\quad \\quad & \\begin{array}{c|c}\n\\text{Quadgraph} & \\text{Frequency} \\\\\n\\hline\nAVEG & 2 \\\\\nVEGE & 2 \\\\\nEGET & 2 \\\\\nGETA & 2 \\\\\nETAR & 2 \\\\\nTARI & 2 \\\\\nARIA & 2 \\\\\nRIAN & 2 \\\\\nIANB & 2 \\\\\nANBE & 2 \\\\\nNBEC & 2 \\\\\nBECA & 2 \\\\\nECAU & 2 \\\\\nCAUS & 2 \\\\\nAUSE & 2 \\\\\nUSEI & 2 \\\\\n\\end{array} \\quad \\quad & \\begin{array}{c|c}\n\\text{Pentagraph} & \\text{Frequency} \\\\\n\\hline\nAVEGE & 2 \\\\\nVEGET & 2 \\\\\nEGETA & 2 \\\\\nGETAR & 2 \\\\\nETARI & 2 \\\\\nTARIA & 2 \\\\\nARIAN & 2 \\\\\nRIANB & 2 \\\\\nIANBE & 2 \\\\\nANBEC & 2 \\\\\nNBECA & 2 \\\\\nBECAU & 2 \\\\\nECAUS & 2 \\\\\nCAUSE & 2 \\\\\nAUSEI & 2 \\\\\n\\end{array}\n\\end{array}$"
     },
     "metadata": {},
     "output_type": "display_data"
    }
   ],
   "execution_count": 10
  },
  {
   "metadata": {},
   "cell_type": "markdown",
   "source": "### 7. Write a program that enciphers and deciphers messages using the Vigenère Square. The input to your program should be both a message and the keyword.",
   "id": "c90ac86c470542bb"
  },
  {
   "metadata": {
    "ExecuteTime": {
     "end_time": "2025-06-25T23:58:46.621566Z",
     "start_time": "2025-06-25T23:58:46.617100Z"
    }
   },
   "cell_type": "code",
   "source": [
    "class VigenereSq:\n",
    "    \"\"\"\n",
    "    Represents a Vigenere square, used in cryptography for encoding and decoding\n",
    "    text with a cipher key. It houses the key and provides the functionality needed\n",
    "    to work with the Vigenere cipher.\n",
    "    \"\"\"\n",
    "    def __init__(self, key: str):\n",
    "        \"\"\"\n",
    "        Construct a VigenereSq object using the given key.\n",
    "        \"\"\"\n",
    "        self._key = strip_text(key) # clean up the key\n",
    "        if len(self._key) == 0:\n",
    "            raise ValueError(\"key cannot be empty\")\n",
    "        # precompute the key shift values\n",
    "        shifts = []\n",
    "        for k in self._key:\n",
    "            shifts.append(pos(k)-1)\n",
    "        self._shifts = shifts\n",
    "\n",
    "    def encipher(self, plaintext: str) -> str:\n",
    "        \"\"\"\n",
    "        Encode a text message using the Vigenere cipher.\n",
    "        \"\"\"\n",
    "        plaintext = strip_text(plaintext)\n",
    "        ciphertext = \"\"\n",
    "        for i, char in enumerate(plaintext):\n",
    "            ciphertext += char_at(pos(char)+self._shifts[i % len(self._key)])\n",
    "        return ciphertext.upper()\n",
    "    def decipher(self, ciphertext: str) -> str:\n",
    "        \"\"\"\"\n",
    "        Decode a text message using the Vigenere cipher.\n",
    "        \"\"\"\n",
    "        ciphertext = strip_text(ciphertext)\n",
    "        plaintext = \"\"\n",
    "        for i, char in enumerate(ciphertext):\n",
    "            plaintext += char_at(pos(char)-self._shifts[i % len(self._key)])\n",
    "        return plaintext"
   ],
   "id": "133b5b0e4e5897ab",
   "outputs": [],
   "execution_count": 11
  },
  {
   "metadata": {},
   "cell_type": "markdown",
   "source": [
    "### 5. Encipher the following messages using the Vigenère Square:\n",
    "\n",
    "#### (a) Though the Cold War has passed, decoded Soviet cables have intensified the long-running debate on whether the Soviet Union employed American citizens as spies. (Use keyword venom.)"
   ],
   "id": "d5e8d930782b5cb"
  },
  {
   "metadata": {
    "ExecuteTime": {
     "end_time": "2025-06-25T23:58:46.664002Z",
     "start_time": "2025-06-25T23:58:46.661301Z"
    }
   },
   "cell_type": "code",
   "source": [
    "plaintext_5a = \"Though the Cold War has passed, decoded Soviet cables have intensified \" + \\\n",
    "               \"the long-running debate on whether the Soviet Union employed American \" + \\\n",
    "               \"citizens as spies.\"\n",
    "coder5a = VigenereSq(\"venom\")\n",
    "ciphertext_5a = coder5a.encipher(plaintext_5a)\n",
    "print(format_ciphertext(ciphertext_5a))"
   ],
   "id": "7a5e33cc719274cc",
   "outputs": [
    {
     "name": "stdout",
     "output_type": "stream",
     "text": [
      "OLBIS CXUSO JPQKM MLNGB VWFSP YIPCP ZHFCH DIGQM WPRGT VZRWZ\n",
      "OIAGU AMRRF CIYCZ BVHBZ DRTRQ WEGSA IAUSF CIEHT ZWBJU ZXHBU\n",
      "JRRAB GSLSP VQRFU XEAQU OMMSZ NEFGB DIF\n"
     ]
    }
   ],
   "execution_count": 12
  },
  {
   "metadata": {},
   "cell_type": "markdown",
   "source": [
    "\n",
    "#### (b) I really do hope that Molly intercepts this message, Stef, because there's no way she could decrypt it. (Use keyword pride.)"
   ],
   "id": "82c4b807d8d1c472"
  },
  {
   "metadata": {
    "ExecuteTime": {
     "end_time": "2025-06-25T23:58:46.716711Z",
     "start_time": "2025-06-25T23:58:46.709135Z"
    }
   },
   "cell_type": "code",
   "source": [
    "plaintext_5b = \"I really do hope that Molly intercepts this message, Stef, because there's no \" + \\\n",
    "               \"way she could decrypt it.\"\n",
    "coder5b = VigenereSq(\"pride\")\n",
    "ciphertext_5b = coder5b.encipher(plaintext_5b)\n",
    "print(format_ciphertext(ciphertext_5b))"
   ],
   "id": "d1e7676ef426e4ca",
   "outputs": [
    {
     "name": "stdout",
     "output_type": "stream",
     "text": [
      "XIMDP APLRL DGMWL PKURP APQQX TIKHT IJBKM HDMVW PXMVX TWJHG\n",
      "PLAHX WVZHW CFEDC HYMFS JCLGI RIGSX XK\n"
     ]
    }
   ],
   "execution_count": 13
  },
  {
   "metadata": {},
   "cell_type": "markdown",
   "source": [
    "### 6. Decipher the following messages using the Vigenère Square:\n",
    "\n",
    "#### (a) (Use keyword gift.)"
   ],
   "id": "95c3820c2654953b"
  },
  {
   "metadata": {
    "ExecuteTime": {
     "end_time": "2025-06-25T23:58:46.837750Z",
     "start_time": "2025-06-25T23:58:46.825804Z"
    }
   },
   "cell_type": "code",
   "source": [
    "ciphertext_6a = \"CPJGO EFLGJ TRCMB XXMXH VWTKZ PFMLW \" + \\\n",
    "                \"WVNZN LZUFL SGKTS QQRPC XMKFH AGVLX \" + \\\n",
    "                \"JOQTT KJL\"\n",
    "coder6a = VigenereSq(\"gift\")\n",
    "print(format_plaintext(coder6a.decipher(ciphertext_6a)))"
   ],
   "id": "718e0a40ed0c3b9d",
   "outputs": [
    {
     "name": "stdout",
     "output_type": "stream",
     "text": [
      "wheniwasaboyweweresopoorthatforchristmasmyfamilyjustexchange\n",
      "dglances\n"
     ]
    }
   ],
   "execution_count": 14
  },
  {
   "metadata": {},
   "cell_type": "markdown",
   "source": [
    "yields\n",
    "```\n",
    "  when i was a boy we were so poor that for christmas my family just\n",
    "  exchanged glances\n",
    "```"
   ],
   "id": "248a13c0362bc7aa"
  },
  {
   "metadata": {},
   "cell_type": "markdown",
   "source": "#### (b) (Use keyword dispute.)",
   "id": "573a682c818a3893"
  },
  {
   "metadata": {
    "ExecuteTime": {
     "end_time": "2025-06-25T23:58:46.918959Z",
     "start_time": "2025-06-25T23:58:46.912204Z"
    }
   },
   "cell_type": "code",
   "source": [
    "ciphertext_6b = \"VWETW EELUL WUMXK METNA SGKGB GHROG \" + \\\n",
    "                \"SINKM ECLTX MSWPW ELNWV QSCZK MHLJX \" + \\\n",
    "                \"WAALT ZTFFO DAAHE BADAS RNNEO TQXHO \" + \\\n",
    "                \"IQBWS VRXKM WCAEM VPEPN AIPIL XWBEQ \" + \\\n",
    "                \"KZPLE IVJSQ VTKHV ACYRI DZKEL BSUBG \" + \\\n",
    "                \"IBXTX JDXWT XLWFD ZDEVQ KZCLA RZC\"\n",
    "encoder6b = VigenereSq(\"dispute\")\n",
    "print(format_plaintext(encoder6b.decipher(ciphertext_6b)))"
   ],
   "id": "ee09dc0600f8634b",
   "outputs": [
    {
     "name": "stdout",
     "output_type": "stream",
     "text": [
      "someclaimthatthemethodcommonlyattributedtotheprussianfriedri\n",
      "chwilhelmkasiskiwasactuallyinventedbytheenglishmathematician\n",
      "charlesbabbagenineyearspriortothepublicationofkasiskiswork\n"
     ]
    }
   ],
   "execution_count": 15
  },
  {
   "metadata": {},
   "cell_type": "markdown",
   "source": [
    "yields\n",
    "```\n",
    " some claim that the method commonly attributed to the prussian friedrich\n",
    " wilhelm kasiski was actually invented by the english mathematician\n",
    " charles babbage nine years prior to the publication of kasiski s work\n",
    "```"
   ],
   "id": "a38bcdb359c58232"
  },
  {
   "metadata": {},
   "cell_type": "markdown",
   "source": [
    "### 8. Write a program that computes the Index of Coincidence of a message and then approximates the length of the keyword.\n",
    "\n",
    "Recall the formula\n",
    "\n",
    "$$\n",
    "  IC = \\sum_{i=1}^{26} \\frac{n_i(n_i-1)}{n(n-1)}\n",
    "$$\n",
    "\n",
    "where $n$ is the number of characters in the message and $n_i$ is the number of times each letter appears in message.\n",
    "\n",
    "Recall also that $r$, an approximation of the length of the keyword can be found using this formula\n",
    "\n",
    "$$\n",
    "  r \\approx \\frac{0.027n}{(n-1)IC - 0.038n +0.065}\n",
    "$$"
   ],
   "id": "e1c8a81937e875f2"
  },
  {
   "metadata": {
    "ExecuteTime": {
     "end_time": "2025-06-25T23:58:47.022655Z",
     "start_time": "2025-06-25T23:58:47.015847Z"
    }
   },
   "cell_type": "code",
   "source": [
    "def ic(message: str) -> (float, float):\n",
    "    \"\"\"\n",
    "    Use the formula above to compute the Index of Coincidence of a message and\n",
    "    an approximation of the length of the keyword.\n",
    "    \"\"\"\n",
    "    # First, get the letter frequencies\n",
    "    letter_frequencies = frequency_tabulator2(message, 1)[0]\n",
    "    chars_in_message = sum(letter_frequencies.values())\n",
    "    numerator = 0.0\n",
    "    for n_sub_i in letter_frequencies.values():\n",
    "        numerator += n_sub_i * (n_sub_i - 1)\n",
    "    i_of_c = numerator / (chars_in_message * (chars_in_message - 1))\n",
    "    # now compute the r approximation of the length of the keyword\n",
    "    r = (0.027 * chars_in_message) / ((chars_in_message - 1) * i_of_c - 0.038 * chars_in_message + 0.065)\n",
    "    return i_of_c, r"
   ],
   "id": "5dfd0195998b736d",
   "outputs": [],
   "execution_count": 16
  },
  {
   "metadata": {
    "ExecuteTime": {
     "end_time": "2025-06-25T23:58:47.067268Z",
     "start_time": "2025-06-25T23:58:47.063783Z"
    }
   },
   "cell_type": "code",
   "source": "ic(ciphertext_5a)",
   "id": "224a2bc302190fdb",
   "outputs": [
    {
     "data": {
      "text/plain": [
       "(0.03827751196172249, 56.434243176179145)"
      ]
     },
     "execution_count": 17,
     "metadata": {},
     "output_type": "execute_result"
    }
   ],
   "execution_count": 17
  },
  {
   "metadata": {},
   "cell_type": "markdown",
   "source": [
    "The $IC$ correctly indicates that the encoding was polyalphabetic (since it is close to $0.038$).  However the estimated keyword length is way off ($56.4$ instead of $5$).  I'm going to assume that this is because the cipher text is relatively short (only $133$ characters).  Hopefully, the values yielded during the decoding examples in the next problem will be more helpful.\n",
    "\n",
    "Before moving onto the next problem, I'm going to implement another keyword length estimate using a slightly [different technique](https://pages.mtu.edu/~shene/NSF-4/Tutorial/VIG/Vig-IOC-Len.html).  Rather than solving for $r$, this technique breaks the ciphertext into groups assuming several different keyword lengths, computes the average $IC$ of the groups based on that keyword length.  The length that gives an average $IC$ closest to $0.065$, the $IC$ of natural English, is assumed to be keyword length."
   ],
   "id": "195802ae6739d2b2"
  },
  {
   "metadata": {
    "ExecuteTime": {
     "end_time": "2025-06-25T23:58:47.109578Z",
     "start_time": "2025-06-25T23:58:47.105453Z"
    }
   },
   "cell_type": "code",
   "source": [
    "def cosets_of_size_l(message: str, l: int) -> list[str]:\n",
    "    \"\"\"\n",
    "    partition a message into l cosets\n",
    "    \"\"\"\n",
    "    message = strip_text(message)\n",
    "    cosets = ['' for _ in range(l)]\n",
    "    for i, c in enumerate(message):\n",
    "        cosets[i % l] += c\n",
    "    return cosets\n",
    "\n",
    "def ic_avg_diffent_keywod_len(message: str, upper_limit_len: int) -> dict[str, float]:\n",
    "    \"\"\"\"\n",
    "    Given a message and a upper bound on the length of the keyword, return a dictionary\n",
    "    that contains the average IC of the cosets of the message using keyword lengths from\n",
    "    2 to upper_limit_len.\n",
    "    \"\"\"\n",
    "    if upper_limit_len < 2 or upper_limit_len > 24:\n",
    "        raise ValueError(f\"upper_limit_len must be between 2 and 24, got {upper_limit_len}\")\n",
    "    message = strip_text(message)\n",
    "    answer: dict[str, float] = {}\n",
    "    for l in range(2, upper_limit_len+1):\n",
    "        cosets =cosets_of_size_l(message, l)\n",
    "        ic_sum = 0.0\n",
    "        for coset in cosets:\n",
    "            ic_sum += ic(coset)[0]\n",
    "        answer[str(l)] = ic_sum / l\n",
    "    return answer"
   ],
   "id": "6ba50b6085934147",
   "outputs": [],
   "execution_count": 18
  },
  {
   "metadata": {
    "ExecuteTime": {
     "end_time": "2025-06-25T23:58:47.144375Z",
     "start_time": "2025-06-25T23:58:47.140131Z"
    }
   },
   "cell_type": "code",
   "source": "ic_avg_diffent_keywod_len(ciphertext_5a, 12)",
   "id": "b4cdbfd63aacfec0",
   "outputs": [
    {
     "data": {
      "text/plain": [
       "{'2': 0.036273179556761646,\n",
       " '3': 0.03894761569180174,\n",
       " '4': 0.03459224598930481,\n",
       " '5': 0.06732763532763533,\n",
       " '6': 0.039964866051822576,\n",
       " '7': 0.034252297410192145,\n",
       " '8': 0.031127450980392157,\n",
       " '9': 0.03817663817663817,\n",
       " '10': 0.06043956043956045,\n",
       " '11': 0.03676626403899131,\n",
       " '12': 0.04040404040404041}"
      ]
     },
     "execution_count": 19,
     "metadata": {},
     "output_type": "execute_result"
    }
   ],
   "execution_count": 19
  },
  {
   "metadata": {},
   "cell_type": "markdown",
   "source": "This gives a strong indication that the keywork is length $5$ since $0.0673$ is much closer to $0.065$ than the other values (except $10$ which is a multiple of $5$).",
   "id": "ef8a7fb8d647226b"
  },
  {
   "metadata": {},
   "cell_type": "markdown",
   "source": [
    "### 9. For each of the following messages enciphered by means of the Vigenère Square,\n",
    "#### (a) Perform the Kasiski Test to get an idea of the length of the key word.\n",
    "#### (b) Compute the Index of Coincidence to verify that the encipherment scheme is polyalphabetic.\n",
    "#### (c) Compute the approximation to the keyword's length using the Index of Coincidence.\n",
    "#### (d) Figure out the keyword.\n",
    "#### (e) Decrypt the message. Good luck. You'll need it."
   ],
   "id": "4a68ec321433b678"
  },
  {
   "metadata": {},
   "cell_type": "markdown",
   "source": "Before diving into this, I'm going to define something to compute the distance between pairs of repeated i-grams in a cipher text (Kasiski Test) to help with keyword length estimation.  The plan is to feed a repeated i-gram detected by the tabulator above and find candidates for keyword length.",
   "id": "6f97b18205d4869f"
  },
  {
   "metadata": {
    "ExecuteTime": {
     "end_time": "2025-06-25T23:58:47.171552Z",
     "start_time": "2025-06-25T23:58:47.168041Z"
    }
   },
   "cell_type": "code",
   "source": [
    "def distance_between_repeated_i_grams(i_gram: str, message: str) -> list[int]:\n",
    "    \"\"\"\n",
    "    Given an i-gram and a message, return the character distances between the occurances\n",
    "    of that i-gram in the message.\n",
    "    \"\"\"\n",
    "    message = strip_text(message)\n",
    "    i_gram = strip_text(i_gram)\n",
    "    distances = []\n",
    "    last_start = -1\n",
    "    for i, c in enumerate(message):\n",
    "        if c == i_gram[0] and i + len(i_gram) <= len(message):\n",
    "            if message[i:i+len(i_gram)] == i_gram:\n",
    "                if last_start != -1:\n",
    "                    distances.append(i - last_start)\n",
    "                last_start = i\n",
    "    return distances"
   ],
   "id": "e7010fcd543910f1",
   "outputs": [],
   "execution_count": 20
  },
  {
   "metadata": {
    "ExecuteTime": {
     "end_time": "2025-06-25T23:58:47.209506Z",
     "start_time": "2025-06-25T23:58:47.205106Z"
    }
   },
   "cell_type": "code",
   "source": [
    "frequencies = frequency_tabulator2(ciphertext_5a, 7)\n",
    "display_frequency_tables(frequencies)"
   ],
   "id": "ce2415595ba031f7",
   "outputs": [
    {
     "data": {
      "text/plain": [
       "<IPython.core.display.Math object>"
      ],
      "text/latex": "$\\displaystyle \\begin{array}[t]{ccccccc}\n\\begin{array}{c|c}\n\\text{Letter} & \\text{Frequency} \\\\\n\\hline\nR & 9 \\\\\nB & 8 \\\\\nI & 8 \\\\\nS & 8 \\\\\nZ & 8 \\\\\nU & 7 \\\\\nG & 7 \\\\\nF & 7 \\\\\nC & 6 \\\\\nP & 6 \\\\\nM & 6 \\\\\nA & 6 \\\\\nQ & 5 \\\\\nW & 5 \\\\\nH & 5 \\\\\nO & 4 \\\\\nV & 4 \\\\\nE & 4 \\\\\nL & 3 \\\\\nX & 3 \\\\\nJ & 3 \\\\\nD & 3 \\\\\nT & 3 \\\\\nN & 2 \\\\\nY & 2 \\\\\n\\end{array} \\quad \\quad & \\begin{array}{c|c}\n\\text{Digraph} & \\text{Frequency} \\\\\n\\hline\nFC & 3 \\\\\nUS & 2 \\\\\nMM & 2 \\\\\nGB & 2 \\\\\nBV & 2 \\\\\nSP & 2 \\\\\nDI & 2 \\\\\nIA & 2 \\\\\nRR & 2 \\\\\nRF & 2 \\\\\nCI & 2 \\\\\nHB & 2 \\\\\nGS & 2 \\\\\n\\end{array} \\quad \\quad & \\begin{array}{c|c}\n\\text{Trigraph} & \\text{Frequency} \\\\\n\\hline\nFCI & 2 \\\\\n\\end{array} \\quad \\quad & \\begin{array}{c|c}\n\\text{Quadgraph} & \\text{Frequency} \\\\\n\\hline\n\\end{array} \\quad \\quad & \\begin{array}{c|c}\n\\text{Pentagraph} & \\text{Frequency} \\\\\n\\hline\n\\end{array} \\quad \\quad & \\begin{array}{c|c}\n\\text{Hexagraph} & \\text{Frequency} \\\\\n\\hline\n\\end{array} \\quad \\quad & \\begin{array}{c|c}\n\\text{Septagraph} & \\text{Frequency} \\\\\n\\hline\n\\end{array}\n\\end{array}$"
     },
     "metadata": {},
     "output_type": "display_data"
    }
   ],
   "execution_count": 21
  },
  {
   "metadata": {
    "ExecuteTime": {
     "end_time": "2025-06-25T23:58:47.247286Z",
     "start_time": "2025-06-25T23:58:47.243625Z"
    }
   },
   "cell_type": "code",
   "source": [
    "distances = distance_between_repeated_i_grams(\"FCI\", ciphertext_5a)\n",
    "factors = [format_factors(prime_factors(n)) for n in distances]\n",
    "display_prime_factors_table(distances, factors)"
   ],
   "id": "99765be6c64cb002",
   "outputs": [
    {
     "data": {
      "text/plain": [
       "<IPython.core.display.Math object>"
      ],
      "text/latex": "$\\displaystyle \\begin{array}{c|l}\nn & \\text{Prime Factorization of } n \\\\\n\\hline\n25 & 5^2 \\\\\n\\end{array}$"
     },
     "metadata": {},
     "output_type": "display_data"
    }
   ],
   "execution_count": 22
  },
  {
   "metadata": {},
   "cell_type": "markdown",
   "source": "The trigram, \"FCI\", occurs twice and is $25$ characters apart.  $25$ is a multiple of $5$ which is also the keyword length we found most likely above.",
   "id": "505a61d3c6dd8b29"
  },
  {
   "metadata": {},
   "cell_type": "markdown",
   "source": [
    "Once a keyword length is obtained and the cosets creating by partitioning the ciphertext based on that key length are created.  We can perform a chi-squared analysis to determine the most likely shift (and thus keyword letter) for that coset.  Refer to [this page](http://practicalcryptography.com/cryptanalysis/text-characterisation/chi-squared-statistic/) for more details.  The chi-squared calculation yields us measure of \"distance\" of an observed set of characters from what we would expect to find in English text.   The formula is given by\n",
    "\n",
    "$$\n",
    "  \\chi^2(C, E) = \\sum_{i=A}^{Z} \\frac{(C_i - E_i)^2}{E_i}\n",
    "$$\n",
    "\n",
    "where $C_i$ is the count of each letter in the coset, and $E_i$ is the expected count which is given by $p_in$ where $p_i$ is the probability of occurance of each letter in English text and $n$ is the length of the coset.  We compute this metric for each possible shift of the coset ($0$...$25$) and the one that has the lowest chi-squared distance probably corresponds to the keyword letter for the respective position."
   ],
   "id": "a0d32deeb38dfd80"
  },
  {
   "metadata": {
    "ExecuteTime": {
     "end_time": "2025-06-25T23:58:47.288605Z",
     "start_time": "2025-06-25T23:58:47.284632Z"
    }
   },
   "cell_type": "code",
   "source": [
    "def keyword_letter_using_chi_squared(coset: str) -> list[tuple[str,float]]:\n",
    "    coset = strip_text(coset)\n",
    "    coset_len = len(coset)\n",
    "    chi_squared_distances = {}\n",
    "    for shift in range(26):\n",
    "        shifted_coset = ''.join([char_at(pos(c)-shift) for c in coset])\n",
    "        shifted_coset_frequencies = frequency_tabulator2(shifted_coset, 1)[0]\n",
    "        shifted_chi_squared_distance = sum([((cnt - coset_len*LETTER_PROBABILITIES[char])**2)/(coset_len*LETTER_PROBABILITIES[char])\n",
    "                                            for char, cnt in shifted_coset_frequencies.items()])\n",
    "        chi_squared_distances[char_at(shift+1)] = shifted_chi_squared_distance\n",
    "    # It's not an exact science, return the lowest 5 chi-squared distances, sorted, so we can try alternatives if the first guess is wrong\n",
    "    sorted_pairs = sorted(chi_squared_distances.items(), key=lambda x: x[1])[:5]\n",
    "    return [(k, v) for k, v in sorted_pairs]"
   ],
   "id": "90eae7e7715bf6c1",
   "outputs": [],
   "execution_count": 23
  },
  {
   "metadata": {},
   "cell_type": "markdown",
   "source": "#### Message 1",
   "id": "beb0361c72655d4f"
  },
  {
   "metadata": {
    "ExecuteTime": {
     "end_time": "2025-06-25T23:58:47.315575Z",
     "start_time": "2025-06-25T23:58:47.312940Z"
    }
   },
   "cell_type": "code",
   "source": [
    "ciphertext_9_1 = \"PVVWA MKAZS TDUDK UJURB \" + \\\n",
    "                 \"KZPMH DYMXS KUYQZ BDSIU \" + \\\n",
    "                 \"OHFPA HVDIW EQPVV WAMNA \" + \\\n",
    "                 \"NRKTE BXEYC LXZUV FWPZF \" + \\\n",
    "                 \"YCDBH WTMPS UTKKV HAFZR \" + \\\n",
    "                 \"PVVWA MNANR ZEHCE SAFKT \" + \\\n",
    "                 \"WBKTA AVEOO XQEHJ QHTWA \" + \\\n",
    "                 \"NHYQJ HYQPS TTJWH GARVE \" + \\\n",
    "                 \"YEZNA RZZPV ZEYVR BPSIN \" + \\\n",
    "                 \"NSRWO RFIJP LFDCN OKICP \" + \\\n",
    "                 \"PKFOK FIQOD FZZSE FOFVY \" + \\\n",
    "                 \"AASQN GLODO CAJUB QUKFD \" + \\\n",
    "                 \"ZKVXH CEQSO PFKRF UPAZS \" + \\\n",
    "                 \"DHSQP CRSNS VFDOK FDSBQ \" + \\\n",
    "                 \"UKFDZ WJFDS VZPWI QPSOF \" + \\\n",
    "                 \"KTKTA RVOHO IMPWF ZKTZZ \" + \\\n",
    "                 \" \" + \\\n",
    "                 \"ZSGQJ RVZYS FDPVV OKBJF \" + \\\n",
    "                 \"EHLFE CEANH YQIWC IWIBQ \" + \\\n",
    "                 \"AKYUP SGMCS JSAHK TAWUQ \" + \\\n",
    "                 \"W\""
   ],
   "id": "e3cbe1791f64d5cb",
   "outputs": [],
   "execution_count": 24
  },
  {
   "metadata": {
    "ExecuteTime": {
     "end_time": "2025-06-25T23:58:47.340995Z",
     "start_time": "2025-06-25T23:58:47.337392Z"
    }
   },
   "cell_type": "code",
   "source": [
    "frequencies = frequency_tabulator2(ciphertext_9_1, 7)\n",
    "display_frequency_tables(frequencies)"
   ],
   "id": "b42c81630864e257",
   "outputs": [
    {
     "data": {
      "text/plain": [
       "<IPython.core.display.Math object>"
      ],
      "text/latex": "$\\displaystyle \\begin{array}[t]{ccccccc}\n\\begin{array}{c|c}\n\\text{Letter} & \\text{Frequency} \\\\\n\\hline\nF & 24 \\\\\nA & 23 \\\\\nK & 23 \\\\\nS & 23 \\\\\nZ & 22 \\\\\nP & 21 \\\\\nV & 21 \\\\\nW & 17 \\\\\nH & 17 \\\\\nQ & 17 \\\\\nD & 16 \\\\\nO & 16 \\\\\nE & 15 \\\\\nT & 13 \\\\\nU & 13 \\\\\nR & 13 \\\\\nY & 12 \\\\\nN & 12 \\\\\nI & 11 \\\\\nC & 11 \\\\\nJ & 10 \\\\\nB & 10 \\\\\nM & 8 \\\\\nX & 5 \\\\\nL & 4 \\\\\nG & 4 \\\\\n\\end{array} \\quad \\quad & \\begin{array}{c|c}\n\\text{Digraph} & \\text{Frequency} \\\\\n\\hline\nKT & 7 \\\\\nFD & 7 \\\\\nPV & 5 \\\\\nPS & 5 \\\\\nKF & 5 \\\\\nVV & 4 \\\\\nWA & 4 \\\\\nZS & 4 \\\\\nYQ & 4 \\\\\nQP & 4 \\\\\nAN & 4 \\\\\nZZ & 4 \\\\\nOK & 4 \\\\\nVW & 3 \\\\\nAM & 3 \\\\\nZP & 3 \\\\\nDS & 3 \\\\\nIW & 3 \\\\\nNA & 3 \\\\\nEY & 3 \\\\\nFZ & 3 \\\\\nEH & 3 \\\\\nCE & 3 \\\\\nFK & 3 \\\\\nTA & 3 \\\\\nHY & 3 \\\\\nAR & 3 \\\\\nRV & 3 \\\\\nVZ & 3 \\\\\nBQ & 3 \\\\\nAZ & 2 \\\\\nST & 2 \\\\\nKU & 2 \\\\\nJU & 2 \\\\\nRB & 2 \\\\\nBK & 2 \\\\\nSI & 2 \\\\\nOH & 2 \\\\\nPA & 2 \\\\\nAH & 2 \\\\\nEQ & 2 \\\\\nMN & 2 \\\\\nNR & 2 \\\\\nYC & 2 \\\\\nVF & 2 \\\\\nMP & 2 \\\\\nTK & 2 \\\\\nKV & 2 \\\\\nAF & 2 \\\\\nRZ & 2 \\\\\nZE & 2 \\\\\nHC & 2 \\\\\nSA & 2 \\\\\nTW & 2 \\\\\nAA & 2 \\\\\nVE & 2 \\\\\nNH & 2 \\\\\nQJ & 2 \\\\\nNS & 2 \\\\\nRF & 2 \\\\\nFI & 2 \\\\\nLF & 2 \\\\\nFO & 2 \\\\\nIQ & 2 \\\\\nOD & 2 \\\\\nOF & 2 \\\\\nSQ & 2 \\\\\nDO & 2 \\\\\nQU & 2 \\\\\nUK & 2 \\\\\nDZ & 2 \\\\\nZK & 2 \\\\\nSO & 2 \\\\\nUP & 2 \\\\\nSV & 2 \\\\\nJF & 2 \\\\\nPW & 2 \\\\\nWI & 2 \\\\\nVO & 2 \\\\\nSG & 2 \\\\\nFE & 2 \\\\\n\\end{array} \\quad \\quad & \\begin{array}{c|c}\n\\text{Trigraph} & \\text{Frequency} \\\\\n\\hline\nPVV & 4 \\\\\nVVW & 3 \\\\\nVWA & 3 \\\\\nWAM & 3 \\\\\nKTA & 3 \\\\\nHYQ & 3 \\\\\nKFD & 3 \\\\\nAZS & 2 \\\\\nAMN & 2 \\\\\nMNA & 2 \\\\\nNAN & 2 \\\\\nANR & 2 \\\\\nHCE & 2 \\\\\nFKT & 2 \\\\\nANH & 2 \\\\\nNHY & 2 \\\\\nQPS & 2 \\\\\nARV & 2 \\\\\nOKF & 2 \\\\\nZZS & 2 \\\\\nBQU & 2 \\\\\nQUK & 2 \\\\\nUKF & 2 \\\\\nFDZ & 2 \\\\\nFDS & 2 \\\\\n\\end{array} \\quad \\quad & \\begin{array}{c|c}\n\\text{Quadgraph} & \\text{Frequency} \\\\\n\\hline\nPVVW & 3 \\\\\nVVWA & 3 \\\\\nVWAM & 3 \\\\\nWAMN & 2 \\\\\nAMNA & 2 \\\\\nMNAN & 2 \\\\\nNANR & 2 \\\\\nANHY & 2 \\\\\nNHYQ & 2 \\\\\nBQUK & 2 \\\\\nQUKF & 2 \\\\\nUKFD & 2 \\\\\nKFDZ & 2 \\\\\n\\end{array} \\quad \\quad & \\begin{array}{c|c}\n\\text{Pentagraph} & \\text{Frequency} \\\\\n\\hline\nPVVWA & 3 \\\\\nVVWAM & 3 \\\\\nVWAMN & 2 \\\\\nWAMNA & 2 \\\\\nAMNAN & 2 \\\\\nMNANR & 2 \\\\\nANHYQ & 2 \\\\\nBQUKF & 2 \\\\\nQUKFD & 2 \\\\\nUKFDZ & 2 \\\\\n\\end{array} \\quad \\quad & \\begin{array}{c|c}\n\\text{Hexagraph} & \\text{Frequency} \\\\\n\\hline\nPVVWAM & 3 \\\\\nVVWAMN & 2 \\\\\nVWAMNA & 2 \\\\\nWAMNAN & 2 \\\\\nAMNANR & 2 \\\\\nBQUKFD & 2 \\\\\nQUKFDZ & 2 \\\\\n\\end{array} \\quad \\quad & \\begin{array}{c|c}\n\\text{Septagraph} & \\text{Frequency} \\\\\n\\hline\nPVVWAMN & 2 \\\\\nVVWAMNA & 2 \\\\\nVWAMNAN & 2 \\\\\nWAMNANR & 2 \\\\\nBQUKFDZ & 2 \\\\\n\\end{array}\n\\end{array}$"
     },
     "metadata": {},
     "output_type": "display_data"
    }
   ],
   "execution_count": 25
  },
  {
   "metadata": {
    "ExecuteTime": {
     "end_time": "2025-06-25T23:58:47.377939Z",
     "start_time": "2025-06-25T23:58:47.372406Z"
    }
   },
   "cell_type": "code",
   "source": [
    "d1 = distance_between_repeated_i_grams('vvwamna', ciphertext_9_1)\n",
    "d2 = distance_between_repeated_i_grams('vwamnan', ciphertext_9_1)\n",
    "d3 = distance_between_repeated_i_grams('wamnanr', ciphertext_9_1)\n",
    "d4 = distance_between_repeated_i_grams('bqukfdz', ciphertext_9_1)\n",
    "distances = d1 + d2 + d3 + d4\n",
    "factors = [format_factors(prime_factors(n)) for n in distances]\n",
    "display_prime_factors_table(distances, factors)"
   ],
   "id": "b75d11f339ebb50b",
   "outputs": [
    {
     "data": {
      "text/plain": [
       "<IPython.core.display.Math object>"
      ],
      "text/latex": "$\\displaystyle \\begin{array}{c|l}\nn & \\text{Prime Factorization of } n \\\\\n\\hline\n48 & 2^4 \\cdot 3 \\\\\n48 & 2^4 \\cdot 3 \\\\\n48 & 2^4 \\cdot 3 \\\\\n44 & 2^2 \\cdot 11 \\\\\n\\end{array}$"
     },
     "metadata": {},
     "output_type": "display_data"
    }
   ],
   "execution_count": 26
  },
  {
   "metadata": {},
   "cell_type": "markdown",
   "source": "Since the 4 repeated septgrams are separated by distances that are all multiples of $4$, this suggests a keyword length of 4.  Checking the $IC$ next.",
   "id": "ffea63854726218"
  },
  {
   "metadata": {
    "ExecuteTime": {
     "end_time": "2025-06-25T23:58:47.413249Z",
     "start_time": "2025-06-25T23:58:47.409278Z"
    }
   },
   "cell_type": "code",
   "source": "ic(ciphertext_9_1)",
   "id": "d0b2297111ca8451",
   "outputs": [
    {
     "data": {
      "text/plain": [
       "(0.04220196159690565, 6.335352794081267)"
      ]
     },
     "execution_count": 27,
     "metadata": {},
     "output_type": "execute_result"
    }
   ],
   "execution_count": 27
  },
  {
   "metadata": {},
   "cell_type": "markdown",
   "source": "The $IC$ is low and relatively closer to $0.038$ than $0.065$ which suggests a polyalphabetic encipherment.  Using the average of cosets $IC$ method next to confirm $4$ as a good keyword length choice.",
   "id": "579a8054792ed78f"
  },
  {
   "metadata": {
    "ExecuteTime": {
     "end_time": "2025-06-25T23:58:47.457597Z",
     "start_time": "2025-06-25T23:58:47.446181Z"
    }
   },
   "cell_type": "code",
   "source": "ic_avg_diffent_keywod_len(ciphertext_9_1, 10)",
   "id": "8340f655d107ddf7",
   "outputs": [
    {
     "data": {
      "text/plain": [
       "{'2': 0.05088564925985703,\n",
       " '3': 0.04049493813273341,\n",
       " '4': 0.06829040686823443,\n",
       " '5': 0.0427760309865573,\n",
       " '6': 0.04896046680320874,\n",
       " '7': 0.04356775300171527,\n",
       " '8': 0.07026672833795869,\n",
       " '9': 0.04065340764149613,\n",
       " '10': 0.053131268920742616}"
      ]
     },
     "execution_count": 28,
     "metadata": {},
     "output_type": "execute_result"
    }
   ],
   "execution_count": 28
  },
  {
   "metadata": {},
   "cell_type": "markdown",
   "source": "This shows that $4$ (and multiples of $4$) are good keyword choices since cosets derived from that length have high $IC$'s.  Let's divide the message into cosets based on a keyword of size 4 and compute the letter frequencies for each coset and try to determine the keyword.",
   "id": "ba02f273727c7ca9"
  },
  {
   "metadata": {
    "ExecuteTime": {
     "end_time": "2025-06-25T23:58:47.511127Z",
     "start_time": "2025-06-25T23:58:47.499336Z"
    }
   },
   "cell_type": "code",
   "source": [
    "cosets = cosets_of_size_l(ciphertext_9_1, 4)\n",
    "lets =  [keyword_letter_using_chi_squared(coset) for coset in cosets]\n",
    "for guess in lets:\n",
    "    print(guess)"
   ],
   "id": "983efe87aedd6dfe",
   "outputs": [
    {
     "name": "stdout",
     "output_type": "stream",
     "text": [
      "[('w', 16.82023726145013), ('h', 164.22913991201565), ('m', 379.29943024997533), ('c', 385.31965359602304), ('v', 395.3786354653953)]\n",
      "[('o', 34.542042235258606), ('a', 153.27339567391564), ('h', 211.52722218442582), ('q', 245.66722336520712), ('e', 363.52715359660147)]\n",
      "[('r', 30.227174345159902), ('x', 295.9677084580993), ('d', 338.4366969446811), ('e', 346.40611723303437), ('h', 355.61740948834864)]\n",
      "[('m', 30.011454061271554), ('z', 316.61068415902463), ('s', 336.65038716442376), ('y', 443.1694021480859), ('q', 447.3536441390748)]\n"
     ]
    }
   ],
   "execution_count": 29
  },
  {
   "metadata": {
    "ExecuteTime": {
     "end_time": "2025-06-25T23:58:47.551595Z",
     "start_time": "2025-06-25T23:58:47.549823Z"
    }
   },
   "cell_type": "code",
   "source": [
    "keyword_guesses = [\n",
    "    'worm'\n",
    "]"
   ],
   "id": "b369b0a9669f3807",
   "outputs": [],
   "execution_count": 30
  },
  {
   "metadata": {
    "ExecuteTime": {
     "end_time": "2025-06-25T23:58:47.602999Z",
     "start_time": "2025-06-25T23:58:47.599964Z"
    }
   },
   "cell_type": "code",
   "source": [
    "# Let's try some and see what we get\n",
    "for i, keyword in enumerate(keyword_guesses):\n",
    "    print(f\"Keyword: {keyword}\")\n",
    "    coder = VigenereSq(keyword)\n",
    "    print(format_plaintext(coder.decipher(ciphertext_9_1)))\n",
    "    print(\"\\n\")"
   ],
   "id": "a1f2049890ffc566",
   "outputs": [
    {
     "name": "stdout",
     "output_type": "stream",
     "text": [
      "Keyword: worm\n",
      "thekeytodecryptingapolyalphabeticcipheristodeterminethekeywo\n",
      "rdthingscouldgetabitcomplicatedhoweverifthekeywordislongerth\n",
      "anthemessageitselfforthenthetechniquedescqibedinthischapterb\n",
      "reaksdownbuthowcouldtwocorrespondentsremembersuchalongkeywor\n",
      "dwellonewaytodoitmightbetoagreethatthekeywordistheentiretext\n",
      "ofthedeclarationofindependenceortheconstitutionorthemilwauke\n",
      "ewhitepagesgettheidea\n",
      "\n",
      "\n"
     ]
    }
   ],
   "execution_count": 31
  },
  {
   "metadata": {},
   "cell_type": "markdown",
   "source": [
    "yields\n",
    "```\n",
    "    the key to decrypting a polyalphabetic cipher is to determine the keyword\n",
    "    things could get a bit complicated however if the keyword is longer than\n",
    "    the message itself for then the technique descqibed in this chapter breaks\n",
    "    down but how could two correspondents remember such a long keyword\n",
    "    well one way to do it might be to agree that the keyword is the entire text\n",
    "    of the declaration of independence or the constitution or the milwaukee\n",
    "    whitepages get the idea\n",
    "```\n"
   ],
   "id": "344d1fd044b10f9"
  },
  {
   "metadata": {},
   "cell_type": "markdown",
   "source": "#### Message 2",
   "id": "e532e6c6b88a298a"
  },
  {
   "metadata": {
    "ExecuteTime": {
     "end_time": "2025-06-25T23:58:47.652978Z",
     "start_time": "2025-06-25T23:58:47.649834Z"
    }
   },
   "cell_type": "code",
   "source": [
    "ciphertext_9_2 = \"XPERG POEVO WIMPF EVOBE \" + \\\n",
    "                 \"VODLS EWMQS MJQAF LBASI \" + \\\n",
    "                 \"PAPQG OOPOR YPVVN PXOVL \" + \\\n",
    "                 \"MWQEV OFUSK GHCZY TVOFA \" + \\\n",
    "                 \"VIOLO FQBGY TDLEY HTDSO \" + \\\n",
    "                 \"DUPIM OWZTZ QEJVX THOPA \" + \\\n",
    "                 \"LYSWJ VXDLE OHOLK EFAPQ \" + \\\n",
    "                 \"MGWYF ZYTVO BEXHG TFDWA \" + \\\n",
    "                 \"ILXLW PQSZL PPJHC PXIEH \" + \\\n",
    "                 \"OOXHC AUSIK GFXZV DYHTU \" + \\\n",
    "                 \"SKGDF YIEFH OZXHG YTNLE \" + \\\n",
    "                 \"OLCPX HOHZM IARVM JKRCW \" + \\\n",
    "                 \"ITGSE OFXIL GATCI AFJIL \" + \\\n",
    "                 \"TTGYU SVEGV GELIU IPZOT \" + \\\n",
    "                 \"QMJYH OWAIZ ATQWS ZGEGK\""
   ],
   "id": "87243f611fc5cd26",
   "outputs": [],
   "execution_count": 32
  },
  {
   "metadata": {
    "ExecuteTime": {
     "end_time": "2025-06-25T23:58:47.686554Z",
     "start_time": "2025-06-25T23:58:47.681495Z"
    }
   },
   "cell_type": "code",
   "source": [
    "frequencies = frequency_tabulator2(ciphertext_9_2, 7)\n",
    "display_frequency_tables(frequencies)"
   ],
   "id": "8606072eca9652bd",
   "outputs": [
    {
     "data": {
      "text/plain": [
       "<IPython.core.display.Math object>"
      ],
      "text/latex": "$\\displaystyle \\begin{array}[t]{ccccccc}\n\\begin{array}{c|c}\n\\text{Letter} & \\text{Frequency} \\\\\n\\hline\nO & 26 \\\\\nE & 18 \\\\\nP & 17 \\\\\nG & 16 \\\\\nV & 16 \\\\\nI & 16 \\\\\nL & 16 \\\\\nT & 15 \\\\\nH & 14 \\\\\nF & 13 \\\\\nA & 13 \\\\\nX & 12 \\\\\nS & 12 \\\\\nY & 12 \\\\\nW & 11 \\\\\nZ & 11 \\\\\nQ & 10 \\\\\nM & 9 \\\\\nD & 8 \\\\\nJ & 7 \\\\\nU & 6 \\\\\nK & 6 \\\\\nC & 6 \\\\\nR & 4 \\\\\nB & 4 \\\\\nN & 2 \\\\\n\\end{array} \\quad \\quad & \\begin{array}{c|c}\n\\text{Digraph} & \\text{Frequency} \\\\\n\\hline\nVO & 6 \\\\\nHO & 6 \\\\\nEV & 4 \\\\\nOF & 4 \\\\\nUS & 4 \\\\\nYT & 4 \\\\\nXH & 4 \\\\\nOW & 3 \\\\\nDL & 3 \\\\\nMJ & 3 \\\\\nPQ & 3 \\\\\nPX & 3 \\\\\nKG & 3 \\\\\nHC & 3 \\\\\nOL & 3 \\\\\nGY & 3 \\\\\nLE & 3 \\\\\nYH & 3 \\\\\nEO & 3 \\\\\nIL & 3 \\\\\nPO & 2 \\\\\nWI & 2 \\\\\nIM & 2 \\\\\nOB & 2 \\\\\nBE & 2 \\\\\nOD & 2 \\\\\nSE & 2 \\\\\nQS & 2 \\\\\nAF & 2 \\\\\nSI & 2 \\\\\nIP & 2 \\\\\nPA & 2 \\\\\nAP & 2 \\\\\nOO & 2 \\\\\nOP & 2 \\\\\nQE & 2 \\\\\nSK & 2 \\\\\nZY & 2 \\\\\nTV & 2 \\\\\nFA & 2 \\\\\nTD & 2 \\\\\nHT & 2 \\\\\nJV & 2 \\\\\nVX & 2 \\\\\nOH & 2 \\\\\nEF & 2 \\\\\nQM & 2 \\\\\nHG & 2 \\\\\nWA & 2 \\\\\nAI & 2 \\\\\nSZ & 2 \\\\\nCP & 2 \\\\\nXI & 2 \\\\\nIE & 2 \\\\\nFX & 2 \\\\\nIA & 2 \\\\\nTG & 2 \\\\\nAT & 2 \\\\\nEG & 2 \\\\\nGE & 2 \\\\\nTQ & 2 \\\\\n\\end{array} \\quad \\quad & \\begin{array}{c|c}\n\\text{Trigraph} & \\text{Frequency} \\\\\n\\hline\nEVO & 4 \\\\\nVOB & 2 \\\\\nOBE & 2 \\\\\nAPQ & 2 \\\\\nVOF & 2 \\\\\nUSK & 2 \\\\\nSKG & 2 \\\\\nZYT & 2 \\\\\nYTV & 2 \\\\\nTVO & 2 \\\\\nGYT & 2 \\\\\nDLE & 2 \\\\\nYHT & 2 \\\\\nJVX & 2 \\\\\nLEO & 2 \\\\\nXHG & 2 \\\\\nWAI & 2 \\\\\nCPX & 2 \\\\\n\\end{array} \\quad \\quad & \\begin{array}{c|c}\n\\text{Quadgraph} & \\text{Frequency} \\\\\n\\hline\nVOBE & 2 \\\\\nUSKG & 2 \\\\\nZYTV & 2 \\\\\nYTVO & 2 \\\\\n\\end{array} \\quad \\quad & \\begin{array}{c|c}\n\\text{Pentagraph} & \\text{Frequency} \\\\\n\\hline\nZYTVO & 2 \\\\\n\\end{array} \\quad \\quad & \\begin{array}{c|c}\n\\text{Hexagraph} & \\text{Frequency} \\\\\n\\hline\n\\end{array} \\quad \\quad & \\begin{array}{c|c}\n\\text{Septagraph} & \\text{Frequency} \\\\\n\\hline\n\\end{array}\n\\end{array}$"
     },
     "metadata": {},
     "output_type": "display_data"
    }
   ],
   "execution_count": 33
  },
  {
   "metadata": {
    "ExecuteTime": {
     "end_time": "2025-06-25T23:58:47.739632Z",
     "start_time": "2025-06-25T23:58:47.733817Z"
    }
   },
   "cell_type": "code",
   "source": [
    "d1 = distance_between_repeated_i_grams('zytvo', ciphertext_9_2)\n",
    "d2 = distance_between_repeated_i_grams('vobe', ciphertext_9_2)\n",
    "distances = d1 + d2\n",
    "factors = [format_factors(prime_factors(n)) for n in distances]\n",
    "display_prime_factors_table(distances, factors)"
   ],
   "id": "c4dce108313ad50a",
   "outputs": [
    {
     "data": {
      "text/plain": [
       "<IPython.core.display.Math object>"
      ],
      "text/latex": "$\\displaystyle \\begin{array}{c|l}\nn & \\text{Prime Factorization of } n \\\\\n\\hline\n72 & 2^3 \\cdot 3^2 \\\\\n132 & 2^2 \\cdot 3 \\cdot 11 \\\\\n\\end{array}$"
     },
     "metadata": {},
     "output_type": "display_data"
    }
   ],
   "execution_count": 34
  },
  {
   "metadata": {},
   "cell_type": "markdown",
   "source": "This suggests a keyword of length $3$, $4$, or $6$.  Let's do some $IC$ analysis.",
   "id": "994eb1debd059a90"
  },
  {
   "metadata": {
    "ExecuteTime": {
     "end_time": "2025-06-25T23:58:47.779528Z",
     "start_time": "2025-06-25T23:58:47.776084Z"
    }
   },
   "cell_type": "code",
   "source": "ic(ciphertext_9_2)",
   "id": "427d6ab63496173f",
   "outputs": [
    {
     "data": {
      "text/plain": [
       "(0.043299888517279825, 5.025853154084798)"
      ]
     },
     "execution_count": 35,
     "metadata": {},
     "output_type": "execute_result"
    }
   ],
   "execution_count": 35
  },
  {
   "metadata": {},
   "cell_type": "markdown",
   "source": "Polyalphabetic and a keyword that is more likely $4$ or $6$.  Let's look at the $IC$ averages for different keyword lengths.",
   "id": "91105f720751f45c"
  },
  {
   "metadata": {
    "ExecuteTime": {
     "end_time": "2025-06-25T23:58:47.826575Z",
     "start_time": "2025-06-25T23:58:47.818615Z"
    }
   },
   "cell_type": "code",
   "source": "ic_avg_diffent_keywod_len(ciphertext_9_2, 14)",
   "id": "dade63adac1fe0f9",
   "outputs": [
    {
     "data": {
      "text/plain": [
       "{'2': 0.05114093959731544,\n",
       " '3': 0.05528619528619529,\n",
       " '4': 0.054324324324324325,\n",
       " '5': 0.043954802259887,\n",
       " '6': 0.07061224489795918,\n",
       " '7': 0.03901435787020424,\n",
       " '8': 0.054883831199620675,\n",
       " '9': 0.05158199643493762,\n",
       " '10': 0.0496551724137931,\n",
       " '11': 0.04155104155104155,\n",
       " '12': 0.07722222222222222,\n",
       " '13': 0.042515455558933817,\n",
       " '14': 0.04703153988868274}"
      ]
     },
     "execution_count": 36,
     "metadata": {},
     "output_type": "execute_result"
    }
   ],
   "execution_count": 36
  },
  {
   "metadata": {},
   "cell_type": "markdown",
   "source": "A keyword length of $6$ looks like a good choice since $0.0706$ is close to the value we'd look for.  Let's see what keywords might make sense.",
   "id": "a0b224f8e4d69da7"
  },
  {
   "metadata": {
    "ExecuteTime": {
     "end_time": "2025-06-25T23:58:47.876880Z",
     "start_time": "2025-06-25T23:58:47.865205Z"
    }
   },
   "cell_type": "code",
   "source": [
    "cosets = cosets_of_size_l(ciphertext_9_2, 6)\n",
    "lets =  [keyword_letter_using_chi_squared(coset) for coset in cosets]\n",
    "for guess in lets:\n",
    "    print(guess)"
   ],
   "id": "1fc1924109009e8f",
   "outputs": [
    {
     "name": "stdout",
     "output_type": "stream",
     "text": [
      "[('b', 31.62295516391733), ('x', 126.59950853488178), ('m', 254.15534768162752), ('v', 305.89975130391167), ('t', 334.8963646566901)]\n",
      "[('l', 71.79356500060987), ('w', 119.52250775722173), ('x', 156.24472429446652), ('y', 157.5910950844078), ('r', 207.9286251761042)]\n",
      "[('e', 18.64741663821346), ('k', 138.32421613117788), ('d', 143.90553697642588), ('u', 169.86943266389792), ('p', 260.2466807606641)]\n",
      "[('a', 32.38807889439707), ('m', 114.36244405037672), ('x', 117.66176425779129), ('c', 180.80137321696182), ('t', 195.2973238427556)]\n",
      "[('c', 28.563422593564866), ('o', 132.42897802089934), ('s', 145.53314675283596), ('d', 168.88941423259183), ('v', 190.88077485266774)]\n",
      "[('h', 14.040243397097244), ('a', 111.50256560556956), ('u', 135.17313055007352), ('e', 151.04841745256454), ('n', 198.66834084170435)]\n"
     ]
    }
   ],
   "execution_count": 37
  },
  {
   "metadata": {},
   "cell_type": "markdown",
   "source": "Well, `bleach` jumps right out.  Let's try that.",
   "id": "cfd85007c4c1199"
  },
  {
   "metadata": {
    "ExecuteTime": {
     "end_time": "2025-06-25T23:58:47.972665Z",
     "start_time": "2025-06-25T23:58:47.952141Z"
    }
   },
   "cell_type": "code",
   "source": [
    "coder = VigenereSq('bleach')\n",
    "print(format_plaintext(coder.decipher(ciphertext_9_2)))"
   ],
   "id": "7cbff7bc42c97c47",
   "outputs": [
    {
     "name": "stdout",
     "output_type": "stream",
     "text": [
      "weareintroublebethatrobertsmollymadeapointofcominguptometote\n",
      "llmethejokeabouttheprimenumbersshewassoobnoxioussomehowidont\n",
      "knowhowshemanagedtofigureoutthatthemessagewaspolyalphabetica\n",
      "ndthatthekeywordwasjokeweneedanotherschemebethmaybeapolygrap\n",
      "hicschemeletsreadchapterthreeofthisbooktofindouthowtoproceed\n"
     ]
    }
   ],
   "execution_count": 38
  },
  {
   "metadata": {},
   "cell_type": "markdown",
   "source": [
    "yields\n",
    "```\n",
    "    we are in trouble beth at roberts molly made a point of coming up to me to tell\n",
    "    me the joke about the prime numbers she was so obnoxious somehow i dont\n",
    "    know how she managed to figure out that the message was polyalphabetic and\n",
    "    that the keyword was joke we need another scheme beth maybe a polygraphic\n",
    "    scheme lets read chapter three of this book to find out how to proceed\n",
    "```\n"
   ],
   "id": "75370aa4c33d5fc5"
  }
 ],
 "metadata": {
  "kernelspec": {
   "display_name": "Python 3",
   "language": "python",
   "name": "python3"
  },
  "language_info": {
   "codemirror_mode": {
    "name": "ipython",
    "version": 2
   },
   "file_extension": ".py",
   "mimetype": "text/x-python",
   "name": "python",
   "nbconvert_exporter": "python",
   "pygments_lexer": "ipython2",
   "version": "2.7.6"
  }
 },
 "nbformat": 4,
 "nbformat_minor": 5
}
